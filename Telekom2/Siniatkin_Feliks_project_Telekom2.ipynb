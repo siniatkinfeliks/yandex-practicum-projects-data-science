{
 "cells": [
  {
   "cell_type": "markdown",
   "id": "02746598",
   "metadata": {
    "toc": true
   },
   "source": [
    "<h1>Содержание<span class=\"tocSkip\"></span></h1>\n",
    "<div class=\"toc\"><ul class=\"toc-item\"><li><span><a href=\"#Загрузка-данных\" data-toc-modified-id=\"Загрузка-данных-1\"><span class=\"toc-item-num\">1&nbsp;&nbsp;</span>Загрузка данных</a></span><ul class=\"toc-item\"><li><span><a href=\"#Вывод\" data-toc-modified-id=\"Вывод-1.1\"><span class=\"toc-item-num\">1.1&nbsp;&nbsp;</span>Вывод</a></span></li></ul></li><li><span><a href=\"#Подготовка-данных\" data-toc-modified-id=\"Подготовка-данных-2\"><span class=\"toc-item-num\">2&nbsp;&nbsp;</span>Подготовка данных</a></span></li><li><span><a href=\"#Исследование-задачи\" data-toc-modified-id=\"Исследование-задачи-3\"><span class=\"toc-item-num\">3&nbsp;&nbsp;</span>Исследование задачи</a></span><ul class=\"toc-item\"><li><span><a href=\"#Подготовка-признаков\" data-toc-modified-id=\"Подготовка-признаков-3.1\"><span class=\"toc-item-num\">3.1&nbsp;&nbsp;</span>Подготовка признаков</a></span></li><li><span><a href=\"#Обучение-моделей-без-учёта-дисбаланса\" data-toc-modified-id=\"Обучение-моделей-без-учёта-дисбаланса-3.2\"><span class=\"toc-item-num\">3.2&nbsp;&nbsp;</span>Обучение моделей без учёта дисбаланса</a></span></li><li><span><a href=\"#Вывод\" data-toc-modified-id=\"Вывод-3.3\"><span class=\"toc-item-num\">3.3&nbsp;&nbsp;</span>Вывод</a></span></li></ul></li><li><span><a href=\"#Борьба-с-дисбалансом\" data-toc-modified-id=\"Борьба-с-дисбалансом-4\"><span class=\"toc-item-num\">4&nbsp;&nbsp;</span>Борьба с дисбалансом</a></span></li><li><span><a href=\"#Тестирование-модели\" data-toc-modified-id=\"Тестирование-модели-5\"><span class=\"toc-item-num\">5&nbsp;&nbsp;</span>Тестирование модели</a></span></li><li><span><a href=\"#Чек-лист-готовности-проекта\" data-toc-modified-id=\"Чек-лист-готовности-проекта-6\"><span class=\"toc-item-num\">6&nbsp;&nbsp;</span>Чек-лист готовности проекта</a></span></li></ul></div>"
   ]
  },
  {
   "cell_type": "markdown",
   "id": "3b9d6d6c",
   "metadata": {},
   "source": [
    "# ТЕЛЕКОМ\n",
    "\n",
    "<div style=\"border:solid lightblue 3px; padding: 20px\">\n",
    "    \n",
    "Оператор связи «Ниединогоразрыва.ком» хочет научиться прогнозировать отток клиентов. Если выяснится, что пользователь планирует уйти, ему будут предложены промокоды и специальные условия. Команда оператора собрала персональные данные о некоторых клиентах, информацию об их тарифах и договорах.\n",
    "\n",
    "**Описание услуг**\n",
    "\n",
    "Оператор предоставляет два основных типа услуг: \n",
    "\n",
    "1. Стационарную телефонную связь. Возможно подключение телефонного аппарата к нескольким линиям одновременно.\n",
    "2. Интернет. Подключение может быть двух типов: через телефонную линию (DSL*,* от англ. *digital subscriber line*, «цифровая абонентская линия») или оптоволоконный кабель (*Fiber optic*).  \n",
    "\n",
    "Также доступны такие услуги:\n",
    "\n",
    "- Интернет-безопасность: антивирус (*DeviceProtection*) и блокировка небезопасных сайтов (*OnlineSecurity*);\n",
    "- Выделенная линия технической поддержки (*TechSupport*);\n",
    "- Облачное хранилище файлов для резервного копирования данных (*OnlineBackup*);\n",
    "- Стриминговое телевидение (*StreamingTV*) и каталог фильмов (*StreamingMovies*).\n",
    "\n",
    "За услуги клиенты могут платить каждый месяц или заключить договор на 1–2 года. Доступны различные способы расчёта и возможность получения электронного чека.\n",
    "\n",
    "**Описание данных**\n",
    "\n",
    "Данные состоят из файлов, полученных из разных источников:\n",
    "\n",
    "- `contract.csv` — информация о договоре;\n",
    "- `personal.csv` — персональные данные клиента;\n",
    "- `internet.csv` — информация об интернет-услугах;\n",
    "- `phone.csv` — информация об услугах телефонии.\n",
    "\n",
    "Во всех файлах столбец `customerID` содержит код клиента.\n",
    "\n",
    "Информация о договорах актуальна на 1 февраля 2020."
   ]
  },
  {
   "cell_type": "markdown",
   "id": "a81f31ff",
   "metadata": {},
   "source": [
    "## Загрузка данных"
   ]
  },
  {
   "cell_type": "code",
   "execution_count": 1,
   "id": "b1c6740f",
   "metadata": {},
   "outputs": [],
   "source": [
    "# в случае конфликта библиотек раскомментировать и запустить первую ячейку с кодом\n",
    "#!pip install -U your_library"
   ]
  },
  {
   "cell_type": "code",
   "execution_count": 2,
   "id": "af3c7d2c",
   "metadata": {
    "scrolled": true
   },
   "outputs": [],
   "source": [
    "# импортируем все необходимые библиотеки и настройки pandas\n",
    "import pandas as pd\n",
    "import numpy as np\n",
    "import matplotlib.pyplot as plt\n",
    "from sklearn.model_selection import train_test_split, GridSearchCV, cross_val_score\n",
    "from sklearn.preprocessing import OneHotEncoder, StandardScaler\n",
    "from sklearn.tree import DecisionTreeClassifier\n",
    "from sklearn.ensemble import RandomForestClassifier\n",
    "from sklearn.linear_model import LogisticRegression\n",
    "from sklearn.metrics import roc_auc_score, accuracy_score\n",
    "pd.set_option('display.float_format', '{:,.2f}'.format)\n",
    "pd.set_option('display.max.columns', None)\n",
    "import warnings\n",
    "warnings.filterwarnings('ignore')"
   ]
  },
  {
   "cell_type": "code",
   "execution_count": 3,
   "id": "9083742a",
   "metadata": {},
   "outputs": [],
   "source": [
    "# читаем данные из файлов\n",
    "try: # пытаемся выполнить код ниже, загрузиться локально\n",
    "    contract = pd.read_csv('c:\\\\final_project\\contract.csv')\n",
    "    internet = pd.read_csv('c:\\\\final_project\\internet.csv')\n",
    "    personal = pd.read_csv('c:\\\\final_project\\personal.csv')\n",
    "    phone    = pd.read_csv('c:\\\\final_project\\phone.csv')\n",
    "except: # если не получилось выполнить код выше, была ошибка, вероятно, работаем на платформе, выполняем код ниже\n",
    "    contract = pd.read_csv('/datasets/final_provider/contract.csv')\n",
    "    internet = pd.read_csv('/datasets/final_provider/internet.csv')\n",
    "    personal = pd.read_csv('/datasets/final_provider/personal.csv')\n",
    "    phone    = pd.read_csv('/datasets/final_provider/phone.csv')"
   ]
  },
  {
   "cell_type": "markdown",
   "id": "ff33bd1c",
   "metadata": {},
   "source": [
    "<div class=\"alert alert-info\" style=\"border-radius: 10px; box-shadow: 2px 2px 2px; border: 1px solid\"> Ниже просматриваем общую информацию, и выводим первые 5 строк таблиц. </div>"
   ]
  },
  {
   "cell_type": "code",
   "execution_count": 4,
   "id": "4a842635",
   "metadata": {
    "scrolled": false
   },
   "outputs": [
    {
     "name": "stdout",
     "output_type": "stream",
     "text": [
      "<class 'pandas.core.frame.DataFrame'>\n",
      "RangeIndex: 7043 entries, 0 to 7042\n",
      "Data columns (total 8 columns):\n",
      "customerID          7043 non-null object\n",
      "BeginDate           7043 non-null object\n",
      "EndDate             7043 non-null object\n",
      "Type                7043 non-null object\n",
      "PaperlessBilling    7043 non-null object\n",
      "PaymentMethod       7043 non-null object\n",
      "MonthlyCharges      7043 non-null float64\n",
      "TotalCharges        7043 non-null object\n",
      "dtypes: float64(1), object(7)\n",
      "memory usage: 247.7+ KB\n"
     ]
    },
    {
     "data": {
      "text/html": [
       "<div>\n",
       "<style scoped>\n",
       "    .dataframe tbody tr th:only-of-type {\n",
       "        vertical-align: middle;\n",
       "    }\n",
       "\n",
       "    .dataframe tbody tr th {\n",
       "        vertical-align: top;\n",
       "    }\n",
       "\n",
       "    .dataframe thead th {\n",
       "        text-align: right;\n",
       "    }\n",
       "</style>\n",
       "<table border=\"1\" class=\"dataframe\">\n",
       "  <thead>\n",
       "    <tr style=\"text-align: right;\">\n",
       "      <th></th>\n",
       "      <th>customerID</th>\n",
       "      <th>BeginDate</th>\n",
       "      <th>EndDate</th>\n",
       "      <th>Type</th>\n",
       "      <th>PaperlessBilling</th>\n",
       "      <th>PaymentMethod</th>\n",
       "      <th>MonthlyCharges</th>\n",
       "      <th>TotalCharges</th>\n",
       "    </tr>\n",
       "  </thead>\n",
       "  <tbody>\n",
       "    <tr>\n",
       "      <td>0</td>\n",
       "      <td>7590-VHVEG</td>\n",
       "      <td>2020-01-01</td>\n",
       "      <td>No</td>\n",
       "      <td>Month-to-month</td>\n",
       "      <td>Yes</td>\n",
       "      <td>Electronic check</td>\n",
       "      <td>29.85</td>\n",
       "      <td>29.85</td>\n",
       "    </tr>\n",
       "    <tr>\n",
       "      <td>1</td>\n",
       "      <td>5575-GNVDE</td>\n",
       "      <td>2017-04-01</td>\n",
       "      <td>No</td>\n",
       "      <td>One year</td>\n",
       "      <td>No</td>\n",
       "      <td>Mailed check</td>\n",
       "      <td>56.95</td>\n",
       "      <td>1889.5</td>\n",
       "    </tr>\n",
       "    <tr>\n",
       "      <td>2</td>\n",
       "      <td>3668-QPYBK</td>\n",
       "      <td>2019-10-01</td>\n",
       "      <td>2019-12-01 00:00:00</td>\n",
       "      <td>Month-to-month</td>\n",
       "      <td>Yes</td>\n",
       "      <td>Mailed check</td>\n",
       "      <td>53.85</td>\n",
       "      <td>108.15</td>\n",
       "    </tr>\n",
       "    <tr>\n",
       "      <td>3</td>\n",
       "      <td>7795-CFOCW</td>\n",
       "      <td>2016-05-01</td>\n",
       "      <td>No</td>\n",
       "      <td>One year</td>\n",
       "      <td>No</td>\n",
       "      <td>Bank transfer (automatic)</td>\n",
       "      <td>42.30</td>\n",
       "      <td>1840.75</td>\n",
       "    </tr>\n",
       "    <tr>\n",
       "      <td>4</td>\n",
       "      <td>9237-HQITU</td>\n",
       "      <td>2019-09-01</td>\n",
       "      <td>2019-11-01 00:00:00</td>\n",
       "      <td>Month-to-month</td>\n",
       "      <td>Yes</td>\n",
       "      <td>Electronic check</td>\n",
       "      <td>70.70</td>\n",
       "      <td>151.65</td>\n",
       "    </tr>\n",
       "  </tbody>\n",
       "</table>\n",
       "</div>"
      ],
      "text/plain": [
       "   customerID   BeginDate              EndDate            Type  \\\n",
       "0  7590-VHVEG  2020-01-01                   No  Month-to-month   \n",
       "1  5575-GNVDE  2017-04-01                   No        One year   \n",
       "2  3668-QPYBK  2019-10-01  2019-12-01 00:00:00  Month-to-month   \n",
       "3  7795-CFOCW  2016-05-01                   No        One year   \n",
       "4  9237-HQITU  2019-09-01  2019-11-01 00:00:00  Month-to-month   \n",
       "\n",
       "  PaperlessBilling              PaymentMethod  MonthlyCharges TotalCharges  \n",
       "0              Yes           Electronic check           29.85        29.85  \n",
       "1               No               Mailed check           56.95       1889.5  \n",
       "2              Yes               Mailed check           53.85       108.15  \n",
       "3               No  Bank transfer (automatic)           42.30      1840.75  \n",
       "4              Yes           Electronic check           70.70       151.65  "
      ]
     },
     "execution_count": 4,
     "metadata": {},
     "output_type": "execute_result"
    }
   ],
   "source": [
    "contract.info()\n",
    "\n",
    "contract.head()"
   ]
  },
  {
   "cell_type": "code",
   "execution_count": 5,
   "id": "12350755",
   "metadata": {},
   "outputs": [
    {
     "name": "stdout",
     "output_type": "stream",
     "text": [
      "<class 'pandas.core.frame.DataFrame'>\n",
      "RangeIndex: 5517 entries, 0 to 5516\n",
      "Data columns (total 8 columns):\n",
      "customerID          5517 non-null object\n",
      "InternetService     5517 non-null object\n",
      "OnlineSecurity      5517 non-null object\n",
      "OnlineBackup        5517 non-null object\n",
      "DeviceProtection    5517 non-null object\n",
      "TechSupport         5517 non-null object\n",
      "StreamingTV         5517 non-null object\n",
      "StreamingMovies     5517 non-null object\n",
      "dtypes: object(8)\n",
      "memory usage: 172.5+ KB\n"
     ]
    },
    {
     "data": {
      "text/html": [
       "<div>\n",
       "<style scoped>\n",
       "    .dataframe tbody tr th:only-of-type {\n",
       "        vertical-align: middle;\n",
       "    }\n",
       "\n",
       "    .dataframe tbody tr th {\n",
       "        vertical-align: top;\n",
       "    }\n",
       "\n",
       "    .dataframe thead th {\n",
       "        text-align: right;\n",
       "    }\n",
       "</style>\n",
       "<table border=\"1\" class=\"dataframe\">\n",
       "  <thead>\n",
       "    <tr style=\"text-align: right;\">\n",
       "      <th></th>\n",
       "      <th>customerID</th>\n",
       "      <th>InternetService</th>\n",
       "      <th>OnlineSecurity</th>\n",
       "      <th>OnlineBackup</th>\n",
       "      <th>DeviceProtection</th>\n",
       "      <th>TechSupport</th>\n",
       "      <th>StreamingTV</th>\n",
       "      <th>StreamingMovies</th>\n",
       "    </tr>\n",
       "  </thead>\n",
       "  <tbody>\n",
       "    <tr>\n",
       "      <td>0</td>\n",
       "      <td>7590-VHVEG</td>\n",
       "      <td>DSL</td>\n",
       "      <td>No</td>\n",
       "      <td>Yes</td>\n",
       "      <td>No</td>\n",
       "      <td>No</td>\n",
       "      <td>No</td>\n",
       "      <td>No</td>\n",
       "    </tr>\n",
       "    <tr>\n",
       "      <td>1</td>\n",
       "      <td>5575-GNVDE</td>\n",
       "      <td>DSL</td>\n",
       "      <td>Yes</td>\n",
       "      <td>No</td>\n",
       "      <td>Yes</td>\n",
       "      <td>No</td>\n",
       "      <td>No</td>\n",
       "      <td>No</td>\n",
       "    </tr>\n",
       "    <tr>\n",
       "      <td>2</td>\n",
       "      <td>3668-QPYBK</td>\n",
       "      <td>DSL</td>\n",
       "      <td>Yes</td>\n",
       "      <td>Yes</td>\n",
       "      <td>No</td>\n",
       "      <td>No</td>\n",
       "      <td>No</td>\n",
       "      <td>No</td>\n",
       "    </tr>\n",
       "    <tr>\n",
       "      <td>3</td>\n",
       "      <td>7795-CFOCW</td>\n",
       "      <td>DSL</td>\n",
       "      <td>Yes</td>\n",
       "      <td>No</td>\n",
       "      <td>Yes</td>\n",
       "      <td>Yes</td>\n",
       "      <td>No</td>\n",
       "      <td>No</td>\n",
       "    </tr>\n",
       "    <tr>\n",
       "      <td>4</td>\n",
       "      <td>9237-HQITU</td>\n",
       "      <td>Fiber optic</td>\n",
       "      <td>No</td>\n",
       "      <td>No</td>\n",
       "      <td>No</td>\n",
       "      <td>No</td>\n",
       "      <td>No</td>\n",
       "      <td>No</td>\n",
       "    </tr>\n",
       "  </tbody>\n",
       "</table>\n",
       "</div>"
      ],
      "text/plain": [
       "   customerID InternetService OnlineSecurity OnlineBackup DeviceProtection  \\\n",
       "0  7590-VHVEG             DSL             No          Yes               No   \n",
       "1  5575-GNVDE             DSL            Yes           No              Yes   \n",
       "2  3668-QPYBK             DSL            Yes          Yes               No   \n",
       "3  7795-CFOCW             DSL            Yes           No              Yes   \n",
       "4  9237-HQITU     Fiber optic             No           No               No   \n",
       "\n",
       "  TechSupport StreamingTV StreamingMovies  \n",
       "0          No          No              No  \n",
       "1          No          No              No  \n",
       "2          No          No              No  \n",
       "3         Yes          No              No  \n",
       "4          No          No              No  "
      ]
     },
     "execution_count": 5,
     "metadata": {},
     "output_type": "execute_result"
    }
   ],
   "source": [
    "internet.info()\n",
    "\n",
    "internet.head()"
   ]
  },
  {
   "cell_type": "code",
   "execution_count": 6,
   "id": "30c370db",
   "metadata": {},
   "outputs": [
    {
     "name": "stdout",
     "output_type": "stream",
     "text": [
      "<class 'pandas.core.frame.DataFrame'>\n",
      "RangeIndex: 7043 entries, 0 to 7042\n",
      "Data columns (total 5 columns):\n",
      "customerID       7043 non-null object\n",
      "gender           7043 non-null object\n",
      "SeniorCitizen    7043 non-null int64\n",
      "Partner          7043 non-null object\n",
      "Dependents       7043 non-null object\n",
      "dtypes: int64(1), object(4)\n",
      "memory usage: 165.1+ KB\n"
     ]
    },
    {
     "data": {
      "text/html": [
       "<div>\n",
       "<style scoped>\n",
       "    .dataframe tbody tr th:only-of-type {\n",
       "        vertical-align: middle;\n",
       "    }\n",
       "\n",
       "    .dataframe tbody tr th {\n",
       "        vertical-align: top;\n",
       "    }\n",
       "\n",
       "    .dataframe thead th {\n",
       "        text-align: right;\n",
       "    }\n",
       "</style>\n",
       "<table border=\"1\" class=\"dataframe\">\n",
       "  <thead>\n",
       "    <tr style=\"text-align: right;\">\n",
       "      <th></th>\n",
       "      <th>customerID</th>\n",
       "      <th>gender</th>\n",
       "      <th>SeniorCitizen</th>\n",
       "      <th>Partner</th>\n",
       "      <th>Dependents</th>\n",
       "    </tr>\n",
       "  </thead>\n",
       "  <tbody>\n",
       "    <tr>\n",
       "      <td>0</td>\n",
       "      <td>7590-VHVEG</td>\n",
       "      <td>Female</td>\n",
       "      <td>0</td>\n",
       "      <td>Yes</td>\n",
       "      <td>No</td>\n",
       "    </tr>\n",
       "    <tr>\n",
       "      <td>1</td>\n",
       "      <td>5575-GNVDE</td>\n",
       "      <td>Male</td>\n",
       "      <td>0</td>\n",
       "      <td>No</td>\n",
       "      <td>No</td>\n",
       "    </tr>\n",
       "    <tr>\n",
       "      <td>2</td>\n",
       "      <td>3668-QPYBK</td>\n",
       "      <td>Male</td>\n",
       "      <td>0</td>\n",
       "      <td>No</td>\n",
       "      <td>No</td>\n",
       "    </tr>\n",
       "    <tr>\n",
       "      <td>3</td>\n",
       "      <td>7795-CFOCW</td>\n",
       "      <td>Male</td>\n",
       "      <td>0</td>\n",
       "      <td>No</td>\n",
       "      <td>No</td>\n",
       "    </tr>\n",
       "    <tr>\n",
       "      <td>4</td>\n",
       "      <td>9237-HQITU</td>\n",
       "      <td>Female</td>\n",
       "      <td>0</td>\n",
       "      <td>No</td>\n",
       "      <td>No</td>\n",
       "    </tr>\n",
       "  </tbody>\n",
       "</table>\n",
       "</div>"
      ],
      "text/plain": [
       "   customerID  gender  SeniorCitizen Partner Dependents\n",
       "0  7590-VHVEG  Female              0     Yes         No\n",
       "1  5575-GNVDE    Male              0      No         No\n",
       "2  3668-QPYBK    Male              0      No         No\n",
       "3  7795-CFOCW    Male              0      No         No\n",
       "4  9237-HQITU  Female              0      No         No"
      ]
     },
     "execution_count": 6,
     "metadata": {},
     "output_type": "execute_result"
    }
   ],
   "source": [
    "personal.info()\n",
    "\n",
    "personal.head()"
   ]
  },
  {
   "cell_type": "code",
   "execution_count": 7,
   "id": "668e936b",
   "metadata": {},
   "outputs": [
    {
     "name": "stdout",
     "output_type": "stream",
     "text": [
      "<class 'pandas.core.frame.DataFrame'>\n",
      "RangeIndex: 6361 entries, 0 to 6360\n",
      "Data columns (total 2 columns):\n",
      "customerID       6361 non-null object\n",
      "MultipleLines    6361 non-null object\n",
      "dtypes: object(2)\n",
      "memory usage: 49.8+ KB\n"
     ]
    },
    {
     "data": {
      "text/html": [
       "<div>\n",
       "<style scoped>\n",
       "    .dataframe tbody tr th:only-of-type {\n",
       "        vertical-align: middle;\n",
       "    }\n",
       "\n",
       "    .dataframe tbody tr th {\n",
       "        vertical-align: top;\n",
       "    }\n",
       "\n",
       "    .dataframe thead th {\n",
       "        text-align: right;\n",
       "    }\n",
       "</style>\n",
       "<table border=\"1\" class=\"dataframe\">\n",
       "  <thead>\n",
       "    <tr style=\"text-align: right;\">\n",
       "      <th></th>\n",
       "      <th>customerID</th>\n",
       "      <th>MultipleLines</th>\n",
       "    </tr>\n",
       "  </thead>\n",
       "  <tbody>\n",
       "    <tr>\n",
       "      <td>0</td>\n",
       "      <td>5575-GNVDE</td>\n",
       "      <td>No</td>\n",
       "    </tr>\n",
       "    <tr>\n",
       "      <td>1</td>\n",
       "      <td>3668-QPYBK</td>\n",
       "      <td>No</td>\n",
       "    </tr>\n",
       "    <tr>\n",
       "      <td>2</td>\n",
       "      <td>9237-HQITU</td>\n",
       "      <td>No</td>\n",
       "    </tr>\n",
       "    <tr>\n",
       "      <td>3</td>\n",
       "      <td>9305-CDSKC</td>\n",
       "      <td>Yes</td>\n",
       "    </tr>\n",
       "    <tr>\n",
       "      <td>4</td>\n",
       "      <td>1452-KIOVK</td>\n",
       "      <td>Yes</td>\n",
       "    </tr>\n",
       "  </tbody>\n",
       "</table>\n",
       "</div>"
      ],
      "text/plain": [
       "   customerID MultipleLines\n",
       "0  5575-GNVDE            No\n",
       "1  3668-QPYBK            No\n",
       "2  9237-HQITU            No\n",
       "3  9305-CDSKC           Yes\n",
       "4  1452-KIOVK           Yes"
      ]
     },
     "execution_count": 7,
     "metadata": {},
     "output_type": "execute_result"
    }
   ],
   "source": [
    "phone.info()\n",
    "\n",
    "phone.head()"
   ]
  },
  {
   "cell_type": "markdown",
   "id": "40dae083",
   "metadata": {},
   "source": [
    "### Вывод\n",
    "<div class=\"alert alert-info\" style=\"border-radius: 10px; box-shadow: 2px 2px 2px; border: 1px solid\"> Перед нами представлено 4 таблицы с данными: \n",
    "\n",
    "- `contract.csv` — информация о договоре;\n",
    "- `internet.csv` — информация об интернет-услугах;\n",
    "- `personal.csv` — персональные данные клиента;\n",
    "- `phone.csv` — информация об услугах телефонии.\n",
    "    \n",
    "Во всех файлах столбец `customerID` содержит код клиента. По этому столбцу ниже будем объединять данные, и в последствие его удалим, чтобы он не создавал помехи для работы наших будущих моделей. Во всех файлах с данными отсутствуют пропуски. В таблице `contract.csv` с информацией о договоре присутствуют два столбца с датами. Ниже нам надо будет эти данные привести в соотвтествие с типом данных, и попытаться найти некоторую возможную дополнительную информацию для нашего клиента. И в этой же таблице столбец с данными `TotalCharges` привести в тип `float`. Также другие столбцы в этой таблице и в остальных, в которых по сути булевые значения (`Yes` или `No`) привести их в соответствие с их типом.\n",
    "\n",
    "</div>"
   ]
  },
  {
   "cell_type": "markdown",
   "id": "ecf2798e",
   "metadata": {},
   "source": [
    "## Подготовка данных"
   ]
  },
  {
   "cell_type": "code",
   "execution_count": 8,
   "id": "61f8c6fd",
   "metadata": {},
   "outputs": [],
   "source": [
    "# переименовываем столбцы в наших таблицах\n",
    "contract = contract.rename(columns = {'customerID': 'customer_id',\n",
    "                                      'BeginDate': 'begin_date',\n",
    "                                      'EndDate': 'end_date',\n",
    "                                      'Type': 'type',\n",
    "                                      'PaperlessBilling': 'paperless_billing',\n",
    "                                      'PaymentMethod': 'payment_method',\n",
    "                                      'MonthlyCharges': 'monthly_charges',\n",
    "                                      'TotalCharges': 'total_charges'}\n",
    "                          )\n",
    "\n",
    "internet = internet.rename(columns = {'customerID': 'customer_id',\n",
    "                                      'InternetService': 'internet_service',\n",
    "                                      'OnlineSecurity': 'online_security',\n",
    "                                      'OnlineBackup':  'online_backup',\n",
    "                                      'DeviceProtection':  'device_protection',\n",
    "                                      'TechSupport': 'tech_support',\n",
    "                                      'StreamingTV': 'streaming_tv',\n",
    "                                      'StreamingMovies': 'streaming_movies'}\n",
    "                          )\n",
    "\n",
    "personal = personal.rename(columns = {'customerID': 'customer_id',\n",
    "                                      'SeniorCitizen': 'senior_citizen',\n",
    "                                      'Partner': 'partner',\n",
    "                                      'Dependents': 'dependents'}\n",
    "                          )\n",
    "\n",
    "phone = phone.rename(columns = {'customerID': 'customer_id',\n",
    "                                'MultipleLines': 'multiple_lines'}\n",
    "                    )"
   ]
  },
  {
   "cell_type": "code",
   "execution_count": 9,
   "id": "d4c08639",
   "metadata": {},
   "outputs": [],
   "source": [
    "# приводим столбцы в соответствие с их типом данных\n",
    "contract['begin_date'] = pd.to_datetime(contract['begin_date'], format = '%Y.%m.%d')"
   ]
  },
  {
   "cell_type": "code",
   "execution_count": 10,
   "id": "e8aabe5a",
   "metadata": {},
   "outputs": [],
   "source": [
    "# заменяем значения пробелов на ноль\n",
    "contract['total_charges'] = contract['total_charges'].replace(' ', '0')\n",
    "\n",
    "contract['total_charges'] = contract['total_charges'].astype('float')"
   ]
  },
  {
   "cell_type": "code",
   "execution_count": 11,
   "id": "3372c01c",
   "metadata": {},
   "outputs": [],
   "source": [
    "# функция для одной строки, которая создаст нам целевые признаки для нашей модели\n",
    "def end_date(row):\n",
    "    end_date = row['end_date']\n",
    "    \n",
    "    if end_date == 'No':\n",
    "        return '0'\n",
    "    \n",
    "    else:\n",
    "        return '1'\n",
    "\n",
    "# создаём новый столбец с целевыми признаками\n",
    "contract['closed_contract'] = contract.apply(end_date, axis=1)"
   ]
  },
  {
   "cell_type": "markdown",
   "id": "937f3c78",
   "metadata": {},
   "source": [
    "<div class=\"alert alert-info\" style=\"border-radius: 10px; box-shadow: 2px 2px 2px; border: 1px solid\">\n",
    "\n",
    "Ниже проведём вычисления срока жизни клиента, и добавим результат в отдельный столбец таблицы  `contract`.\n",
    "\n",
    "</div>"
   ]
  },
  {
   "cell_type": "code",
   "execution_count": 12,
   "id": "34fd454b",
   "metadata": {},
   "outputs": [],
   "source": [
    "# заменяем значения No на дату выгрузки данных\n",
    "contract['end_date'] = contract['end_date'].replace('No', '2020-02-01 00:00:00')\n",
    "\n",
    "# заменяем тип данных в столбце\n",
    "contract['end_date'] = pd.to_datetime(contract['end_date'], format='%Y-%m-%d %H:%M:%S')\n",
    "\n",
    "# вычисляем срок жизни клиента, и создаём соответствующий столбец признаков\n",
    "contract['customer_lifetime'] = contract['end_date'] - contract['begin_date']\n",
    "\n",
    "# заменяем тип данных на целочисленный, и переводим срок жизни клиентов в месяцы\n",
    "contract['customer_lifetime'] = (contract['customer_lifetime'] / np.timedelta64(1, 'M')).astype(int)"
   ]
  },
  {
   "cell_type": "code",
   "execution_count": 13,
   "id": "cfeebff5",
   "metadata": {
    "scrolled": false
   },
   "outputs": [
    {
     "name": "stdout",
     "output_type": "stream",
     "text": [
      "<class 'pandas.core.frame.DataFrame'>\n",
      "RangeIndex: 7043 entries, 0 to 7042\n",
      "Data columns (total 10 columns):\n",
      "customer_id          7043 non-null object\n",
      "begin_date           7043 non-null datetime64[ns]\n",
      "end_date             7043 non-null datetime64[ns]\n",
      "type                 7043 non-null object\n",
      "paperless_billing    7043 non-null object\n",
      "payment_method       7043 non-null object\n",
      "monthly_charges      7043 non-null float64\n",
      "total_charges        7043 non-null float64\n",
      "closed_contract      7043 non-null object\n",
      "customer_lifetime    7043 non-null int32\n",
      "dtypes: datetime64[ns](2), float64(2), int32(1), object(5)\n",
      "memory usage: 385.2+ KB\n"
     ]
    },
    {
     "data": {
      "text/html": [
       "<div>\n",
       "<style scoped>\n",
       "    .dataframe tbody tr th:only-of-type {\n",
       "        vertical-align: middle;\n",
       "    }\n",
       "\n",
       "    .dataframe tbody tr th {\n",
       "        vertical-align: top;\n",
       "    }\n",
       "\n",
       "    .dataframe thead th {\n",
       "        text-align: right;\n",
       "    }\n",
       "</style>\n",
       "<table border=\"1\" class=\"dataframe\">\n",
       "  <thead>\n",
       "    <tr style=\"text-align: right;\">\n",
       "      <th></th>\n",
       "      <th>customer_id</th>\n",
       "      <th>begin_date</th>\n",
       "      <th>end_date</th>\n",
       "      <th>type</th>\n",
       "      <th>paperless_billing</th>\n",
       "      <th>payment_method</th>\n",
       "      <th>monthly_charges</th>\n",
       "      <th>total_charges</th>\n",
       "      <th>closed_contract</th>\n",
       "      <th>customer_lifetime</th>\n",
       "    </tr>\n",
       "  </thead>\n",
       "  <tbody>\n",
       "    <tr>\n",
       "      <td>0</td>\n",
       "      <td>7590-VHVEG</td>\n",
       "      <td>2020-01-01</td>\n",
       "      <td>2020-02-01</td>\n",
       "      <td>Month-to-month</td>\n",
       "      <td>Yes</td>\n",
       "      <td>Electronic check</td>\n",
       "      <td>29.85</td>\n",
       "      <td>29.85</td>\n",
       "      <td>0</td>\n",
       "      <td>1</td>\n",
       "    </tr>\n",
       "    <tr>\n",
       "      <td>1</td>\n",
       "      <td>5575-GNVDE</td>\n",
       "      <td>2017-04-01</td>\n",
       "      <td>2020-02-01</td>\n",
       "      <td>One year</td>\n",
       "      <td>No</td>\n",
       "      <td>Mailed check</td>\n",
       "      <td>56.95</td>\n",
       "      <td>1,889.50</td>\n",
       "      <td>0</td>\n",
       "      <td>34</td>\n",
       "    </tr>\n",
       "    <tr>\n",
       "      <td>2</td>\n",
       "      <td>3668-QPYBK</td>\n",
       "      <td>2019-10-01</td>\n",
       "      <td>2019-12-01</td>\n",
       "      <td>Month-to-month</td>\n",
       "      <td>Yes</td>\n",
       "      <td>Mailed check</td>\n",
       "      <td>53.85</td>\n",
       "      <td>108.15</td>\n",
       "      <td>1</td>\n",
       "      <td>2</td>\n",
       "    </tr>\n",
       "    <tr>\n",
       "      <td>3</td>\n",
       "      <td>7795-CFOCW</td>\n",
       "      <td>2016-05-01</td>\n",
       "      <td>2020-02-01</td>\n",
       "      <td>One year</td>\n",
       "      <td>No</td>\n",
       "      <td>Bank transfer (automatic)</td>\n",
       "      <td>42.30</td>\n",
       "      <td>1,840.75</td>\n",
       "      <td>0</td>\n",
       "      <td>45</td>\n",
       "    </tr>\n",
       "    <tr>\n",
       "      <td>4</td>\n",
       "      <td>9237-HQITU</td>\n",
       "      <td>2019-09-01</td>\n",
       "      <td>2019-11-01</td>\n",
       "      <td>Month-to-month</td>\n",
       "      <td>Yes</td>\n",
       "      <td>Electronic check</td>\n",
       "      <td>70.70</td>\n",
       "      <td>151.65</td>\n",
       "      <td>1</td>\n",
       "      <td>2</td>\n",
       "    </tr>\n",
       "  </tbody>\n",
       "</table>\n",
       "</div>"
      ],
      "text/plain": [
       "  customer_id begin_date   end_date            type paperless_billing  \\\n",
       "0  7590-VHVEG 2020-01-01 2020-02-01  Month-to-month               Yes   \n",
       "1  5575-GNVDE 2017-04-01 2020-02-01        One year                No   \n",
       "2  3668-QPYBK 2019-10-01 2019-12-01  Month-to-month               Yes   \n",
       "3  7795-CFOCW 2016-05-01 2020-02-01        One year                No   \n",
       "4  9237-HQITU 2019-09-01 2019-11-01  Month-to-month               Yes   \n",
       "\n",
       "              payment_method  monthly_charges  total_charges closed_contract  \\\n",
       "0           Electronic check            29.85          29.85               0   \n",
       "1               Mailed check            56.95       1,889.50               0   \n",
       "2               Mailed check            53.85         108.15               1   \n",
       "3  Bank transfer (automatic)            42.30       1,840.75               0   \n",
       "4           Electronic check            70.70         151.65               1   \n",
       "\n",
       "   customer_lifetime  \n",
       "0                  1  \n",
       "1                 34  \n",
       "2                  2  \n",
       "3                 45  \n",
       "4                  2  "
      ]
     },
     "execution_count": 13,
     "metadata": {},
     "output_type": "execute_result"
    }
   ],
   "source": [
    "# проверяем общую инофрмацию итоговой таблицы 'contract'\n",
    "contract.info()\n",
    "\n",
    "# выводим на экран первые 5 строк\n",
    "contract.head()"
   ]
  },
  {
   "cell_type": "markdown",
   "id": "25a0f57d",
   "metadata": {},
   "source": [
    "<div class=\"alert alert-info\" style=\"border-radius: 10px; box-shadow: 2px 2px 2px; border: 1px solid\"> Объединяем ниже все наши таблцы в одну. </div>"
   ]
  },
  {
   "cell_type": "code",
   "execution_count": 14,
   "id": "0900a353",
   "metadata": {},
   "outputs": [],
   "source": [
    "# создаём константные столбцы для таблиц\n",
    "internet['internet_user'] = 'Yes'\n",
    "\n",
    "phone['phone_user'] = 'Yes'"
   ]
  },
  {
   "cell_type": "code",
   "execution_count": 15,
   "id": "94996fcb",
   "metadata": {},
   "outputs": [
    {
     "data": {
      "text/plain": [
       "(7043, 18)"
      ]
     },
     "execution_count": 15,
     "metadata": {},
     "output_type": "execute_result"
    }
   ],
   "source": [
    "# объединяем таблицы\n",
    "telekom = contract.merge(internet, on='customer_id', how='left')\n",
    "\n",
    "# проверяем размер объединённой таблицы\n",
    "telekom.shape"
   ]
  },
  {
   "cell_type": "code",
   "execution_count": 16,
   "id": "e231f823",
   "metadata": {},
   "outputs": [
    {
     "data": {
      "text/plain": [
       "(7043, 22)"
      ]
     },
     "execution_count": 16,
     "metadata": {},
     "output_type": "execute_result"
    }
   ],
   "source": [
    "# продолжаем присоединять следующую таблицу\n",
    "telekom = telekom.merge(personal, on='customer_id', how='left')\n",
    "\n",
    "# контроль размера объединённой таблицы\n",
    "telekom.shape"
   ]
  },
  {
   "cell_type": "code",
   "execution_count": 17,
   "id": "c4667278",
   "metadata": {},
   "outputs": [
    {
     "data": {
      "text/plain": [
       "(7043, 24)"
      ]
     },
     "execution_count": 17,
     "metadata": {},
     "output_type": "execute_result"
    }
   ],
   "source": [
    "# добавляем последнюю таблцу в общую\n",
    "telekom = telekom.merge(phone, on='customer_id', how='left')\n",
    "\n",
    "# контроль размера объединённой таблицы\n",
    "telekom.shape"
   ]
  },
  {
   "cell_type": "code",
   "execution_count": 18,
   "id": "b722315e",
   "metadata": {},
   "outputs": [
    {
     "name": "stdout",
     "output_type": "stream",
     "text": [
      "<class 'pandas.core.frame.DataFrame'>\n",
      "Int64Index: 7043 entries, 0 to 7042\n",
      "Data columns (total 24 columns):\n",
      "customer_id          7043 non-null object\n",
      "begin_date           7043 non-null datetime64[ns]\n",
      "end_date             7043 non-null datetime64[ns]\n",
      "type                 7043 non-null object\n",
      "paperless_billing    7043 non-null object\n",
      "payment_method       7043 non-null object\n",
      "monthly_charges      7043 non-null float64\n",
      "total_charges        7043 non-null float64\n",
      "closed_contract      7043 non-null object\n",
      "customer_lifetime    7043 non-null int32\n",
      "internet_service     5517 non-null object\n",
      "online_security      5517 non-null object\n",
      "online_backup        5517 non-null object\n",
      "device_protection    5517 non-null object\n",
      "tech_support         5517 non-null object\n",
      "streaming_tv         5517 non-null object\n",
      "streaming_movies     5517 non-null object\n",
      "internet_user        5517 non-null object\n",
      "gender               7043 non-null object\n",
      "senior_citizen       7043 non-null int64\n",
      "partner              7043 non-null object\n",
      "dependents           7043 non-null object\n",
      "multiple_lines       6361 non-null object\n",
      "phone_user           6361 non-null object\n",
      "dtypes: datetime64[ns](2), float64(2), int32(1), int64(1), object(18)\n",
      "memory usage: 852.9+ KB\n"
     ]
    },
    {
     "data": {
      "text/html": [
       "<div>\n",
       "<style scoped>\n",
       "    .dataframe tbody tr th:only-of-type {\n",
       "        vertical-align: middle;\n",
       "    }\n",
       "\n",
       "    .dataframe tbody tr th {\n",
       "        vertical-align: top;\n",
       "    }\n",
       "\n",
       "    .dataframe thead th {\n",
       "        text-align: right;\n",
       "    }\n",
       "</style>\n",
       "<table border=\"1\" class=\"dataframe\">\n",
       "  <thead>\n",
       "    <tr style=\"text-align: right;\">\n",
       "      <th></th>\n",
       "      <th>customer_id</th>\n",
       "      <th>begin_date</th>\n",
       "      <th>end_date</th>\n",
       "      <th>type</th>\n",
       "      <th>paperless_billing</th>\n",
       "      <th>payment_method</th>\n",
       "      <th>monthly_charges</th>\n",
       "      <th>total_charges</th>\n",
       "      <th>closed_contract</th>\n",
       "      <th>customer_lifetime</th>\n",
       "      <th>internet_service</th>\n",
       "      <th>online_security</th>\n",
       "      <th>online_backup</th>\n",
       "      <th>device_protection</th>\n",
       "      <th>tech_support</th>\n",
       "      <th>streaming_tv</th>\n",
       "      <th>streaming_movies</th>\n",
       "      <th>internet_user</th>\n",
       "      <th>gender</th>\n",
       "      <th>senior_citizen</th>\n",
       "      <th>partner</th>\n",
       "      <th>dependents</th>\n",
       "      <th>multiple_lines</th>\n",
       "      <th>phone_user</th>\n",
       "    </tr>\n",
       "  </thead>\n",
       "  <tbody>\n",
       "    <tr>\n",
       "      <td>0</td>\n",
       "      <td>7590-VHVEG</td>\n",
       "      <td>2020-01-01</td>\n",
       "      <td>2020-02-01</td>\n",
       "      <td>Month-to-month</td>\n",
       "      <td>Yes</td>\n",
       "      <td>Electronic check</td>\n",
       "      <td>29.85</td>\n",
       "      <td>29.85</td>\n",
       "      <td>0</td>\n",
       "      <td>1</td>\n",
       "      <td>DSL</td>\n",
       "      <td>No</td>\n",
       "      <td>Yes</td>\n",
       "      <td>No</td>\n",
       "      <td>No</td>\n",
       "      <td>No</td>\n",
       "      <td>No</td>\n",
       "      <td>Yes</td>\n",
       "      <td>Female</td>\n",
       "      <td>0</td>\n",
       "      <td>Yes</td>\n",
       "      <td>No</td>\n",
       "      <td>NaN</td>\n",
       "      <td>NaN</td>\n",
       "    </tr>\n",
       "    <tr>\n",
       "      <td>1</td>\n",
       "      <td>5575-GNVDE</td>\n",
       "      <td>2017-04-01</td>\n",
       "      <td>2020-02-01</td>\n",
       "      <td>One year</td>\n",
       "      <td>No</td>\n",
       "      <td>Mailed check</td>\n",
       "      <td>56.95</td>\n",
       "      <td>1,889.50</td>\n",
       "      <td>0</td>\n",
       "      <td>34</td>\n",
       "      <td>DSL</td>\n",
       "      <td>Yes</td>\n",
       "      <td>No</td>\n",
       "      <td>Yes</td>\n",
       "      <td>No</td>\n",
       "      <td>No</td>\n",
       "      <td>No</td>\n",
       "      <td>Yes</td>\n",
       "      <td>Male</td>\n",
       "      <td>0</td>\n",
       "      <td>No</td>\n",
       "      <td>No</td>\n",
       "      <td>No</td>\n",
       "      <td>Yes</td>\n",
       "    </tr>\n",
       "    <tr>\n",
       "      <td>2</td>\n",
       "      <td>3668-QPYBK</td>\n",
       "      <td>2019-10-01</td>\n",
       "      <td>2019-12-01</td>\n",
       "      <td>Month-to-month</td>\n",
       "      <td>Yes</td>\n",
       "      <td>Mailed check</td>\n",
       "      <td>53.85</td>\n",
       "      <td>108.15</td>\n",
       "      <td>1</td>\n",
       "      <td>2</td>\n",
       "      <td>DSL</td>\n",
       "      <td>Yes</td>\n",
       "      <td>Yes</td>\n",
       "      <td>No</td>\n",
       "      <td>No</td>\n",
       "      <td>No</td>\n",
       "      <td>No</td>\n",
       "      <td>Yes</td>\n",
       "      <td>Male</td>\n",
       "      <td>0</td>\n",
       "      <td>No</td>\n",
       "      <td>No</td>\n",
       "      <td>No</td>\n",
       "      <td>Yes</td>\n",
       "    </tr>\n",
       "    <tr>\n",
       "      <td>3</td>\n",
       "      <td>7795-CFOCW</td>\n",
       "      <td>2016-05-01</td>\n",
       "      <td>2020-02-01</td>\n",
       "      <td>One year</td>\n",
       "      <td>No</td>\n",
       "      <td>Bank transfer (automatic)</td>\n",
       "      <td>42.30</td>\n",
       "      <td>1,840.75</td>\n",
       "      <td>0</td>\n",
       "      <td>45</td>\n",
       "      <td>DSL</td>\n",
       "      <td>Yes</td>\n",
       "      <td>No</td>\n",
       "      <td>Yes</td>\n",
       "      <td>Yes</td>\n",
       "      <td>No</td>\n",
       "      <td>No</td>\n",
       "      <td>Yes</td>\n",
       "      <td>Male</td>\n",
       "      <td>0</td>\n",
       "      <td>No</td>\n",
       "      <td>No</td>\n",
       "      <td>NaN</td>\n",
       "      <td>NaN</td>\n",
       "    </tr>\n",
       "    <tr>\n",
       "      <td>4</td>\n",
       "      <td>9237-HQITU</td>\n",
       "      <td>2019-09-01</td>\n",
       "      <td>2019-11-01</td>\n",
       "      <td>Month-to-month</td>\n",
       "      <td>Yes</td>\n",
       "      <td>Electronic check</td>\n",
       "      <td>70.70</td>\n",
       "      <td>151.65</td>\n",
       "      <td>1</td>\n",
       "      <td>2</td>\n",
       "      <td>Fiber optic</td>\n",
       "      <td>No</td>\n",
       "      <td>No</td>\n",
       "      <td>No</td>\n",
       "      <td>No</td>\n",
       "      <td>No</td>\n",
       "      <td>No</td>\n",
       "      <td>Yes</td>\n",
       "      <td>Female</td>\n",
       "      <td>0</td>\n",
       "      <td>No</td>\n",
       "      <td>No</td>\n",
       "      <td>No</td>\n",
       "      <td>Yes</td>\n",
       "    </tr>\n",
       "  </tbody>\n",
       "</table>\n",
       "</div>"
      ],
      "text/plain": [
       "  customer_id begin_date   end_date            type paperless_billing  \\\n",
       "0  7590-VHVEG 2020-01-01 2020-02-01  Month-to-month               Yes   \n",
       "1  5575-GNVDE 2017-04-01 2020-02-01        One year                No   \n",
       "2  3668-QPYBK 2019-10-01 2019-12-01  Month-to-month               Yes   \n",
       "3  7795-CFOCW 2016-05-01 2020-02-01        One year                No   \n",
       "4  9237-HQITU 2019-09-01 2019-11-01  Month-to-month               Yes   \n",
       "\n",
       "              payment_method  monthly_charges  total_charges closed_contract  \\\n",
       "0           Electronic check            29.85          29.85               0   \n",
       "1               Mailed check            56.95       1,889.50               0   \n",
       "2               Mailed check            53.85         108.15               1   \n",
       "3  Bank transfer (automatic)            42.30       1,840.75               0   \n",
       "4           Electronic check            70.70         151.65               1   \n",
       "\n",
       "   customer_lifetime internet_service online_security online_backup  \\\n",
       "0                  1              DSL              No           Yes   \n",
       "1                 34              DSL             Yes            No   \n",
       "2                  2              DSL             Yes           Yes   \n",
       "3                 45              DSL             Yes            No   \n",
       "4                  2      Fiber optic              No            No   \n",
       "\n",
       "  device_protection tech_support streaming_tv streaming_movies internet_user  \\\n",
       "0                No           No           No               No           Yes   \n",
       "1               Yes           No           No               No           Yes   \n",
       "2                No           No           No               No           Yes   \n",
       "3               Yes          Yes           No               No           Yes   \n",
       "4                No           No           No               No           Yes   \n",
       "\n",
       "   gender  senior_citizen partner dependents multiple_lines phone_user  \n",
       "0  Female               0     Yes         No            NaN        NaN  \n",
       "1    Male               0      No         No             No        Yes  \n",
       "2    Male               0      No         No             No        Yes  \n",
       "3    Male               0      No         No            NaN        NaN  \n",
       "4  Female               0      No         No             No        Yes  "
      ]
     },
     "execution_count": 18,
     "metadata": {},
     "output_type": "execute_result"
    }
   ],
   "source": [
    "# смотрим общую информацию объединённой таблицы\n",
    "telekom.info()\n",
    "\n",
    "# смотрим на первые строки\n",
    "telekom.head()"
   ]
  },
  {
   "cell_type": "code",
   "execution_count": 19,
   "id": "5d560f0a",
   "metadata": {},
   "outputs": [
    {
     "data": {
      "text/plain": [
       "customer_id             0\n",
       "begin_date              0\n",
       "end_date                0\n",
       "type                    0\n",
       "paperless_billing       0\n",
       "payment_method          0\n",
       "monthly_charges         0\n",
       "total_charges           0\n",
       "closed_contract         0\n",
       "customer_lifetime       0\n",
       "internet_service     1526\n",
       "online_security      1526\n",
       "online_backup        1526\n",
       "device_protection    1526\n",
       "tech_support         1526\n",
       "streaming_tv         1526\n",
       "streaming_movies     1526\n",
       "internet_user        1526\n",
       "gender                  0\n",
       "senior_citizen          0\n",
       "partner                 0\n",
       "dependents              0\n",
       "multiple_lines        682\n",
       "phone_user            682\n",
       "dtype: int64"
      ]
     },
     "execution_count": 19,
     "metadata": {},
     "output_type": "execute_result"
    }
   ],
   "source": [
    "# смотрим сколько у нашей объединённой таблицы пропусков\n",
    "telekom.isna().sum()"
   ]
  },
  {
   "cell_type": "code",
   "execution_count": 20,
   "id": "180d975f",
   "metadata": {},
   "outputs": [
    {
     "data": {
      "text/plain": [
       "customer_id          0\n",
       "begin_date           0\n",
       "end_date             0\n",
       "type                 0\n",
       "paperless_billing    0\n",
       "payment_method       0\n",
       "monthly_charges      0\n",
       "total_charges        0\n",
       "closed_contract      0\n",
       "customer_lifetime    0\n",
       "internet_service     0\n",
       "online_security      0\n",
       "online_backup        0\n",
       "device_protection    0\n",
       "tech_support         0\n",
       "streaming_tv         0\n",
       "streaming_movies     0\n",
       "internet_user        0\n",
       "gender               0\n",
       "senior_citizen       0\n",
       "partner              0\n",
       "dependents           0\n",
       "multiple_lines       0\n",
       "phone_user           0\n",
       "dtype: int64"
      ]
     },
     "execution_count": 20,
     "metadata": {},
     "output_type": "execute_result"
    }
   ],
   "source": [
    "# заполняем пропуски в наших группирующих столбцах\n",
    "telekom[['internet_user', 'phone_user']] = telekom[['internet_user', 'phone_user']].fillna('No')\n",
    "\n",
    "# заполняем остальные пропуски заглушкой\n",
    "telekom = telekom.fillna('unknown')\n",
    "\n",
    "# проверяем сколько осталось пропусков\n",
    "telekom.isna().sum()"
   ]
  },
  {
   "cell_type": "code",
   "execution_count": 21,
   "id": "d3cae27e",
   "metadata": {},
   "outputs": [
    {
     "data": {
      "text/html": [
       "<div>\n",
       "<style scoped>\n",
       "    .dataframe tbody tr th:only-of-type {\n",
       "        vertical-align: middle;\n",
       "    }\n",
       "\n",
       "    .dataframe tbody tr th {\n",
       "        vertical-align: top;\n",
       "    }\n",
       "\n",
       "    .dataframe thead th {\n",
       "        text-align: right;\n",
       "    }\n",
       "</style>\n",
       "<table border=\"1\" class=\"dataframe\">\n",
       "  <thead>\n",
       "    <tr style=\"text-align: right;\">\n",
       "      <th></th>\n",
       "      <th>monthly_charges</th>\n",
       "      <th>total_charges</th>\n",
       "      <th>customer_lifetime</th>\n",
       "      <th>senior_citizen</th>\n",
       "    </tr>\n",
       "  </thead>\n",
       "  <tbody>\n",
       "    <tr>\n",
       "      <td>monthly_charges</td>\n",
       "      <td>1.00</td>\n",
       "      <td>0.65</td>\n",
       "      <td>0.25</td>\n",
       "      <td>0.22</td>\n",
       "    </tr>\n",
       "    <tr>\n",
       "      <td>total_charges</td>\n",
       "      <td>0.65</td>\n",
       "      <td>1.00</td>\n",
       "      <td>0.83</td>\n",
       "      <td>0.10</td>\n",
       "    </tr>\n",
       "    <tr>\n",
       "      <td>customer_lifetime</td>\n",
       "      <td>0.25</td>\n",
       "      <td>0.83</td>\n",
       "      <td>1.00</td>\n",
       "      <td>0.02</td>\n",
       "    </tr>\n",
       "    <tr>\n",
       "      <td>senior_citizen</td>\n",
       "      <td>0.22</td>\n",
       "      <td>0.10</td>\n",
       "      <td>0.02</td>\n",
       "      <td>1.00</td>\n",
       "    </tr>\n",
       "  </tbody>\n",
       "</table>\n",
       "</div>"
      ],
      "text/plain": [
       "                   monthly_charges  total_charges  customer_lifetime  \\\n",
       "monthly_charges               1.00           0.65               0.25   \n",
       "total_charges                 0.65           1.00               0.83   \n",
       "customer_lifetime             0.25           0.83               1.00   \n",
       "senior_citizen                0.22           0.10               0.02   \n",
       "\n",
       "                   senior_citizen  \n",
       "monthly_charges              0.22  \n",
       "total_charges                0.10  \n",
       "customer_lifetime            0.02  \n",
       "senior_citizen               1.00  "
      ]
     },
     "execution_count": 21,
     "metadata": {},
     "output_type": "execute_result"
    }
   ],
   "source": [
    "# смотрим корреляцию\n",
    "telekom.corr()"
   ]
  },
  {
   "cell_type": "code",
   "execution_count": 22,
   "id": "bcf040b1",
   "metadata": {},
   "outputs": [],
   "source": [
    "# удаляем лишние для наших будущих моделей столбцы\n",
    "telekom_cut = telekom.drop(['customer_id',\n",
    "                            'begin_date',\n",
    "                            'end_date',\n",
    "                            'total_charges'],\n",
    "                           axis=1\n",
    "                          )"
   ]
  },
  {
   "cell_type": "code",
   "execution_count": 23,
   "id": "050648af",
   "metadata": {},
   "outputs": [
    {
     "name": "stdout",
     "output_type": "stream",
     "text": [
      "<class 'pandas.core.frame.DataFrame'>\n",
      "Int64Index: 7043 entries, 0 to 7042\n",
      "Data columns (total 20 columns):\n",
      "type                 7043 non-null object\n",
      "paperless_billing    7043 non-null object\n",
      "payment_method       7043 non-null object\n",
      "monthly_charges      7043 non-null float64\n",
      "closed_contract      7043 non-null object\n",
      "customer_lifetime    7043 non-null int32\n",
      "internet_service     7043 non-null object\n",
      "online_security      7043 non-null object\n",
      "online_backup        7043 non-null object\n",
      "device_protection    7043 non-null object\n",
      "tech_support         7043 non-null object\n",
      "streaming_tv         7043 non-null object\n",
      "streaming_movies     7043 non-null object\n",
      "internet_user        7043 non-null object\n",
      "gender               7043 non-null object\n",
      "senior_citizen       7043 non-null int64\n",
      "partner              7043 non-null object\n",
      "dependents           7043 non-null object\n",
      "multiple_lines       7043 non-null object\n",
      "phone_user           7043 non-null object\n",
      "dtypes: float64(1), int32(1), int64(1), object(17)\n",
      "memory usage: 660.3+ KB\n"
     ]
    },
    {
     "data": {
      "text/html": [
       "<div>\n",
       "<style scoped>\n",
       "    .dataframe tbody tr th:only-of-type {\n",
       "        vertical-align: middle;\n",
       "    }\n",
       "\n",
       "    .dataframe tbody tr th {\n",
       "        vertical-align: top;\n",
       "    }\n",
       "\n",
       "    .dataframe thead th {\n",
       "        text-align: right;\n",
       "    }\n",
       "</style>\n",
       "<table border=\"1\" class=\"dataframe\">\n",
       "  <thead>\n",
       "    <tr style=\"text-align: right;\">\n",
       "      <th></th>\n",
       "      <th>type</th>\n",
       "      <th>paperless_billing</th>\n",
       "      <th>payment_method</th>\n",
       "      <th>monthly_charges</th>\n",
       "      <th>closed_contract</th>\n",
       "      <th>customer_lifetime</th>\n",
       "      <th>internet_service</th>\n",
       "      <th>online_security</th>\n",
       "      <th>online_backup</th>\n",
       "      <th>device_protection</th>\n",
       "      <th>tech_support</th>\n",
       "      <th>streaming_tv</th>\n",
       "      <th>streaming_movies</th>\n",
       "      <th>internet_user</th>\n",
       "      <th>gender</th>\n",
       "      <th>senior_citizen</th>\n",
       "      <th>partner</th>\n",
       "      <th>dependents</th>\n",
       "      <th>multiple_lines</th>\n",
       "      <th>phone_user</th>\n",
       "    </tr>\n",
       "  </thead>\n",
       "  <tbody>\n",
       "    <tr>\n",
       "      <td>0</td>\n",
       "      <td>Month-to-month</td>\n",
       "      <td>Yes</td>\n",
       "      <td>Electronic check</td>\n",
       "      <td>29.85</td>\n",
       "      <td>0</td>\n",
       "      <td>1</td>\n",
       "      <td>DSL</td>\n",
       "      <td>No</td>\n",
       "      <td>Yes</td>\n",
       "      <td>No</td>\n",
       "      <td>No</td>\n",
       "      <td>No</td>\n",
       "      <td>No</td>\n",
       "      <td>Yes</td>\n",
       "      <td>Female</td>\n",
       "      <td>0</td>\n",
       "      <td>Yes</td>\n",
       "      <td>No</td>\n",
       "      <td>unknown</td>\n",
       "      <td>No</td>\n",
       "    </tr>\n",
       "    <tr>\n",
       "      <td>1</td>\n",
       "      <td>One year</td>\n",
       "      <td>No</td>\n",
       "      <td>Mailed check</td>\n",
       "      <td>56.95</td>\n",
       "      <td>0</td>\n",
       "      <td>34</td>\n",
       "      <td>DSL</td>\n",
       "      <td>Yes</td>\n",
       "      <td>No</td>\n",
       "      <td>Yes</td>\n",
       "      <td>No</td>\n",
       "      <td>No</td>\n",
       "      <td>No</td>\n",
       "      <td>Yes</td>\n",
       "      <td>Male</td>\n",
       "      <td>0</td>\n",
       "      <td>No</td>\n",
       "      <td>No</td>\n",
       "      <td>No</td>\n",
       "      <td>Yes</td>\n",
       "    </tr>\n",
       "    <tr>\n",
       "      <td>2</td>\n",
       "      <td>Month-to-month</td>\n",
       "      <td>Yes</td>\n",
       "      <td>Mailed check</td>\n",
       "      <td>53.85</td>\n",
       "      <td>1</td>\n",
       "      <td>2</td>\n",
       "      <td>DSL</td>\n",
       "      <td>Yes</td>\n",
       "      <td>Yes</td>\n",
       "      <td>No</td>\n",
       "      <td>No</td>\n",
       "      <td>No</td>\n",
       "      <td>No</td>\n",
       "      <td>Yes</td>\n",
       "      <td>Male</td>\n",
       "      <td>0</td>\n",
       "      <td>No</td>\n",
       "      <td>No</td>\n",
       "      <td>No</td>\n",
       "      <td>Yes</td>\n",
       "    </tr>\n",
       "    <tr>\n",
       "      <td>3</td>\n",
       "      <td>One year</td>\n",
       "      <td>No</td>\n",
       "      <td>Bank transfer (automatic)</td>\n",
       "      <td>42.30</td>\n",
       "      <td>0</td>\n",
       "      <td>45</td>\n",
       "      <td>DSL</td>\n",
       "      <td>Yes</td>\n",
       "      <td>No</td>\n",
       "      <td>Yes</td>\n",
       "      <td>Yes</td>\n",
       "      <td>No</td>\n",
       "      <td>No</td>\n",
       "      <td>Yes</td>\n",
       "      <td>Male</td>\n",
       "      <td>0</td>\n",
       "      <td>No</td>\n",
       "      <td>No</td>\n",
       "      <td>unknown</td>\n",
       "      <td>No</td>\n",
       "    </tr>\n",
       "    <tr>\n",
       "      <td>4</td>\n",
       "      <td>Month-to-month</td>\n",
       "      <td>Yes</td>\n",
       "      <td>Electronic check</td>\n",
       "      <td>70.70</td>\n",
       "      <td>1</td>\n",
       "      <td>2</td>\n",
       "      <td>Fiber optic</td>\n",
       "      <td>No</td>\n",
       "      <td>No</td>\n",
       "      <td>No</td>\n",
       "      <td>No</td>\n",
       "      <td>No</td>\n",
       "      <td>No</td>\n",
       "      <td>Yes</td>\n",
       "      <td>Female</td>\n",
       "      <td>0</td>\n",
       "      <td>No</td>\n",
       "      <td>No</td>\n",
       "      <td>No</td>\n",
       "      <td>Yes</td>\n",
       "    </tr>\n",
       "  </tbody>\n",
       "</table>\n",
       "</div>"
      ],
      "text/plain": [
       "             type paperless_billing             payment_method  \\\n",
       "0  Month-to-month               Yes           Electronic check   \n",
       "1        One year                No               Mailed check   \n",
       "2  Month-to-month               Yes               Mailed check   \n",
       "3        One year                No  Bank transfer (automatic)   \n",
       "4  Month-to-month               Yes           Electronic check   \n",
       "\n",
       "   monthly_charges closed_contract  customer_lifetime internet_service  \\\n",
       "0            29.85               0                  1              DSL   \n",
       "1            56.95               0                 34              DSL   \n",
       "2            53.85               1                  2              DSL   \n",
       "3            42.30               0                 45              DSL   \n",
       "4            70.70               1                  2      Fiber optic   \n",
       "\n",
       "  online_security online_backup device_protection tech_support streaming_tv  \\\n",
       "0              No           Yes                No           No           No   \n",
       "1             Yes            No               Yes           No           No   \n",
       "2             Yes           Yes                No           No           No   \n",
       "3             Yes            No               Yes          Yes           No   \n",
       "4              No            No                No           No           No   \n",
       "\n",
       "  streaming_movies internet_user  gender  senior_citizen partner dependents  \\\n",
       "0               No           Yes  Female               0     Yes         No   \n",
       "1               No           Yes    Male               0      No         No   \n",
       "2               No           Yes    Male               0      No         No   \n",
       "3               No           Yes    Male               0      No         No   \n",
       "4               No           Yes  Female               0      No         No   \n",
       "\n",
       "  multiple_lines phone_user  \n",
       "0        unknown         No  \n",
       "1             No        Yes  \n",
       "2             No        Yes  \n",
       "3        unknown         No  \n",
       "4             No        Yes  "
      ]
     },
     "execution_count": 23,
     "metadata": {},
     "output_type": "execute_result"
    }
   ],
   "source": [
    "# просматриваем общую информацию \n",
    "telekom_cut.info()\n",
    "\n",
    "# и первые строчки итоговой таблицы, что будем подавать на обучение моделей\n",
    "telekom_cut.head()"
   ]
  },
  {
   "cell_type": "markdown",
   "id": "31d497eb",
   "metadata": {},
   "source": [
    "## Исследование задачи"
   ]
  },
  {
   "cell_type": "code",
   "execution_count": 24,
   "id": "b933cf49",
   "metadata": {
    "scrolled": true
   },
   "outputs": [
    {
     "name": "stdout",
     "output_type": "stream",
     "text": [
      "0   0.73\n",
      "1   0.27\n",
      "Name: closed_contract, dtype: float64\n"
     ]
    },
    {
     "data": {
      "image/png": "[encoded data removed]",
      "text/plain": [
       "<Figure size 640x480 with 1 Axes>"
      ]
     },
     "metadata": {},
     "output_type": "display_data"
    }
   ],
   "source": [
    "# проанализируем частоты классов целевого признака по умолчанию\n",
    "class_frequency = telekom_cut['closed_contract'].value_counts(normalize=True)\n",
    "print(class_frequency)\n",
    "\n",
    "class_frequency.plot(kind='bar', rot=1)\n",
    "plt.show()"
   ]
  },
  {
   "cell_type": "markdown",
   "id": "11faa184",
   "metadata": {},
   "source": [
    "**Вывод**\n",
    "\n",
    "**Как мы можем видеть, что в данных наблюдается явный дисбаланс в сторону нулевых (отрицательных) целевых ответов. Т.е. клиенты остаются с нашим заказчиком в 73% случаев. Однако, 27% ушедших клинетов оператора связи это чувствительное число. Задача оператора связи и его маркетингового отдела их удержать. Наша же задача разработать модель, которая будет оценивать вероятность ухода клиентов.**"
   ]
  },
  {
   "cell_type": "markdown",
   "id": "3cb5dd62",
   "metadata": {},
   "source": [
    "### Подготовка признаков"
   ]
  },
  {
   "cell_type": "markdown",
   "id": "6f90c5f8",
   "metadata": {},
   "source": [
    "<div class=\"alert alert-info\" style=\"border-radius: 10px; box-shadow: 2px 2px 2px; border: 1px solid\"> Сначала перед одноразовым кодированием (OneHotEncoding) и масштабированием (Scaler) разделим наши данные на обучающую, и тестовую выборки. </div>"
   ]
  },
  {
   "cell_type": "code",
   "execution_count": 25,
   "id": "f3297b92",
   "metadata": {},
   "outputs": [],
   "source": [
    "# фиксируем число рандома по дате начала выпускного проекта\n",
    "RANDOM_STATE = 80822"
   ]
  },
  {
   "cell_type": "code",
   "execution_count": 26,
   "id": "d28a84ae",
   "metadata": {},
   "outputs": [],
   "source": [
    "# записываем в переменную категориальные признаки\n",
    "features = telekom_cut.drop(['closed_contract'], axis=1)\n",
    "\n",
    "# записываем в переменную целевые признаки\n",
    "target = telekom_cut['closed_contract']"
   ]
  },
  {
   "cell_type": "code",
   "execution_count": 27,
   "id": "187c9724",
   "metadata": {},
   "outputs": [],
   "source": [
    "# разбиваем данные на обучающую и тестовую выборки\n",
    "features_train, features_test, target_train, target_test = train_test_split(\n",
    "    features, target, test_size=0.2, random_state=RANDOM_STATE)"
   ]
  },
  {
   "cell_type": "markdown",
   "id": "62b11747",
   "metadata": {},
   "source": [
    "<div class=\"alert alert-info\" style=\"border-radius: 10px; box-shadow: 2px 2px 2px; border: 1px solid\"> Далее производим кодирование и масштабирование признаков. </div>"
   ]
  },
  {
   "cell_type": "code",
   "execution_count": 28,
   "id": "a7b508a1",
   "metadata": {},
   "outputs": [],
   "source": [
    "# заносим в переменную все количественные столбцы\n",
    "numeric = ['customer_lifetime']\n",
    "\n",
    "# заносим в переменную все категориальные столбцы\n",
    "categoric = ['type','paperless_billing','payment_method',\n",
    "             'internet_service','online_security',\n",
    "             'online_backup','device_protection','tech_support',\n",
    "             'streaming_tv','streaming_movies','internet_user',\n",
    "             'gender','senior_citizen','partner',\n",
    "             'dependents','multiple_lines','phone_user']\n",
    "\n",
    "# заносим в переменные кодировщик и масштаб\n",
    "scaler = StandardScaler()\n",
    "drop_ohe = OneHotEncoder(drop='first', sparse=False)\n",
    "\n",
    "# производим масштабирование количественных признаков\n",
    "features_train[numeric] = scaler.fit_transform(features_train[numeric])\n",
    "features_test[numeric]  = scaler.transform(features_test[numeric])\n",
    "\n",
    "# производим кодирование категориальных признаков и заносим их в переменные\n",
    "features_train_categoric = drop_ohe.fit_transform(features_train[categoric])\n",
    "features_test_categoric = drop_ohe.transform(features_test[categoric])\n",
    "\n",
    "# объединяем масштабируемые количественные и закодированные категориальные переменные в массивы\n",
    "processed_telekom_train = np.concatenate([features_train[numeric], features_train_categoric], axis=1)\n",
    "processed_telekom_test = np.concatenate([features_test[numeric], features_test_categoric], axis=1)"
   ]
  },
  {
   "cell_type": "markdown",
   "id": "598ba87d",
   "metadata": {},
   "source": [
    "### Обучение моделей без учёта дисбаланса"
   ]
  },
  {
   "cell_type": "markdown",
   "id": "3efd55ff",
   "metadata": {},
   "source": [
    "```python\n",
    "# код который помог принять решение\n",
    "\n",
    "# заносим в переменную модель классификатор дерева решений\n",
    "DTC_model_default = DecisionTreeClassifier(random_state=RANDOM_STATE)\n",
    "\n",
    "# отмечаем в переменной необходимые для нашей модели гиперпараметры\n",
    "DTC_parametrs_search = {'max_depth': range (1,13, 2),\n",
    "                        'min_samples_leaf': range (1,8),\n",
    "                        'min_samples_split': range (2,10,2) }\n",
    "\n",
    "# запускаем метод GridSearch для поиска оптимальных гиперпараметров\n",
    "DTC_grid_default = GridSearchCV(DTC_model_default, DTC_parametrs_search, scoring='roc_auc', cv=5)\n",
    "\n",
    "# запускаем обучение метода\n",
    "DTC_grid_default.fit(processed_telekom_train, target_train)\n",
    "\n",
    "# # # выводим результат метода с лучшими гиперпараметрами для нашей модели # # #\n",
    "# # # DTC_grid_default.best_params_ # # # фиксируем лучшие гиперпараметры\n",
    "\n",
    "# выводим лучший показатель модели\n",
    "DTC_grid_default.best_score_\n",
    "```"
   ]
  },
  {
   "cell_type": "code",
   "execution_count": 29,
   "id": "a07c5f8f",
   "metadata": {},
   "outputs": [
    {
     "data": {
      "text/plain": [
       "0.834824005153045"
      ]
     },
     "execution_count": 29,
     "metadata": {},
     "output_type": "execute_result"
    }
   ],
   "source": [
    "# заносим в переменную настроенную модель дерева решения\n",
    "DTC_model_default = DecisionTreeClassifier(random_state=RANDOM_STATE,\n",
    "                                           max_depth=5,\n",
    "                                           min_samples_leaf=1,\n",
    "                                           min_samples_split=2\n",
    "                                          )\n",
    "\n",
    "# обучаем модель на тренировочных данных\n",
    "DTC_model_default.fit(processed_telekom_train,target_train)\n",
    "\n",
    "cross_val_score(DTC_model_default,\n",
    "                processed_telekom_train,\n",
    "                target_train,\n",
    "                scoring='roc_auc',\n",
    "                cv=5\n",
    "               ).mean()"
   ]
  },
  {
   "cell_type": "markdown",
   "id": "fc2784a6",
   "metadata": {},
   "source": [
    "```python\n",
    "# код который помог принять решение\n",
    "\n",
    "# заносим в переменную модель классификатор случайного леса\n",
    "RFC_model_default = RandomForestClassifier(random_state=RANDOM_STATE)\n",
    "\n",
    "# вносим в переменную необходимые нам гиперпараметры для нашей модели\n",
    "RFC_parametrs = { 'n_estimators': range (30, 71, 10),\n",
    "                 'max_depth': range (1,13, 2),\n",
    "                 'min_samples_leaf': range (1,8),\n",
    "                 'min_samples_split': range (2,10,2) }\n",
    "\n",
    "# запускаем метод GridSearch для поиска оптимальных гиперпараметров\n",
    "RFC_grid_default = GridSearchCV(RFC_model_default, RFC_parametrs, scoring='roc_auc', cv=5)\n",
    "\n",
    "# запускаем обучение метода\n",
    "RFC_grid_default.fit(processed_telekom_train, target_train)\n",
    "\n",
    "# # # выводим результат метода с лучшими геперпараметрами для нашей модели # # #\n",
    "#RFC_grid_default.best_param_ # # # фиксируем лучшие гиперпараметры\n",
    "\n",
    "# # # выводим на экран лучший результат модели. В следствие чего это поможет нам выбрать\n",
    "# # # наилучшую модель\n",
    "RFC_grid_default.best_score_\n",
    "```"
   ]
  },
  {
   "cell_type": "code",
   "execution_count": 30,
   "id": "0a4a39b1",
   "metadata": {},
   "outputs": [
    {
     "data": {
      "text/plain": [
       "0.8529950875736534"
      ]
     },
     "execution_count": 30,
     "metadata": {},
     "output_type": "execute_result"
    }
   ],
   "source": [
    "# заносим в переменную настроенную модель случайного леса\n",
    "RFC_model_default = RandomForestClassifier(random_state=RANDOM_STATE,\n",
    "                                   n_estimators=70,\n",
    "                                   min_samples_leaf=7,\n",
    "                                   min_samples_split=2,\n",
    "                                   max_depth=9\n",
    "                                  )\n",
    "\n",
    "# обучаем модель на тренировочных данных\n",
    "RFC_model_default.fit(processed_telekom_train, target_train)\n",
    "\n",
    "cross_val_score(RFC_model_default,\n",
    "                processed_telekom_train,\n",
    "                target_train,\n",
    "                scoring='roc_auc',\n",
    "                cv=5\n",
    "               ).mean()"
   ]
  },
  {
   "cell_type": "markdown",
   "id": "366c465f",
   "metadata": {},
   "source": [
    "```python\n",
    "# код который помог принять решение\n",
    "\n",
    "# # # код функции, который подсказал ревьюер\n",
    "def step_for_C(n, start):\n",
    "    while n > 0:\n",
    "        yield start\n",
    "        start *= 10\n",
    "        n -= 1\n",
    "\n",
    "# заносим в переменную модель классификатор логистической регрессии\n",
    "LR_model_default = LogisticRegression(random_state=RANDOM_STATE)\n",
    "\n",
    "# вносим в переменную необходимые нам гиперпараметры для нашей модели\n",
    "LR_parametrs = {'max_iter': range (1, 100, 2),\n",
    "               'C':[i for i in step_for_C(9, 0.01)]}\n",
    "\n",
    "# запускаем метод GridSearch для поиска оптимальных гиперпараметров\n",
    "LR_grid_default = GridSearchCV(LR_model_default, LR_parametrs, scoring='roc_auc', cv=5)\n",
    "\n",
    "# запускаем обучение метода\n",
    "LR_grid_default.fit(processed_telekom_train, target_train)\n",
    "\n",
    "# # # выводим результат метода с лучшими геперпараметрами для нашей модели # # #\n",
    "#LR_grid_default.best_params_ # # # фиксируем лучшие гиперпараметры\n",
    "\n",
    "# # # выводим на экран лучший результат модели. В следствие чего это поможет нам выбрать\n",
    "# # # наилучшую модель\n",
    "# # # LR_grid_default.best_params_\n",
    "LR_grid_default.best_score_\n",
    "```"
   ]
  },
  {
   "cell_type": "code",
   "execution_count": 31,
   "id": "e0449d56",
   "metadata": {},
   "outputs": [
    {
     "data": {
      "text/plain": [
       "0.8434386350494163"
      ]
     },
     "execution_count": 31,
     "metadata": {},
     "output_type": "execute_result"
    }
   ],
   "source": [
    "# вносим в переменную настроенную модель логистической регрессии\n",
    "LR_model_default = LogisticRegression(random_state=RANDOM_STATE,\n",
    "                                      C=0.1,\n",
    "                                      max_iter=15,\n",
    "                                      solver='liblinear')\n",
    "\n",
    "# обучаем модель на тренировочных данных\n",
    "LR_model_default.fit(processed_telekom_train, target_train)\n",
    "\n",
    "cross_val_score(LR_model_default,\n",
    "                processed_telekom_train,\n",
    "                target_train,\n",
    "                scoring='roc_auc',\n",
    "                cv=5).mean()"
   ]
  },
  {
   "cell_type": "markdown",
   "id": "175e5a96",
   "metadata": {},
   "source": [
    "### Вывод\n",
    "\n",
    "**Уже на этом этапе модель случайного леса показала наилучший результат с AUC-ROC = 0.86, и Accuracy = 0.81. Ниже попробуем обучить модели с балансировкой целевого признака. И посмотрим какой будет результат.**"
   ]
  },
  {
   "cell_type": "markdown",
   "id": "bcbd2f64",
   "metadata": {},
   "source": [
    "## Борьба с дисбалансом"
   ]
  },
  {
   "cell_type": "markdown",
   "id": "86743873",
   "metadata": {},
   "source": [
    "<div class=\"alert alert-info\" style=\"border-radius: 10px; box-shadow: 2px 2px 2px; border: 1px solid\"> Производим сбалансированное взвешивание классов. </div>"
   ]
  },
  {
   "cell_type": "markdown",
   "id": "2bae4fee",
   "metadata": {},
   "source": [
    "```python\n",
    "# код который помог принять решение\n",
    "\n",
    "# заносим в переменную модель классификатор дерева решений\n",
    "DTC_model_b = DecisionTreeClassifier(class_weight='balanced', random_state=RANDOM_STATE)\n",
    "\n",
    "# отмечаем в переменной необходимые для нашей модели гиперпараметры\n",
    "DTC_parametrs_search = {'max_depth': range (1,13, 2),\n",
    "                        'min_samples_leaf': range (1,8),\n",
    "                        'min_samples_split': range (2,10,2) }\n",
    "\n",
    "# запускаем метод GridSearch для поиска оптимальных гиперпараметров\n",
    "DTC_grid_b = GridSearchCV(DTC_model_b, DTC_parametrs_search, scoring='roc_auc', cv=5)\n",
    "\n",
    "# запускаем обучение метода\n",
    "DTC_grid_b.fit(processed_telekom_train, target_train)\n",
    "\n",
    "# # # выводим результат метода с лучшими геперпараметрами для нашей модели # # #\n",
    "# # # DTC_grid_b.best_params_ # # # таким образом комментирую измненения\n",
    "\n",
    "# выводим на экран лучший результат модели\n",
    "DTC_grid_b.best_score_\n",
    "```"
   ]
  },
  {
   "cell_type": "code",
   "execution_count": 32,
   "id": "71db7203",
   "metadata": {},
   "outputs": [
    {
     "data": {
      "text/plain": [
       "0.8355035740017078"
      ]
     },
     "execution_count": 32,
     "metadata": {},
     "output_type": "execute_result"
    }
   ],
   "source": [
    "# заносим в переменную настроенную модель дерева решения\n",
    "DTC_model_b = DecisionTreeClassifier(random_state=RANDOM_STATE,\n",
    "                                     max_depth=7,\n",
    "                                     min_samples_leaf=6,\n",
    "                                     min_samples_split=2,\n",
    "                                     class_weight='balanced'\n",
    "                                    )\n",
    "\n",
    "# обучаем модель на тренировочных данных\n",
    "DTC_model_b.fit(processed_telekom_train,target_train)\n",
    "\n",
    "cross_val_score(DTC_model_b,\n",
    "                processed_telekom_train,\n",
    "                target_train,\n",
    "                scoring='roc_auc',\n",
    "                cv=5).mean()"
   ]
  },
  {
   "cell_type": "markdown",
   "id": "e895328b",
   "metadata": {},
   "source": [
    "```python\n",
    "# код который помог принять решение\n",
    "\n",
    "# заносим в переменную модель классификатор случайного леса\n",
    "RFC_model_b = RandomForestClassifier(class_weight='balanced', random_state=RANDOM_STATE)\n",
    "\n",
    "# вносим в переменную необходимые нам гиперпараметры для нашей модели\n",
    "RFC_parametrs = { 'n_estimators': range (30, 71, 10),\n",
    "                 'max_depth': range (1,13, 2),\n",
    "                 'min_samples_leaf': range (1,8),\n",
    "                 'min_samples_split': range (2,10,2) \n",
    "                }\n",
    "\n",
    "# запускаем метод GridSearch для поиска оптимальных гиперпараметров\n",
    "RFC_grid_b = GridSearchCV(RFC_model_b, RFC_parametrs, scoring='roc_auc', cv=5)\n",
    "\n",
    "# запускаем обучение метода\n",
    "RFC_grid_b.fit(processed_telekom_train, target_train)\n",
    "\n",
    "# # # выводим результат метода с лучшими геперпараметрами для нашей модели # # #\n",
    "# # # RFC_grid_b.best_params_ # # #\n",
    "\n",
    "# выводим на экран лучший результат модели\n",
    "RFC_grid_b.best_score_\n",
    "```"
   ]
  },
  {
   "cell_type": "code",
   "execution_count": 33,
   "id": "d3c01224",
   "metadata": {},
   "outputs": [
    {
     "data": {
      "text/plain": [
       "0.8506008619829523"
      ]
     },
     "execution_count": 33,
     "metadata": {},
     "output_type": "execute_result"
    }
   ],
   "source": [
    "# заносим в переменную настроенную модель случайного леса\n",
    "RFC_model_b = RandomForestClassifier(random_state=RANDOM_STATE,\n",
    "                                     n_estimators=50,\n",
    "                                     min_samples_leaf=2,\n",
    "                                     min_samples_split=6,\n",
    "                                     max_depth=9,\n",
    "                                     class_weight='balanced'\n",
    "                                    )\n",
    "\n",
    "# обучаем модель на тренировочных данных\n",
    "RFC_model_b.fit(processed_telekom_train, target_train)\n",
    "\n",
    "cross_val_score(RFC_model_b,\n",
    "                processed_telekom_train,\n",
    "                target_train,\n",
    "                scoring='roc_auc',\n",
    "                cv=5\n",
    "               ).mean()"
   ]
  },
  {
   "cell_type": "markdown",
   "id": "0c764f92",
   "metadata": {},
   "source": [
    "```python\n",
    "# код который помог принять решение\n",
    "\n",
    "# заносим в переменную модель классификатор логистической регрессии\n",
    "LR_model_b = LogisticRegression(class_weight='balanced', random_state=RANDOM_STATE)\n",
    "\n",
    "# вносим в переменную необходимые нам гиперпараметры для нашей модели\n",
    "LR_parametrs = {'max_iter': range (1, 100, 2)}\n",
    "\n",
    "# запускаем метод GridSearch для поиска оптимальных гиперпараметров\n",
    "LR_grid_b = GridSearchCV(LR_model_b, LR_parametrs, scoring='roc_auc', cv=5)\n",
    "\n",
    "# запускаем обучение метода\n",
    "LR_grid_b.fit(processed_telekom_train, target_train)\n",
    "\n",
    "# # # выводим результат метода с лучшими геперпараметрами для нашей модели # # #\n",
    "# # # LR_grid_b.best_params_ # # #\n",
    "\n",
    "# выводим на экран лучший результат будущей модели\n",
    "LR_grid_b.best_score_\n",
    "```"
   ]
  },
  {
   "cell_type": "code",
   "execution_count": 34,
   "id": "9df1c65b",
   "metadata": {},
   "outputs": [
    {
     "data": {
      "text/plain": [
       "0.8434344455818483"
      ]
     },
     "execution_count": 34,
     "metadata": {},
     "output_type": "execute_result"
    }
   ],
   "source": [
    "# заносим в переменную модель логистической регрессии\n",
    "LR_model_b = LogisticRegression(random_state=RANDOM_STATE,\n",
    "                                C=0.1,\n",
    "                                max_iter=15,\n",
    "                                class_weight='balanced',\n",
    "                                solver='liblinear'\n",
    "                               )\n",
    "\n",
    "# обучаем модель на тренировочных данных\n",
    "LR_model_b.fit(processed_telekom_train, target_train)\n",
    "\n",
    "cross_val_score(LR_model_b,\n",
    "                processed_telekom_train,\n",
    "                target_train,\n",
    "                scoring='roc_auc',\n",
    "                cv=5).mean()"
   ]
  },
  {
   "cell_type": "markdown",
   "id": "27f81d9c",
   "metadata": {},
   "source": [
    "**Вывод**\n",
    "\n",
    "**Наша лучшая модель случайного леса даёт лучший результат при несбалансированных целевых признаках с оценкой `AUC-ROC` = 0,86, и оценкой точности предсказаний `Accuracy` = 0,81. Против модели случайного леса со сбалансированными целевыми признаками такой же `AUC-ROC` = 0,86, зато уже оценка точности предсказаний `Accuracy` = 0,78.**\n",
    "\n",
    "**Соответственно для нашего заказчика при таких условиях данных наиболее предпочтительная модель случайного леса (RandomForestClassifier) при несбалансированных целевых признаках.**"
   ]
  },
  {
   "cell_type": "markdown",
   "id": "b8b89547",
   "metadata": {},
   "source": [
    "## Тестирование модели"
   ]
  },
  {
   "cell_type": "code",
   "execution_count": 35,
   "id": "01b2199d",
   "metadata": {
    "scrolled": true
   },
   "outputs": [
    {
     "name": "stdout",
     "output_type": "stream",
     "text": [
      "AUC-ROC случайного леса на тесте = 0.86\n",
      "Accuracy модели случайного леса на тесте = 0.81\n"
     ]
    }
   ],
   "source": [
    "# заносим в переменную предсказания модели на тестовых данных\n",
    "RFC_predicted_test_default = pd.Series(RFC_model_default.predict(processed_telekom_test))\n",
    "\n",
    "# производим вычисления оценки AUC-ROC\n",
    "RFC_probabilities_test_default = RFC_model_default.predict_proba(processed_telekom_test)\n",
    "RFC_probabilities_one_test_default = RFC_probabilities_test_default[:, 1]\n",
    "RFC_auc_roc_test_default = roc_auc_score(target_test, RFC_probabilities_one_test_default)\n",
    "\n",
    "# заносим в переменную оценку точности нашей модели Accuracy\n",
    "RFC_accuracy_test_default = accuracy_score(target_test, RFC_predicted_test_default)\n",
    "\n",
    "# выводим на экран оценку AUC-ROC\n",
    "print('AUC-ROC случайного леса на тесте = {:.2f}'.format(RFC_auc_roc_test_default))\n",
    "\n",
    "# выводим оценку accuracy\n",
    "print('Accuracy модели случайного леса на тесте = {:.2f}'.format(RFC_accuracy_test_default))"
   ]
  },
  {
   "cell_type": "code",
   "execution_count": 36,
   "id": "c1986317",
   "metadata": {},
   "outputs": [],
   "source": [
    "# # # создаём список признаков для будущей отрисовки важных признаков\n",
    "list_features = numeric + drop_ohe.get_feature_names().tolist()"
   ]
  },
  {
   "cell_type": "code",
   "execution_count": 37,
   "id": "50a7e5d9",
   "metadata": {
    "scrolled": true
   },
   "outputs": [
    {
     "data": {
      "text/plain": [
       "['customer_lifetime',\n",
       " 'x0_One year',\n",
       " 'x0_Two year',\n",
       " 'x1_Yes',\n",
       " 'x2_Credit card (automatic)',\n",
       " 'x2_Electronic check',\n",
       " 'x2_Mailed check',\n",
       " 'x3_Fiber optic',\n",
       " 'x3_unknown',\n",
       " 'x4_Yes',\n",
       " 'x4_unknown',\n",
       " 'x5_Yes',\n",
       " 'x5_unknown',\n",
       " 'x6_Yes',\n",
       " 'x6_unknown',\n",
       " 'x7_Yes',\n",
       " 'x7_unknown',\n",
       " 'x8_Yes',\n",
       " 'x8_unknown',\n",
       " 'x9_Yes',\n",
       " 'x9_unknown',\n",
       " 'x10_Yes',\n",
       " 'x11_Male',\n",
       " 'x12_1',\n",
       " 'x13_Yes',\n",
       " 'x14_Yes',\n",
       " 'x15_Yes',\n",
       " 'x15_unknown',\n",
       " 'x16_Yes']"
      ]
     },
     "execution_count": 37,
     "metadata": {},
     "output_type": "execute_result"
    }
   ],
   "source": [
    "# # # проверяем список\n",
    "list_features"
   ]
  },
  {
   "cell_type": "code",
   "execution_count": 38,
   "id": "5ff2ccb3",
   "metadata": {},
   "outputs": [
    {
     "data": {
      "image/png": "[encoded data removed]",
      "text/plain": [
       "<Figure size 1200x1200 with 1 Axes>"
      ]
     },
     "metadata": {},
     "output_type": "display_data"
    }
   ],
   "source": [
    "# # # выводим на экран важные признаки модели по замечанию код-ревьюера\n",
    "features = list_features\n",
    "importances = RFC_model_default.feature_importances_\n",
    "indices = np.argsort(importances)\n",
    "\n",
    "plt.figure(figsize=(12,12))\n",
    "plt.title('Feature Importances')\n",
    "plt.barh(range(len(indices)), importances[indices], color='b', align='center')\n",
    "plt.yticks(range(len(indices)), [features[i] for i in indices])\n",
    "plt.xlabel('Relative Importance')\n",
    "plt.grid()\n",
    "plt.show()"
   ]
  },
  {
   "cell_type": "markdown",
   "id": "ff9f0cba",
   "metadata": {},
   "source": [
    "## Чек-лист готовности проекта"
   ]
  },
  {
   "cell_type": "markdown",
   "id": "7e4ef70b",
   "metadata": {},
   "source": [
    "- [x]  Jupyter Notebook открыт\n",
    "- [x]  Весь код выполняется без ошибок\n",
    "- [x]  Ячейки с кодом расположены в порядке исполнения\n",
    "- [x]  Данные загружены\n",
    "- [x]  Выполнен шаг 1: данные подготовлены\n",
    "- [x]  Выполнен шаг 2: задача исследована\n",
    "    - [x]  Исследован баланс классов\n",
    "    - [x]  Изучены модели без учёта дисбаланса\n",
    "    - [x]  Написаны выводы по результатам исследования\n",
    "- [x]  Выполнен шаг 3: учтён дисбаланс\n",
    "    - [x]  Написаны выводы по результатам исследования\n",
    "- [x]  Выполнен шаг 4: проведено тестирование\n",
    "- [x]  Удалось достичь *AUC-ROC* не менее 0.85\n",
    "- [x]  Исследована метрика *Accuracy*"
   ]
  }
 ],
 "metadata": {
  "ExecuteTimeLog": [
   {
    "duration": 4,
    "start_time": "2022-08-18T13:58:41.813Z"
   },
   {
    "duration": 4277,
    "start_time": "2022-08-18T13:58:41.820Z"
   },
   {
    "duration": 511,
    "start_time": "2022-08-18T13:58:46.099Z"
   },
   {
    "duration": 32,
    "start_time": "2022-08-18T13:58:46.613Z"
   },
   {
    "duration": 24,
    "start_time": "2022-08-18T13:58:46.647Z"
   },
   {
    "duration": 39,
    "start_time": "2022-08-18T13:58:46.673Z"
   },
   {
    "duration": 18,
    "start_time": "2022-08-18T13:58:46.714Z"
   },
   {
    "duration": 19,
    "start_time": "2022-08-18T13:58:46.734Z"
   },
   {
    "duration": 13,
    "start_time": "2022-08-18T13:58:46.757Z"
   },
   {
    "duration": 34,
    "start_time": "2022-08-18T13:58:46.772Z"
   },
   {
    "duration": 82,
    "start_time": "2022-08-18T13:58:46.809Z"
   },
   {
    "duration": 12,
    "start_time": "2022-08-18T13:58:46.899Z"
   },
   {
    "duration": 24,
    "start_time": "2022-08-18T13:58:46.913Z"
   },
   {
    "duration": 6,
    "start_time": "2022-08-18T13:58:46.939Z"
   },
   {
    "duration": 27,
    "start_time": "2022-08-18T13:58:46.947Z"
   },
   {
    "duration": 23,
    "start_time": "2022-08-18T13:58:47.000Z"
   },
   {
    "duration": 25,
    "start_time": "2022-08-18T13:58:47.025Z"
   },
   {
    "duration": 54,
    "start_time": "2022-08-18T13:58:47.053Z"
   },
   {
    "duration": 13,
    "start_time": "2022-08-18T13:58:47.109Z"
   },
   {
    "duration": 27,
    "start_time": "2022-08-18T13:58:47.124Z"
   },
   {
    "duration": 9,
    "start_time": "2022-08-18T13:58:47.153Z"
   },
   {
    "duration": 65,
    "start_time": "2022-08-18T13:58:47.164Z"
   },
   {
    "duration": 154,
    "start_time": "2022-08-18T13:58:47.231Z"
   },
   {
    "duration": 12,
    "start_time": "2022-08-18T13:58:47.388Z"
   },
   {
    "duration": 9,
    "start_time": "2022-08-18T13:58:47.403Z"
   },
   {
    "duration": 15,
    "start_time": "2022-08-18T13:58:47.414Z"
   },
   {
    "duration": 83,
    "start_time": "2022-08-18T13:58:47.432Z"
   },
   {
    "duration": 374,
    "start_time": "2022-08-18T13:58:49.598Z"
   },
   {
    "duration": 31,
    "start_time": "2022-08-18T14:04:15.133Z"
   },
   {
    "duration": 6,
    "start_time": "2022-08-18T14:04:21.110Z"
   },
   {
    "duration": 3,
    "start_time": "2022-08-19T18:19:34.882Z"
   },
   {
    "duration": 1605,
    "start_time": "2022-08-19T18:19:36.393Z"
   },
   {
    "duration": 475,
    "start_time": "2022-08-19T18:19:41.433Z"
   },
   {
    "duration": 26,
    "start_time": "2022-08-19T18:19:46.230Z"
   },
   {
    "duration": 17,
    "start_time": "2022-08-19T18:19:48.643Z"
   },
   {
    "duration": 16,
    "start_time": "2022-08-19T18:19:54.304Z"
   },
   {
    "duration": 15,
    "start_time": "2022-08-19T18:19:58.686Z"
   },
   {
    "duration": 7,
    "start_time": "2022-08-19T18:20:05.918Z"
   },
   {
    "duration": 7,
    "start_time": "2022-08-19T18:20:08.122Z"
   },
   {
    "duration": 6,
    "start_time": "2022-08-19T18:20:10.020Z"
   },
   {
    "duration": 62,
    "start_time": "2022-08-19T18:20:10.559Z"
   },
   {
    "duration": 11,
    "start_time": "2022-08-19T18:20:13.973Z"
   },
   {
    "duration": 20,
    "start_time": "2022-08-19T18:20:18.759Z"
   },
   {
    "duration": 4,
    "start_time": "2022-08-19T18:20:24.667Z"
   },
   {
    "duration": 13,
    "start_time": "2022-08-19T18:20:25.110Z"
   },
   {
    "duration": 14,
    "start_time": "2022-08-19T18:20:25.638Z"
   },
   {
    "duration": 12,
    "start_time": "2022-08-19T18:20:26.512Z"
   },
   {
    "duration": 32,
    "start_time": "2022-08-19T18:20:28.187Z"
   },
   {
    "duration": 19,
    "start_time": "2022-08-19T18:20:33.626Z"
   },
   {
    "duration": 32,
    "start_time": "2022-08-19T18:20:34.554Z"
   },
   {
    "duration": 8,
    "start_time": "2022-08-19T18:20:40.880Z"
   },
   {
    "duration": 100,
    "start_time": "2022-08-19T18:34:14.222Z"
   },
   {
    "duration": 6,
    "start_time": "2022-08-19T18:34:28.516Z"
   },
   {
    "duration": 25,
    "start_time": "2022-08-19T18:34:29.677Z"
   },
   {
    "duration": 115,
    "start_time": "2022-08-19T18:34:30.874Z"
   },
   {
    "duration": 3,
    "start_time": "2022-08-19T18:34:33.507Z"
   },
   {
    "duration": 5,
    "start_time": "2022-08-19T18:34:34.457Z"
   },
   {
    "duration": 6,
    "start_time": "2022-08-19T18:34:35.095Z"
   },
   {
    "duration": 52,
    "start_time": "2022-08-19T18:34:36.461Z"
   },
   {
    "duration": 12,
    "start_time": "2022-08-19T18:34:37.643Z"
   },
   {
    "duration": 3,
    "start_time": "2022-08-19T18:52:42.572Z"
   },
   {
    "duration": 1320,
    "start_time": "2022-08-19T18:52:49.226Z"
   },
   {
    "duration": 2824,
    "start_time": "2022-08-19T19:09:17.265Z"
   },
   {
    "duration": 14,
    "start_time": "2022-08-19T19:09:37.389Z"
   },
   {
    "duration": 140,
    "start_time": "2022-08-19T19:09:42.241Z"
   },
   {
    "duration": 35,
    "start_time": "2022-08-19T19:09:44.432Z"
   },
   {
    "duration": 18,
    "start_time": "2022-08-19T19:09:44.877Z"
   },
   {
    "duration": 16,
    "start_time": "2022-08-19T19:09:45.104Z"
   },
   {
    "duration": 13,
    "start_time": "2022-08-19T19:09:45.300Z"
   },
   {
    "duration": 7,
    "start_time": "2022-08-19T19:09:46.549Z"
   },
   {
    "duration": 7,
    "start_time": "2022-08-19T19:09:46.759Z"
   },
   {
    "duration": 6,
    "start_time": "2022-08-19T19:09:47.875Z"
   },
   {
    "duration": 67,
    "start_time": "2022-08-19T19:09:48.015Z"
   },
   {
    "duration": 11,
    "start_time": "2022-08-19T19:09:49.350Z"
   },
   {
    "duration": 20,
    "start_time": "2022-08-19T19:09:50.652Z"
   },
   {
    "duration": 4,
    "start_time": "2022-08-19T19:09:52.303Z"
   },
   {
    "duration": 13,
    "start_time": "2022-08-19T19:09:54.632Z"
   },
   {
    "duration": 13,
    "start_time": "2022-08-19T19:09:55.509Z"
   },
   {
    "duration": 18,
    "start_time": "2022-08-19T19:09:56.205Z"
   },
   {
    "duration": 33,
    "start_time": "2022-08-19T19:09:56.671Z"
   },
   {
    "duration": 13,
    "start_time": "2022-08-19T19:10:04.025Z"
   },
   {
    "duration": 26,
    "start_time": "2022-08-19T19:10:04.485Z"
   },
   {
    "duration": 14944,
    "start_time": "2022-08-19T19:11:12.860Z"
   },
   {
    "duration": 9,
    "start_time": "2022-08-19T19:19:01.330Z"
   },
   {
    "duration": 52,
    "start_time": "2022-08-19T19:26:22.791Z"
   },
   {
    "duration": 19,
    "start_time": "2022-08-19T19:34:54.289Z"
   },
   {
    "duration": 15402,
    "start_time": "2022-08-19T19:35:05.175Z"
   },
   {
    "duration": 22,
    "start_time": "2022-08-19T19:44:09.770Z"
   },
   {
    "duration": 14938,
    "start_time": "2022-08-19T19:49:19.352Z"
   },
   {
    "duration": 15034,
    "start_time": "2022-08-19T19:50:16.873Z"
   },
   {
    "duration": 4621,
    "start_time": "2022-08-19T19:51:58.445Z"
   },
   {
    "duration": 4784,
    "start_time": "2022-08-19T19:52:24.526Z"
   },
   {
    "duration": 4739,
    "start_time": "2022-08-19T19:53:33.561Z"
   },
   {
    "duration": 4907,
    "start_time": "2022-08-19T19:54:14.705Z"
   },
   {
    "duration": 9,
    "start_time": "2022-08-19T20:06:10.968Z"
   },
   {
    "duration": 58,
    "start_time": "2022-08-19T20:24:43.819Z"
   },
   {
    "duration": 5,
    "start_time": "2022-08-19T20:24:52.164Z"
   },
   {
    "duration": 4,
    "start_time": "2022-08-19T20:36:47.544Z"
   },
   {
    "duration": 2,
    "start_time": "2022-08-19T20:36:47.917Z"
   },
   {
    "duration": 1344,
    "start_time": "2022-08-19T20:36:48.359Z"
   },
   {
    "duration": 166,
    "start_time": "2022-08-19T20:36:49.705Z"
   },
   {
    "duration": 25,
    "start_time": "2022-08-19T20:36:50.799Z"
   },
   {
    "duration": 18,
    "start_time": "2022-08-19T20:36:51.063Z"
   },
   {
    "duration": 15,
    "start_time": "2022-08-19T20:36:51.157Z"
   },
   {
    "duration": 13,
    "start_time": "2022-08-19T20:36:51.357Z"
   },
   {
    "duration": 7,
    "start_time": "2022-08-19T20:36:52.548Z"
   },
   {
    "duration": 7,
    "start_time": "2022-08-19T20:36:52.724Z"
   },
   {
    "duration": 6,
    "start_time": "2022-08-19T20:36:54.036Z"
   },
   {
    "duration": 59,
    "start_time": "2022-08-19T20:36:54.621Z"
   },
   {
    "duration": 11,
    "start_time": "2022-08-19T20:36:57.083Z"
   },
   {
    "duration": 21,
    "start_time": "2022-08-19T20:36:58.563Z"
   },
   {
    "duration": 4,
    "start_time": "2022-08-19T20:37:00.046Z"
   },
   {
    "duration": 12,
    "start_time": "2022-08-19T20:37:00.250Z"
   },
   {
    "duration": 13,
    "start_time": "2022-08-19T20:37:00.458Z"
   },
   {
    "duration": 13,
    "start_time": "2022-08-19T20:37:00.588Z"
   },
   {
    "duration": 33,
    "start_time": "2022-08-19T20:37:01.694Z"
   },
   {
    "duration": 12,
    "start_time": "2022-08-19T20:37:02.226Z"
   },
   {
    "duration": 26,
    "start_time": "2022-08-19T20:37:03.525Z"
   },
   {
    "duration": 8,
    "start_time": "2022-08-19T20:37:09.487Z"
   },
   {
    "duration": 8,
    "start_time": "2022-08-19T20:37:10.739Z"
   },
   {
    "duration": 27,
    "start_time": "2022-08-19T20:37:13.274Z"
   },
   {
    "duration": 130,
    "start_time": "2022-08-19T20:37:16.086Z"
   },
   {
    "duration": 3,
    "start_time": "2022-08-19T20:37:27.361Z"
   },
   {
    "duration": 5,
    "start_time": "2022-08-19T20:37:28.038Z"
   },
   {
    "duration": 6,
    "start_time": "2022-08-19T20:37:28.593Z"
   },
   {
    "duration": 52,
    "start_time": "2022-08-19T20:37:29.539Z"
   },
   {
    "duration": 120,
    "start_time": "2022-08-19T20:46:12.717Z"
   },
   {
    "duration": 4,
    "start_time": "2022-08-19T20:46:53.615Z"
   },
   {
    "duration": 2,
    "start_time": "2022-08-19T20:46:54.172Z"
   },
   {
    "duration": 1559,
    "start_time": "2022-08-19T20:46:54.849Z"
   },
   {
    "duration": 141,
    "start_time": "2022-08-19T20:46:56.411Z"
   },
   {
    "duration": 30,
    "start_time": "2022-08-19T20:46:57.513Z"
   },
   {
    "duration": 19,
    "start_time": "2022-08-19T20:46:57.690Z"
   },
   {
    "duration": 20,
    "start_time": "2022-08-19T20:46:57.877Z"
   },
   {
    "duration": 14,
    "start_time": "2022-08-19T20:46:58.029Z"
   },
   {
    "duration": 8,
    "start_time": "2022-08-19T20:46:59.343Z"
   },
   {
    "duration": 6,
    "start_time": "2022-08-19T20:46:59.453Z"
   },
   {
    "duration": 5,
    "start_time": "2022-08-19T20:46:59.600Z"
   },
   {
    "duration": 59,
    "start_time": "2022-08-19T20:46:59.774Z"
   },
   {
    "duration": 9,
    "start_time": "2022-08-19T20:47:00.352Z"
   },
   {
    "duration": 22,
    "start_time": "2022-08-19T20:47:00.827Z"
   },
   {
    "duration": 4,
    "start_time": "2022-08-19T20:47:01.175Z"
   },
   {
    "duration": 12,
    "start_time": "2022-08-19T20:47:01.350Z"
   },
   {
    "duration": 13,
    "start_time": "2022-08-19T20:47:01.492Z"
   },
   {
    "duration": 15,
    "start_time": "2022-08-19T20:47:01.679Z"
   },
   {
    "duration": 33,
    "start_time": "2022-08-19T20:47:01.817Z"
   },
   {
    "duration": 12,
    "start_time": "2022-08-19T20:47:01.990Z"
   },
   {
    "duration": 25,
    "start_time": "2022-08-19T20:47:02.195Z"
   },
   {
    "duration": 8,
    "start_time": "2022-08-19T20:47:05.043Z"
   },
   {
    "duration": 7,
    "start_time": "2022-08-19T20:47:05.754Z"
   },
   {
    "duration": 28,
    "start_time": "2022-08-19T20:47:07.091Z"
   },
   {
    "duration": 111,
    "start_time": "2022-08-19T20:47:09.203Z"
   },
   {
    "duration": 3,
    "start_time": "2022-08-19T20:47:11.780Z"
   },
   {
    "duration": 5,
    "start_time": "2022-08-19T20:47:11.923Z"
   },
   {
    "duration": 7,
    "start_time": "2022-08-19T20:47:12.335Z"
   },
   {
    "duration": 55,
    "start_time": "2022-08-19T20:47:13.075Z"
   },
   {
    "duration": 38,
    "start_time": "2022-08-19T20:47:16.491Z"
   },
   {
    "duration": 114,
    "start_time": "2022-08-19T20:47:25.070Z"
   },
   {
    "duration": 10203,
    "start_time": "2022-08-19T20:52:51.281Z"
   },
   {
    "duration": 10137,
    "start_time": "2022-08-19T20:55:29.128Z"
   },
   {
    "duration": 10314,
    "start_time": "2022-08-19T20:56:41.332Z"
   },
   {
    "duration": 5,
    "start_time": "2022-08-19T20:57:01.401Z"
   },
   {
    "duration": 10163,
    "start_time": "2022-08-19T20:58:13.163Z"
   },
   {
    "duration": 508537,
    "start_time": "2022-08-19T21:07:12.184Z"
   },
   {
    "duration": 130051,
    "start_time": "2022-08-19T21:30:54.940Z"
   },
   {
    "duration": 10,
    "start_time": "2022-08-19T21:43:00.236Z"
   },
   {
    "duration": 10,
    "start_time": "2022-08-19T21:43:59.750Z"
   },
   {
    "duration": 10,
    "start_time": "2022-08-19T21:44:23.390Z"
   },
   {
    "duration": 11,
    "start_time": "2022-08-19T21:48:52.694Z"
   },
   {
    "duration": 11,
    "start_time": "2022-08-19T21:51:09.933Z"
   },
   {
    "duration": 10,
    "start_time": "2022-08-19T21:51:27.117Z"
   },
   {
    "duration": 10,
    "start_time": "2022-08-19T21:51:43.775Z"
   },
   {
    "duration": 10,
    "start_time": "2022-08-19T21:52:20.093Z"
   },
   {
    "duration": 11,
    "start_time": "2022-08-19T22:01:14.686Z"
   },
   {
    "duration": 1010067,
    "start_time": "2022-08-19T22:02:03.521Z"
   },
   {
    "duration": 3,
    "start_time": "2022-08-20T04:29:29.749Z"
   },
   {
    "duration": 2,
    "start_time": "2022-08-20T04:29:30.470Z"
   },
   {
    "duration": 1539,
    "start_time": "2022-08-20T04:29:34.273Z"
   },
   {
    "duration": 60,
    "start_time": "2022-08-20T04:29:55.768Z"
   },
   {
    "duration": 4,
    "start_time": "2022-08-20T04:30:01.123Z"
   },
   {
    "duration": 398,
    "start_time": "2022-08-20T04:30:03.136Z"
   },
   {
    "duration": 25,
    "start_time": "2022-08-20T04:30:05.704Z"
   },
   {
    "duration": 20,
    "start_time": "2022-08-20T04:30:06.514Z"
   },
   {
    "duration": 19,
    "start_time": "2022-08-20T04:30:06.691Z"
   },
   {
    "duration": 15,
    "start_time": "2022-08-20T04:30:06.892Z"
   },
   {
    "duration": 9,
    "start_time": "2022-08-20T04:30:08.014Z"
   },
   {
    "duration": 6,
    "start_time": "2022-08-20T04:30:08.723Z"
   },
   {
    "duration": 7,
    "start_time": "2022-08-20T04:30:09.723Z"
   },
   {
    "duration": 76,
    "start_time": "2022-08-20T04:30:10.022Z"
   },
   {
    "duration": 11,
    "start_time": "2022-08-20T04:30:12.138Z"
   },
   {
    "duration": 24,
    "start_time": "2022-08-20T04:30:14.184Z"
   },
   {
    "duration": 4,
    "start_time": "2022-08-20T04:30:19.403Z"
   },
   {
    "duration": 14,
    "start_time": "2022-08-20T04:30:19.975Z"
   },
   {
    "duration": 13,
    "start_time": "2022-08-20T04:30:20.478Z"
   },
   {
    "duration": 14,
    "start_time": "2022-08-20T04:30:21.067Z"
   },
   {
    "duration": 31,
    "start_time": "2022-08-20T04:30:21.323Z"
   },
   {
    "duration": 13,
    "start_time": "2022-08-20T04:30:22.038Z"
   },
   {
    "duration": 24,
    "start_time": "2022-08-20T04:30:23.282Z"
   },
   {
    "duration": 8,
    "start_time": "2022-08-20T04:31:27.439Z"
   },
   {
    "duration": 8,
    "start_time": "2022-08-20T04:31:27.893Z"
   },
   {
    "duration": 28,
    "start_time": "2022-08-20T04:31:30.257Z"
   },
   {
    "duration": 106,
    "start_time": "2022-08-20T04:31:35.898Z"
   },
   {
    "duration": 3,
    "start_time": "2022-08-20T04:31:38.919Z"
   },
   {
    "duration": 5,
    "start_time": "2022-08-20T04:31:39.730Z"
   },
   {
    "duration": 8,
    "start_time": "2022-08-20T04:31:40.790Z"
   },
   {
    "duration": 53,
    "start_time": "2022-08-20T04:31:41.814Z"
   },
   {
    "duration": 40,
    "start_time": "2022-08-20T04:31:46.272Z"
   },
   {
    "duration": 40,
    "start_time": "2022-08-20T04:37:17.596Z"
   },
   {
    "duration": 4,
    "start_time": "2022-08-20T04:39:20.678Z"
   },
   {
    "duration": 10,
    "start_time": "2022-08-20T04:39:26.298Z"
   },
   {
    "duration": 54,
    "start_time": "2022-08-20T04:42:26.683Z"
   },
   {
    "duration": 52,
    "start_time": "2022-08-20T04:42:34.915Z"
   },
   {
    "duration": 4,
    "start_time": "2022-08-20T04:42:41.696Z"
   },
   {
    "duration": 86,
    "start_time": "2022-08-20T04:46:44.033Z"
   },
   {
    "duration": 91,
    "start_time": "2022-08-20T04:48:59.206Z"
   },
   {
    "duration": 77,
    "start_time": "2022-08-20T04:49:07.672Z"
   },
   {
    "duration": 1171,
    "start_time": "2022-08-20T04:55:45.962Z"
   },
   {
    "duration": 751719,
    "start_time": "2022-08-20T05:02:58.289Z"
   },
   {
    "duration": 741679,
    "start_time": "2022-08-20T05:17:34.229Z"
   },
   {
    "duration": 735,
    "start_time": "2022-08-20T05:32:17.268Z"
   },
   {
    "duration": 79,
    "start_time": "2022-08-20T05:36:53.714Z"
   },
   {
    "duration": 105,
    "start_time": "2022-08-20T05:38:16.514Z"
   },
   {
    "duration": 869,
    "start_time": "2022-08-20T05:40:08.657Z"
   },
   {
    "duration": 736,
    "start_time": "2022-08-20T05:42:11.866Z"
   },
   {
    "duration": 43,
    "start_time": "2022-08-20T05:45:29.908Z"
   },
   {
    "duration": 43,
    "start_time": "2022-08-20T05:47:09.419Z"
   },
   {
    "duration": 3,
    "start_time": "2022-08-20T05:48:46.965Z"
   },
   {
    "duration": 6,
    "start_time": "2022-08-20T05:48:46.972Z"
   },
   {
    "duration": 1382,
    "start_time": "2022-08-20T05:48:46.981Z"
   },
   {
    "duration": 128,
    "start_time": "2022-08-20T05:48:48.364Z"
   },
   {
    "duration": 24,
    "start_time": "2022-08-20T05:48:48.493Z"
   },
   {
    "duration": 18,
    "start_time": "2022-08-20T05:48:48.519Z"
   },
   {
    "duration": 17,
    "start_time": "2022-08-20T05:48:48.538Z"
   },
   {
    "duration": 12,
    "start_time": "2022-08-20T05:48:48.557Z"
   },
   {
    "duration": 29,
    "start_time": "2022-08-20T05:48:48.571Z"
   },
   {
    "duration": 14,
    "start_time": "2022-08-20T05:48:48.601Z"
   },
   {
    "duration": 6,
    "start_time": "2022-08-20T05:48:48.616Z"
   },
   {
    "duration": 64,
    "start_time": "2022-08-20T05:48:48.625Z"
   },
   {
    "duration": 15,
    "start_time": "2022-08-20T05:48:48.690Z"
   },
   {
    "duration": 23,
    "start_time": "2022-08-20T05:48:48.706Z"
   },
   {
    "duration": 4,
    "start_time": "2022-08-20T05:48:48.731Z"
   },
   {
    "duration": 18,
    "start_time": "2022-08-20T05:48:48.736Z"
   },
   {
    "duration": 14,
    "start_time": "2022-08-20T05:48:48.755Z"
   },
   {
    "duration": 40,
    "start_time": "2022-08-20T05:48:48.771Z"
   },
   {
    "duration": 32,
    "start_time": "2022-08-20T05:48:48.813Z"
   },
   {
    "duration": 16,
    "start_time": "2022-08-20T05:48:48.847Z"
   },
   {
    "duration": 51,
    "start_time": "2022-08-20T05:48:48.865Z"
   },
   {
    "duration": 10,
    "start_time": "2022-08-20T05:48:48.918Z"
   },
   {
    "duration": 8,
    "start_time": "2022-08-20T05:48:48.930Z"
   },
   {
    "duration": 69,
    "start_time": "2022-08-20T05:48:48.939Z"
   },
   {
    "duration": 133,
    "start_time": "2022-08-20T05:48:49.011Z"
   },
   {
    "duration": 3,
    "start_time": "2022-08-20T05:48:49.145Z"
   },
   {
    "duration": 13,
    "start_time": "2022-08-20T05:48:49.149Z"
   },
   {
    "duration": 12,
    "start_time": "2022-08-20T05:48:49.164Z"
   },
   {
    "duration": 69,
    "start_time": "2022-08-20T05:48:49.177Z"
   },
   {
    "duration": 73,
    "start_time": "2022-08-20T05:48:49.250Z"
   },
   {
    "duration": 94,
    "start_time": "2022-08-20T05:48:49.324Z"
   },
   {
    "duration": 1233,
    "start_time": "2022-08-20T05:48:49.420Z"
   },
   {
    "duration": 745,
    "start_time": "2022-08-20T05:48:50.655Z"
   },
   {
    "duration": 268,
    "start_time": "2022-08-20T05:48:51.403Z"
   },
   {
    "duration": 930,
    "start_time": "2022-08-20T05:48:51.673Z"
   },
   {
    "duration": 995,
    "start_time": "2022-08-20T05:48:52.605Z"
   },
   {
    "duration": 41,
    "start_time": "2022-08-20T05:48:53.602Z"
   },
   {
    "duration": 4,
    "start_time": "2022-08-20T06:03:43.546Z"
   },
   {
    "duration": 3,
    "start_time": "2022-08-20T06:03:43.555Z"
   },
   {
    "duration": 1366,
    "start_time": "2022-08-20T06:03:43.561Z"
   },
   {
    "duration": 156,
    "start_time": "2022-08-20T06:03:44.929Z"
   },
   {
    "duration": 30,
    "start_time": "2022-08-20T06:03:45.087Z"
   },
   {
    "duration": 19,
    "start_time": "2022-08-20T06:03:45.119Z"
   },
   {
    "duration": 25,
    "start_time": "2022-08-20T06:03:45.140Z"
   },
   {
    "duration": 13,
    "start_time": "2022-08-20T06:03:45.166Z"
   },
   {
    "duration": 26,
    "start_time": "2022-08-20T06:03:45.202Z"
   },
   {
    "duration": 8,
    "start_time": "2022-08-20T06:03:45.230Z"
   },
   {
    "duration": 7,
    "start_time": "2022-08-20T06:03:45.240Z"
   },
   {
    "duration": 90,
    "start_time": "2022-08-20T06:03:45.250Z"
   },
   {
    "duration": 11,
    "start_time": "2022-08-20T06:03:45.342Z"
   },
   {
    "duration": 34,
    "start_time": "2022-08-20T06:03:45.354Z"
   },
   {
    "duration": 5,
    "start_time": "2022-08-20T06:03:45.400Z"
   },
   {
    "duration": 37,
    "start_time": "2022-08-20T06:03:45.407Z"
   },
   {
    "duration": 21,
    "start_time": "2022-08-20T06:03:45.447Z"
   },
   {
    "duration": 14,
    "start_time": "2022-08-20T06:03:45.470Z"
   },
   {
    "duration": 52,
    "start_time": "2022-08-20T06:03:45.486Z"
   },
   {
    "duration": 11,
    "start_time": "2022-08-20T06:03:45.540Z"
   },
   {
    "duration": 23,
    "start_time": "2022-08-20T06:03:45.552Z"
   },
   {
    "duration": 36,
    "start_time": "2022-08-20T06:03:45.577Z"
   },
   {
    "duration": 7,
    "start_time": "2022-08-20T06:03:45.615Z"
   },
   {
    "duration": 26,
    "start_time": "2022-08-20T06:03:45.624Z"
   },
   {
    "duration": 134,
    "start_time": "2022-08-20T06:03:45.652Z"
   },
   {
    "duration": 2,
    "start_time": "2022-08-20T06:03:45.788Z"
   },
   {
    "duration": 12,
    "start_time": "2022-08-20T06:03:45.800Z"
   },
   {
    "duration": 8,
    "start_time": "2022-08-20T06:03:45.814Z"
   },
   {
    "duration": 53,
    "start_time": "2022-08-20T06:03:45.824Z"
   },
   {
    "duration": 82,
    "start_time": "2022-08-20T06:03:45.880Z"
   },
   {
    "duration": 91,
    "start_time": "2022-08-20T06:03:45.964Z"
   },
   {
    "duration": 1207,
    "start_time": "2022-08-20T06:03:46.057Z"
   },
   {
    "duration": 645,
    "start_time": "2022-08-20T06:03:47.266Z"
   },
   {
    "duration": 265,
    "start_time": "2022-08-20T06:03:47.914Z"
   },
   {
    "duration": 897,
    "start_time": "2022-08-20T06:03:48.181Z"
   },
   {
    "duration": 630,
    "start_time": "2022-08-20T06:03:49.080Z"
   },
   {
    "duration": 218,
    "start_time": "2022-08-20T06:03:49.713Z"
   },
   {
    "duration": 62,
    "start_time": "2022-08-20T20:26:14.839Z"
   },
   {
    "duration": 2,
    "start_time": "2022-08-20T20:26:18.942Z"
   },
   {
    "duration": 5,
    "start_time": "2022-08-20T20:26:18.947Z"
   },
   {
    "duration": 1469,
    "start_time": "2022-08-20T20:26:18.958Z"
   },
   {
    "duration": 312,
    "start_time": "2022-08-20T20:26:20.429Z"
   },
   {
    "duration": 24,
    "start_time": "2022-08-20T20:26:20.742Z"
   },
   {
    "duration": 16,
    "start_time": "2022-08-20T20:26:20.768Z"
   },
   {
    "duration": 16,
    "start_time": "2022-08-20T20:26:20.786Z"
   },
   {
    "duration": 16,
    "start_time": "2022-08-20T20:26:20.803Z"
   },
   {
    "duration": 18,
    "start_time": "2022-08-20T20:26:20.821Z"
   },
   {
    "duration": 19,
    "start_time": "2022-08-20T20:26:20.840Z"
   },
   {
    "duration": 5,
    "start_time": "2022-08-20T20:26:20.860Z"
   },
   {
    "duration": 59,
    "start_time": "2022-08-20T20:26:20.868Z"
   },
   {
    "duration": 8,
    "start_time": "2022-08-20T20:26:20.929Z"
   },
   {
    "duration": 35,
    "start_time": "2022-08-20T20:26:20.939Z"
   },
   {
    "duration": 4,
    "start_time": "2022-08-20T20:26:20.975Z"
   },
   {
    "duration": 17,
    "start_time": "2022-08-20T20:26:20.980Z"
   },
   {
    "duration": 12,
    "start_time": "2022-08-20T20:26:20.998Z"
   },
   {
    "duration": 11,
    "start_time": "2022-08-20T20:26:21.012Z"
   },
   {
    "duration": 57,
    "start_time": "2022-08-20T20:26:21.025Z"
   },
   {
    "duration": 11,
    "start_time": "2022-08-20T20:26:21.084Z"
   },
   {
    "duration": 22,
    "start_time": "2022-08-20T20:26:21.096Z"
   },
   {
    "duration": 8,
    "start_time": "2022-08-20T20:26:21.120Z"
   },
   {
    "duration": 8,
    "start_time": "2022-08-20T20:26:21.157Z"
   },
   {
    "duration": 28,
    "start_time": "2022-08-20T20:26:21.166Z"
   },
   {
    "duration": 131,
    "start_time": "2022-08-20T20:26:21.195Z"
   },
   {
    "duration": 3,
    "start_time": "2022-08-20T20:26:21.328Z"
   },
   {
    "duration": 9,
    "start_time": "2022-08-20T20:26:21.332Z"
   },
   {
    "duration": 17,
    "start_time": "2022-08-20T20:26:21.342Z"
   },
   {
    "duration": 50,
    "start_time": "2022-08-20T20:26:21.361Z"
   },
   {
    "duration": 82,
    "start_time": "2022-08-20T20:26:21.414Z"
   },
   {
    "duration": 79,
    "start_time": "2022-08-20T20:26:21.498Z"
   },
   {
    "duration": 1114,
    "start_time": "2022-08-20T20:26:21.580Z"
   },
   {
    "duration": 762,
    "start_time": "2022-08-20T20:26:22.696Z"
   },
   {
    "duration": 183,
    "start_time": "2022-08-20T20:26:23.460Z"
   },
   {
    "duration": 893,
    "start_time": "2022-08-20T20:26:23.645Z"
   },
   {
    "duration": 722,
    "start_time": "2022-08-20T20:26:24.540Z"
   },
   {
    "duration": 126,
    "start_time": "2022-08-20T20:26:25.264Z"
   },
   {
    "duration": 11,
    "start_time": "2022-08-20T20:26:25.393Z"
   },
   {
    "duration": 9,
    "start_time": "2022-08-20T20:31:22.488Z"
   },
   {
    "duration": 3,
    "start_time": "2022-08-20T20:35:33.321Z"
   },
   {
    "duration": 8,
    "start_time": "2022-08-20T20:35:33.328Z"
   },
   {
    "duration": 29,
    "start_time": "2022-08-20T20:35:33.337Z"
   },
   {
    "duration": 125,
    "start_time": "2022-08-20T20:35:33.368Z"
   },
   {
    "duration": 20,
    "start_time": "2022-08-20T20:35:33.494Z"
   },
   {
    "duration": 19,
    "start_time": "2022-08-20T20:35:33.516Z"
   },
   {
    "duration": 14,
    "start_time": "2022-08-20T20:35:33.537Z"
   },
   {
    "duration": 15,
    "start_time": "2022-08-20T20:35:33.557Z"
   },
   {
    "duration": 19,
    "start_time": "2022-08-20T20:35:33.574Z"
   },
   {
    "duration": 13,
    "start_time": "2022-08-20T20:35:33.594Z"
   },
   {
    "duration": 11,
    "start_time": "2022-08-20T20:35:33.608Z"
   },
   {
    "duration": 136,
    "start_time": "2022-08-20T20:35:33.622Z"
   },
   {
    "duration": 8,
    "start_time": "2022-08-20T20:35:33.760Z"
   },
   {
    "duration": 23,
    "start_time": "2022-08-20T20:35:33.769Z"
   },
   {
    "duration": 4,
    "start_time": "2022-08-20T20:35:33.794Z"
   },
   {
    "duration": 13,
    "start_time": "2022-08-20T20:35:33.799Z"
   },
   {
    "duration": 12,
    "start_time": "2022-08-20T20:35:33.814Z"
   },
   {
    "duration": 38,
    "start_time": "2022-08-20T20:35:33.828Z"
   },
   {
    "duration": 30,
    "start_time": "2022-08-20T20:35:33.868Z"
   },
   {
    "duration": 12,
    "start_time": "2022-08-20T20:35:33.900Z"
   },
   {
    "duration": 45,
    "start_time": "2022-08-20T20:35:33.914Z"
   },
   {
    "duration": 8,
    "start_time": "2022-08-20T20:35:33.960Z"
   },
   {
    "duration": 6,
    "start_time": "2022-08-20T20:35:33.969Z"
   },
   {
    "duration": 27,
    "start_time": "2022-08-20T20:35:33.977Z"
   },
   {
    "duration": 128,
    "start_time": "2022-08-20T20:35:34.005Z"
   },
   {
    "duration": 3,
    "start_time": "2022-08-20T20:35:34.134Z"
   },
   {
    "duration": 7,
    "start_time": "2022-08-20T20:35:34.138Z"
   },
   {
    "duration": 15,
    "start_time": "2022-08-20T20:35:34.147Z"
   },
   {
    "duration": 51,
    "start_time": "2022-08-20T20:35:34.163Z"
   },
   {
    "duration": 2,
    "start_time": "2022-08-20T20:35:34.217Z"
   },
   {
    "duration": 89,
    "start_time": "2022-08-20T20:35:34.221Z"
   },
   {
    "duration": 1203,
    "start_time": "2022-08-20T20:35:34.312Z"
   },
   {
    "duration": 652,
    "start_time": "2022-08-20T20:35:35.516Z"
   },
   {
    "duration": 278,
    "start_time": "2022-08-20T20:35:36.169Z"
   },
   {
    "duration": 850,
    "start_time": "2022-08-20T20:35:36.457Z"
   },
   {
    "duration": 661,
    "start_time": "2022-08-20T20:35:37.308Z"
   },
   {
    "duration": 214,
    "start_time": "2022-08-20T20:35:37.971Z"
   },
   {
    "duration": 8,
    "start_time": "2022-08-20T20:35:38.186Z"
   },
   {
    "duration": 94,
    "start_time": "2022-08-20T20:35:38.196Z"
   },
   {
    "duration": 7,
    "start_time": "2022-08-20T20:49:15.469Z"
   },
   {
    "duration": 212,
    "start_time": "2022-08-20T20:49:16.585Z"
   },
   {
    "duration": 769,
    "start_time": "2022-08-20T20:55:03.124Z"
   },
   {
    "duration": 214,
    "start_time": "2022-08-20T20:56:37.107Z"
   },
   {
    "duration": 47,
    "start_time": "2022-08-20T20:57:54.381Z"
   },
   {
    "duration": 70,
    "start_time": "2022-08-20T20:58:08.428Z"
   },
   {
    "duration": 18,
    "start_time": "2022-08-20T20:59:23.281Z"
   },
   {
    "duration": 13,
    "start_time": "2022-08-20T21:00:08.813Z"
   },
   {
    "duration": 14,
    "start_time": "2022-08-20T21:01:42.921Z"
   },
   {
    "duration": 40,
    "start_time": "2022-08-20T21:02:32.656Z"
   },
   {
    "duration": 239,
    "start_time": "2022-08-20T21:02:48.231Z"
   },
   {
    "duration": 12,
    "start_time": "2022-08-20T21:04:45.289Z"
   },
   {
    "duration": 238,
    "start_time": "2022-08-20T21:04:47.182Z"
   },
   {
    "duration": 15,
    "start_time": "2022-08-20T21:05:32.639Z"
   },
   {
    "duration": 10,
    "start_time": "2022-08-20T21:06:53.782Z"
   },
   {
    "duration": 10,
    "start_time": "2022-08-20T21:07:05.379Z"
   },
   {
    "duration": 9,
    "start_time": "2022-08-20T21:07:17.855Z"
   },
   {
    "duration": 4,
    "start_time": "2022-08-20T21:07:28.378Z"
   },
   {
    "duration": 3,
    "start_time": "2022-08-21T02:36:20.269Z"
   },
   {
    "duration": 7,
    "start_time": "2022-08-21T02:36:20.274Z"
   },
   {
    "duration": 1564,
    "start_time": "2022-08-21T02:36:20.283Z"
   },
   {
    "duration": 341,
    "start_time": "2022-08-21T02:36:21.848Z"
   },
   {
    "duration": 23,
    "start_time": "2022-08-21T02:36:22.191Z"
   },
   {
    "duration": 17,
    "start_time": "2022-08-21T02:36:22.215Z"
   },
   {
    "duration": 17,
    "start_time": "2022-08-21T02:36:22.233Z"
   },
   {
    "duration": 11,
    "start_time": "2022-08-21T02:36:22.252Z"
   },
   {
    "duration": 26,
    "start_time": "2022-08-21T02:36:22.264Z"
   },
   {
    "duration": 11,
    "start_time": "2022-08-21T02:36:22.291Z"
   },
   {
    "duration": 7,
    "start_time": "2022-08-21T02:36:22.303Z"
   },
   {
    "duration": 65,
    "start_time": "2022-08-21T02:36:22.311Z"
   },
   {
    "duration": 14,
    "start_time": "2022-08-21T02:36:22.377Z"
   },
   {
    "duration": 17,
    "start_time": "2022-08-21T02:36:22.394Z"
   },
   {
    "duration": 3,
    "start_time": "2022-08-21T02:36:22.413Z"
   },
   {
    "duration": 13,
    "start_time": "2022-08-21T02:36:22.418Z"
   },
   {
    "duration": 12,
    "start_time": "2022-08-21T02:36:22.433Z"
   },
   {
    "duration": 45,
    "start_time": "2022-08-21T02:36:22.446Z"
   },
   {
    "duration": 29,
    "start_time": "2022-08-21T02:36:22.493Z"
   },
   {
    "duration": 10,
    "start_time": "2022-08-21T02:36:22.524Z"
   },
   {
    "duration": 29,
    "start_time": "2022-08-21T02:36:22.535Z"
   },
   {
    "duration": 26,
    "start_time": "2022-08-21T02:36:22.566Z"
   },
   {
    "duration": 7,
    "start_time": "2022-08-21T02:36:22.594Z"
   },
   {
    "duration": 28,
    "start_time": "2022-08-21T02:36:22.602Z"
   },
   {
    "duration": 127,
    "start_time": "2022-08-21T02:36:22.632Z"
   },
   {
    "duration": 3,
    "start_time": "2022-08-21T02:36:22.761Z"
   },
   {
    "duration": 13,
    "start_time": "2022-08-21T02:36:22.765Z"
   },
   {
    "duration": 6,
    "start_time": "2022-08-21T02:36:22.786Z"
   },
   {
    "duration": 54,
    "start_time": "2022-08-21T02:36:22.793Z"
   },
   {
    "duration": 66,
    "start_time": "2022-08-21T02:36:22.849Z"
   },
   {
    "duration": 81,
    "start_time": "2022-08-21T02:36:22.917Z"
   },
   {
    "duration": 1120,
    "start_time": "2022-08-21T02:36:23.000Z"
   },
   {
    "duration": 865,
    "start_time": "2022-08-21T02:36:24.121Z"
   },
   {
    "duration": 200,
    "start_time": "2022-08-21T02:36:24.989Z"
   },
   {
    "duration": 833,
    "start_time": "2022-08-21T02:36:25.190Z"
   },
   {
    "duration": 674,
    "start_time": "2022-08-21T02:36:26.025Z"
   },
   {
    "duration": 130,
    "start_time": "2022-08-21T02:36:26.787Z"
   },
   {
    "duration": 7,
    "start_time": "2022-08-21T02:36:26.919Z"
   },
   {
    "duration": 126,
    "start_time": "2022-08-21T02:36:26.927Z"
   },
   {
    "duration": 9,
    "start_time": "2022-08-21T02:37:37.034Z"
   },
   {
    "duration": 8,
    "start_time": "2022-08-21T02:37:48.430Z"
   },
   {
    "duration": 8,
    "start_time": "2022-08-21T02:38:10.896Z"
   },
   {
    "duration": 109,
    "start_time": "2022-08-21T02:38:16.875Z"
   },
   {
    "duration": 3,
    "start_time": "2022-08-21T02:45:57.596Z"
   },
   {
    "duration": 295,
    "start_time": "2022-08-21T02:46:10.993Z"
   },
   {
    "duration": 215,
    "start_time": "2022-08-21T02:48:11.336Z"
   },
   {
    "duration": 202,
    "start_time": "2022-08-21T02:50:34.124Z"
   },
   {
    "duration": 200,
    "start_time": "2022-08-21T02:53:55.267Z"
   },
   {
    "duration": 69,
    "start_time": "2022-08-21T03:51:36.056Z"
   },
   {
    "duration": 712,
    "start_time": "2022-08-21T03:51:43.446Z"
   },
   {
    "duration": 58,
    "start_time": "2022-08-21T03:54:38.016Z"
   },
   {
    "duration": 5,
    "start_time": "2022-08-21T03:55:43.130Z"
   },
   {
    "duration": 5,
    "start_time": "2022-08-21T03:55:56.217Z"
   },
   {
    "duration": 3,
    "start_time": "2022-08-21T03:55:57.702Z"
   },
   {
    "duration": 14,
    "start_time": "2022-08-21T03:56:04.045Z"
   },
   {
    "duration": 15,
    "start_time": "2022-08-21T03:56:32.922Z"
   },
   {
    "duration": 22,
    "start_time": "2022-08-21T03:56:52.115Z"
   },
   {
    "duration": 3,
    "start_time": "2022-08-21T03:58:53.484Z"
   },
   {
    "duration": 19,
    "start_time": "2022-08-21T03:58:57.105Z"
   },
   {
    "duration": 13,
    "start_time": "2022-08-21T04:00:22.378Z"
   },
   {
    "duration": 2,
    "start_time": "2022-08-21T04:01:04.370Z"
   },
   {
    "duration": 13,
    "start_time": "2022-08-21T04:01:05.351Z"
   },
   {
    "duration": 2,
    "start_time": "2022-08-21T04:01:22.010Z"
   },
   {
    "duration": 11,
    "start_time": "2022-08-21T04:01:22.014Z"
   },
   {
    "duration": 20,
    "start_time": "2022-08-21T04:01:22.027Z"
   },
   {
    "duration": 143,
    "start_time": "2022-08-21T04:01:22.050Z"
   },
   {
    "duration": 19,
    "start_time": "2022-08-21T04:01:22.195Z"
   },
   {
    "duration": 19,
    "start_time": "2022-08-21T04:01:22.215Z"
   },
   {
    "duration": 19,
    "start_time": "2022-08-21T04:01:22.235Z"
   },
   {
    "duration": 38,
    "start_time": "2022-08-21T04:01:22.255Z"
   },
   {
    "duration": 11,
    "start_time": "2022-08-21T04:01:22.294Z"
   },
   {
    "duration": 12,
    "start_time": "2022-08-21T04:01:22.306Z"
   },
   {
    "duration": 7,
    "start_time": "2022-08-21T04:01:22.320Z"
   },
   {
    "duration": 66,
    "start_time": "2022-08-21T04:01:22.329Z"
   },
   {
    "duration": 9,
    "start_time": "2022-08-21T04:01:22.396Z"
   },
   {
    "duration": 21,
    "start_time": "2022-08-21T04:01:22.407Z"
   },
   {
    "duration": 3,
    "start_time": "2022-08-21T04:01:22.430Z"
   },
   {
    "duration": 14,
    "start_time": "2022-08-21T04:01:22.434Z"
   },
   {
    "duration": 11,
    "start_time": "2022-08-21T04:01:22.450Z"
   },
   {
    "duration": 12,
    "start_time": "2022-08-21T04:01:22.487Z"
   },
   {
    "duration": 31,
    "start_time": "2022-08-21T04:01:22.500Z"
   },
   {
    "duration": 10,
    "start_time": "2022-08-21T04:01:22.533Z"
   },
   {
    "duration": 51,
    "start_time": "2022-08-21T04:01:22.545Z"
   },
   {
    "duration": 7,
    "start_time": "2022-08-21T04:01:22.598Z"
   },
   {
    "duration": 6,
    "start_time": "2022-08-21T04:01:22.606Z"
   },
   {
    "duration": 27,
    "start_time": "2022-08-21T04:01:22.614Z"
   },
   {
    "duration": 119,
    "start_time": "2022-08-21T04:01:22.644Z"
   },
   {
    "duration": 3,
    "start_time": "2022-08-21T04:01:22.765Z"
   },
   {
    "duration": 5,
    "start_time": "2022-08-21T04:01:22.786Z"
   },
   {
    "duration": 10,
    "start_time": "2022-08-21T04:01:22.793Z"
   },
   {
    "duration": 55,
    "start_time": "2022-08-21T04:01:22.804Z"
   },
   {
    "duration": 3,
    "start_time": "2022-08-21T04:01:22.861Z"
   },
   {
    "duration": 94,
    "start_time": "2022-08-21T04:01:22.866Z"
   },
   {
    "duration": 1136,
    "start_time": "2022-08-21T04:01:22.962Z"
   },
   {
    "duration": 791,
    "start_time": "2022-08-21T04:01:24.100Z"
   },
   {
    "duration": 201,
    "start_time": "2022-08-21T04:01:24.893Z"
   },
   {
    "duration": 850,
    "start_time": "2022-08-21T04:01:25.096Z"
   },
   {
    "duration": 852,
    "start_time": "2022-08-21T04:01:25.947Z"
   },
   {
    "duration": 129,
    "start_time": "2022-08-21T04:01:26.888Z"
   },
   {
    "duration": 713,
    "start_time": "2022-08-21T04:01:27.019Z"
   },
   {
    "duration": 5,
    "start_time": "2022-08-21T04:01:27.734Z"
   },
   {
    "duration": 8,
    "start_time": "2022-08-21T04:01:27.740Z"
   },
   {
    "duration": 15,
    "start_time": "2022-08-21T04:01:27.750Z"
   },
   {
    "duration": 0,
    "start_time": "2022-08-21T04:01:27.766Z"
   },
   {
    "duration": 0,
    "start_time": "2022-08-21T04:01:27.767Z"
   },
   {
    "duration": 0,
    "start_time": "2022-08-21T04:01:27.768Z"
   },
   {
    "duration": 21,
    "start_time": "2022-08-21T04:03:56.623Z"
   },
   {
    "duration": 15,
    "start_time": "2022-08-21T04:06:53.283Z"
   },
   {
    "duration": 21,
    "start_time": "2022-08-21T04:08:17.558Z"
   },
   {
    "duration": 17,
    "start_time": "2022-08-21T04:10:29.935Z"
   },
   {
    "duration": 17,
    "start_time": "2022-08-21T04:11:21.449Z"
   },
   {
    "duration": 23,
    "start_time": "2022-08-21T04:17:06.319Z"
   },
   {
    "duration": 810,
    "start_time": "2022-08-21T04:22:55.132Z"
   },
   {
    "duration": 2,
    "start_time": "2022-08-21T04:23:04.545Z"
   },
   {
    "duration": 3,
    "start_time": "2022-08-21T04:23:04.551Z"
   },
   {
    "duration": 13,
    "start_time": "2022-08-21T04:23:04.558Z"
   },
   {
    "duration": 138,
    "start_time": "2022-08-21T04:23:04.572Z"
   },
   {
    "duration": 22,
    "start_time": "2022-08-21T04:23:04.711Z"
   },
   {
    "duration": 20,
    "start_time": "2022-08-21T04:23:04.734Z"
   },
   {
    "duration": 33,
    "start_time": "2022-08-21T04:23:04.756Z"
   },
   {
    "duration": 20,
    "start_time": "2022-08-21T04:23:04.791Z"
   },
   {
    "duration": 8,
    "start_time": "2022-08-21T04:23:04.813Z"
   },
   {
    "duration": 13,
    "start_time": "2022-08-21T04:23:04.822Z"
   },
   {
    "duration": 13,
    "start_time": "2022-08-21T04:23:04.837Z"
   },
   {
    "duration": 87,
    "start_time": "2022-08-21T04:23:04.852Z"
   },
   {
    "duration": 10,
    "start_time": "2022-08-21T04:23:04.943Z"
   },
   {
    "duration": 36,
    "start_time": "2022-08-21T04:23:04.955Z"
   },
   {
    "duration": 5,
    "start_time": "2022-08-21T04:23:04.992Z"
   },
   {
    "duration": 22,
    "start_time": "2022-08-21T04:23:04.999Z"
   },
   {
    "duration": 14,
    "start_time": "2022-08-21T04:23:05.022Z"
   },
   {
    "duration": 17,
    "start_time": "2022-08-21T04:23:05.038Z"
   },
   {
    "duration": 57,
    "start_time": "2022-08-21T04:23:05.056Z"
   },
   {
    "duration": 12,
    "start_time": "2022-08-21T04:23:05.115Z"
   },
   {
    "duration": 25,
    "start_time": "2022-08-21T04:23:05.128Z"
   },
   {
    "duration": 34,
    "start_time": "2022-08-21T04:23:05.154Z"
   },
   {
    "duration": 9,
    "start_time": "2022-08-21T04:23:05.189Z"
   },
   {
    "duration": 37,
    "start_time": "2022-08-21T04:23:05.199Z"
   },
   {
    "duration": 108,
    "start_time": "2022-08-21T04:23:05.237Z"
   },
   {
    "duration": 3,
    "start_time": "2022-08-21T04:23:05.347Z"
   },
   {
    "duration": 8,
    "start_time": "2022-08-21T04:23:05.351Z"
   },
   {
    "duration": 9,
    "start_time": "2022-08-21T04:23:05.361Z"
   },
   {
    "duration": 57,
    "start_time": "2022-08-21T04:23:05.386Z"
   },
   {
    "duration": 2,
    "start_time": "2022-08-21T04:23:05.445Z"
   },
   {
    "duration": 111,
    "start_time": "2022-08-21T04:23:05.451Z"
   },
   {
    "duration": 1282,
    "start_time": "2022-08-21T04:23:05.564Z"
   },
   {
    "duration": 940,
    "start_time": "2022-08-21T04:23:06.847Z"
   },
   {
    "duration": 202,
    "start_time": "2022-08-21T04:23:07.789Z"
   },
   {
    "duration": 881,
    "start_time": "2022-08-21T04:23:07.992Z"
   },
   {
    "duration": 822,
    "start_time": "2022-08-21T04:23:08.874Z"
   },
   {
    "duration": 223,
    "start_time": "2022-08-21T04:23:09.698Z"
   },
   {
    "duration": 997,
    "start_time": "2022-08-21T04:23:09.922Z"
   },
   {
    "duration": 0,
    "start_time": "2022-08-21T04:23:10.920Z"
   },
   {
    "duration": 0,
    "start_time": "2022-08-21T04:23:10.922Z"
   },
   {
    "duration": 0,
    "start_time": "2022-08-21T04:23:10.923Z"
   },
   {
    "duration": 0,
    "start_time": "2022-08-21T04:23:10.925Z"
   },
   {
    "duration": 0,
    "start_time": "2022-08-21T04:23:10.926Z"
   },
   {
    "duration": 0,
    "start_time": "2022-08-21T04:23:10.928Z"
   },
   {
    "duration": 0,
    "start_time": "2022-08-21T04:23:10.930Z"
   },
   {
    "duration": 9,
    "start_time": "2022-08-21T04:26:47.734Z"
   },
   {
    "duration": 861,
    "start_time": "2022-08-21T04:29:07.782Z"
   },
   {
    "duration": 19,
    "start_time": "2022-08-21T04:29:38.428Z"
   },
   {
    "duration": 4,
    "start_time": "2022-08-21T04:29:41.299Z"
   },
   {
    "duration": 3,
    "start_time": "2022-08-21T04:29:43.238Z"
   },
   {
    "duration": 20,
    "start_time": "2022-08-21T04:29:44.594Z"
   },
   {
    "duration": 21,
    "start_time": "2022-08-21T04:34:22.980Z"
   },
   {
    "duration": 16,
    "start_time": "2022-08-21T04:35:16.805Z"
   },
   {
    "duration": 724,
    "start_time": "2022-08-21T04:36:26.508Z"
   },
   {
    "duration": 732,
    "start_time": "2022-08-21T04:37:09.090Z"
   },
   {
    "duration": 720,
    "start_time": "2022-08-21T04:37:23.374Z"
   },
   {
    "duration": 837,
    "start_time": "2022-08-21T04:37:28.214Z"
   },
   {
    "duration": 958,
    "start_time": "2022-08-21T04:44:39.701Z"
   },
   {
    "duration": 707,
    "start_time": "2022-08-21T04:54:30.984Z"
   },
   {
    "duration": 2,
    "start_time": "2022-08-21T04:54:49.778Z"
   },
   {
    "duration": 4,
    "start_time": "2022-08-21T04:54:49.784Z"
   },
   {
    "duration": 4,
    "start_time": "2022-08-21T04:54:49.792Z"
   },
   {
    "duration": 123,
    "start_time": "2022-08-21T04:54:49.801Z"
   },
   {
    "duration": 19,
    "start_time": "2022-08-21T04:54:49.926Z"
   },
   {
    "duration": 17,
    "start_time": "2022-08-21T04:54:49.946Z"
   },
   {
    "duration": 16,
    "start_time": "2022-08-21T04:54:49.965Z"
   },
   {
    "duration": 12,
    "start_time": "2022-08-21T04:54:49.987Z"
   },
   {
    "duration": 9,
    "start_time": "2022-08-21T04:54:50.001Z"
   },
   {
    "duration": 18,
    "start_time": "2022-08-21T04:54:50.011Z"
   },
   {
    "duration": 6,
    "start_time": "2022-08-21T04:54:50.031Z"
   },
   {
    "duration": 78,
    "start_time": "2022-08-21T04:54:50.039Z"
   },
   {
    "duration": 9,
    "start_time": "2022-08-21T04:54:50.119Z"
   },
   {
    "duration": 20,
    "start_time": "2022-08-21T04:54:50.129Z"
   },
   {
    "duration": 4,
    "start_time": "2022-08-21T04:54:50.150Z"
   },
   {
    "duration": 35,
    "start_time": "2022-08-21T04:54:50.155Z"
   },
   {
    "duration": 12,
    "start_time": "2022-08-21T04:54:50.191Z"
   },
   {
    "duration": 12,
    "start_time": "2022-08-21T04:54:50.204Z"
   },
   {
    "duration": 30,
    "start_time": "2022-08-21T04:54:50.218Z"
   },
   {
    "duration": 38,
    "start_time": "2022-08-21T04:54:50.249Z"
   },
   {
    "duration": 22,
    "start_time": "2022-08-21T04:54:50.289Z"
   },
   {
    "duration": 8,
    "start_time": "2022-08-21T04:54:50.312Z"
   },
   {
    "duration": 6,
    "start_time": "2022-08-21T04:54:50.321Z"
   },
   {
    "duration": 60,
    "start_time": "2022-08-21T04:54:50.328Z"
   },
   {
    "duration": 102,
    "start_time": "2022-08-21T04:54:50.390Z"
   },
   {
    "duration": 2,
    "start_time": "2022-08-21T04:54:50.494Z"
   },
   {
    "duration": 9,
    "start_time": "2022-08-21T04:54:50.498Z"
   },
   {
    "duration": 10,
    "start_time": "2022-08-21T04:54:50.508Z"
   },
   {
    "duration": 51,
    "start_time": "2022-08-21T04:54:50.519Z"
   },
   {
    "duration": 3,
    "start_time": "2022-08-21T04:54:50.571Z"
   },
   {
    "duration": 97,
    "start_time": "2022-08-21T04:54:50.576Z"
   },
   {
    "duration": 1114,
    "start_time": "2022-08-21T04:54:50.675Z"
   },
   {
    "duration": 796,
    "start_time": "2022-08-21T04:54:51.791Z"
   },
   {
    "duration": 212,
    "start_time": "2022-08-21T04:54:52.589Z"
   },
   {
    "duration": 860,
    "start_time": "2022-08-21T04:54:52.803Z"
   },
   {
    "duration": 831,
    "start_time": "2022-08-21T04:54:53.665Z"
   },
   {
    "duration": 189,
    "start_time": "2022-08-21T04:54:54.498Z"
   },
   {
    "duration": 10,
    "start_time": "2022-08-21T04:54:54.688Z"
   },
   {
    "duration": 699,
    "start_time": "2022-08-21T04:54:54.699Z"
   },
   {
    "duration": 15,
    "start_time": "2022-08-21T04:54:55.400Z"
   },
   {
    "duration": 0,
    "start_time": "2022-08-21T04:54:55.417Z"
   },
   {
    "duration": 0,
    "start_time": "2022-08-21T04:54:55.418Z"
   },
   {
    "duration": 0,
    "start_time": "2022-08-21T04:54:55.419Z"
   },
   {
    "duration": 0,
    "start_time": "2022-08-21T04:54:55.420Z"
   },
   {
    "duration": 0,
    "start_time": "2022-08-21T04:54:55.421Z"
   },
   {
    "duration": 0,
    "start_time": "2022-08-21T04:54:55.423Z"
   },
   {
    "duration": 888,
    "start_time": "2022-08-21T04:55:51.525Z"
   },
   {
    "duration": 930,
    "start_time": "2022-08-21T04:56:03.499Z"
   },
   {
    "duration": 840,
    "start_time": "2022-08-21T05:00:42.919Z"
   },
   {
    "duration": 3,
    "start_time": "2022-08-21T05:02:03.307Z"
   },
   {
    "duration": 21,
    "start_time": "2022-08-21T05:02:15.040Z"
   },
   {
    "duration": 136,
    "start_time": "2022-08-21T05:02:26.390Z"
   },
   {
    "duration": 741,
    "start_time": "2022-08-21T05:03:00.822Z"
   },
   {
    "duration": 14,
    "start_time": "2022-08-21T05:08:01.387Z"
   },
   {
    "duration": 14,
    "start_time": "2022-08-21T05:08:41.393Z"
   },
   {
    "duration": 17,
    "start_time": "2022-08-21T05:08:59.299Z"
   },
   {
    "duration": 88,
    "start_time": "2022-08-21T05:21:07.323Z"
   },
   {
    "duration": 19,
    "start_time": "2022-08-21T05:22:10.960Z"
   },
   {
    "duration": 28,
    "start_time": "2022-08-21T05:22:26.017Z"
   },
   {
    "duration": 5,
    "start_time": "2022-08-21T05:27:39.506Z"
   },
   {
    "duration": 9,
    "start_time": "2022-08-21T05:33:11.706Z"
   },
   {
    "duration": 10,
    "start_time": "2022-08-21T05:37:26.747Z"
   },
   {
    "duration": 152,
    "start_time": "2022-08-21T05:45:06.850Z"
   },
   {
    "duration": 9,
    "start_time": "2022-08-21T05:45:44.359Z"
   },
   {
    "duration": 10,
    "start_time": "2022-08-21T05:46:25.183Z"
   },
   {
    "duration": 3,
    "start_time": "2022-08-21T05:49:00.832Z"
   },
   {
    "duration": 8,
    "start_time": "2022-08-21T05:49:46.629Z"
   },
   {
    "duration": 4,
    "start_time": "2022-08-21T05:50:15.001Z"
   },
   {
    "duration": 4,
    "start_time": "2022-08-21T05:51:30.683Z"
   },
   {
    "duration": 4,
    "start_time": "2022-08-21T06:00:35.186Z"
   },
   {
    "duration": 21,
    "start_time": "2022-08-21T06:00:42.767Z"
   },
   {
    "duration": 9,
    "start_time": "2022-08-21T06:04:12.758Z"
   },
   {
    "duration": 16,
    "start_time": "2022-08-21T06:05:17.136Z"
   },
   {
    "duration": 5,
    "start_time": "2022-08-21T06:17:47.486Z"
   },
   {
    "duration": 158,
    "start_time": "2022-08-21T06:18:12.347Z"
   },
   {
    "duration": 10,
    "start_time": "2022-08-21T06:27:56.560Z"
   },
   {
    "duration": 3,
    "start_time": "2022-08-21T06:29:17.665Z"
   },
   {
    "duration": 4,
    "start_time": "2022-08-21T06:29:30.791Z"
   },
   {
    "duration": 9,
    "start_time": "2022-08-21T06:30:08.790Z"
   },
   {
    "duration": 3,
    "start_time": "2022-08-21T06:30:14.068Z"
   },
   {
    "duration": 148,
    "start_time": "2022-08-21T06:32:40.235Z"
   },
   {
    "duration": 2,
    "start_time": "2022-08-21T06:36:55.270Z"
   },
   {
    "duration": 2,
    "start_time": "2022-08-21T06:36:55.281Z"
   },
   {
    "duration": 5,
    "start_time": "2022-08-21T06:36:55.286Z"
   },
   {
    "duration": 146,
    "start_time": "2022-08-21T06:36:55.295Z"
   },
   {
    "duration": 19,
    "start_time": "2022-08-21T06:36:55.443Z"
   },
   {
    "duration": 22,
    "start_time": "2022-08-21T06:36:55.464Z"
   },
   {
    "duration": 19,
    "start_time": "2022-08-21T06:36:55.488Z"
   },
   {
    "duration": 14,
    "start_time": "2022-08-21T06:36:55.508Z"
   },
   {
    "duration": 7,
    "start_time": "2022-08-21T06:36:55.524Z"
   },
   {
    "duration": 12,
    "start_time": "2022-08-21T06:36:55.533Z"
   },
   {
    "duration": 12,
    "start_time": "2022-08-21T06:36:55.546Z"
   },
   {
    "duration": 78,
    "start_time": "2022-08-21T06:36:55.560Z"
   },
   {
    "duration": 9,
    "start_time": "2022-08-21T06:36:55.640Z"
   },
   {
    "duration": 37,
    "start_time": "2022-08-21T06:36:55.650Z"
   },
   {
    "duration": 5,
    "start_time": "2022-08-21T06:36:55.688Z"
   },
   {
    "duration": 17,
    "start_time": "2022-08-21T06:36:55.694Z"
   },
   {
    "duration": 15,
    "start_time": "2022-08-21T06:36:55.713Z"
   },
   {
    "duration": 14,
    "start_time": "2022-08-21T06:36:55.730Z"
   },
   {
    "duration": 67,
    "start_time": "2022-08-21T06:36:55.746Z"
   },
   {
    "duration": 10,
    "start_time": "2022-08-21T06:36:55.814Z"
   },
   {
    "duration": 22,
    "start_time": "2022-08-21T06:36:55.826Z"
   },
   {
    "duration": 8,
    "start_time": "2022-08-21T06:36:55.850Z"
   },
   {
    "duration": 32,
    "start_time": "2022-08-21T06:36:55.859Z"
   },
   {
    "duration": 28,
    "start_time": "2022-08-21T06:36:55.892Z"
   },
   {
    "duration": 124,
    "start_time": "2022-08-21T06:36:55.922Z"
   },
   {
    "duration": 3,
    "start_time": "2022-08-21T06:36:56.047Z"
   },
   {
    "duration": 12,
    "start_time": "2022-08-21T06:36:56.051Z"
   },
   {
    "duration": 23,
    "start_time": "2022-08-21T06:36:56.064Z"
   },
   {
    "duration": 58,
    "start_time": "2022-08-21T06:36:56.088Z"
   },
   {
    "duration": 3,
    "start_time": "2022-08-21T06:36:56.148Z"
   },
   {
    "duration": 13,
    "start_time": "2022-08-21T06:36:56.155Z"
   },
   {
    "duration": 17,
    "start_time": "2022-08-21T06:36:56.170Z"
   },
   {
    "duration": 111,
    "start_time": "2022-08-21T06:36:56.189Z"
   },
   {
    "duration": 1194,
    "start_time": "2022-08-21T06:36:56.302Z"
   },
   {
    "duration": 802,
    "start_time": "2022-08-21T06:36:57.498Z"
   },
   {
    "duration": 273,
    "start_time": "2022-08-21T06:36:58.302Z"
   },
   {
    "duration": 919,
    "start_time": "2022-08-21T06:36:58.576Z"
   },
   {
    "duration": 803,
    "start_time": "2022-08-21T06:36:59.496Z"
   },
   {
    "duration": 217,
    "start_time": "2022-08-21T06:37:00.301Z"
   },
   {
    "duration": 163,
    "start_time": "2022-08-21T06:37:00.522Z"
   },
   {
    "duration": 0,
    "start_time": "2022-08-21T06:37:00.687Z"
   },
   {
    "duration": 0,
    "start_time": "2022-08-21T06:37:00.688Z"
   },
   {
    "duration": 0,
    "start_time": "2022-08-21T06:37:00.689Z"
   },
   {
    "duration": 0,
    "start_time": "2022-08-21T06:37:00.690Z"
   },
   {
    "duration": 0,
    "start_time": "2022-08-21T06:37:00.691Z"
   },
   {
    "duration": 0,
    "start_time": "2022-08-21T06:37:00.692Z"
   },
   {
    "duration": 0,
    "start_time": "2022-08-21T06:37:00.693Z"
   },
   {
    "duration": 0,
    "start_time": "2022-08-21T06:37:00.694Z"
   },
   {
    "duration": 0,
    "start_time": "2022-08-21T06:37:00.695Z"
   },
   {
    "duration": 0,
    "start_time": "2022-08-21T06:37:00.696Z"
   },
   {
    "duration": 0,
    "start_time": "2022-08-21T06:37:00.697Z"
   },
   {
    "duration": 0,
    "start_time": "2022-08-21T06:37:00.697Z"
   },
   {
    "duration": 0,
    "start_time": "2022-08-21T06:37:00.698Z"
   },
   {
    "duration": 0,
    "start_time": "2022-08-21T06:37:00.699Z"
   },
   {
    "duration": 0,
    "start_time": "2022-08-21T06:37:00.700Z"
   },
   {
    "duration": 3,
    "start_time": "2022-08-21T06:37:43.173Z"
   },
   {
    "duration": 4,
    "start_time": "2022-08-21T06:39:06.175Z"
   },
   {
    "duration": 4,
    "start_time": "2022-08-21T06:39:21.816Z"
   },
   {
    "duration": 64,
    "start_time": "2022-08-21T06:45:28.976Z"
   },
   {
    "duration": 2,
    "start_time": "2022-08-21T06:46:02.183Z"
   },
   {
    "duration": 19,
    "start_time": "2022-08-21T06:46:02.189Z"
   },
   {
    "duration": 12,
    "start_time": "2022-08-21T06:46:02.210Z"
   },
   {
    "duration": 201,
    "start_time": "2022-08-21T06:46:02.223Z"
   },
   {
    "duration": 20,
    "start_time": "2022-08-21T06:46:02.426Z"
   },
   {
    "duration": 28,
    "start_time": "2022-08-21T06:46:02.448Z"
   },
   {
    "duration": 125,
    "start_time": "2022-08-21T06:46:02.478Z"
   },
   {
    "duration": 14,
    "start_time": "2022-08-21T06:46:02.604Z"
   },
   {
    "duration": 18,
    "start_time": "2022-08-21T06:46:02.619Z"
   },
   {
    "duration": 15,
    "start_time": "2022-08-21T06:46:02.640Z"
   },
   {
    "duration": 18,
    "start_time": "2022-08-21T06:46:02.656Z"
   },
   {
    "duration": 72,
    "start_time": "2022-08-21T06:46:02.676Z"
   },
   {
    "duration": 9,
    "start_time": "2022-08-21T06:46:02.750Z"
   },
   {
    "duration": 33,
    "start_time": "2022-08-21T06:46:02.761Z"
   },
   {
    "duration": 4,
    "start_time": "2022-08-21T06:46:02.795Z"
   },
   {
    "duration": 31,
    "start_time": "2022-08-21T06:46:02.800Z"
   },
   {
    "duration": 12,
    "start_time": "2022-08-21T06:46:02.832Z"
   },
   {
    "duration": 16,
    "start_time": "2022-08-21T06:46:02.846Z"
   },
   {
    "duration": 41,
    "start_time": "2022-08-21T06:46:02.864Z"
   },
   {
    "duration": 11,
    "start_time": "2022-08-21T06:46:02.906Z"
   },
   {
    "duration": 38,
    "start_time": "2022-08-21T06:46:02.918Z"
   },
   {
    "duration": 8,
    "start_time": "2022-08-21T06:46:02.958Z"
   },
   {
    "duration": 21,
    "start_time": "2022-08-21T06:46:02.968Z"
   },
   {
    "duration": 39,
    "start_time": "2022-08-21T06:46:02.990Z"
   },
   {
    "duration": 99,
    "start_time": "2022-08-21T06:46:03.032Z"
   },
   {
    "duration": 2,
    "start_time": "2022-08-21T06:46:03.133Z"
   },
   {
    "duration": 14,
    "start_time": "2022-08-21T06:46:03.137Z"
   },
   {
    "duration": 26,
    "start_time": "2022-08-21T06:46:03.152Z"
   },
   {
    "duration": 51,
    "start_time": "2022-08-21T06:46:03.180Z"
   },
   {
    "duration": 87,
    "start_time": "2022-08-21T06:46:03.233Z"
   },
   {
    "duration": 0,
    "start_time": "2022-08-21T06:46:03.322Z"
   },
   {
    "duration": 0,
    "start_time": "2022-08-21T06:46:03.323Z"
   },
   {
    "duration": 0,
    "start_time": "2022-08-21T06:46:03.324Z"
   },
   {
    "duration": 0,
    "start_time": "2022-08-21T06:46:03.325Z"
   },
   {
    "duration": 0,
    "start_time": "2022-08-21T06:46:03.326Z"
   },
   {
    "duration": 0,
    "start_time": "2022-08-21T06:46:03.327Z"
   },
   {
    "duration": 0,
    "start_time": "2022-08-21T06:46:03.328Z"
   },
   {
    "duration": 0,
    "start_time": "2022-08-21T06:46:03.329Z"
   },
   {
    "duration": 0,
    "start_time": "2022-08-21T06:46:03.330Z"
   },
   {
    "duration": 0,
    "start_time": "2022-08-21T06:46:03.331Z"
   },
   {
    "duration": 0,
    "start_time": "2022-08-21T06:46:03.332Z"
   },
   {
    "duration": 0,
    "start_time": "2022-08-21T06:46:03.333Z"
   },
   {
    "duration": 0,
    "start_time": "2022-08-21T06:46:03.334Z"
   },
   {
    "duration": 0,
    "start_time": "2022-08-21T06:46:03.335Z"
   },
   {
    "duration": 0,
    "start_time": "2022-08-21T06:46:03.336Z"
   },
   {
    "duration": 0,
    "start_time": "2022-08-21T06:46:03.337Z"
   },
   {
    "duration": 0,
    "start_time": "2022-08-21T06:46:03.338Z"
   },
   {
    "duration": 0,
    "start_time": "2022-08-21T06:46:03.339Z"
   },
   {
    "duration": 0,
    "start_time": "2022-08-21T06:46:03.340Z"
   },
   {
    "duration": 0,
    "start_time": "2022-08-21T06:46:03.341Z"
   },
   {
    "duration": 0,
    "start_time": "2022-08-21T06:46:03.342Z"
   },
   {
    "duration": 0,
    "start_time": "2022-08-21T06:46:03.343Z"
   },
   {
    "duration": 0,
    "start_time": "2022-08-21T06:46:03.344Z"
   },
   {
    "duration": 0,
    "start_time": "2022-08-21T06:46:03.345Z"
   },
   {
    "duration": 0,
    "start_time": "2022-08-21T06:46:03.346Z"
   },
   {
    "duration": 0,
    "start_time": "2022-08-21T06:46:03.347Z"
   },
   {
    "duration": 0,
    "start_time": "2022-08-21T06:46:03.348Z"
   },
   {
    "duration": 8,
    "start_time": "2022-08-21T06:47:41.178Z"
   },
   {
    "duration": 3,
    "start_time": "2022-08-21T06:48:35.779Z"
   },
   {
    "duration": 4,
    "start_time": "2022-08-21T06:48:42.579Z"
   },
   {
    "duration": 2,
    "start_time": "2022-08-21T06:49:31.142Z"
   },
   {
    "duration": 3,
    "start_time": "2022-08-21T06:49:31.184Z"
   },
   {
    "duration": 10,
    "start_time": "2022-08-21T06:49:31.191Z"
   },
   {
    "duration": 136,
    "start_time": "2022-08-21T06:49:31.204Z"
   },
   {
    "duration": 24,
    "start_time": "2022-08-21T06:49:31.343Z"
   },
   {
    "duration": 22,
    "start_time": "2022-08-21T06:49:31.369Z"
   },
   {
    "duration": 21,
    "start_time": "2022-08-21T06:49:31.395Z"
   },
   {
    "duration": 26,
    "start_time": "2022-08-21T06:49:31.418Z"
   },
   {
    "duration": 9,
    "start_time": "2022-08-21T06:49:31.446Z"
   },
   {
    "duration": 11,
    "start_time": "2022-08-21T06:49:31.457Z"
   },
   {
    "duration": 20,
    "start_time": "2022-08-21T06:49:31.469Z"
   },
   {
    "duration": 58,
    "start_time": "2022-08-21T06:49:31.491Z"
   },
   {
    "duration": 9,
    "start_time": "2022-08-21T06:49:31.552Z"
   },
   {
    "duration": 39,
    "start_time": "2022-08-21T06:49:31.563Z"
   },
   {
    "duration": 3,
    "start_time": "2022-08-21T06:49:31.604Z"
   },
   {
    "duration": 17,
    "start_time": "2022-08-21T06:49:31.609Z"
   },
   {
    "duration": 13,
    "start_time": "2022-08-21T06:49:31.627Z"
   },
   {
    "duration": 13,
    "start_time": "2022-08-21T06:49:31.642Z"
   },
   {
    "duration": 63,
    "start_time": "2022-08-21T06:49:31.657Z"
   },
   {
    "duration": 13,
    "start_time": "2022-08-21T06:49:31.722Z"
   },
   {
    "duration": 51,
    "start_time": "2022-08-21T06:49:31.737Z"
   },
   {
    "duration": 8,
    "start_time": "2022-08-21T06:49:31.790Z"
   },
   {
    "duration": 9,
    "start_time": "2022-08-21T06:49:31.800Z"
   },
   {
    "duration": 31,
    "start_time": "2022-08-21T06:49:31.811Z"
   },
   {
    "duration": 124,
    "start_time": "2022-08-21T06:49:31.844Z"
   },
   {
    "duration": 3,
    "start_time": "2022-08-21T06:49:31.970Z"
   },
   {
    "duration": 5,
    "start_time": "2022-08-21T06:49:31.987Z"
   },
   {
    "duration": 11,
    "start_time": "2022-08-21T06:49:31.994Z"
   },
   {
    "duration": 94,
    "start_time": "2022-08-21T06:49:32.007Z"
   },
   {
    "duration": 3,
    "start_time": "2022-08-21T06:49:32.102Z"
   },
   {
    "duration": 6,
    "start_time": "2022-08-21T06:49:32.108Z"
   },
   {
    "duration": 7,
    "start_time": "2022-08-21T06:49:32.116Z"
   },
   {
    "duration": 103,
    "start_time": "2022-08-21T06:49:32.125Z"
   },
   {
    "duration": 1184,
    "start_time": "2022-08-21T06:49:32.229Z"
   },
   {
    "duration": 788,
    "start_time": "2022-08-21T06:49:33.414Z"
   },
   {
    "duration": 286,
    "start_time": "2022-08-21T06:49:34.204Z"
   },
   {
    "duration": 879,
    "start_time": "2022-08-21T06:49:34.492Z"
   },
   {
    "duration": 830,
    "start_time": "2022-08-21T06:49:35.373Z"
   },
   {
    "duration": 225,
    "start_time": "2022-08-21T06:49:36.205Z"
   },
   {
    "duration": 5,
    "start_time": "2022-08-21T06:49:36.432Z"
   },
   {
    "duration": 18,
    "start_time": "2022-08-21T06:49:36.438Z"
   },
   {
    "duration": 290,
    "start_time": "2022-08-21T06:49:36.458Z"
   },
   {
    "duration": 5,
    "start_time": "2022-08-21T06:49:36.750Z"
   },
   {
    "duration": 8,
    "start_time": "2022-08-21T06:49:36.757Z"
   },
   {
    "duration": 19,
    "start_time": "2022-08-21T06:49:36.767Z"
   },
   {
    "duration": 4,
    "start_time": "2022-08-21T06:49:36.788Z"
   },
   {
    "duration": 5,
    "start_time": "2022-08-21T06:49:36.794Z"
   },
   {
    "duration": 22,
    "start_time": "2022-08-21T06:49:36.801Z"
   },
   {
    "duration": 0,
    "start_time": "2022-08-21T06:49:36.826Z"
   },
   {
    "duration": 0,
    "start_time": "2022-08-21T06:49:36.827Z"
   },
   {
    "duration": 0,
    "start_time": "2022-08-21T06:49:36.829Z"
   },
   {
    "duration": 0,
    "start_time": "2022-08-21T06:49:36.831Z"
   },
   {
    "duration": 0,
    "start_time": "2022-08-21T06:49:36.832Z"
   },
   {
    "duration": 0,
    "start_time": "2022-08-21T06:49:36.833Z"
   },
   {
    "duration": 0,
    "start_time": "2022-08-21T06:49:36.835Z"
   },
   {
    "duration": 0,
    "start_time": "2022-08-21T06:49:36.836Z"
   },
   {
    "duration": 0,
    "start_time": "2022-08-21T06:49:36.837Z"
   },
   {
    "duration": 19,
    "start_time": "2022-08-21T07:55:36.702Z"
   },
   {
    "duration": 3,
    "start_time": "2022-08-21T07:56:25.344Z"
   },
   {
    "duration": 6,
    "start_time": "2022-08-21T07:56:25.350Z"
   },
   {
    "duration": 7,
    "start_time": "2022-08-21T07:56:25.358Z"
   },
   {
    "duration": 122,
    "start_time": "2022-08-21T07:56:25.367Z"
   },
   {
    "duration": 20,
    "start_time": "2022-08-21T07:56:25.491Z"
   },
   {
    "duration": 20,
    "start_time": "2022-08-21T07:56:25.513Z"
   },
   {
    "duration": 17,
    "start_time": "2022-08-21T07:56:25.535Z"
   },
   {
    "duration": 40,
    "start_time": "2022-08-21T07:56:25.553Z"
   },
   {
    "duration": 8,
    "start_time": "2022-08-21T07:56:25.595Z"
   },
   {
    "duration": 7,
    "start_time": "2022-08-21T07:56:25.605Z"
   },
   {
    "duration": 7,
    "start_time": "2022-08-21T07:56:25.613Z"
   },
   {
    "duration": 81,
    "start_time": "2022-08-21T07:56:25.621Z"
   },
   {
    "duration": 9,
    "start_time": "2022-08-21T07:56:25.705Z"
   },
   {
    "duration": 22,
    "start_time": "2022-08-21T07:56:25.715Z"
   },
   {
    "duration": 3,
    "start_time": "2022-08-21T07:56:25.739Z"
   },
   {
    "duration": 19,
    "start_time": "2022-08-21T07:56:25.744Z"
   },
   {
    "duration": 37,
    "start_time": "2022-08-21T07:56:25.764Z"
   },
   {
    "duration": 12,
    "start_time": "2022-08-21T07:56:25.803Z"
   },
   {
    "duration": 31,
    "start_time": "2022-08-21T07:56:25.816Z"
   },
   {
    "duration": 47,
    "start_time": "2022-08-21T07:56:25.848Z"
   },
   {
    "duration": 23,
    "start_time": "2022-08-21T07:56:25.897Z"
   },
   {
    "duration": 8,
    "start_time": "2022-08-21T07:56:25.921Z"
   },
   {
    "duration": 5,
    "start_time": "2022-08-21T07:56:25.930Z"
   },
   {
    "duration": 52,
    "start_time": "2022-08-21T07:56:25.936Z"
   },
   {
    "duration": 121,
    "start_time": "2022-08-21T07:56:25.989Z"
   },
   {
    "duration": 3,
    "start_time": "2022-08-21T07:56:26.111Z"
   },
   {
    "duration": 9,
    "start_time": "2022-08-21T07:56:26.115Z"
   },
   {
    "duration": 7,
    "start_time": "2022-08-21T07:56:26.125Z"
   },
   {
    "duration": 71,
    "start_time": "2022-08-21T07:56:26.134Z"
   },
   {
    "duration": 3,
    "start_time": "2022-08-21T07:56:26.207Z"
   },
   {
    "duration": 13,
    "start_time": "2022-08-21T07:56:26.214Z"
   },
   {
    "duration": 9,
    "start_time": "2022-08-21T07:56:26.229Z"
   },
   {
    "duration": 41,
    "start_time": "2022-08-21T07:56:26.239Z"
   },
   {
    "duration": 0,
    "start_time": "2022-08-21T07:56:26.287Z"
   },
   {
    "duration": 0,
    "start_time": "2022-08-21T07:56:26.288Z"
   },
   {
    "duration": 0,
    "start_time": "2022-08-21T07:56:26.290Z"
   },
   {
    "duration": 0,
    "start_time": "2022-08-21T07:56:26.291Z"
   },
   {
    "duration": 0,
    "start_time": "2022-08-21T07:56:26.293Z"
   },
   {
    "duration": 0,
    "start_time": "2022-08-21T07:56:26.295Z"
   },
   {
    "duration": 0,
    "start_time": "2022-08-21T07:56:26.297Z"
   },
   {
    "duration": 2,
    "start_time": "2022-08-21T07:58:09.990Z"
   },
   {
    "duration": 6,
    "start_time": "2022-08-21T07:58:09.996Z"
   },
   {
    "duration": 6,
    "start_time": "2022-08-21T07:58:10.004Z"
   },
   {
    "duration": 127,
    "start_time": "2022-08-21T07:58:10.012Z"
   },
   {
    "duration": 19,
    "start_time": "2022-08-21T07:58:10.141Z"
   },
   {
    "duration": 19,
    "start_time": "2022-08-21T07:58:10.162Z"
   },
   {
    "duration": 16,
    "start_time": "2022-08-21T07:58:10.183Z"
   },
   {
    "duration": 16,
    "start_time": "2022-08-21T07:58:10.200Z"
   },
   {
    "duration": 7,
    "start_time": "2022-08-21T07:58:10.218Z"
   },
   {
    "duration": 11,
    "start_time": "2022-08-21T07:58:10.226Z"
   },
   {
    "duration": 10,
    "start_time": "2022-08-21T07:58:10.239Z"
   },
   {
    "duration": 82,
    "start_time": "2022-08-21T07:58:10.250Z"
   },
   {
    "duration": 10,
    "start_time": "2022-08-21T07:58:10.336Z"
   },
   {
    "duration": 40,
    "start_time": "2022-08-21T07:58:10.348Z"
   },
   {
    "duration": 5,
    "start_time": "2022-08-21T07:58:10.389Z"
   },
   {
    "duration": 14,
    "start_time": "2022-08-21T07:58:10.395Z"
   },
   {
    "duration": 13,
    "start_time": "2022-08-21T07:58:10.411Z"
   },
   {
    "duration": 13,
    "start_time": "2022-08-21T07:58:10.426Z"
   },
   {
    "duration": 57,
    "start_time": "2022-08-21T07:58:10.440Z"
   },
   {
    "duration": 12,
    "start_time": "2022-08-21T07:58:10.499Z"
   },
   {
    "duration": 22,
    "start_time": "2022-08-21T07:58:10.513Z"
   },
   {
    "duration": 7,
    "start_time": "2022-08-21T07:58:10.537Z"
   },
   {
    "duration": 7,
    "start_time": "2022-08-21T07:58:10.546Z"
   },
   {
    "duration": 57,
    "start_time": "2022-08-21T07:58:10.555Z"
   },
   {
    "duration": 117,
    "start_time": "2022-08-21T07:58:10.614Z"
   },
   {
    "duration": 2,
    "start_time": "2022-08-21T07:58:10.734Z"
   },
   {
    "duration": 14,
    "start_time": "2022-08-21T07:58:10.738Z"
   },
   {
    "duration": 8,
    "start_time": "2022-08-21T07:58:10.754Z"
   },
   {
    "duration": 70,
    "start_time": "2022-08-21T07:58:10.764Z"
   },
   {
    "duration": 2,
    "start_time": "2022-08-21T07:58:10.836Z"
   },
   {
    "duration": 7,
    "start_time": "2022-08-21T07:58:10.841Z"
   },
   {
    "duration": 4,
    "start_time": "2022-08-21T07:58:10.850Z"
   },
   {
    "duration": 102,
    "start_time": "2022-08-21T07:58:10.856Z"
   },
   {
    "duration": 1196,
    "start_time": "2022-08-21T07:58:10.959Z"
   },
   {
    "duration": 841,
    "start_time": "2022-08-21T07:58:12.156Z"
   },
   {
    "duration": 297,
    "start_time": "2022-08-21T07:58:12.999Z"
   },
   {
    "duration": 910,
    "start_time": "2022-08-21T07:58:13.298Z"
   },
   {
    "duration": 795,
    "start_time": "2022-08-21T07:58:14.209Z"
   },
   {
    "duration": 133,
    "start_time": "2022-08-21T07:58:15.089Z"
   },
   {
    "duration": 337,
    "start_time": "2022-08-21T07:58:15.223Z"
   },
   {
    "duration": 16,
    "start_time": "2022-08-21T07:59:33.645Z"
   },
   {
    "duration": 19,
    "start_time": "2022-08-21T08:00:12.869Z"
   },
   {
    "duration": 296,
    "start_time": "2022-08-21T08:07:42.701Z"
   },
   {
    "duration": 310,
    "start_time": "2022-08-21T08:08:50.354Z"
   },
   {
    "duration": 287,
    "start_time": "2022-08-21T08:09:11.422Z"
   },
   {
    "duration": 299,
    "start_time": "2022-08-21T08:09:28.147Z"
   },
   {
    "duration": 2,
    "start_time": "2022-08-21T08:19:22.909Z"
   },
   {
    "duration": 5,
    "start_time": "2022-08-21T08:19:22.913Z"
   },
   {
    "duration": 4,
    "start_time": "2022-08-21T08:19:22.948Z"
   },
   {
    "duration": 190,
    "start_time": "2022-08-21T08:19:22.961Z"
   },
   {
    "duration": 20,
    "start_time": "2022-08-21T08:19:23.153Z"
   },
   {
    "duration": 20,
    "start_time": "2022-08-21T08:19:23.174Z"
   },
   {
    "duration": 16,
    "start_time": "2022-08-21T08:19:23.196Z"
   },
   {
    "duration": 13,
    "start_time": "2022-08-21T08:19:23.214Z"
   },
   {
    "duration": 6,
    "start_time": "2022-08-21T08:19:23.229Z"
   },
   {
    "duration": 9,
    "start_time": "2022-08-21T08:19:23.237Z"
   },
   {
    "duration": 6,
    "start_time": "2022-08-21T08:19:23.247Z"
   },
   {
    "duration": 91,
    "start_time": "2022-08-21T08:19:23.255Z"
   },
   {
    "duration": 8,
    "start_time": "2022-08-21T08:19:23.349Z"
   },
   {
    "duration": 37,
    "start_time": "2022-08-21T08:19:23.358Z"
   },
   {
    "duration": 4,
    "start_time": "2022-08-21T08:19:23.396Z"
   },
   {
    "duration": 15,
    "start_time": "2022-08-21T08:19:23.401Z"
   },
   {
    "duration": 12,
    "start_time": "2022-08-21T08:19:23.417Z"
   },
   {
    "duration": 12,
    "start_time": "2022-08-21T08:19:23.430Z"
   },
   {
    "duration": 58,
    "start_time": "2022-08-21T08:19:23.443Z"
   },
   {
    "duration": 12,
    "start_time": "2022-08-21T08:19:23.502Z"
   },
   {
    "duration": 22,
    "start_time": "2022-08-21T08:19:23.515Z"
   },
   {
    "duration": 8,
    "start_time": "2022-08-21T08:19:23.538Z"
   },
   {
    "duration": 6,
    "start_time": "2022-08-21T08:19:23.547Z"
   },
   {
    "duration": 54,
    "start_time": "2022-08-21T08:19:23.555Z"
   },
   {
    "duration": 115,
    "start_time": "2022-08-21T08:19:23.610Z"
   },
   {
    "duration": 3,
    "start_time": "2022-08-21T08:19:23.726Z"
   },
   {
    "duration": 6,
    "start_time": "2022-08-21T08:19:23.731Z"
   },
   {
    "duration": 8,
    "start_time": "2022-08-21T08:19:23.739Z"
   },
   {
    "duration": 73,
    "start_time": "2022-08-21T08:19:23.749Z"
   },
   {
    "duration": 2,
    "start_time": "2022-08-21T08:19:23.824Z"
   },
   {
    "duration": 12,
    "start_time": "2022-08-21T08:19:23.829Z"
   },
   {
    "duration": 7,
    "start_time": "2022-08-21T08:19:23.842Z"
   },
   {
    "duration": 87,
    "start_time": "2022-08-21T08:19:23.850Z"
   },
   {
    "duration": 1173,
    "start_time": "2022-08-21T08:19:23.939Z"
   },
   {
    "duration": 979274,
    "start_time": "2022-08-21T08:19:25.114Z"
   },
   {
    "duration": 912,
    "start_time": "2022-08-21T08:35:44.390Z"
   },
   {
    "duration": 287,
    "start_time": "2022-08-21T08:35:45.304Z"
   },
   {
    "duration": 942,
    "start_time": "2022-08-21T08:35:45.593Z"
   },
   {
    "duration": 951,
    "start_time": "2022-08-21T08:35:46.537Z"
   },
   {
    "duration": 135,
    "start_time": "2022-08-21T08:35:47.490Z"
   },
   {
    "duration": 310,
    "start_time": "2022-08-21T08:35:47.627Z"
   },
   {
    "duration": 1000317,
    "start_time": "2022-08-21T08:38:43.774Z"
   },
   {
    "duration": 1048592,
    "start_time": "2022-08-21T08:58:56.197Z"
   },
   {
    "duration": 3,
    "start_time": "2022-08-21T09:26:27.007Z"
   },
   {
    "duration": 16,
    "start_time": "2022-08-21T09:26:27.011Z"
   },
   {
    "duration": 9,
    "start_time": "2022-08-21T09:26:27.029Z"
   },
   {
    "duration": 153,
    "start_time": "2022-08-21T09:26:27.040Z"
   },
   {
    "duration": 19,
    "start_time": "2022-08-21T09:26:27.195Z"
   },
   {
    "duration": 32,
    "start_time": "2022-08-21T09:26:27.216Z"
   },
   {
    "duration": 21,
    "start_time": "2022-08-21T09:26:27.250Z"
   },
   {
    "duration": 19,
    "start_time": "2022-08-21T09:26:27.287Z"
   },
   {
    "duration": 15,
    "start_time": "2022-08-21T09:26:27.310Z"
   },
   {
    "duration": 37,
    "start_time": "2022-08-21T09:26:27.327Z"
   },
   {
    "duration": 28,
    "start_time": "2022-08-21T09:26:27.366Z"
   },
   {
    "duration": 86,
    "start_time": "2022-08-21T09:26:27.396Z"
   },
   {
    "duration": 9,
    "start_time": "2022-08-21T09:26:27.483Z"
   },
   {
    "duration": 56,
    "start_time": "2022-08-21T09:26:27.494Z"
   },
   {
    "duration": 28,
    "start_time": "2022-08-21T09:26:27.552Z"
   },
   {
    "duration": 48,
    "start_time": "2022-08-21T09:26:27.582Z"
   },
   {
    "duration": 45,
    "start_time": "2022-08-21T09:26:27.632Z"
   },
   {
    "duration": 65,
    "start_time": "2022-08-21T09:26:27.678Z"
   },
   {
    "duration": 61,
    "start_time": "2022-08-21T09:26:27.744Z"
   },
   {
    "duration": 14,
    "start_time": "2022-08-21T09:26:27.806Z"
   },
   {
    "duration": 40,
    "start_time": "2022-08-21T09:26:27.823Z"
   },
   {
    "duration": 10,
    "start_time": "2022-08-21T09:26:27.864Z"
   },
   {
    "duration": 23,
    "start_time": "2022-08-21T09:26:27.875Z"
   },
   {
    "duration": 65,
    "start_time": "2022-08-21T09:26:27.900Z"
   },
   {
    "duration": 105,
    "start_time": "2022-08-21T09:26:27.967Z"
   },
   {
    "duration": 2,
    "start_time": "2022-08-21T09:26:28.074Z"
   },
   {
    "duration": 15,
    "start_time": "2022-08-21T09:26:28.077Z"
   },
   {
    "duration": 25,
    "start_time": "2022-08-21T09:26:28.094Z"
   },
   {
    "duration": 58,
    "start_time": "2022-08-21T09:26:28.121Z"
   },
   {
    "duration": 3,
    "start_time": "2022-08-21T09:26:28.180Z"
   },
   {
    "duration": 9,
    "start_time": "2022-08-21T09:26:28.185Z"
   },
   {
    "duration": 17,
    "start_time": "2022-08-21T09:26:28.195Z"
   },
   {
    "duration": 89,
    "start_time": "2022-08-21T09:26:28.213Z"
   },
   {
    "duration": 1109,
    "start_time": "2022-08-21T09:26:28.303Z"
   },
   {
    "duration": 775,
    "start_time": "2022-08-21T09:26:29.414Z"
   },
   {
    "duration": 224,
    "start_time": "2022-08-21T09:26:30.191Z"
   },
   {
    "duration": 867,
    "start_time": "2022-08-21T09:26:30.417Z"
   },
   {
    "duration": 705,
    "start_time": "2022-08-21T09:26:31.285Z"
   },
   {
    "duration": 130,
    "start_time": "2022-08-21T09:26:31.992Z"
   },
   {
    "duration": 401,
    "start_time": "2022-08-21T09:26:32.124Z"
   },
   {
    "duration": 53,
    "start_time": "2022-08-21T09:28:26.107Z"
   },
   {
    "duration": 66,
    "start_time": "2022-08-21T09:28:42.053Z"
   },
   {
    "duration": 3,
    "start_time": "2022-08-21T09:28:58.882Z"
   },
   {
    "duration": 3,
    "start_time": "2022-08-21T09:29:58.828Z"
   },
   {
    "duration": 4,
    "start_time": "2022-08-21T09:29:58.834Z"
   },
   {
    "duration": 1328,
    "start_time": "2022-08-21T09:29:58.842Z"
   },
   {
    "duration": 125,
    "start_time": "2022-08-21T09:30:00.172Z"
   },
   {
    "duration": 24,
    "start_time": "2022-08-21T09:30:00.299Z"
   },
   {
    "duration": 23,
    "start_time": "2022-08-21T09:30:00.326Z"
   },
   {
    "duration": 22,
    "start_time": "2022-08-21T09:30:00.351Z"
   },
   {
    "duration": 13,
    "start_time": "2022-08-21T09:30:00.387Z"
   },
   {
    "duration": 13,
    "start_time": "2022-08-21T09:30:00.402Z"
   },
   {
    "duration": 17,
    "start_time": "2022-08-21T09:30:00.416Z"
   },
   {
    "duration": 14,
    "start_time": "2022-08-21T09:30:00.434Z"
   },
   {
    "duration": 75,
    "start_time": "2022-08-21T09:30:00.450Z"
   },
   {
    "duration": 9,
    "start_time": "2022-08-21T09:30:00.527Z"
   },
   {
    "duration": 38,
    "start_time": "2022-08-21T09:30:00.537Z"
   },
   {
    "duration": 4,
    "start_time": "2022-08-21T09:30:00.576Z"
   },
   {
    "duration": 24,
    "start_time": "2022-08-21T09:30:00.581Z"
   },
   {
    "duration": 14,
    "start_time": "2022-08-21T09:30:00.606Z"
   },
   {
    "duration": 34,
    "start_time": "2022-08-21T09:30:00.621Z"
   },
   {
    "duration": 35,
    "start_time": "2022-08-21T09:30:00.657Z"
   },
   {
    "duration": 11,
    "start_time": "2022-08-21T09:30:00.693Z"
   },
   {
    "duration": 34,
    "start_time": "2022-08-21T09:30:00.706Z"
   },
   {
    "duration": 8,
    "start_time": "2022-08-21T09:30:00.741Z"
   },
   {
    "duration": 11,
    "start_time": "2022-08-21T09:30:00.751Z"
   },
   {
    "duration": 44,
    "start_time": "2022-08-21T09:30:00.764Z"
   },
   {
    "duration": 123,
    "start_time": "2022-08-21T09:30:00.810Z"
   },
   {
    "duration": 3,
    "start_time": "2022-08-21T09:30:00.934Z"
   },
   {
    "duration": 14,
    "start_time": "2022-08-21T09:30:00.938Z"
   },
   {
    "duration": 16,
    "start_time": "2022-08-21T09:30:00.954Z"
   },
   {
    "duration": 70,
    "start_time": "2022-08-21T09:30:00.971Z"
   },
   {
    "duration": 3,
    "start_time": "2022-08-21T09:30:01.044Z"
   },
   {
    "duration": 21,
    "start_time": "2022-08-21T09:30:01.048Z"
   },
   {
    "duration": 80,
    "start_time": "2022-08-21T09:30:01.070Z"
   },
   {
    "duration": 83,
    "start_time": "2022-08-21T09:30:01.151Z"
   },
   {
    "duration": 1219,
    "start_time": "2022-08-21T09:30:01.236Z"
   },
   {
    "duration": 931,
    "start_time": "2022-08-21T09:30:02.457Z"
   },
   {
    "duration": 204,
    "start_time": "2022-08-21T09:30:03.391Z"
   },
   {
    "duration": 921,
    "start_time": "2022-08-21T09:30:03.597Z"
   },
   {
    "duration": 784,
    "start_time": "2022-08-21T09:30:04.520Z"
   },
   {
    "duration": 138,
    "start_time": "2022-08-21T09:30:05.389Z"
   },
   {
    "duration": 329,
    "start_time": "2022-08-21T09:30:05.529Z"
   },
   {
    "duration": 3,
    "start_time": "2022-08-22T01:15:06.292Z"
   },
   {
    "duration": 5,
    "start_time": "2022-08-22T01:15:06.297Z"
   },
   {
    "duration": 1456,
    "start_time": "2022-08-22T01:15:06.338Z"
   },
   {
    "duration": 337,
    "start_time": "2022-08-22T01:15:07.796Z"
   },
   {
    "duration": 22,
    "start_time": "2022-08-22T01:15:08.135Z"
   },
   {
    "duration": 26,
    "start_time": "2022-08-22T01:15:08.159Z"
   },
   {
    "duration": 40,
    "start_time": "2022-08-22T01:15:08.186Z"
   },
   {
    "duration": 30,
    "start_time": "2022-08-22T01:15:08.227Z"
   },
   {
    "duration": 21,
    "start_time": "2022-08-22T01:15:08.258Z"
   },
   {
    "duration": 44,
    "start_time": "2022-08-22T01:15:08.280Z"
   },
   {
    "duration": 19,
    "start_time": "2022-08-22T01:15:08.326Z"
   },
   {
    "duration": 88,
    "start_time": "2022-08-22T01:15:08.347Z"
   },
   {
    "duration": 9,
    "start_time": "2022-08-22T01:15:08.436Z"
   },
   {
    "duration": 31,
    "start_time": "2022-08-22T01:15:08.446Z"
   },
   {
    "duration": 11,
    "start_time": "2022-08-22T01:15:08.479Z"
   },
   {
    "duration": 37,
    "start_time": "2022-08-22T01:15:08.493Z"
   },
   {
    "duration": 17,
    "start_time": "2022-08-22T01:15:08.532Z"
   },
   {
    "duration": 18,
    "start_time": "2022-08-22T01:15:08.551Z"
   },
   {
    "duration": 36,
    "start_time": "2022-08-22T01:15:08.571Z"
   },
   {
    "duration": 12,
    "start_time": "2022-08-22T01:15:08.609Z"
   },
   {
    "duration": 29,
    "start_time": "2022-08-22T01:15:08.623Z"
   },
   {
    "duration": 10,
    "start_time": "2022-08-22T01:15:08.654Z"
   },
   {
    "duration": 23,
    "start_time": "2022-08-22T01:15:08.666Z"
   },
   {
    "duration": 26,
    "start_time": "2022-08-22T01:15:08.691Z"
   },
   {
    "duration": 127,
    "start_time": "2022-08-22T01:15:08.719Z"
   },
   {
    "duration": 3,
    "start_time": "2022-08-22T01:15:08.847Z"
   },
   {
    "duration": 23,
    "start_time": "2022-08-22T01:15:08.851Z"
   },
   {
    "duration": 12,
    "start_time": "2022-08-22T01:15:08.876Z"
   },
   {
    "duration": 54,
    "start_time": "2022-08-22T01:15:08.890Z"
   },
   {
    "duration": 3,
    "start_time": "2022-08-22T01:15:08.946Z"
   },
   {
    "duration": 8,
    "start_time": "2022-08-22T01:15:08.950Z"
   },
   {
    "duration": 86,
    "start_time": "2022-08-22T01:15:08.959Z"
   },
   {
    "duration": 95,
    "start_time": "2022-08-22T01:15:09.046Z"
   },
   {
    "duration": 1197,
    "start_time": "2022-08-22T01:15:09.142Z"
   },
   {
    "duration": 949,
    "start_time": "2022-08-22T01:15:10.340Z"
   },
   {
    "duration": 306,
    "start_time": "2022-08-22T01:15:11.291Z"
   },
   {
    "duration": 1589,
    "start_time": "2022-08-22T01:15:11.598Z"
   },
   {
    "duration": 802,
    "start_time": "2022-08-22T01:15:13.189Z"
   },
   {
    "duration": 132,
    "start_time": "2022-08-22T01:15:13.993Z"
   },
   {
    "duration": 328,
    "start_time": "2022-08-22T01:15:14.126Z"
   },
   {
    "duration": 2,
    "start_time": "2022-08-22T01:22:51.682Z"
   },
   {
    "duration": 6,
    "start_time": "2022-08-22T01:22:51.686Z"
   },
   {
    "duration": 5,
    "start_time": "2022-08-22T01:22:51.694Z"
   },
   {
    "duration": 139,
    "start_time": "2022-08-22T01:22:51.700Z"
   },
   {
    "duration": 19,
    "start_time": "2022-08-22T01:22:51.841Z"
   },
   {
    "duration": 20,
    "start_time": "2022-08-22T01:22:51.861Z"
   },
   {
    "duration": 16,
    "start_time": "2022-08-22T01:22:51.883Z"
   },
   {
    "duration": 87,
    "start_time": "2022-08-22T01:22:51.901Z"
   },
   {
    "duration": 6,
    "start_time": "2022-08-22T01:22:51.990Z"
   },
   {
    "duration": 7,
    "start_time": "2022-08-22T01:22:51.998Z"
   },
   {
    "duration": 14,
    "start_time": "2022-08-22T01:22:52.006Z"
   },
   {
    "duration": 72,
    "start_time": "2022-08-22T01:22:52.021Z"
   },
   {
    "duration": 10,
    "start_time": "2022-08-22T01:22:52.095Z"
   },
   {
    "duration": 21,
    "start_time": "2022-08-22T01:22:52.106Z"
   },
   {
    "duration": 4,
    "start_time": "2022-08-22T01:22:52.129Z"
   },
   {
    "duration": 14,
    "start_time": "2022-08-22T01:22:52.135Z"
   },
   {
    "duration": 45,
    "start_time": "2022-08-22T01:22:52.151Z"
   },
   {
    "duration": 13,
    "start_time": "2022-08-22T01:22:52.198Z"
   },
   {
    "duration": 31,
    "start_time": "2022-08-22T01:22:52.213Z"
   },
   {
    "duration": 42,
    "start_time": "2022-08-22T01:22:52.246Z"
   },
   {
    "duration": 22,
    "start_time": "2022-08-22T01:22:52.289Z"
   },
   {
    "duration": 7,
    "start_time": "2022-08-22T01:22:52.313Z"
   },
   {
    "duration": 6,
    "start_time": "2022-08-22T01:22:52.321Z"
   },
   {
    "duration": 26,
    "start_time": "2022-08-22T01:22:52.329Z"
   },
   {
    "duration": 119,
    "start_time": "2022-08-22T01:22:52.356Z"
   },
   {
    "duration": 10,
    "start_time": "2022-08-22T01:22:52.477Z"
   },
   {
    "duration": 6,
    "start_time": "2022-08-22T01:22:52.489Z"
   },
   {
    "duration": 11,
    "start_time": "2022-08-22T01:22:52.497Z"
   },
   {
    "duration": 53,
    "start_time": "2022-08-22T01:22:52.509Z"
   },
   {
    "duration": 3,
    "start_time": "2022-08-22T01:22:52.563Z"
   },
   {
    "duration": 19,
    "start_time": "2022-08-22T01:22:52.568Z"
   },
   {
    "duration": 2,
    "start_time": "2022-08-22T01:22:52.589Z"
   },
   {
    "duration": 76,
    "start_time": "2022-08-22T01:22:52.592Z"
   },
   {
    "duration": 1096,
    "start_time": "2022-08-22T01:22:52.670Z"
   },
   {
    "duration": 821,
    "start_time": "2022-08-22T01:22:53.768Z"
   },
   {
    "duration": 203,
    "start_time": "2022-08-22T01:22:54.591Z"
   },
   {
    "duration": 836,
    "start_time": "2022-08-22T01:22:54.795Z"
   },
   {
    "duration": 855,
    "start_time": "2022-08-22T01:22:55.633Z"
   },
   {
    "duration": 134,
    "start_time": "2022-08-22T01:22:56.490Z"
   },
   {
    "duration": 667,
    "start_time": "2022-08-22T01:22:56.626Z"
   },
   {
    "duration": 3,
    "start_time": "2022-08-22T01:42:15.622Z"
   },
   {
    "duration": 6,
    "start_time": "2022-08-22T01:42:15.627Z"
   },
   {
    "duration": 1362,
    "start_time": "2022-08-22T01:42:15.634Z"
   },
   {
    "duration": 227,
    "start_time": "2022-08-22T01:42:16.998Z"
   },
   {
    "duration": 23,
    "start_time": "2022-08-22T01:42:17.227Z"
   },
   {
    "duration": 23,
    "start_time": "2022-08-22T01:42:17.251Z"
   },
   {
    "duration": 16,
    "start_time": "2022-08-22T01:42:17.275Z"
   },
   {
    "duration": 16,
    "start_time": "2022-08-22T01:42:17.293Z"
   },
   {
    "duration": 12,
    "start_time": "2022-08-22T01:42:17.310Z"
   },
   {
    "duration": 10,
    "start_time": "2022-08-22T01:42:17.324Z"
   },
   {
    "duration": 12,
    "start_time": "2022-08-22T01:42:17.336Z"
   },
   {
    "duration": 71,
    "start_time": "2022-08-22T01:42:17.351Z"
   },
   {
    "duration": 9,
    "start_time": "2022-08-22T01:42:17.424Z"
   },
   {
    "duration": 23,
    "start_time": "2022-08-22T01:42:17.434Z"
   },
   {
    "duration": 4,
    "start_time": "2022-08-22T01:42:17.458Z"
   },
   {
    "duration": 35,
    "start_time": "2022-08-22T01:42:17.463Z"
   },
   {
    "duration": 14,
    "start_time": "2022-08-22T01:42:17.499Z"
   },
   {
    "duration": 12,
    "start_time": "2022-08-22T01:42:17.515Z"
   },
   {
    "duration": 62,
    "start_time": "2022-08-22T01:42:17.529Z"
   },
   {
    "duration": 17,
    "start_time": "2022-08-22T01:42:17.592Z"
   },
   {
    "duration": 26,
    "start_time": "2022-08-22T01:42:17.611Z"
   },
   {
    "duration": 8,
    "start_time": "2022-08-22T01:42:17.638Z"
   },
   {
    "duration": 7,
    "start_time": "2022-08-22T01:42:17.647Z"
   },
   {
    "duration": 55,
    "start_time": "2022-08-22T01:42:17.655Z"
   },
   {
    "duration": 123,
    "start_time": "2022-08-22T01:42:17.712Z"
   },
   {
    "duration": 3,
    "start_time": "2022-08-22T01:42:17.837Z"
   },
   {
    "duration": 10,
    "start_time": "2022-08-22T01:42:17.841Z"
   },
   {
    "duration": 10,
    "start_time": "2022-08-22T01:42:17.852Z"
   },
   {
    "duration": 69,
    "start_time": "2022-08-22T01:42:17.863Z"
   },
   {
    "duration": 2,
    "start_time": "2022-08-22T01:42:17.935Z"
   },
   {
    "duration": 7,
    "start_time": "2022-08-22T01:42:17.939Z"
   },
   {
    "duration": 78,
    "start_time": "2022-08-22T01:42:17.947Z"
   },
   {
    "duration": 88,
    "start_time": "2022-08-22T01:42:18.026Z"
   },
   {
    "duration": 1131,
    "start_time": "2022-08-22T01:42:18.115Z"
   },
   {
    "duration": 848,
    "start_time": "2022-08-22T01:42:19.247Z"
   },
   {
    "duration": 184,
    "start_time": "2022-08-22T01:42:20.188Z"
   },
   {
    "duration": 859,
    "start_time": "2022-08-22T01:42:20.374Z"
   },
   {
    "duration": 853,
    "start_time": "2022-08-22T01:42:21.235Z"
   },
   {
    "duration": 134,
    "start_time": "2022-08-22T01:42:22.090Z"
   },
   {
    "duration": 311,
    "start_time": "2022-08-22T01:42:22.226Z"
   },
   {
    "duration": 47,
    "start_time": "2022-08-22T01:59:53.274Z"
   },
   {
    "duration": 52,
    "start_time": "2022-08-22T02:02:33.284Z"
   },
   {
    "duration": 49,
    "start_time": "2022-08-22T02:04:56.451Z"
   },
   {
    "duration": 387,
    "start_time": "2022-08-22T02:05:10.712Z"
   },
   {
    "duration": 4,
    "start_time": "2022-08-22T02:37:54.789Z"
   },
   {
    "duration": 5,
    "start_time": "2022-08-22T02:37:54.794Z"
   },
   {
    "duration": 1286,
    "start_time": "2022-08-22T02:37:54.801Z"
   },
   {
    "duration": 141,
    "start_time": "2022-08-22T02:37:56.089Z"
   },
   {
    "duration": 32,
    "start_time": "2022-08-22T02:37:56.232Z"
   },
   {
    "duration": 23,
    "start_time": "2022-08-22T02:37:56.267Z"
   },
   {
    "duration": 18,
    "start_time": "2022-08-22T02:37:56.292Z"
   },
   {
    "duration": 13,
    "start_time": "2022-08-22T02:37:56.311Z"
   },
   {
    "duration": 7,
    "start_time": "2022-08-22T02:37:56.325Z"
   },
   {
    "duration": 8,
    "start_time": "2022-08-22T02:37:56.334Z"
   },
   {
    "duration": 5,
    "start_time": "2022-08-22T02:37:56.344Z"
   },
   {
    "duration": 88,
    "start_time": "2022-08-22T02:37:56.351Z"
   },
   {
    "duration": 8,
    "start_time": "2022-08-22T02:37:56.441Z"
   },
   {
    "duration": 21,
    "start_time": "2022-08-22T02:37:56.451Z"
   },
   {
    "duration": 15,
    "start_time": "2022-08-22T02:37:56.473Z"
   },
   {
    "duration": 12,
    "start_time": "2022-08-22T02:37:56.490Z"
   },
   {
    "duration": 12,
    "start_time": "2022-08-22T02:37:56.503Z"
   },
   {
    "duration": 12,
    "start_time": "2022-08-22T02:37:56.516Z"
   },
   {
    "duration": 60,
    "start_time": "2022-08-22T02:37:56.529Z"
   },
   {
    "duration": 12,
    "start_time": "2022-08-22T02:37:56.590Z"
   },
   {
    "duration": 26,
    "start_time": "2022-08-22T02:37:56.604Z"
   },
   {
    "duration": 8,
    "start_time": "2022-08-22T02:37:56.632Z"
   },
   {
    "duration": 7,
    "start_time": "2022-08-22T02:37:56.642Z"
   },
   {
    "duration": 58,
    "start_time": "2022-08-22T02:37:56.651Z"
   },
   {
    "duration": 125,
    "start_time": "2022-08-22T02:37:56.711Z"
   },
   {
    "duration": 3,
    "start_time": "2022-08-22T02:37:56.838Z"
   },
   {
    "duration": 8,
    "start_time": "2022-08-22T02:37:56.842Z"
   },
   {
    "duration": 11,
    "start_time": "2022-08-22T02:37:56.851Z"
   },
   {
    "duration": 67,
    "start_time": "2022-08-22T02:37:56.864Z"
   },
   {
    "duration": 74,
    "start_time": "2022-08-22T02:37:56.934Z"
   },
   {
    "duration": 89,
    "start_time": "2022-08-22T02:37:57.010Z"
   },
   {
    "duration": 1130,
    "start_time": "2022-08-22T02:37:57.100Z"
   },
   {
    "duration": 858,
    "start_time": "2022-08-22T02:37:58.231Z"
   },
   {
    "duration": 200,
    "start_time": "2022-08-22T02:37:59.091Z"
   },
   {
    "duration": 859,
    "start_time": "2022-08-22T02:37:59.293Z"
   },
   {
    "duration": 846,
    "start_time": "2022-08-22T02:38:00.154Z"
   },
   {
    "duration": 222,
    "start_time": "2022-08-22T02:38:01.002Z"
   },
   {
    "duration": 3,
    "start_time": "2022-08-22T02:38:01.226Z"
   },
   {
    "duration": 29,
    "start_time": "2022-08-22T02:38:01.231Z"
   },
   {
    "duration": 354,
    "start_time": "2022-08-22T02:38:01.262Z"
   },
   {
    "duration": 3,
    "start_time": "2022-08-22T03:05:27.056Z"
   },
   {
    "duration": 5,
    "start_time": "2022-08-22T03:05:27.061Z"
   },
   {
    "duration": 1273,
    "start_time": "2022-08-22T03:05:27.067Z"
   },
   {
    "duration": 128,
    "start_time": "2022-08-22T03:05:28.342Z"
   },
   {
    "duration": 23,
    "start_time": "2022-08-22T03:05:28.472Z"
   },
   {
    "duration": 18,
    "start_time": "2022-08-22T03:05:28.497Z"
   },
   {
    "duration": 19,
    "start_time": "2022-08-22T03:05:28.517Z"
   },
   {
    "duration": 13,
    "start_time": "2022-08-22T03:05:28.537Z"
   },
   {
    "duration": 35,
    "start_time": "2022-08-22T03:05:28.552Z"
   },
   {
    "duration": 9,
    "start_time": "2022-08-22T03:05:28.590Z"
   },
   {
    "duration": 8,
    "start_time": "2022-08-22T03:05:28.601Z"
   },
   {
    "duration": 64,
    "start_time": "2022-08-22T03:05:28.611Z"
   },
   {
    "duration": 14,
    "start_time": "2022-08-22T03:05:28.677Z"
   },
   {
    "duration": 21,
    "start_time": "2022-08-22T03:05:28.692Z"
   },
   {
    "duration": 3,
    "start_time": "2022-08-22T03:05:28.714Z"
   },
   {
    "duration": 14,
    "start_time": "2022-08-22T03:05:28.719Z"
   },
   {
    "duration": 13,
    "start_time": "2022-08-22T03:05:28.734Z"
   },
   {
    "duration": 39,
    "start_time": "2022-08-22T03:05:28.749Z"
   },
   {
    "duration": 30,
    "start_time": "2022-08-22T03:05:28.789Z"
   },
   {
    "duration": 11,
    "start_time": "2022-08-22T03:05:28.821Z"
   },
   {
    "duration": 24,
    "start_time": "2022-08-22T03:05:28.834Z"
   },
   {
    "duration": 34,
    "start_time": "2022-08-22T03:05:28.859Z"
   },
   {
    "duration": 9,
    "start_time": "2022-08-22T03:05:28.894Z"
   },
   {
    "duration": 26,
    "start_time": "2022-08-22T03:05:28.904Z"
   },
   {
    "duration": 128,
    "start_time": "2022-08-22T03:05:28.932Z"
   },
   {
    "duration": 2,
    "start_time": "2022-08-22T03:05:29.062Z"
   },
   {
    "duration": 9,
    "start_time": "2022-08-22T03:05:29.065Z"
   },
   {
    "duration": 5,
    "start_time": "2022-08-22T03:05:29.087Z"
   },
   {
    "duration": 51,
    "start_time": "2022-08-22T03:05:29.094Z"
   },
   {
    "duration": 77,
    "start_time": "2022-08-22T03:05:29.147Z"
   },
   {
    "duration": 78,
    "start_time": "2022-08-22T03:05:29.226Z"
   },
   {
    "duration": 1114,
    "start_time": "2022-08-22T03:05:29.305Z"
   },
   {
    "duration": 775,
    "start_time": "2022-08-22T03:05:30.421Z"
   },
   {
    "duration": 291,
    "start_time": "2022-08-22T03:05:31.198Z"
   },
   {
    "duration": 851,
    "start_time": "2022-08-22T03:05:31.491Z"
   },
   {
    "duration": 855,
    "start_time": "2022-08-22T03:05:32.343Z"
   },
   {
    "duration": 221,
    "start_time": "2022-08-22T03:05:33.200Z"
   },
   {
    "duration": 3,
    "start_time": "2022-08-22T03:05:33.423Z"
   },
   {
    "duration": 7,
    "start_time": "2022-08-22T03:05:33.427Z"
   },
   {
    "duration": 316,
    "start_time": "2022-08-22T03:05:33.435Z"
   }
  ],
  "kernelspec": {
   "display_name": "Python 3 (ipykernel)",
   "language": "python",
   "name": "python3"
  },
  "language_info": {
   "codemirror_mode": {
    "name": "ipython",
    "version": 3
   },
   "file_extension": ".py",
   "mimetype": "text/x-python",
   "name": "python",
   "nbconvert_exporter": "python",
   "pygments_lexer": "ipython3",
   "version": "3.7.1"
  },
  "toc": {
   "base_numbering": 1,
   "nav_menu": {},
   "number_sections": true,
   "sideBar": true,
   "skip_h1_title": true,
   "title_cell": "Содержание",
   "title_sidebar": "Содержание",
   "toc_cell": true,
   "toc_position": {
    "height": "calc(100% - 180px)",
    "left": "10px",
    "top": "150px",
    "width": "248px"
   },
   "toc_section_display": true,
   "toc_window_display": true
  }
 },
 "nbformat": 4,
 "nbformat_minor": 5
}
