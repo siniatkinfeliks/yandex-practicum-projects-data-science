{
 "cells": [
  {
   "cell_type": "markdown",
   "metadata": {
    "toc": true
   },
   "source": [
    "<h1>Содержание<span class=\"tocSkip\"></span></h1>\n",
    "<div class=\"toc\"><ul class=\"toc-item\"><li><span><a href=\"#Подготовка\" data-toc-modified-id=\"Подготовка-1\"><span class=\"toc-item-num\">1&nbsp;&nbsp;</span>Подготовка</a></span><ul class=\"toc-item\"><li><span><a href=\"#Вывод\" data-toc-modified-id=\"Вывод-1.1\"><span class=\"toc-item-num\">1.1&nbsp;&nbsp;</span>Вывод</a></span></li><li><span><a href=\"#Лемматизация-и-очистка-текстов\" data-toc-modified-id=\"Лемматизация-и-очистка-текстов-1.2\"><span class=\"toc-item-num\">1.2&nbsp;&nbsp;</span>Лемматизация и очистка текстов</a></span></li></ul></li><li><span><a href=\"#Обучение\" data-toc-modified-id=\"Обучение-2\"><span class=\"toc-item-num\">2&nbsp;&nbsp;</span>Обучение</a></span><ul class=\"toc-item\"><li><span><a href=\"#Обучение-моделей-без-учёта-дисбаланса-классов\" data-toc-modified-id=\"Обучение-моделей-без-учёта-дисбаланса-классов-2.1\"><span class=\"toc-item-num\">2.1&nbsp;&nbsp;</span>Обучение моделей без учёта дисбаланса классов</a></span></li><li><span><a href=\"#Балансировка-классов\" data-toc-modified-id=\"Балансировка-классов-2.2\"><span class=\"toc-item-num\">2.2&nbsp;&nbsp;</span>Балансировка классов</a></span></li></ul></li><li><span><a href=\"#Тестирование-модели\" data-toc-modified-id=\"Тестирование-модели-3\"><span class=\"toc-item-num\">3&nbsp;&nbsp;</span>Тестирование модели</a></span></li><li><span><a href=\"#Выводы\" data-toc-modified-id=\"Выводы-4\"><span class=\"toc-item-num\">4&nbsp;&nbsp;</span>Выводы</a></span></li></ul></div>"
   ]
  },
  {
   "cell_type": "markdown",
   "metadata": {},
   "source": [
    "# Проект для «Викишоп»"
   ]
  },
  {
   "cell_type": "markdown",
   "metadata": {},
   "source": [
    "<div style=\"border:solid lightblue 3px; padding: 20px\">\n",
    "    \n",
    "Наш заказчик: \n",
    "    \n",
    "Интернет-магазин «Викишоп» запускает новый сервис. Теперь пользователи могут редактировать и дополнять описания товаров, как в вики-сообществах. То есть клиенты предлагают свои правки и комментируют изменения других. Магазину нужен инструмент, который будет искать токсичные комментарии и отправлять их на модерацию. \n",
    "\n",
    "**Наша задача:** \n",
    "    \n",
    "Обучить модель классифицировать комментарии на позитивные и негативные. В нашем распоряжении набор данных с разметкой о токсичности правок.\n",
    "\n",
    "**Наша цель:** \n",
    "    \n",
    "Построить модель со значением метрики качества *F1* не меньше 0.75. "
   ]
  },
  {
   "cell_type": "markdown",
   "metadata": {},
   "source": [
    "## Подготовка"
   ]
  },
  {
   "cell_type": "code",
   "execution_count": 1,
   "metadata": {},
   "outputs": [],
   "source": [
    "# импортируем все необходимые библиотеки\n",
    "import pandas as pd\n",
    "\n",
    "import matplotlib.pyplot as plt\n",
    "\n",
    "import numpy as np\n",
    "\n",
    "import nltk\n",
    "from nltk.stem import WordNetLemmatizer\n",
    "from nltk.corpus import stopwords as nltk_stopwords\n",
    "\n",
    "import re\n",
    "\n",
    "from sklearn.feature_extraction.text import TfidfVectorizer\n",
    "from sklearn.model_selection import train_test_split\n",
    "from sklearn.tree import DecisionTreeClassifier\n",
    "from sklearn.ensemble import RandomForestClassifier\n",
    "from sklearn.linear_model import LogisticRegression\n",
    "from sklearn.experimental import enable_halving_search_cv\n",
    "from sklearn.model_selection import HalvingGridSearchCV\n",
    "from sklearn.metrics import f1_score, roc_auc_score\n",
    "\n",
    "import warnings\n",
    "warnings.filterwarnings('ignore')"
   ]
  },
  {
   "cell_type": "code",
   "execution_count": 2,
   "metadata": {},
   "outputs": [],
   "source": [
    "# читаем файл\n",
    "try: # пробуем загрузить данные с платформы...\n",
    "    toxic = pd.read_csv('/datasets/toxic_comments.csv')\n",
    "except: # в случае неудачи загружаем данные локально\n",
    "    toxic = pd.read_csv('c:\\\\toxic_comments.csv')"
   ]
  },
  {
   "cell_type": "code",
   "execution_count": 3,
   "metadata": {},
   "outputs": [
    {
     "name": "stdout",
     "output_type": "stream",
     "text": [
      "<class 'pandas.core.frame.DataFrame'>\n",
      "RangeIndex: 159292 entries, 0 to 159291\n",
      "Data columns (total 3 columns):\n",
      " #   Column      Non-Null Count   Dtype \n",
      "---  ------      --------------   ----- \n",
      " 0   Unnamed: 0  159292 non-null  int64 \n",
      " 1   text        159292 non-null  object\n",
      " 2   toxic       159292 non-null  int64 \n",
      "dtypes: int64(2), object(1)\n",
      "memory usage: 3.6+ MB\n"
     ]
    }
   ],
   "source": [
    "# выводим общую информацию\n",
    "toxic.info()"
   ]
  },
  {
   "cell_type": "code",
   "execution_count": 4,
   "metadata": {},
   "outputs": [
    {
     "data": {
      "text/html": [
       "<div>\n",
       "<style scoped>\n",
       "    .dataframe tbody tr th:only-of-type {\n",
       "        vertical-align: middle;\n",
       "    }\n",
       "\n",
       "    .dataframe tbody tr th {\n",
       "        vertical-align: top;\n",
       "    }\n",
       "\n",
       "    .dataframe thead th {\n",
       "        text-align: right;\n",
       "    }\n",
       "</style>\n",
       "<table border=\"1\" class=\"dataframe\">\n",
       "  <thead>\n",
       "    <tr style=\"text-align: right;\">\n",
       "      <th></th>\n",
       "      <th>Unnamed: 0</th>\n",
       "      <th>text</th>\n",
       "      <th>toxic</th>\n",
       "    </tr>\n",
       "  </thead>\n",
       "  <tbody>\n",
       "    <tr>\n",
       "      <th>0</th>\n",
       "      <td>0</td>\n",
       "      <td>Explanation\\nWhy the edits made under my usern...</td>\n",
       "      <td>0</td>\n",
       "    </tr>\n",
       "    <tr>\n",
       "      <th>1</th>\n",
       "      <td>1</td>\n",
       "      <td>D'aww! He matches this background colour I'm s...</td>\n",
       "      <td>0</td>\n",
       "    </tr>\n",
       "    <tr>\n",
       "      <th>2</th>\n",
       "      <td>2</td>\n",
       "      <td>Hey man, I'm really not trying to edit war. It...</td>\n",
       "      <td>0</td>\n",
       "    </tr>\n",
       "    <tr>\n",
       "      <th>3</th>\n",
       "      <td>3</td>\n",
       "      <td>\"\\nMore\\nI can't make any real suggestions on ...</td>\n",
       "      <td>0</td>\n",
       "    </tr>\n",
       "    <tr>\n",
       "      <th>4</th>\n",
       "      <td>4</td>\n",
       "      <td>You, sir, are my hero. Any chance you remember...</td>\n",
       "      <td>0</td>\n",
       "    </tr>\n",
       "  </tbody>\n",
       "</table>\n",
       "</div>"
      ],
      "text/plain": [
       "   Unnamed: 0                                               text  toxic\n",
       "0           0  Explanation\\nWhy the edits made under my usern...      0\n",
       "1           1  D'aww! He matches this background colour I'm s...      0\n",
       "2           2  Hey man, I'm really not trying to edit war. It...      0\n",
       "3           3  \"\\nMore\\nI can't make any real suggestions on ...      0\n",
       "4           4  You, sir, are my hero. Any chance you remember...      0"
      ]
     },
     "execution_count": 4,
     "metadata": {},
     "output_type": "execute_result"
    }
   ],
   "source": [
    "# просматриваем первые строки датасета\n",
    "toxic.head()"
   ]
  },
  {
   "cell_type": "code",
   "execution_count": 5,
   "metadata": {},
   "outputs": [
    {
     "name": "stdout",
     "output_type": "stream",
     "text": [
      "0    0.898388\n",
      "1    0.101612\n",
      "Name: toxic, dtype: float64\n"
     ]
    },
    {
     "data": {
      "image/png": "[encoded data removed]",
      "text/plain": [
       "<Figure size 432x288 with 1 Axes>"
      ]
     },
     "metadata": {
      "needs_background": "light"
     },
     "output_type": "display_data"
    }
   ],
   "source": [
    "# проанализируем частоты классов целевого признака по умолчанию\n",
    "class_frequency = toxic['toxic'].value_counts(normalize=True)\n",
    "print(class_frequency)\n",
    "\n",
    "class_frequency.plot(kind='bar', rot=1)\n",
    "plt.show()"
   ]
  },
  {
   "cell_type": "markdown",
   "metadata": {},
   "source": [
    "### Вывод\n",
    "\n",
    "**Описание данных**\n",
    "\n",
    "**Данные находятся в файле `toxic_comments.csv`. Столбец `text` в нём содержится текст комментария, а `toxic` — целевой признак.**\n",
    "\n",
    "\n",
    "**Здесь мы видим, что у нас есть 159 571 записей. Из них около 10% это комментарии, которые содержат токсичные слова, требующие премодерации. Из выведенных данных мы видим, что у нас в наличие дисбаланс классов. Потому ниже постараемся избавится от дисбаланса при обучении моделей. И на основе исследования борьбы подберём наиболее подходящую модель.**"
   ]
  },
  {
   "cell_type": "markdown",
   "metadata": {},
   "source": [
    "### Лемматизация и очистка текстов"
   ]
  },
  {
   "cell_type": "code",
   "execution_count": 6,
   "metadata": {},
   "outputs": [],
   "source": [
    "# запишем функцию, которая создаёт леммы из текста\n",
    "def lemmatize(text):\n",
    "    lemmatizer = WordNetLemmatizer()\n",
    "    lemm_list = nltk.word_tokenize(text)\n",
    "    lemm_text = ' '.join([lemmatizer.lemmatize(w) for w in lemm_list])\n",
    "        \n",
    "    return lemm_text\n",
    "\n",
    "# запишем функцию, которая будет очищать текст, или наши леммы\n",
    "def clear_text(text):\n",
    "    pattern = re.sub(r'[^a-zA-Z]', ' ', text)\n",
    "    clear_text = ' '.join(pattern.split())\n",
    "    \n",
    "    return clear_text\n",
    "\n",
    "# создаём очищенные леммы, и вносим их в новый столбец в наших данных\n",
    "toxic['lemm_text'] = toxic['text'].apply(lambda x: lemmatize(clear_text(x)))"
   ]
  },
  {
   "cell_type": "code",
   "execution_count": 7,
   "metadata": {},
   "outputs": [
    {
     "data": {
      "text/html": [
       "<div>\n",
       "<style scoped>\n",
       "    .dataframe tbody tr th:only-of-type {\n",
       "        vertical-align: middle;\n",
       "    }\n",
       "\n",
       "    .dataframe tbody tr th {\n",
       "        vertical-align: top;\n",
       "    }\n",
       "\n",
       "    .dataframe thead th {\n",
       "        text-align: right;\n",
       "    }\n",
       "</style>\n",
       "<table border=\"1\" class=\"dataframe\">\n",
       "  <thead>\n",
       "    <tr style=\"text-align: right;\">\n",
       "      <th></th>\n",
       "      <th>Unnamed: 0</th>\n",
       "      <th>text</th>\n",
       "      <th>toxic</th>\n",
       "      <th>lemm_text</th>\n",
       "    </tr>\n",
       "  </thead>\n",
       "  <tbody>\n",
       "    <tr>\n",
       "      <th>0</th>\n",
       "      <td>0</td>\n",
       "      <td>Explanation\\nWhy the edits made under my usern...</td>\n",
       "      <td>0</td>\n",
       "      <td>Explanation Why the edits made under my userna...</td>\n",
       "    </tr>\n",
       "    <tr>\n",
       "      <th>1</th>\n",
       "      <td>1</td>\n",
       "      <td>D'aww! He matches this background colour I'm s...</td>\n",
       "      <td>0</td>\n",
       "      <td>D aww He match this background colour I m seem...</td>\n",
       "    </tr>\n",
       "    <tr>\n",
       "      <th>2</th>\n",
       "      <td>2</td>\n",
       "      <td>Hey man, I'm really not trying to edit war. It...</td>\n",
       "      <td>0</td>\n",
       "      <td>Hey man I m really not trying to edit war It s...</td>\n",
       "    </tr>\n",
       "    <tr>\n",
       "      <th>3</th>\n",
       "      <td>3</td>\n",
       "      <td>\"\\nMore\\nI can't make any real suggestions on ...</td>\n",
       "      <td>0</td>\n",
       "      <td>More I can t make any real suggestion on impro...</td>\n",
       "    </tr>\n",
       "    <tr>\n",
       "      <th>4</th>\n",
       "      <td>4</td>\n",
       "      <td>You, sir, are my hero. Any chance you remember...</td>\n",
       "      <td>0</td>\n",
       "      <td>You sir are my hero Any chance you remember wh...</td>\n",
       "    </tr>\n",
       "  </tbody>\n",
       "</table>\n",
       "</div>"
      ],
      "text/plain": [
       "   Unnamed: 0                                               text  toxic  \\\n",
       "0           0  Explanation\\nWhy the edits made under my usern...      0   \n",
       "1           1  D'aww! He matches this background colour I'm s...      0   \n",
       "2           2  Hey man, I'm really not trying to edit war. It...      0   \n",
       "3           3  \"\\nMore\\nI can't make any real suggestions on ...      0   \n",
       "4           4  You, sir, are my hero. Any chance you remember...      0   \n",
       "\n",
       "                                           lemm_text  \n",
       "0  Explanation Why the edits made under my userna...  \n",
       "1  D aww He match this background colour I m seem...  \n",
       "2  Hey man I m really not trying to edit war It s...  \n",
       "3  More I can t make any real suggestion on impro...  \n",
       "4  You sir are my hero Any chance you remember wh...  "
      ]
     },
     "execution_count": 7,
     "metadata": {},
     "output_type": "execute_result"
    }
   ],
   "source": [
    "# просмотрим результат\n",
    "toxic.head()"
   ]
  },
  {
   "cell_type": "markdown",
   "metadata": {},
   "source": [
    "<div class=\"alert alert-info\" style=\"border-radius: 10px; box-shadow: 2px 2px 2px; border: 1px solid\"> Как мы видим у нас удалось вычислить леммы, и очистить их от стоп-слов. </div>"
   ]
  },
  {
   "cell_type": "markdown",
   "metadata": {},
   "source": [
    "## Обучение"
   ]
  },
  {
   "cell_type": "code",
   "execution_count": 8,
   "metadata": {},
   "outputs": [],
   "source": [
    "features = toxic['lemm_text'].values # вносим в переменные в признаки наши очищенные леммы,\n",
    "target = toxic['toxic'].values # а в целевые признаки является ли текст токсичным"
   ]
  },
  {
   "cell_type": "code",
   "execution_count": 9,
   "metadata": {},
   "outputs": [],
   "source": [
    "# делим наши выборки на обучаемую и валидационную выборки\n",
    "features_train, features_valid, target_train, target_valid = train_test_split(\n",
    "    features, target, test_size=0.4, stratify=target, random_state=12345)"
   ]
  },
  {
   "cell_type": "code",
   "execution_count": 10,
   "metadata": {},
   "outputs": [
    {
     "name": "stdout",
     "output_type": "stream",
     "text": [
      "(95575,)\n",
      "(63717,)\n",
      "(95575,)\n",
      "(63717,)\n"
     ]
    }
   ],
   "source": [
    "# проверяем разделение выборок\n",
    "print(features_train.shape)\n",
    "print(features_valid.shape)\n",
    "print(target_train.shape)\n",
    "print(target_valid.shape)"
   ]
  },
  {
   "cell_type": "code",
   "execution_count": 11,
   "metadata": {},
   "outputs": [],
   "source": [
    "# повторно делим выборки уже на валидационную и тестовую\n",
    "features_valid, features_test, target_valid, target_test = train_test_split(\n",
    "    features_valid, target_valid, test_size=0.5, stratify=target_valid, random_state=12345)"
   ]
  },
  {
   "cell_type": "code",
   "execution_count": 12,
   "metadata": {},
   "outputs": [
    {
     "name": "stdout",
     "output_type": "stream",
     "text": [
      "(31858,)\n",
      "(31859,)\n",
      "(31858,)\n",
      "(31859,)\n"
     ]
    }
   ],
   "source": [
    "# проверяем разделение выборок\n",
    "print(features_valid.shape)\n",
    "print(features_test.shape)\n",
    "print(target_valid.shape)\n",
    "print(target_test.shape)"
   ]
  },
  {
   "cell_type": "code",
   "execution_count": 13,
   "metadata": {},
   "outputs": [],
   "source": [
    "# вносим в переменную стоп-слова\n",
    "stopwords = set(nltk_stopwords.words('english'))\n",
    "\n",
    "# вносим в переменную наш векторайзер\n",
    "count_tf_idf = TfidfVectorizer(stop_words=stopwords)# в последствии отказался от , max_features=5000)"
   ]
  },
  {
   "cell_type": "code",
   "execution_count": 14,
   "metadata": {},
   "outputs": [],
   "source": [
    "# создаём признаки при помощи нашего векторайзера\n",
    "tf_idf_train = count_tf_idf.fit_transform(features_train)\n",
    "\n",
    "tf_idf_valid = count_tf_idf.transform(features_valid)\n",
    "\n",
    "tf_idf_test = count_tf_idf.transform(features_test)"
   ]
  },
  {
   "cell_type": "markdown",
   "metadata": {},
   "source": [
    "### Обучение моделей без учёта дисбаланса классов"
   ]
  },
  {
   "cell_type": "raw",
   "metadata": {},
   "source": [
    "#КОД, КОТОРЫЙ ПОМОГ ПРИНЯТЬ РЕШЕНИЕ\n",
    "\n",
    "#заносим в переменную модель классификатор дерева решений\n",
    "#DTC_model_default = DecisionTreeClassifier()\n",
    "\n",
    "#отмечаем в переменной необходимые для нашей модели гиперпараметры\n",
    "#DTC_parametrs_search = {'max_depth': range (1,13, 2),\n",
    "                        #'min_samples_leaf': range (1,8),\n",
    "                        #'min_samples_split': range (2,10,2) }\n",
    "\n",
    "#запускаем метод GridSearch для поиска оптимальных гиперпараметров\n",
    "#DTC_grid = HalvingGridSearchCV(DTC_model_default, DTC_parametrs_search)\n",
    "\n",
    "#запускаем обучение метода\n",
    "#DTC_grid.fit(tf_idf_data_train, target_train)\n",
    "\n",
    "#выводим результат метода с лучшими геперпараметрами для нашей модели\n",
    "#DTC_grid.best_params_"
   ]
  },
  {
   "cell_type": "code",
   "execution_count": 15,
   "metadata": {},
   "outputs": [
    {
     "name": "stdout",
     "output_type": "stream",
     "text": [
      "F1-мера дерева решений \n",
      " без учёта дисбаланса = 0.43\n",
      "AUC-ROC дерева решений \n",
      " без учёта дисбаланса = 0.64\n"
     ]
    }
   ],
   "source": [
    "# заносим в переменную настроенную модель дерева решения\n",
    "DTC_model = DecisionTreeClassifier(random_state=12345, \n",
    "                                   max_depth=3, \n",
    "                                   min_samples_leaf=7, \n",
    "                                   min_samples_split=4\n",
    "                                  )\n",
    "\n",
    "# обучаем модель на тренировочных данных\n",
    "DTC_model.fit(tf_idf_train,target_train)\n",
    "\n",
    "# заносим в переменную предсказания модели\n",
    "DTC_predicted_valid = pd.Series(DTC_model.predict(tf_idf_valid))\n",
    "\n",
    "# производим вычисления оценки AUC-ROC\n",
    "DTC_probabilities_valid = DTC_model.predict_proba(tf_idf_valid)\n",
    "DTC_probabilities_one_valid = DTC_probabilities_valid[:, 1]\n",
    "DTC_auc_roc_default = roc_auc_score(target_valid, DTC_probabilities_one_valid)\n",
    "\n",
    "# вносим в переменную F1-меру по умолчанию\n",
    "DTC_f1_default = f1_score(target_valid, DTC_predicted_valid)\n",
    "\n",
    "# выводим на экран оценку F1-меры\n",
    "print('F1-мера дерева решений \\n без учёта дисбаланса = {:.2f}'.format(DTC_f1_default))\n",
    "\n",
    "# выводим на экран оценку AUC-ROC\n",
    "print('AUC-ROC дерева решений \\n без учёта дисбаланса = {:.2f}'.format(DTC_auc_roc_default))"
   ]
  },
  {
   "cell_type": "raw",
   "metadata": {},
   "source": [
    "#КОД, КОТОРЫЙ ПОМОГ ПРИНЯТЬ РЕШЕНИЕ\n",
    "\n",
    "#заносим в переменную модель классификатор случайного леса\n",
    "#RFC_model = RandomForestClassifier()\n",
    "\n",
    "#вносим в переменную необходимые нам гиперпараметры для нашей модели\n",
    "#RFC_parametrs = { 'n_estimators': range (10, 51, 10),\n",
    "                 #'max_depth': range (1,13, 2),\n",
    "                 #'min_samples_leaf': range (1,8),\n",
    "                 #'min_samples_split': range (2,10,2) }\n",
    "\n",
    "#запускаем метод GridSearch для поиска оптимальных гиперпараметров\n",
    "#RFC_grid = HalvingGridSearchCV(RFC_model, RFC_parametrs)\n",
    "\n",
    "#запускаем обучение метода\n",
    "#RFC_grid.fit(tf_idf_data_train, target_train)\n",
    "\n",
    "#выводим результат метода с лучшими геперпараметрами для нашей модели\n",
    "#RFC_grid.best_params_"
   ]
  },
  {
   "cell_type": "code",
   "execution_count": 16,
   "metadata": {},
   "outputs": [
    {
     "name": "stdout",
     "output_type": "stream",
     "text": [
      "F1-мера случайного леса \n",
      " без учёта дисбаланса = 0.00\n",
      "AUC-ROC случайного леса \n",
      " без учёта дисбаланса = 0.61\n"
     ]
    }
   ],
   "source": [
    "# вносим в переменную нашу настроенную модель\n",
    "RFC_model = RandomForestClassifier(random_state=12345,\n",
    "                                   n_estimators=10,\n",
    "                                   min_samples_leaf=4,\n",
    "                                   min_samples_split=6,\n",
    "                                   max_depth=3\n",
    "                                  )\n",
    "\n",
    "# обучаем модель на тренировочных данных\n",
    "RFC_model.fit(tf_idf_train, target_train)\n",
    "\n",
    "# заносим в переменную предсказания модели\n",
    "RFC_predicted_valid = pd.Series(RFC_model.predict(tf_idf_valid))\n",
    "\n",
    "# производим вычисления оценки AUC-ROC\n",
    "RFC_probabilities_valid = RFC_model.predict_proba(tf_idf_valid)\n",
    "RFC_probabilities_one_valid = RFC_probabilities_valid[:, 1]\n",
    "RFC_auc_roc_default = roc_auc_score(target_valid, RFC_probabilities_one_valid)\n",
    "\n",
    "# вносим в переменную F1-меру по умолчанию\n",
    "RFC_f1_default = f1_score(target_valid, RFC_predicted_valid)\n",
    "\n",
    "# выводим на экран оценку F1-меры\n",
    "print('F1-мера случайного леса \\n без учёта дисбаланса = {:.2f}'.format(RFC_f1_default))\n",
    "\n",
    "# выводим на экран оценку AUC-ROC\n",
    "print('AUC-ROC случайного леса \\n без учёта дисбаланса = {:.2f}'.format(RFC_auc_roc_default))"
   ]
  },
  {
   "cell_type": "raw",
   "metadata": {},
   "source": [
    "#КОД, КОТОРЫЙ ПОМОГ ПРИНЯТЬ РЕШЕНИЕ\n",
    "\n",
    "#заносим в переменную модель классификатор логистической регрессии\n",
    "#LR_model = LogisticRegression()\n",
    "\n",
    "#вносим в переменную необходимые нам гиперпараметры для нашей модели\n",
    "#LR_parametrs = {'max_iter': range (10, 1000, 10)}\n",
    "\n",
    "#запускаем метод GridSearch для поиска оптимальных гиперпараметров\n",
    "#LR_grid = HalvingGridSearchCV(LR_model, LR_parametrs)\n",
    "\n",
    "#запускаем обучение метода\n",
    "#LR_grid.fit(tf_idf_data_train, target_train)\n",
    "\n",
    "#выводим результат метода с лучшими геперпараметрами для нашей модели\n",
    "#LR_grid.best_params_"
   ]
  },
  {
   "cell_type": "code",
   "execution_count": 17,
   "metadata": {},
   "outputs": [
    {
     "name": "stdout",
     "output_type": "stream",
     "text": [
      "F1-мера логистической регрессии \n",
      " без учёта дисбаланса = 0.72\n",
      "AUC-ROC логистической реграссии \n",
      " без учёта дисбаланса = 0.97\n"
     ]
    }
   ],
   "source": [
    "# вносим в переменную нашу настроенную модель\n",
    "LR_model = LogisticRegression(random_state=12345, max_iter=420, solver='liblinear')\n",
    "\n",
    "# обучаем модель на тренировочных данных\n",
    "LR_model.fit(tf_idf_train, target_train)\n",
    "\n",
    "#заносим в переменную предсказания модели\n",
    "LR_predicted_valid = pd.Series(LR_model.predict(tf_idf_valid))\n",
    "\n",
    "# производим вычисления оценки AUC-ROC\n",
    "LR_probabilities_valid = LR_model.predict_proba(tf_idf_valid)\n",
    "LR_probabilities_one_valid = LR_probabilities_valid[:, 1]\n",
    "LR_auc_roc_default = roc_auc_score(target_valid, LR_probabilities_one_valid)\n",
    "\n",
    "# вносим в переменную F1-меру по умолчанию\n",
    "LR_f1_default = f1_score(target_valid, LR_predicted_valid)\n",
    "\n",
    "# выводим на экран оценку F1-меры\n",
    "print('F1-мера логистической регрессии \\n без учёта дисбаланса = {:.2f}'.format(LR_f1_default))\n",
    "\n",
    "# выводим на экран оценку AUC-ROC\n",
    "print('AUC-ROC логистической реграссии \\n без учёта дисбаланса = {:.2f}'.format(LR_auc_roc_default))"
   ]
  },
  {
   "cell_type": "markdown",
   "metadata": {},
   "source": [
    "<div class=\"alert alert-info\" style=\"border-radius: 10px; box-shadow: 2px 2px 2px; border: 1px solid\"> Как мы видим после обучения моделей без учёта дисбаланса наиболее перспективной моделью себя показала логистическая регрессия. По смотрим далее, что произойдёт с показателями моделей после баланисровки классов. </div>"
   ]
  },
  {
   "cell_type": "markdown",
   "metadata": {},
   "source": [
    "### Балансировка классов"
   ]
  },
  {
   "cell_type": "markdown",
   "metadata": {},
   "source": [
    "<div class=\"alert alert-info\" style=\"border-radius: 10px; box-shadow: 2px 2px 2px; border: 1px solid\"> Ниже произведём сбалансированное взвешивание классов, а также постараемся найти необходимый для нас порог значений, чтобы максимально улучшить значение F1-меры. </div>"
   ]
  },
  {
   "cell_type": "raw",
   "metadata": {},
   "source": [
    "###ВЕСЬ КОД НИЖЕ СЛУЖИЛ ДЛЯ ПОИСКА ПОРОГА###\n",
    "    \n",
    "\n",
    "# заносим в переменную предсказания модели\n",
    "#DTC_predicted_valid = pd.Series(DTC_model.predict(tf_idf_valid))\n",
    "\n",
    "# производим вычисления оценки AUC-ROC\n",
    "#DTC_probabilities_valid = DTC_model.predict_proba(tf_idf_valid)\n",
    "#DTC_probabilities_one_valid = DTC_probabilities_valid[:, 1]\n",
    "#DTC_auc_roc = roc_auc_score(target_valid, DTC_probabilities_one_valid)\n",
    "\n",
    "# выводим на экран оценку AUC-ROC\n",
    "#print('AUC-ROC дерева решений при сбалансированных классах =', DTC_auc_roc)\n",
    "\n",
    "#for threshold in np.arange(0, 0.9, 0.02):\n",
    "#    DTC_predicted_valid = DTC_probabilities_one_valid > threshold\n",
    "#    DTC_f1_score = f1_score(target_valid, DTC_predicted_valid)\n",
    "#    DTC_auc_roc = roc_auc_score(target_valid, DTC_probabilities_one_valid)\n",
    "\n",
    "#    print(\"Порог = {:.2f} | F-1 мера = {:.2f}, AUC-ROC = {:.2f}\".format(\n",
    "#        threshold, DTC_f1_score, DTC_auc_roc))"
   ]
  },
  {
   "cell_type": "code",
   "execution_count": 18,
   "metadata": {},
   "outputs": [
    {
     "name": "stdout",
     "output_type": "stream",
     "text": [
      "F1-мера дерева решений \n",
      " при сбалансированных классах = 0.38\n"
     ]
    }
   ],
   "source": [
    "# заносим в переменную настроенную модель дерева решения\n",
    "DTC_model = DecisionTreeClassifier(random_state=12345, \n",
    "                                   max_depth=3, \n",
    "                                   min_samples_leaf=7, \n",
    "                                   min_samples_split=4,\n",
    "                                   # добавляем гиперпараметр взвешивания классов\n",
    "                                   class_weight='balanced'\n",
    "                                  )\n",
    "\n",
    "# обучаем модель на тренировочных данных\n",
    "DTC_model.fit(tf_idf_train,target_train)\n",
    "\n",
    "THRESHOLD_DTC = 0.5 # найденный наилучший порог значений\n",
    "\n",
    "# вносим в переменную предсказания модели с учётом порога\n",
    "DTC_predicted_valid = np.where(\n",
    "    DTC_model.predict_proba(tf_idf_valid)[:,1] > THRESHOLD_DTC, 1, 0)\n",
    "\n",
    "# выводим на экран оценку F1-меры\n",
    "print('F1-мера дерева решений \\n при сбалансированных классах =',\n",
    "      f1_score(target_valid, DTC_predicted_valid).round(2))\n",
    "\n",
    "    "
   ]
  },
  {
   "cell_type": "raw",
   "metadata": {},
   "source": [
    "###ВЕСЬ КОД НИЖЕ СЛУЖИЛ ДЛЯ ПОИСКА ПОРОГА###\n",
    "\n",
    "# заносим в переменную предсказания модели\n",
    "#RFC_predicted_valid = pd.Series(RFC_model.predict(tf_idf_valid))\n",
    "\n",
    "# производим вычисления оценки AUC-ROC\n",
    "#RFC_probabilities_valid = RFC_model.predict_proba(tf_idf_valid)\n",
    "#RFC_probabilities_one_valid = RFC_probabilities_valid[:, 1]\n",
    "#RFC_auc_roc = roc_auc_score(target_valid, RFC_probabilities_one_valid)\n",
    "\n",
    "\n",
    "\n",
    "# выводим на экран оценку AUC-ROC\n",
    "#print('AUC-ROC случайного леса при сбалансированных классах =', RFC_auc_roc)\n",
    "\n",
    "#for threshold in np.arange(0, 1 , 0.02):\n",
    "#    RFC_predicted_valid = RFC_probabilities_one_valid > threshold\n",
    "#    RFC_f1_score = f1_score(target_valid, RFC_predicted_valid)\n",
    "#    RFC_auc_roc = roc_auc_score(target_valid, RFC_probabilities_one_valid)\n",
    "#\n",
    "#    print(\"Порог = {:.2f} | F-1 мера = {:.2f}, AUC-ROC = {:.2f}\".format(\n",
    "#        threshold, RFC_f1_score, RFC_auc_roc))"
   ]
  },
  {
   "cell_type": "code",
   "execution_count": 19,
   "metadata": {},
   "outputs": [
    {
     "name": "stdout",
     "output_type": "stream",
     "text": [
      "F1-мера случайного леса \n",
      " при сбалансированных классах = 0.19\n"
     ]
    }
   ],
   "source": [
    "# заносим в переменную настроенную модель случайного леса\n",
    "RFC_model = RandomForestClassifier(random_state=12345,\n",
    "                                   n_estimators=10,\n",
    "                                   min_samples_leaf=4,\n",
    "                                   min_samples_split=6,\n",
    "                                   max_depth=3,\n",
    "                                   # добавляем гиперпараметр взвешивания классов\n",
    "                                   class_weight='balanced'\n",
    "                                  )\n",
    "\n",
    "# обучаем модель на тренировочных данных\n",
    "RFC_model.fit(tf_idf_train, target_train)\n",
    "\n",
    "THRESHOLD_RFC = 0.52 # найденный наилучший порог значений\n",
    "\n",
    "# вносим в переменную предсказания модели с учётом порога\n",
    "RFC_predicted_valid = np.where(\n",
    "    RFC_model.predict_proba(tf_idf_valid)[:,1] > THRESHOLD_RFC, 1, 0)\n",
    "\n",
    "# выводим на экран оценку F1-меры\n",
    "print('F1-мера случайного леса \\n при сбалансированных классах =', \n",
    "      f1_score(target_valid, RFC_predicted_valid).round(2))"
   ]
  },
  {
   "cell_type": "raw",
   "metadata": {},
   "source": [
    "###ВЕСЬ КОД НИЖЕ СЛУЖИЛ ДЛЯ ПОИСКА ПОРОГА###\n",
    "\n",
    "#заносим в переменную предсказания модели\n",
    "#LR_predicted_valid = pd.Series(LR_model.predict(tf_idf_valid))\n",
    "\n",
    "# производим вычисления оценки AUC-ROC\n",
    "#LR_probabilities_valid = LR_model.predict_proba(tf_idf_valid)\n",
    "#LR_probabilities_one_valid = LR_probabilities_valid[:, 1]\n",
    "#LR_auc_roc= roc_auc_score(target_valid, probabilities_one_valid)\n",
    "\n",
    "\n",
    "\n",
    "# выводим на экран оценку AUC-ROC\n",
    "#print('AUC-ROC логистической регрессии при сбалансированных классах =', LR_auc_roc)\n",
    "\n",
    "#for threshold in np.arange(0, 1 , 0.02):\n",
    "#    LR_predicted_valid = LR_probabilities_one_valid > threshold\n",
    "#    LR_f1_score = f1_score(target_valid,LR_predicted_valid)\n",
    "#    LR_auc_roc= roc_auc_score(target_valid, LR_probabilities_one_valid)\n",
    "\n",
    "#    print(\"Порог = {:.2f} | F-1 мера = {:.2f}, AUC-ROC = {:.2f}\".format(\n",
    "#        threshold, LR_f1_score, LR_auc_roc))"
   ]
  },
  {
   "cell_type": "code",
   "execution_count": 20,
   "metadata": {},
   "outputs": [
    {
     "name": "stdout",
     "output_type": "stream",
     "text": [
      "F1-мера логистической регрессии \n",
      " при сбалансированных классах = 0.78\n"
     ]
    }
   ],
   "source": [
    "# заносим в переменную настроенную модель логистической регрессии\n",
    "LR_model = LogisticRegression(\n",
    "    random_state=12345,\n",
    "    max_iter=420,\n",
    "    # добавляем гиперпараметр взвешивания классов\n",
    "    class_weight='balanced',\n",
    "    solver='liblinear')\n",
    "\n",
    "# обучаем модель на тренировочных данных\n",
    "LR_model.fit(tf_idf_train, target_train)\n",
    "\n",
    "THRESHOLD_LR = 0.64 # найденный наилучший порог значений\n",
    "\n",
    "# вносим в переменную предсказания модели с учётом порога\n",
    "LR_predicted_valid = np.where(\n",
    "    LR_model.predict_proba(tf_idf_valid)[:,1] > THRESHOLD_LR, 1, 0)\n",
    "\n",
    "# выводим на экран оценку F1-меры\n",
    "print('F1-мера логистической регрессии \\n при сбалансированных классах =',\n",
    "      f1_score(target_valid,LR_predicted_valid).round(2))"
   ]
  },
  {
   "cell_type": "markdown",
   "metadata": {},
   "source": [
    "<div class=\"alert alert-info\" style=\"border-radius: 10px; box-shadow: 2px 2px 2px; border: 1px solid\"> Что в принципе и стоило доказать, что наиболее удачной для нашей задачи показала себя модель логистической регрессии. Потому ниже и проведём её тестирование. </div>"
   ]
  },
  {
   "cell_type": "markdown",
   "metadata": {},
   "source": [
    "## Тестирование модели"
   ]
  },
  {
   "cell_type": "code",
   "execution_count": 21,
   "metadata": {},
   "outputs": [
    {
     "name": "stdout",
     "output_type": "stream",
     "text": [
      "F1-мера логистической регрессии на тестовой выборке \n",
      "при сбалансированных классах и выбранном пороге = 0.76\n"
     ]
    }
   ],
   "source": [
    "# вносим в переменную предсказания на тестовой выборке\n",
    "LR_predicted_test = np.where(\n",
    "    LR_model.predict_proba(tf_idf_test)[:,1] > THRESHOLD_LR, 1, 0)\n",
    "\n",
    "# выводим на экран оценку F1-меры\n",
    "print('F1-мера логистической регрессии на тестовой выборке \\n'\n",
    "      'при сбалансированных классах и выбранном пороге =',\n",
    "      f1_score(target_test,LR_predicted_test).round(2))"
   ]
  },
  {
   "cell_type": "markdown",
   "metadata": {},
   "source": [
    "## Выводы"
   ]
  },
  {
   "cell_type": "markdown",
   "metadata": {},
   "source": [
    "<div class=\"alert alert-info\" style=\"border-radius: 10px; box-shadow: 2px 2px 2px; border: 1px solid\">\n",
    "    \n",
    "В ходе работы над проектом было сделано:\n",
    "\n",
    "- Подготовленны данные перед обучением на моделях.\n",
    "- Поделены данные на обучающую, валидационную и тестовую выборку.\n",
    "- Обучены модели и выбраны лучшие из них на валидационной выборке.\n",
    "- Показаны параметры качества моделей.\n",
    "\n",
    "Исходные данные обладают большим количеством признаков. Созданных столбцов больше, чем записей данных. Так как TF-IDF превращают текст в численные значения, лучшими моделями стала LogisticRegression. \n",
    "\n",
    "На тестовой выбоке по метрике F1-мера лучше всего себя показала логистическая регрессия (LogisticRegression) = 0.76.\n",
    "    \n",
    "</div>"
   ]
  }
 ],
 "metadata": {
  "ExecuteTimeLog": [
   {
    "duration": 451,
    "start_time": "2022-04-17T15:13:54.031Z"
   },
   {
    "duration": 948,
    "start_time": "2022-04-17T15:13:54.484Z"
   },
   {
    "duration": 37,
    "start_time": "2022-04-17T15:13:55.434Z"
   },
   {
    "duration": 34,
    "start_time": "2022-04-17T15:13:55.474Z"
   },
   {
    "duration": 96,
    "start_time": "2022-04-17T15:38:23.911Z"
   },
   {
    "duration": 759,
    "start_time": "2022-04-17T15:52:37.292Z"
   },
   {
    "duration": 963,
    "start_time": "2022-04-17T15:53:02.271Z"
   },
   {
    "duration": 931,
    "start_time": "2022-04-17T15:53:03.236Z"
   },
   {
    "duration": 36,
    "start_time": "2022-04-17T15:53:04.169Z"
   },
   {
    "duration": 10,
    "start_time": "2022-04-17T15:53:04.207Z"
   },
   {
    "duration": 161,
    "start_time": "2022-04-17T15:53:04.218Z"
   },
   {
    "duration": 137,
    "start_time": "2022-04-17T15:53:49.017Z"
   },
   {
    "duration": 135,
    "start_time": "2022-04-17T15:54:05.952Z"
   },
   {
    "duration": 360,
    "start_time": "2022-04-17T17:38:37.075Z"
   },
   {
    "duration": 959,
    "start_time": "2022-04-17T17:38:37.437Z"
   },
   {
    "duration": 39,
    "start_time": "2022-04-17T17:38:38.398Z"
   },
   {
    "duration": 9,
    "start_time": "2022-04-17T17:38:38.441Z"
   },
   {
    "duration": 178,
    "start_time": "2022-04-17T17:38:38.452Z"
   },
   {
    "duration": 6,
    "start_time": "2022-04-17T17:38:38.633Z"
   },
   {
    "duration": 3,
    "start_time": "2022-04-17T17:47:09.333Z"
   },
   {
    "duration": 178,
    "start_time": "2022-04-17T17:53:57.513Z"
   },
   {
    "duration": 86,
    "start_time": "2022-04-17T17:55:02.206Z"
   },
   {
    "duration": 12,
    "start_time": "2022-04-17T17:55:12.248Z"
   },
   {
    "duration": 4,
    "start_time": "2022-04-17T17:56:12.628Z"
   },
   {
    "duration": 12,
    "start_time": "2022-04-17T17:56:35.756Z"
   },
   {
    "duration": 418,
    "start_time": "2022-04-17T18:21:15.958Z"
   },
   {
    "duration": 933,
    "start_time": "2022-04-17T18:21:16.378Z"
   },
   {
    "duration": 36,
    "start_time": "2022-04-17T18:21:17.313Z"
   },
   {
    "duration": 9,
    "start_time": "2022-04-17T18:21:17.352Z"
   },
   {
    "duration": 165,
    "start_time": "2022-04-17T18:21:17.363Z"
   },
   {
    "duration": 4,
    "start_time": "2022-04-17T18:21:17.530Z"
   },
   {
    "duration": 6,
    "start_time": "2022-04-17T18:21:17.536Z"
   },
   {
    "duration": 4,
    "start_time": "2022-04-17T18:22:12.636Z"
   },
   {
    "duration": 949,
    "start_time": "2022-04-17T18:22:15.417Z"
   },
   {
    "duration": 42,
    "start_time": "2022-04-17T18:22:17.246Z"
   },
   {
    "duration": 9,
    "start_time": "2022-04-17T18:22:17.915Z"
   },
   {
    "duration": 137,
    "start_time": "2022-04-17T18:22:18.337Z"
   },
   {
    "duration": 5,
    "start_time": "2022-04-17T18:22:19.722Z"
   },
   {
    "duration": 4,
    "start_time": "2022-04-17T18:22:20.104Z"
   },
   {
    "duration": 41,
    "start_time": "2022-04-17T18:29:47.787Z"
   },
   {
    "duration": 55,
    "start_time": "2022-04-17T18:29:54.163Z"
   },
   {
    "duration": 2,
    "start_time": "2022-04-17T18:30:14.226Z"
   },
   {
    "duration": 3,
    "start_time": "2022-04-17T19:35:29.010Z"
   },
   {
    "duration": 4,
    "start_time": "2022-04-17T19:35:36.392Z"
   },
   {
    "duration": 20,
    "start_time": "2022-04-17T19:35:57.031Z"
   },
   {
    "duration": 5,
    "start_time": "2022-04-17T19:36:04.983Z"
   },
   {
    "duration": 1016,
    "start_time": "2022-04-17T19:36:04.990Z"
   },
   {
    "duration": 39,
    "start_time": "2022-04-17T19:36:06.009Z"
   },
   {
    "duration": 9,
    "start_time": "2022-04-17T19:36:06.050Z"
   },
   {
    "duration": 182,
    "start_time": "2022-04-17T19:36:06.062Z"
   },
   {
    "duration": 4,
    "start_time": "2022-04-17T19:36:06.247Z"
   },
   {
    "duration": 60,
    "start_time": "2022-04-17T19:36:06.253Z"
   },
   {
    "duration": 7,
    "start_time": "2022-04-17T19:36:06.315Z"
   },
   {
    "duration": 6,
    "start_time": "2022-04-17T19:36:06.324Z"
   },
   {
    "duration": 1915,
    "start_time": "2022-04-17T19:36:06.332Z"
   },
   {
    "duration": 5,
    "start_time": "2022-04-17T19:36:38.887Z"
   },
   {
    "duration": 4,
    "start_time": "2022-04-17T19:36:58.096Z"
   },
   {
    "duration": 5,
    "start_time": "2022-04-17T19:36:59.448Z"
   },
   {
    "duration": 2390,
    "start_time": "2022-04-17T19:37:35.680Z"
   },
   {
    "duration": 5,
    "start_time": "2022-04-17T19:37:48.406Z"
   },
   {
    "duration": 71372,
    "start_time": "2022-04-17T19:52:31.959Z"
   },
   {
    "duration": 5,
    "start_time": "2022-04-17T19:55:13.133Z"
   },
   {
    "duration": 903,
    "start_time": "2022-04-17T19:55:13.140Z"
   },
   {
    "duration": 52,
    "start_time": "2022-04-17T19:55:14.046Z"
   },
   {
    "duration": 10,
    "start_time": "2022-04-17T19:55:14.100Z"
   },
   {
    "duration": 159,
    "start_time": "2022-04-17T19:55:14.113Z"
   },
   {
    "duration": 5,
    "start_time": "2022-04-17T19:55:14.275Z"
   },
   {
    "duration": 55,
    "start_time": "2022-04-17T19:55:14.281Z"
   },
   {
    "duration": 7,
    "start_time": "2022-04-17T19:55:14.338Z"
   },
   {
    "duration": 7,
    "start_time": "2022-04-17T19:55:14.347Z"
   },
   {
    "duration": 125438,
    "start_time": "2022-04-17T19:55:14.355Z"
   },
   {
    "duration": 12,
    "start_time": "2022-04-17T20:07:54.504Z"
   },
   {
    "duration": 2135,
    "start_time": "2022-04-17T22:06:59.805Z"
   },
   {
    "duration": 994,
    "start_time": "2022-04-17T22:07:01.942Z"
   },
   {
    "duration": 40,
    "start_time": "2022-04-17T22:07:02.938Z"
   },
   {
    "duration": 13,
    "start_time": "2022-04-17T22:07:02.992Z"
   },
   {
    "duration": 176,
    "start_time": "2022-04-17T22:07:03.007Z"
   },
   {
    "duration": 9,
    "start_time": "2022-04-17T22:07:03.186Z"
   },
   {
    "duration": 127027,
    "start_time": "2022-04-17T22:07:03.197Z"
   },
   {
    "duration": 11,
    "start_time": "2022-04-17T22:09:10.226Z"
   },
   {
    "duration": 59,
    "start_time": "2022-04-17T22:09:10.239Z"
   },
   {
    "duration": 1790,
    "start_time": "2022-04-18T18:13:25.531Z"
   },
   {
    "duration": 4889,
    "start_time": "2022-04-18T18:13:27.324Z"
   },
   {
    "duration": 36,
    "start_time": "2022-04-18T18:13:32.215Z"
   },
   {
    "duration": 14,
    "start_time": "2022-04-18T18:13:32.254Z"
   },
   {
    "duration": 128,
    "start_time": "2022-04-18T18:13:32.270Z"
   },
   {
    "duration": 4,
    "start_time": "2022-04-18T18:13:32.401Z"
   },
   {
    "duration": 87751,
    "start_time": "2022-04-18T18:13:32.407Z"
   },
   {
    "duration": 8,
    "start_time": "2022-04-18T18:15:00.160Z"
   },
   {
    "duration": 69,
    "start_time": "2022-04-18T18:15:00.173Z"
   },
   {
    "duration": 11,
    "start_time": "2022-04-18T18:15:00.245Z"
   },
   {
    "duration": 61,
    "start_time": "2022-04-18T18:15:00.257Z"
   },
   {
    "duration": 19,
    "start_time": "2022-04-18T18:15:00.320Z"
   },
   {
    "duration": 159,
    "start_time": "2022-04-18T18:19:25.539Z"
   },
   {
    "duration": 10,
    "start_time": "2022-04-18T18:19:56.319Z"
   },
   {
    "duration": 5,
    "start_time": "2022-04-18T18:21:10.574Z"
   },
   {
    "duration": 12,
    "start_time": "2022-04-18T18:21:15.611Z"
   },
   {
    "duration": 1757,
    "start_time": "2022-04-18T18:26:52.436Z"
   },
   {
    "duration": 1314,
    "start_time": "2022-04-18T18:26:54.196Z"
   },
   {
    "duration": 41,
    "start_time": "2022-04-18T18:26:55.512Z"
   },
   {
    "duration": 26,
    "start_time": "2022-04-18T18:26:55.555Z"
   },
   {
    "duration": 127,
    "start_time": "2022-04-18T18:26:55.583Z"
   },
   {
    "duration": 88203,
    "start_time": "2022-04-18T18:26:55.711Z"
   },
   {
    "duration": 7,
    "start_time": "2022-04-18T18:28:23.916Z"
   },
   {
    "duration": 53,
    "start_time": "2022-04-18T18:28:23.925Z"
   },
   {
    "duration": 14,
    "start_time": "2022-04-18T18:28:23.980Z"
   },
   {
    "duration": 37,
    "start_time": "2022-04-18T18:28:23.997Z"
   },
   {
    "duration": 18,
    "start_time": "2022-04-18T18:28:24.035Z"
   },
   {
    "duration": 149,
    "start_time": "2022-04-18T18:28:24.055Z"
   },
   {
    "duration": 0,
    "start_time": "2022-04-18T18:28:24.206Z"
   },
   {
    "duration": 0,
    "start_time": "2022-04-18T18:28:24.207Z"
   },
   {
    "duration": 0,
    "start_time": "2022-04-18T18:28:24.208Z"
   },
   {
    "duration": 0,
    "start_time": "2022-04-18T18:28:24.209Z"
   },
   {
    "duration": 5,
    "start_time": "2022-04-18T18:28:55.620Z"
   },
   {
    "duration": 7,
    "start_time": "2022-04-18T18:29:01.773Z"
   },
   {
    "duration": 3,
    "start_time": "2022-04-18T18:29:03.143Z"
   },
   {
    "duration": 4833,
    "start_time": "2022-04-18T18:29:03.851Z"
   },
   {
    "duration": 1442,
    "start_time": "2022-04-18T18:29:08.687Z"
   },
   {
    "duration": 1418,
    "start_time": "2022-04-18T18:29:10.131Z"
   },
   {
    "duration": 4,
    "start_time": "2022-04-18T18:29:36.311Z"
   },
   {
    "duration": 23,
    "start_time": "2022-04-18T18:35:51.039Z"
   },
   {
    "duration": 3,
    "start_time": "2022-04-18T18:37:20.320Z"
   },
   {
    "duration": 11,
    "start_time": "2022-04-18T18:37:32.979Z"
   },
   {
    "duration": 4,
    "start_time": "2022-04-18T18:37:38.899Z"
   },
   {
    "duration": 4,
    "start_time": "2022-04-18T18:37:52.216Z"
   },
   {
    "duration": 4,
    "start_time": "2022-04-18T18:38:15.129Z"
   },
   {
    "duration": 10,
    "start_time": "2022-04-18T18:39:46.505Z"
   },
   {
    "duration": 5,
    "start_time": "2022-04-18T18:40:00.972Z"
   },
   {
    "duration": 4,
    "start_time": "2022-04-18T18:40:23.667Z"
   },
   {
    "duration": 4,
    "start_time": "2022-04-18T18:40:40.895Z"
   },
   {
    "duration": 5,
    "start_time": "2022-04-18T18:45:12.695Z"
   },
   {
    "duration": 32,
    "start_time": "2022-04-18T18:45:28.356Z"
   },
   {
    "duration": 6,
    "start_time": "2022-04-18T18:46:26.052Z"
   },
   {
    "duration": 21,
    "start_time": "2022-04-18T18:46:54.718Z"
   },
   {
    "duration": 5,
    "start_time": "2022-04-18T18:47:06.213Z"
   },
   {
    "duration": 5,
    "start_time": "2022-04-18T18:47:23.487Z"
   },
   {
    "duration": 4,
    "start_time": "2022-04-18T18:47:54.933Z"
   },
   {
    "duration": 221,
    "start_time": "2022-04-18T18:48:00.025Z"
   },
   {
    "duration": 5,
    "start_time": "2022-04-18T18:48:59.946Z"
   },
   {
    "duration": 16,
    "start_time": "2022-04-18T18:49:14.725Z"
   },
   {
    "duration": 7,
    "start_time": "2022-04-18T18:52:40.489Z"
   },
   {
    "duration": 6,
    "start_time": "2022-04-18T18:53:24.863Z"
   },
   {
    "duration": 6,
    "start_time": "2022-04-18T18:53:34.785Z"
   },
   {
    "duration": 219,
    "start_time": "2022-04-18T18:53:53.088Z"
   },
   {
    "duration": 9,
    "start_time": "2022-04-18T18:54:42.746Z"
   },
   {
    "duration": 212,
    "start_time": "2022-04-18T18:54:48.132Z"
   },
   {
    "duration": 26,
    "start_time": "2022-04-18T18:57:49.786Z"
   },
   {
    "duration": 4,
    "start_time": "2022-04-18T19:03:46.032Z"
   },
   {
    "duration": 1612,
    "start_time": "2022-04-18T19:07:37.654Z"
   },
   {
    "duration": 5068,
    "start_time": "2022-04-18T19:07:39.268Z"
   },
   {
    "duration": 46,
    "start_time": "2022-04-18T19:07:44.339Z"
   },
   {
    "duration": 216,
    "start_time": "2022-04-18T19:07:44.388Z"
   },
   {
    "duration": 116,
    "start_time": "2022-04-18T19:07:44.606Z"
   },
   {
    "duration": 84109,
    "start_time": "2022-04-18T19:07:44.724Z"
   },
   {
    "duration": 9,
    "start_time": "2022-04-18T19:09:08.834Z"
   },
   {
    "duration": 49,
    "start_time": "2022-04-18T19:09:08.845Z"
   },
   {
    "duration": 8,
    "start_time": "2022-04-18T19:09:08.896Z"
   },
   {
    "duration": 46,
    "start_time": "2022-04-18T19:09:08.907Z"
   },
   {
    "duration": 4,
    "start_time": "2022-04-18T19:09:08.955Z"
   },
   {
    "duration": 5,
    "start_time": "2022-04-18T19:09:08.973Z"
   },
   {
    "duration": 10,
    "start_time": "2022-04-18T19:09:08.979Z"
   },
   {
    "duration": 6,
    "start_time": "2022-04-18T19:09:08.991Z"
   },
   {
    "duration": 32,
    "start_time": "2022-04-18T19:09:08.998Z"
   },
   {
    "duration": 4,
    "start_time": "2022-04-18T19:09:09.033Z"
   },
   {
    "duration": 37,
    "start_time": "2022-04-18T19:09:09.038Z"
   },
   {
    "duration": 8,
    "start_time": "2022-04-18T19:09:09.077Z"
   },
   {
    "duration": 7,
    "start_time": "2022-04-18T19:09:09.087Z"
   },
   {
    "duration": 10,
    "start_time": "2022-04-18T19:09:09.096Z"
   },
   {
    "duration": 6,
    "start_time": "2022-04-18T19:09:09.108Z"
   },
   {
    "duration": 4410,
    "start_time": "2022-04-18T19:09:09.116Z"
   },
   {
    "duration": 1378,
    "start_time": "2022-04-18T19:09:13.528Z"
   },
   {
    "duration": 1389,
    "start_time": "2022-04-18T19:09:14.908Z"
   },
   {
    "duration": 3,
    "start_time": "2022-04-18T19:12:45.919Z"
   },
   {
    "duration": 27,
    "start_time": "2022-04-18T19:12:47.144Z"
   },
   {
    "duration": 4,
    "start_time": "2022-04-18T19:12:47.743Z"
   },
   {
    "duration": 3,
    "start_time": "2022-04-18T19:12:58.698Z"
   },
   {
    "duration": 8,
    "start_time": "2022-04-18T19:13:06.448Z"
   },
   {
    "duration": 4,
    "start_time": "2022-04-18T19:13:15.465Z"
   },
   {
    "duration": 5,
    "start_time": "2022-04-18T19:13:16.061Z"
   },
   {
    "duration": 4,
    "start_time": "2022-04-18T19:20:02.421Z"
   },
   {
    "duration": 29,
    "start_time": "2022-04-18T19:20:09.859Z"
   },
   {
    "duration": 5,
    "start_time": "2022-04-18T19:20:10.808Z"
   },
   {
    "duration": 5,
    "start_time": "2022-04-18T19:20:12.215Z"
   },
   {
    "duration": 5,
    "start_time": "2022-04-18T19:20:12.675Z"
   },
   {
    "duration": 5,
    "start_time": "2022-04-18T19:20:13.268Z"
   },
   {
    "duration": 13,
    "start_time": "2022-04-18T19:20:16.325Z"
   },
   {
    "duration": 5,
    "start_time": "2022-04-18T19:20:16.743Z"
   },
   {
    "duration": 4,
    "start_time": "2022-04-18T19:20:17.203Z"
   },
   {
    "duration": 4,
    "start_time": "2022-04-18T19:20:17.662Z"
   },
   {
    "duration": 4,
    "start_time": "2022-04-18T19:20:18.228Z"
   },
   {
    "duration": 4,
    "start_time": "2022-04-18T19:20:19.320Z"
   },
   {
    "duration": 16,
    "start_time": "2022-04-18T19:20:20.030Z"
   },
   {
    "duration": 4319,
    "start_time": "2022-04-18T19:20:20.514Z"
   },
   {
    "duration": 1392,
    "start_time": "2022-04-18T19:20:24.835Z"
   },
   {
    "duration": 1415,
    "start_time": "2022-04-18T19:20:26.229Z"
   },
   {
    "duration": 5,
    "start_time": "2022-04-18T19:20:39.372Z"
   },
   {
    "duration": 812,
    "start_time": "2022-04-18T19:32:40.038Z"
   },
   {
    "duration": 4,
    "start_time": "2022-04-18T19:41:14.316Z"
   },
   {
    "duration": 136,
    "start_time": "2022-04-18T19:41:15.102Z"
   },
   {
    "duration": 1081,
    "start_time": "2022-04-18T19:42:59.152Z"
   },
   {
    "duration": 1163,
    "start_time": "2022-04-18T19:43:02.275Z"
   },
   {
    "duration": 5,
    "start_time": "2022-04-18T19:43:04.492Z"
   },
   {
    "duration": 4,
    "start_time": "2022-04-18T19:43:09.369Z"
   },
   {
    "duration": 5,
    "start_time": "2022-04-18T19:43:15.892Z"
   },
   {
    "duration": 5,
    "start_time": "2022-04-18T19:43:17.118Z"
   },
   {
    "duration": 537,
    "start_time": "2022-04-18T19:43:18.255Z"
   },
   {
    "duration": 5,
    "start_time": "2022-04-18T19:43:18.805Z"
   },
   {
    "duration": 5,
    "start_time": "2022-04-18T19:43:19.545Z"
   },
   {
    "duration": 5,
    "start_time": "2022-04-18T19:43:20.214Z"
   },
   {
    "duration": 4,
    "start_time": "2022-04-18T19:43:24.504Z"
   },
   {
    "duration": 3,
    "start_time": "2022-04-18T19:44:07.594Z"
   },
   {
    "duration": 14,
    "start_time": "2022-04-18T19:44:08.016Z"
   },
   {
    "duration": 31,
    "start_time": "2022-04-18T19:44:08.399Z"
   },
   {
    "duration": 216392,
    "start_time": "2022-04-18T19:48:57.537Z"
   },
   {
    "duration": 4,
    "start_time": "2022-04-18T19:52:40.014Z"
   },
   {
    "duration": 6517,
    "start_time": "2022-04-18T19:52:40.021Z"
   },
   {
    "duration": 38,
    "start_time": "2022-04-18T19:52:46.541Z"
   },
   {
    "duration": 37,
    "start_time": "2022-04-18T19:52:46.583Z"
   },
   {
    "duration": 3924,
    "start_time": "2022-04-18T19:52:46.622Z"
   },
   {
    "duration": 105824,
    "start_time": "2022-04-18T19:52:50.548Z"
   },
   {
    "duration": 22,
    "start_time": "2022-04-18T19:54:36.388Z"
   },
   {
    "duration": 67,
    "start_time": "2022-04-18T19:54:36.414Z"
   },
   {
    "duration": 359,
    "start_time": "2022-04-18T19:54:36.485Z"
   },
   {
    "duration": 12,
    "start_time": "2022-04-18T19:54:36.846Z"
   },
   {
    "duration": 89,
    "start_time": "2022-04-18T19:54:36.861Z"
   },
   {
    "duration": 4,
    "start_time": "2022-04-18T19:54:36.952Z"
   },
   {
    "duration": 26,
    "start_time": "2022-04-18T19:54:36.958Z"
   },
   {
    "duration": 55,
    "start_time": "2022-04-18T19:54:36.986Z"
   },
   {
    "duration": 13,
    "start_time": "2022-04-18T19:54:37.042Z"
   },
   {
    "duration": 140,
    "start_time": "2022-04-18T19:54:37.057Z"
   },
   {
    "duration": 47,
    "start_time": "2022-04-18T19:54:37.199Z"
   },
   {
    "duration": 21,
    "start_time": "2022-04-18T19:54:37.248Z"
   },
   {
    "duration": 57,
    "start_time": "2022-04-18T19:54:37.271Z"
   },
   {
    "duration": 16,
    "start_time": "2022-04-18T19:54:37.330Z"
   },
   {
    "duration": 9,
    "start_time": "2022-04-18T19:54:37.348Z"
   },
   {
    "duration": 6,
    "start_time": "2022-04-18T19:54:37.358Z"
   },
   {
    "duration": 270,
    "start_time": "2022-04-18T19:54:37.366Z"
   },
   {
    "duration": 88,
    "start_time": "2022-04-18T19:54:37.639Z"
   },
   {
    "duration": 101,
    "start_time": "2022-04-18T19:54:37.729Z"
   },
   {
    "duration": 206,
    "start_time": "2022-04-18T20:24:41.251Z"
   },
   {
    "duration": 71,
    "start_time": "2022-04-18T20:25:45.660Z"
   },
   {
    "duration": 70,
    "start_time": "2022-04-18T20:26:42.346Z"
   },
   {
    "duration": 17,
    "start_time": "2022-04-18T20:44:16.845Z"
   },
   {
    "duration": 55,
    "start_time": "2022-04-18T20:44:25.647Z"
   },
   {
    "duration": 382292,
    "start_time": "2022-04-18T20:44:29.892Z"
   },
   {
    "duration": 2905,
    "start_time": "2022-04-18T20:53:53.588Z"
   },
   {
    "duration": 1412248,
    "start_time": "2022-04-18T20:55:45.993Z"
   },
   {
    "duration": 565,
    "start_time": "2022-04-18T22:20:13.711Z"
   },
   {
    "duration": 4031678,
    "start_time": "2022-04-18T22:21:57.820Z"
   },
   {
    "duration": 67878,
    "start_time": "2022-04-18T23:29:37.943Z"
   },
   {
    "duration": 2197,
    "start_time": "2022-04-18T23:30:52.752Z"
   },
   {
    "duration": 7396,
    "start_time": "2022-04-18T23:30:54.951Z"
   },
   {
    "duration": 49,
    "start_time": "2022-04-18T23:31:02.349Z"
   },
   {
    "duration": 14,
    "start_time": "2022-04-18T23:31:02.400Z"
   },
   {
    "duration": 205,
    "start_time": "2022-04-18T23:31:02.416Z"
   },
   {
    "duration": 509,
    "start_time": "2022-04-18T23:31:02.622Z"
   },
   {
    "duration": 0,
    "start_time": "2022-04-18T23:31:03.134Z"
   },
   {
    "duration": 0,
    "start_time": "2022-04-18T23:31:03.135Z"
   },
   {
    "duration": 0,
    "start_time": "2022-04-18T23:31:03.136Z"
   },
   {
    "duration": 0,
    "start_time": "2022-04-18T23:31:03.137Z"
   },
   {
    "duration": 0,
    "start_time": "2022-04-18T23:31:03.138Z"
   },
   {
    "duration": 0,
    "start_time": "2022-04-18T23:31:03.139Z"
   },
   {
    "duration": 0,
    "start_time": "2022-04-18T23:31:03.140Z"
   },
   {
    "duration": 0,
    "start_time": "2022-04-18T23:31:03.141Z"
   },
   {
    "duration": 0,
    "start_time": "2022-04-18T23:31:03.142Z"
   },
   {
    "duration": 0,
    "start_time": "2022-04-18T23:31:03.143Z"
   },
   {
    "duration": 0,
    "start_time": "2022-04-18T23:31:03.144Z"
   },
   {
    "duration": 0,
    "start_time": "2022-04-18T23:31:03.145Z"
   },
   {
    "duration": 0,
    "start_time": "2022-04-18T23:31:03.146Z"
   },
   {
    "duration": 0,
    "start_time": "2022-04-18T23:31:03.147Z"
   },
   {
    "duration": 0,
    "start_time": "2022-04-18T23:31:03.148Z"
   },
   {
    "duration": 0,
    "start_time": "2022-04-18T23:31:03.149Z"
   },
   {
    "duration": 0,
    "start_time": "2022-04-18T23:31:03.150Z"
   },
   {
    "duration": 0,
    "start_time": "2022-04-18T23:31:03.151Z"
   },
   {
    "duration": 0,
    "start_time": "2022-04-18T23:31:03.151Z"
   },
   {
    "duration": 0,
    "start_time": "2022-04-18T23:31:03.153Z"
   },
   {
    "duration": 0,
    "start_time": "2022-04-18T23:31:03.153Z"
   },
   {
    "duration": 0,
    "start_time": "2022-04-18T23:31:03.155Z"
   },
   {
    "duration": 0,
    "start_time": "2022-04-18T23:31:03.155Z"
   },
   {
    "duration": 0,
    "start_time": "2022-04-18T23:31:03.156Z"
   },
   {
    "duration": 0,
    "start_time": "2022-04-18T23:31:03.157Z"
   },
   {
    "duration": 0,
    "start_time": "2022-04-18T23:31:03.158Z"
   },
   {
    "duration": 0,
    "start_time": "2022-04-18T23:31:03.159Z"
   },
   {
    "duration": 0,
    "start_time": "2022-04-18T23:31:03.160Z"
   },
   {
    "duration": 1550,
    "start_time": "2022-04-19T00:56:06.736Z"
   },
   {
    "duration": 840,
    "start_time": "2022-04-19T00:56:08.288Z"
   },
   {
    "duration": 44,
    "start_time": "2022-04-19T00:56:09.130Z"
   },
   {
    "duration": 16,
    "start_time": "2022-04-19T00:56:09.177Z"
   },
   {
    "duration": 204,
    "start_time": "2022-04-19T00:56:09.195Z"
   },
   {
    "duration": 76318,
    "start_time": "2022-04-19T00:56:09.401Z"
   },
   {
    "duration": 8,
    "start_time": "2022-04-19T00:57:25.721Z"
   },
   {
    "duration": 44,
    "start_time": "2022-04-19T00:57:25.731Z"
   },
   {
    "duration": 5,
    "start_time": "2022-04-19T00:57:25.777Z"
   },
   {
    "duration": 19,
    "start_time": "2022-04-19T00:57:25.785Z"
   },
   {
    "duration": 5,
    "start_time": "2022-04-19T00:57:25.805Z"
   },
   {
    "duration": 11,
    "start_time": "2022-04-19T00:57:25.812Z"
   },
   {
    "duration": 6,
    "start_time": "2022-04-19T00:57:25.824Z"
   },
   {
    "duration": 7,
    "start_time": "2022-04-19T00:57:25.831Z"
   },
   {
    "duration": 5,
    "start_time": "2022-04-19T00:57:25.839Z"
   },
   {
    "duration": 5,
    "start_time": "2022-04-19T00:57:25.873Z"
   },
   {
    "duration": 8,
    "start_time": "2022-04-19T00:57:25.879Z"
   },
   {
    "duration": 6,
    "start_time": "2022-04-19T00:57:25.888Z"
   },
   {
    "duration": 5,
    "start_time": "2022-04-19T00:57:25.896Z"
   },
   {
    "duration": 6,
    "start_time": "2022-04-19T00:57:25.902Z"
   },
   {
    "duration": 11,
    "start_time": "2022-04-19T00:57:25.909Z"
   },
   {
    "duration": 3,
    "start_time": "2022-04-19T00:57:25.922Z"
   },
   {
    "duration": 177,
    "start_time": "2022-04-19T00:57:25.926Z"
   },
   {
    "duration": 45,
    "start_time": "2022-04-19T00:57:26.104Z"
   },
   {
    "duration": 40,
    "start_time": "2022-04-19T00:57:26.151Z"
   },
   {
    "duration": 201,
    "start_time": "2022-04-19T00:57:26.193Z"
   },
   {
    "duration": 77,
    "start_time": "2022-04-19T00:57:26.396Z"
   },
   {
    "duration": 68,
    "start_time": "2022-04-19T00:57:26.476Z"
   },
   {
    "duration": 3,
    "start_time": "2022-04-19T00:57:26.546Z"
   },
   {
    "duration": 2829,
    "start_time": "2022-04-19T00:57:26.550Z"
   },
   {
    "duration": 3,
    "start_time": "2022-04-19T00:57:29.381Z"
   },
   {
    "duration": 544,
    "start_time": "2022-04-19T00:57:29.386Z"
   },
   {
    "duration": 1125443,
    "start_time": "2022-04-19T00:57:29.932Z"
   },
   {
    "duration": 98,
    "start_time": "2022-04-19T01:16:15.378Z"
   },
   {
    "duration": 916,
    "start_time": "2022-04-19T01:31:06.159Z"
   },
   {
    "duration": 2630,
    "start_time": "2022-04-19T21:25:03.678Z"
   },
   {
    "duration": 1909,
    "start_time": "2022-04-19T21:25:06.312Z"
   },
   {
    "duration": 62,
    "start_time": "2022-04-19T21:25:08.223Z"
   },
   {
    "duration": 16,
    "start_time": "2022-04-19T21:25:08.290Z"
   },
   {
    "duration": 287,
    "start_time": "2022-04-19T21:25:08.309Z"
   },
   {
    "duration": 145059,
    "start_time": "2022-04-19T21:25:08.599Z"
   },
   {
    "duration": 11,
    "start_time": "2022-04-19T21:27:33.661Z"
   },
   {
    "duration": 4,
    "start_time": "2022-04-19T21:27:33.682Z"
   },
   {
    "duration": 28,
    "start_time": "2022-04-19T21:27:33.689Z"
   },
   {
    "duration": 6,
    "start_time": "2022-04-19T21:27:33.721Z"
   },
   {
    "duration": 7,
    "start_time": "2022-04-19T21:27:33.729Z"
   },
   {
    "duration": 9,
    "start_time": "2022-04-19T21:27:33.738Z"
   },
   {
    "duration": 6,
    "start_time": "2022-04-19T21:27:33.749Z"
   },
   {
    "duration": 3,
    "start_time": "2022-04-19T21:27:33.782Z"
   },
   {
    "duration": 19,
    "start_time": "2022-04-19T21:27:33.787Z"
   },
   {
    "duration": 4,
    "start_time": "2022-04-19T21:27:33.810Z"
   },
   {
    "duration": 6,
    "start_time": "2022-04-19T21:27:33.816Z"
   },
   {
    "duration": 13,
    "start_time": "2022-04-19T21:27:33.824Z"
   },
   {
    "duration": 6,
    "start_time": "2022-04-19T21:27:33.839Z"
   },
   {
    "duration": 6,
    "start_time": "2022-04-19T21:27:33.848Z"
   },
   {
    "duration": 393,
    "start_time": "2022-04-19T21:27:33.856Z"
   },
   {
    "duration": 755,
    "start_time": "2022-04-19T21:27:34.252Z"
   },
   {
    "duration": 3,
    "start_time": "2022-04-19T21:27:35.010Z"
   },
   {
    "duration": 15,
    "start_time": "2022-04-19T21:27:35.015Z"
   },
   {
    "duration": 5202,
    "start_time": "2022-04-19T21:27:35.032Z"
   },
   {
    "duration": 5,
    "start_time": "2022-04-19T21:27:40.237Z"
   },
   {
    "duration": 8,
    "start_time": "2022-04-19T21:27:40.244Z"
   },
   {
    "duration": 819,
    "start_time": "2022-04-19T21:27:40.258Z"
   },
   {
    "duration": 4,
    "start_time": "2022-04-19T21:27:41.081Z"
   },
   {
    "duration": 16,
    "start_time": "2022-04-19T21:27:41.087Z"
   },
   {
    "duration": 1489,
    "start_time": "2022-04-19T21:27:41.106Z"
   },
   {
    "duration": 4,
    "start_time": "2022-04-19T21:27:42.599Z"
   },
   {
    "duration": 81,
    "start_time": "2022-04-19T21:27:42.606Z"
   },
   {
    "duration": 3881,
    "start_time": "2022-04-19T21:27:42.693Z"
   },
   {
    "duration": 806,
    "start_time": "2022-04-19T21:27:46.576Z"
   },
   {
    "duration": 1718,
    "start_time": "2022-04-19T21:27:47.385Z"
   },
   {
    "duration": 89,
    "start_time": "2022-04-19T21:27:49.106Z"
   },
   {
    "duration": 310,
    "start_time": "2022-04-19T21:27:49.198Z"
   },
   {
    "duration": 0,
    "start_time": "2022-04-19T21:27:49.511Z"
   },
   {
    "duration": 0,
    "start_time": "2022-04-19T21:27:49.512Z"
   },
   {
    "duration": 0,
    "start_time": "2022-04-19T21:27:49.514Z"
   },
   {
    "duration": 0,
    "start_time": "2022-04-19T21:27:49.515Z"
   },
   {
    "duration": 0,
    "start_time": "2022-04-19T21:27:49.517Z"
   },
   {
    "duration": 0,
    "start_time": "2022-04-19T21:27:49.518Z"
   },
   {
    "duration": 0,
    "start_time": "2022-04-19T21:27:49.520Z"
   },
   {
    "duration": 0,
    "start_time": "2022-04-19T21:27:49.522Z"
   },
   {
    "duration": 0,
    "start_time": "2022-04-19T21:27:49.523Z"
   },
   {
    "duration": 7,
    "start_time": "2022-04-19T21:28:33.181Z"
   },
   {
    "duration": 5,
    "start_time": "2022-04-19T21:31:57.222Z"
   },
   {
    "duration": 25,
    "start_time": "2022-04-19T21:31:58.313Z"
   },
   {
    "duration": 4005,
    "start_time": "2022-04-19T21:38:28.550Z"
   },
   {
    "duration": 8800,
    "start_time": "2022-04-19T21:38:34.199Z"
   },
   {
    "duration": 1279,
    "start_time": "2022-04-19T21:38:46.820Z"
   },
   {
    "duration": 2830,
    "start_time": "2022-04-19T21:38:51.674Z"
   },
   {
    "duration": 6,
    "start_time": "2022-04-19T21:39:05.518Z"
   },
   {
    "duration": 26,
    "start_time": "2022-04-19T21:39:07.488Z"
   },
   {
    "duration": 1819,
    "start_time": "2022-04-19T21:39:43.032Z"
   },
   {
    "duration": 644,
    "start_time": "2022-04-19T21:39:45.527Z"
   },
   {
    "duration": 425,
    "start_time": "2022-04-19T21:39:48.050Z"
   },
   {
    "duration": 827,
    "start_time": "2022-04-19T21:39:49.570Z"
   },
   {
    "duration": 76,
    "start_time": "2022-04-19T21:45:00.582Z"
   },
   {
    "duration": 2279,
    "start_time": "2022-04-19T21:59:02.570Z"
   },
   {
    "duration": 1905,
    "start_time": "2022-04-19T21:59:04.852Z"
   },
   {
    "duration": 51,
    "start_time": "2022-04-19T21:59:06.759Z"
   },
   {
    "duration": 15,
    "start_time": "2022-04-19T21:59:06.813Z"
   },
   {
    "duration": 293,
    "start_time": "2022-04-19T21:59:06.830Z"
   },
   {
    "duration": 150106,
    "start_time": "2022-04-19T21:59:07.125Z"
   },
   {
    "duration": 11,
    "start_time": "2022-04-19T22:01:37.234Z"
   },
   {
    "duration": 5,
    "start_time": "2022-04-19T22:01:37.247Z"
   },
   {
    "duration": 46,
    "start_time": "2022-04-19T22:01:37.254Z"
   },
   {
    "duration": 10,
    "start_time": "2022-04-19T22:01:37.307Z"
   },
   {
    "duration": 4,
    "start_time": "2022-04-19T22:01:37.320Z"
   },
   {
    "duration": 6,
    "start_time": "2022-04-19T22:01:37.327Z"
   },
   {
    "duration": 5,
    "start_time": "2022-04-19T22:01:37.336Z"
   },
   {
    "duration": 49,
    "start_time": "2022-04-19T22:01:37.345Z"
   },
   {
    "duration": 11,
    "start_time": "2022-04-19T22:01:37.397Z"
   },
   {
    "duration": 5,
    "start_time": "2022-04-19T22:01:37.410Z"
   },
   {
    "duration": 8,
    "start_time": "2022-04-19T22:01:37.417Z"
   },
   {
    "duration": 5,
    "start_time": "2022-04-19T22:01:37.427Z"
   },
   {
    "duration": 6,
    "start_time": "2022-04-19T22:01:37.434Z"
   },
   {
    "duration": 7,
    "start_time": "2022-04-19T22:01:37.442Z"
   },
   {
    "duration": 406,
    "start_time": "2022-04-19T22:01:37.451Z"
   },
   {
    "duration": 448,
    "start_time": "2022-04-19T22:01:37.859Z"
   },
   {
    "duration": 4,
    "start_time": "2022-04-19T22:01:38.311Z"
   },
   {
    "duration": 23,
    "start_time": "2022-04-19T22:01:38.318Z"
   },
   {
    "duration": 4220,
    "start_time": "2022-04-19T22:01:38.344Z"
   },
   {
    "duration": 4,
    "start_time": "2022-04-19T22:01:42.566Z"
   },
   {
    "duration": 847,
    "start_time": "2022-04-19T22:01:42.582Z"
   },
   {
    "duration": 3,
    "start_time": "2022-04-19T22:01:43.435Z"
   },
   {
    "duration": 1259,
    "start_time": "2022-04-19T22:01:43.441Z"
   },
   {
    "duration": 5334,
    "start_time": "2022-04-19T22:01:44.783Z"
   },
   {
    "duration": 1141,
    "start_time": "2022-04-19T22:01:50.119Z"
   },
   {
    "duration": 1442,
    "start_time": "2022-04-19T22:01:51.263Z"
   },
   {
    "duration": 5,
    "start_time": "2022-04-19T22:01:52.708Z"
   },
   {
    "duration": 120,
    "start_time": "2022-04-19T22:01:52.783Z"
   },
   {
    "duration": 5595,
    "start_time": "2022-04-19T22:01:52.906Z"
   },
   {
    "duration": 7400,
    "start_time": "2022-04-19T22:01:58.504Z"
   },
   {
    "duration": 1059,
    "start_time": "2022-04-19T22:02:05.906Z"
   },
   {
    "duration": 2235,
    "start_time": "2022-04-19T22:02:06.968Z"
   },
   {
    "duration": 182,
    "start_time": "2022-04-19T22:02:09.206Z"
   },
   {
    "duration": 1745,
    "start_time": "2022-04-19T22:02:09.392Z"
   },
   {
    "duration": 676,
    "start_time": "2022-04-19T22:02:11.140Z"
   },
   {
    "duration": 443,
    "start_time": "2022-04-19T22:02:11.818Z"
   },
   {
    "duration": 1141,
    "start_time": "2022-04-19T22:02:12.263Z"
   },
   {
    "duration": 24069,
    "start_time": "2022-04-19T22:06:00.931Z"
   },
   {
    "duration": 1896,
    "start_time": "2022-04-19T22:06:36.595Z"
   },
   {
    "duration": 2293,
    "start_time": "2022-04-19T22:09:37.112Z"
   },
   {
    "duration": 1104,
    "start_time": "2022-04-19T22:09:39.408Z"
   },
   {
    "duration": 45,
    "start_time": "2022-04-19T22:09:40.515Z"
   },
   {
    "duration": 32,
    "start_time": "2022-04-19T22:09:40.564Z"
   },
   {
    "duration": 273,
    "start_time": "2022-04-19T22:09:40.599Z"
   },
   {
    "duration": 144341,
    "start_time": "2022-04-19T22:09:40.885Z"
   },
   {
    "duration": 11,
    "start_time": "2022-04-19T22:12:05.228Z"
   },
   {
    "duration": 6,
    "start_time": "2022-04-19T22:12:05.242Z"
   },
   {
    "duration": 51,
    "start_time": "2022-04-19T22:12:05.250Z"
   },
   {
    "duration": 8,
    "start_time": "2022-04-19T22:12:05.306Z"
   },
   {
    "duration": 5,
    "start_time": "2022-04-19T22:12:05.316Z"
   },
   {
    "duration": 6,
    "start_time": "2022-04-19T22:12:05.323Z"
   },
   {
    "duration": 6,
    "start_time": "2022-04-19T22:12:05.331Z"
   },
   {
    "duration": 15,
    "start_time": "2022-04-19T22:12:05.339Z"
   },
   {
    "duration": 36,
    "start_time": "2022-04-19T22:12:05.356Z"
   },
   {
    "duration": 4,
    "start_time": "2022-04-19T22:12:05.394Z"
   },
   {
    "duration": 7,
    "start_time": "2022-04-19T22:12:05.401Z"
   },
   {
    "duration": 5,
    "start_time": "2022-04-19T22:12:05.410Z"
   },
   {
    "duration": 7,
    "start_time": "2022-04-19T22:12:05.418Z"
   },
   {
    "duration": 9,
    "start_time": "2022-04-19T22:12:05.427Z"
   },
   {
    "duration": 719,
    "start_time": "2022-04-19T22:12:05.438Z"
   },
   {
    "duration": 942,
    "start_time": "2022-04-19T22:12:06.160Z"
   },
   {
    "duration": 3,
    "start_time": "2022-04-19T22:12:07.105Z"
   },
   {
    "duration": 12215,
    "start_time": "2022-04-19T22:12:07.110Z"
   },
   {
    "duration": 4,
    "start_time": "2022-04-19T22:12:19.327Z"
   },
   {
    "duration": 1725,
    "start_time": "2022-04-19T22:12:19.334Z"
   },
   {
    "duration": 3,
    "start_time": "2022-04-19T22:12:21.062Z"
   },
   {
    "duration": 2802,
    "start_time": "2022-04-19T22:12:21.089Z"
   },
   {
    "duration": 13060,
    "start_time": "2022-04-19T22:12:23.894Z"
   },
   {
    "duration": 1722,
    "start_time": "2022-04-19T22:12:36.956Z"
   },
   {
    "duration": 2602,
    "start_time": "2022-04-19T22:12:38.687Z"
   },
   {
    "duration": 13,
    "start_time": "2022-04-19T22:12:41.388Z"
   },
   {
    "duration": 12,
    "start_time": "2022-04-19T22:12:41.484Z"
   },
   {
    "duration": 2293,
    "start_time": "2022-04-19T22:13:29.411Z"
   },
   {
    "duration": 1887,
    "start_time": "2022-04-19T22:13:31.708Z"
   },
   {
    "duration": 44,
    "start_time": "2022-04-19T22:13:33.598Z"
   },
   {
    "duration": 48,
    "start_time": "2022-04-19T22:13:33.645Z"
   },
   {
    "duration": 269,
    "start_time": "2022-04-19T22:13:33.696Z"
   },
   {
    "duration": 142221,
    "start_time": "2022-04-19T22:13:33.967Z"
   },
   {
    "duration": 11,
    "start_time": "2022-04-19T22:15:56.192Z"
   },
   {
    "duration": 9,
    "start_time": "2022-04-19T22:15:56.206Z"
   },
   {
    "duration": 20,
    "start_time": "2022-04-19T22:15:56.217Z"
   },
   {
    "duration": 6,
    "start_time": "2022-04-19T22:15:56.242Z"
   },
   {
    "duration": 31,
    "start_time": "2022-04-19T22:15:56.250Z"
   },
   {
    "duration": 18,
    "start_time": "2022-04-19T22:15:56.284Z"
   },
   {
    "duration": 5,
    "start_time": "2022-04-19T22:15:56.305Z"
   },
   {
    "duration": 6,
    "start_time": "2022-04-19T22:15:56.312Z"
   },
   {
    "duration": 9,
    "start_time": "2022-04-19T22:15:56.320Z"
   },
   {
    "duration": 6,
    "start_time": "2022-04-19T22:15:56.331Z"
   },
   {
    "duration": 7,
    "start_time": "2022-04-19T22:15:56.339Z"
   },
   {
    "duration": 6,
    "start_time": "2022-04-19T22:15:56.349Z"
   },
   {
    "duration": 31,
    "start_time": "2022-04-19T22:15:56.357Z"
   },
   {
    "duration": 11,
    "start_time": "2022-04-19T22:15:56.391Z"
   },
   {
    "duration": 351,
    "start_time": "2022-04-19T22:15:56.404Z"
   },
   {
    "duration": 405,
    "start_time": "2022-04-19T22:15:56.757Z"
   },
   {
    "duration": 3,
    "start_time": "2022-04-19T22:15:57.164Z"
   },
   {
    "duration": 3886,
    "start_time": "2022-04-19T22:15:57.182Z"
   },
   {
    "duration": 4,
    "start_time": "2022-04-19T22:16:01.070Z"
   },
   {
    "duration": 771,
    "start_time": "2022-04-19T22:16:01.086Z"
   },
   {
    "duration": 3,
    "start_time": "2022-04-19T22:16:01.859Z"
   },
   {
    "duration": 1431,
    "start_time": "2022-04-19T22:16:01.867Z"
   },
   {
    "duration": 4220,
    "start_time": "2022-04-19T22:16:03.389Z"
   },
   {
    "duration": 784,
    "start_time": "2022-04-19T22:16:07.611Z"
   },
   {
    "duration": 1397,
    "start_time": "2022-04-19T22:16:08.397Z"
   },
   {
    "duration": 10,
    "start_time": "2022-04-19T22:16:09.881Z"
   },
   {
    "duration": 94,
    "start_time": "2022-04-19T22:16:09.894Z"
   },
   {
    "duration": 3769,
    "start_time": "2022-04-19T22:16:09.993Z"
   },
   {
    "duration": 6900,
    "start_time": "2022-04-19T22:16:13.765Z"
   },
   {
    "duration": 976,
    "start_time": "2022-04-19T22:16:20.667Z"
   },
   {
    "duration": 2751,
    "start_time": "2022-04-19T22:16:21.645Z"
   },
   {
    "duration": 19,
    "start_time": "2022-04-19T22:16:24.481Z"
   },
   {
    "duration": 1559,
    "start_time": "2022-04-19T22:16:24.586Z"
   },
   {
    "duration": 576,
    "start_time": "2022-04-19T22:16:26.147Z"
   },
   {
    "duration": 408,
    "start_time": "2022-04-19T22:16:26.726Z"
   },
   {
    "duration": 661,
    "start_time": "2022-04-19T22:16:27.136Z"
   },
   {
    "duration": 4,
    "start_time": "2022-04-19T22:25:24.582Z"
   },
   {
    "duration": 199,
    "start_time": "2022-04-19T22:25:26.196Z"
   },
   {
    "duration": 3,
    "start_time": "2022-04-19T22:25:47.006Z"
   },
   {
    "duration": 3,
    "start_time": "2022-04-19T22:25:47.924Z"
   },
   {
    "duration": 21,
    "start_time": "2022-04-19T22:25:48.808Z"
   },
   {
    "duration": 4,
    "start_time": "2022-04-19T22:25:49.649Z"
   },
   {
    "duration": 3,
    "start_time": "2022-04-19T22:25:49.935Z"
   },
   {
    "duration": 3,
    "start_time": "2022-04-19T22:25:50.112Z"
   },
   {
    "duration": 3,
    "start_time": "2022-04-19T22:25:50.296Z"
   },
   {
    "duration": 13,
    "start_time": "2022-04-19T22:25:50.504Z"
   },
   {
    "duration": 4,
    "start_time": "2022-04-19T22:25:51.172Z"
   },
   {
    "duration": 3,
    "start_time": "2022-04-19T22:25:51.377Z"
   },
   {
    "duration": 4,
    "start_time": "2022-04-19T22:25:51.624Z"
   },
   {
    "duration": 4,
    "start_time": "2022-04-19T22:25:52.695Z"
   },
   {
    "duration": 5,
    "start_time": "2022-04-19T22:25:52.855Z"
   },
   {
    "duration": 11038,
    "start_time": "2022-04-19T22:25:54.437Z"
   },
   {
    "duration": 10981,
    "start_time": "2022-04-19T22:26:24.764Z"
   },
   {
    "duration": 17,
    "start_time": "2022-04-19T22:26:36.802Z"
   },
   {
    "duration": 3,
    "start_time": "2022-04-19T22:27:03.004Z"
   },
   {
    "duration": 2017,
    "start_time": "2022-04-19T22:27:39.556Z"
   },
   {
    "duration": 746,
    "start_time": "2022-04-19T22:27:56.937Z"
   },
   {
    "duration": 599,
    "start_time": "2022-04-19T22:28:04.595Z"
   },
   {
    "duration": 7424,
    "start_time": "2022-04-19T22:28:27.296Z"
   },
   {
    "duration": 2041,
    "start_time": "2022-04-19T22:28:57.534Z"
   },
   {
    "duration": 581,
    "start_time": "2022-04-19T22:29:15.931Z"
   },
   {
    "duration": 12766,
    "start_time": "2022-04-19T22:29:33.361Z"
   },
   {
    "duration": 5,
    "start_time": "2022-04-19T22:30:15.297Z"
   },
   {
    "duration": 4,
    "start_time": "2022-04-19T22:30:33.444Z"
   },
   {
    "duration": 178,
    "start_time": "2022-04-19T22:31:16.763Z"
   },
   {
    "duration": 2166,
    "start_time": "2022-04-19T22:31:33.817Z"
   },
   {
    "duration": 4392,
    "start_time": "2022-04-19T22:31:35.987Z"
   },
   {
    "duration": 0,
    "start_time": "2022-04-19T22:31:40.387Z"
   },
   {
    "duration": 0,
    "start_time": "2022-04-19T22:31:40.388Z"
   },
   {
    "duration": 0,
    "start_time": "2022-04-19T22:31:40.390Z"
   },
   {
    "duration": 0,
    "start_time": "2022-04-19T22:31:40.392Z"
   },
   {
    "duration": 0,
    "start_time": "2022-04-19T22:31:40.393Z"
   },
   {
    "duration": 0,
    "start_time": "2022-04-19T22:31:40.395Z"
   },
   {
    "duration": 0,
    "start_time": "2022-04-19T22:31:40.396Z"
   },
   {
    "duration": 0,
    "start_time": "2022-04-19T22:31:40.397Z"
   },
   {
    "duration": 0,
    "start_time": "2022-04-19T22:31:40.399Z"
   },
   {
    "duration": 0,
    "start_time": "2022-04-19T22:31:40.402Z"
   },
   {
    "duration": 0,
    "start_time": "2022-04-19T22:31:40.403Z"
   },
   {
    "duration": 0,
    "start_time": "2022-04-19T22:31:40.405Z"
   },
   {
    "duration": 0,
    "start_time": "2022-04-19T22:31:40.407Z"
   },
   {
    "duration": 0,
    "start_time": "2022-04-19T22:31:40.408Z"
   },
   {
    "duration": 0,
    "start_time": "2022-04-19T22:31:40.410Z"
   },
   {
    "duration": 0,
    "start_time": "2022-04-19T22:31:40.412Z"
   },
   {
    "duration": 0,
    "start_time": "2022-04-19T22:31:40.413Z"
   },
   {
    "duration": 0,
    "start_time": "2022-04-19T22:31:40.415Z"
   },
   {
    "duration": 0,
    "start_time": "2022-04-19T22:31:40.416Z"
   },
   {
    "duration": 0,
    "start_time": "2022-04-19T22:31:40.417Z"
   },
   {
    "duration": 0,
    "start_time": "2022-04-19T22:31:40.419Z"
   },
   {
    "duration": 0,
    "start_time": "2022-04-19T22:31:40.421Z"
   },
   {
    "duration": 0,
    "start_time": "2022-04-19T22:31:40.422Z"
   },
   {
    "duration": 0,
    "start_time": "2022-04-19T22:31:40.424Z"
   },
   {
    "duration": 0,
    "start_time": "2022-04-19T22:31:40.426Z"
   },
   {
    "duration": 0,
    "start_time": "2022-04-19T22:31:40.482Z"
   },
   {
    "duration": 0,
    "start_time": "2022-04-19T22:31:40.483Z"
   },
   {
    "duration": 0,
    "start_time": "2022-04-19T22:31:40.486Z"
   },
   {
    "duration": 0,
    "start_time": "2022-04-19T22:31:40.487Z"
   },
   {
    "duration": 0,
    "start_time": "2022-04-19T22:31:40.489Z"
   },
   {
    "duration": 0,
    "start_time": "2022-04-19T22:31:40.491Z"
   },
   {
    "duration": 0,
    "start_time": "2022-04-19T22:31:40.494Z"
   },
   {
    "duration": 0,
    "start_time": "2022-04-19T22:31:40.495Z"
   },
   {
    "duration": 0,
    "start_time": "2022-04-19T22:31:40.496Z"
   },
   {
    "duration": 0,
    "start_time": "2022-04-19T22:31:40.497Z"
   },
   {
    "duration": 0,
    "start_time": "2022-04-19T22:31:40.499Z"
   },
   {
    "duration": 0,
    "start_time": "2022-04-19T22:31:40.501Z"
   },
   {
    "duration": 0,
    "start_time": "2022-04-19T22:31:40.502Z"
   },
   {
    "duration": 0,
    "start_time": "2022-04-19T22:31:40.504Z"
   },
   {
    "duration": 0,
    "start_time": "2022-04-19T22:31:40.506Z"
   },
   {
    "duration": 2181,
    "start_time": "2022-04-19T22:32:55.913Z"
   },
   {
    "duration": 1129,
    "start_time": "2022-04-19T22:32:58.097Z"
   },
   {
    "duration": 59,
    "start_time": "2022-04-19T22:32:59.229Z"
   },
   {
    "duration": 17,
    "start_time": "2022-04-19T22:32:59.292Z"
   },
   {
    "duration": 290,
    "start_time": "2022-04-19T22:32:59.312Z"
   },
   {
    "duration": 144938,
    "start_time": "2022-04-19T22:32:59.604Z"
   },
   {
    "duration": 12,
    "start_time": "2022-04-19T22:35:24.544Z"
   },
   {
    "duration": 24,
    "start_time": "2022-04-19T22:35:24.558Z"
   },
   {
    "duration": 14,
    "start_time": "2022-04-19T22:35:24.585Z"
   },
   {
    "duration": 27,
    "start_time": "2022-04-19T22:35:24.603Z"
   },
   {
    "duration": 3,
    "start_time": "2022-04-19T22:35:24.633Z"
   },
   {
    "duration": 7,
    "start_time": "2022-04-19T22:35:24.639Z"
   },
   {
    "duration": 6,
    "start_time": "2022-04-19T22:35:24.648Z"
   },
   {
    "duration": 26,
    "start_time": "2022-04-19T22:35:24.657Z"
   },
   {
    "duration": 16,
    "start_time": "2022-04-19T22:35:24.686Z"
   },
   {
    "duration": 3,
    "start_time": "2022-04-19T22:35:24.704Z"
   },
   {
    "duration": 7,
    "start_time": "2022-04-19T22:35:24.710Z"
   },
   {
    "duration": 6,
    "start_time": "2022-04-19T22:35:24.719Z"
   },
   {
    "duration": 7,
    "start_time": "2022-04-19T22:35:24.728Z"
   },
   {
    "duration": 10,
    "start_time": "2022-04-19T22:35:24.737Z"
   },
   {
    "duration": 11204,
    "start_time": "2022-04-19T22:35:24.750Z"
   },
   {
    "duration": 3,
    "start_time": "2022-04-19T22:35:35.957Z"
   },
   {
    "duration": 12,
    "start_time": "2022-04-19T22:35:35.962Z"
   },
   {
    "duration": 2019,
    "start_time": "2022-04-19T22:35:35.991Z"
   },
   {
    "duration": 4,
    "start_time": "2022-04-19T22:35:38.013Z"
   },
   {
    "duration": 625,
    "start_time": "2022-04-19T22:35:38.020Z"
   },
   {
    "duration": 5,
    "start_time": "2022-04-19T22:35:38.647Z"
   },
   {
    "duration": 7783,
    "start_time": "2022-04-19T22:35:38.657Z"
   },
   {
    "duration": 2089,
    "start_time": "2022-04-19T22:35:46.443Z"
   },
   {
    "duration": 616,
    "start_time": "2022-04-19T22:35:48.534Z"
   },
   {
    "duration": 12880,
    "start_time": "2022-04-19T22:35:49.153Z"
   },
   {
    "duration": 6,
    "start_time": "2022-04-19T22:36:02.035Z"
   },
   {
    "duration": 36,
    "start_time": "2022-04-19T22:36:02.044Z"
   },
   {
    "duration": 385,
    "start_time": "2022-04-19T22:36:02.083Z"
   },
   {
    "duration": 0,
    "start_time": "2022-04-19T22:36:02.471Z"
   },
   {
    "duration": 0,
    "start_time": "2022-04-19T22:36:02.472Z"
   },
   {
    "duration": 0,
    "start_time": "2022-04-19T22:36:02.474Z"
   },
   {
    "duration": 0,
    "start_time": "2022-04-19T22:36:02.476Z"
   },
   {
    "duration": 0,
    "start_time": "2022-04-19T22:36:02.478Z"
   },
   {
    "duration": 0,
    "start_time": "2022-04-19T22:36:02.479Z"
   },
   {
    "duration": 0,
    "start_time": "2022-04-19T22:36:02.480Z"
   },
   {
    "duration": 0,
    "start_time": "2022-04-19T22:36:02.483Z"
   },
   {
    "duration": 6,
    "start_time": "2022-04-19T22:42:30.854Z"
   },
   {
    "duration": 17,
    "start_time": "2022-04-19T22:44:22.395Z"
   },
   {
    "duration": 7046,
    "start_time": "2022-04-19T22:46:46.721Z"
   },
   {
    "duration": 27,
    "start_time": "2022-04-19T22:46:53.770Z"
   },
   {
    "duration": 55,
    "start_time": "2022-04-19T22:47:17.012Z"
   },
   {
    "duration": 32,
    "start_time": "2022-04-19T22:47:18.979Z"
   },
   {
    "duration": 6,
    "start_time": "2022-04-19T22:48:58.297Z"
   },
   {
    "duration": 5,
    "start_time": "2022-04-19T22:49:18.517Z"
   },
   {
    "duration": 4,
    "start_time": "2022-04-19T22:53:48.186Z"
   },
   {
    "duration": 3,
    "start_time": "2022-04-19T22:53:48.643Z"
   },
   {
    "duration": 29,
    "start_time": "2022-04-19T22:53:49.064Z"
   },
   {
    "duration": 3,
    "start_time": "2022-04-19T22:53:49.557Z"
   },
   {
    "duration": 3,
    "start_time": "2022-04-19T22:53:49.981Z"
   },
   {
    "duration": 3,
    "start_time": "2022-04-19T22:53:50.261Z"
   },
   {
    "duration": 3,
    "start_time": "2022-04-19T22:53:50.726Z"
   },
   {
    "duration": 19,
    "start_time": "2022-04-19T22:53:51.173Z"
   },
   {
    "duration": 3,
    "start_time": "2022-04-19T22:53:51.595Z"
   },
   {
    "duration": 4,
    "start_time": "2022-04-19T22:53:52.059Z"
   },
   {
    "duration": 4,
    "start_time": "2022-04-19T22:53:52.497Z"
   },
   {
    "duration": 4,
    "start_time": "2022-04-19T22:53:52.968Z"
   },
   {
    "duration": 20,
    "start_time": "2022-04-19T22:53:53.390Z"
   },
   {
    "duration": 11836,
    "start_time": "2022-04-19T22:53:53.888Z"
   },
   {
    "duration": 4,
    "start_time": "2022-04-19T22:54:05.727Z"
   },
   {
    "duration": 5,
    "start_time": "2022-04-19T22:54:08.722Z"
   },
   {
    "duration": 2119,
    "start_time": "2022-04-19T22:54:12.206Z"
   },
   {
    "duration": 4,
    "start_time": "2022-04-19T22:54:16.778Z"
   },
   {
    "duration": 601,
    "start_time": "2022-04-19T22:54:18.957Z"
   },
   {
    "duration": 5,
    "start_time": "2022-04-19T22:54:20.680Z"
   },
   {
    "duration": 9522,
    "start_time": "2022-04-19T22:54:21.524Z"
   },
   {
    "duration": 2127,
    "start_time": "2022-04-19T22:54:38.511Z"
   },
   {
    "duration": 653,
    "start_time": "2022-04-19T22:54:54.195Z"
   },
   {
    "duration": 15011,
    "start_time": "2022-04-19T22:54:59.461Z"
   },
   {
    "duration": 8,
    "start_time": "2022-04-19T22:55:30.773Z"
   },
   {
    "duration": 6637,
    "start_time": "2022-04-19T22:55:33.164Z"
   },
   {
    "duration": 38,
    "start_time": "2022-04-19T22:55:53.574Z"
   },
   {
    "duration": 29,
    "start_time": "2022-04-19T22:56:33.196Z"
   },
   {
    "duration": 39,
    "start_time": "2022-04-19T22:57:07.378Z"
   },
   {
    "duration": 29,
    "start_time": "2022-04-19T22:57:08.681Z"
   },
   {
    "duration": 6865,
    "start_time": "2022-04-19T22:57:21.369Z"
   },
   {
    "duration": 46,
    "start_time": "2022-04-19T22:57:29.994Z"
   },
   {
    "duration": 29,
    "start_time": "2022-04-19T22:57:31.960Z"
   },
   {
    "duration": 7,
    "start_time": "2022-04-19T23:11:04.903Z"
   },
   {
    "duration": 4,
    "start_time": "2022-04-19T23:11:05.917Z"
   },
   {
    "duration": 177,
    "start_time": "2022-04-19T23:11:06.887Z"
   },
   {
    "duration": 6,
    "start_time": "2022-04-19T23:51:00.795Z"
   },
   {
    "duration": 16,
    "start_time": "2022-04-19T23:51:10.743Z"
   },
   {
    "duration": 5,
    "start_time": "2022-04-19T23:56:33.867Z"
   },
   {
    "duration": 4,
    "start_time": "2022-04-19T23:58:30.728Z"
   },
   {
    "duration": 6,
    "start_time": "2022-04-19T23:58:40.483Z"
   },
   {
    "duration": 13,
    "start_time": "2022-04-19T23:59:00.773Z"
   },
   {
    "duration": 2232,
    "start_time": "2022-04-20T00:00:07.162Z"
   },
   {
    "duration": 1104,
    "start_time": "2022-04-20T00:00:11.805Z"
   },
   {
    "duration": 46,
    "start_time": "2022-04-20T00:00:16.164Z"
   },
   {
    "duration": 15,
    "start_time": "2022-04-20T00:00:18.026Z"
   },
   {
    "duration": 257,
    "start_time": "2022-04-20T00:00:24.433Z"
   },
   {
    "duration": 141739,
    "start_time": "2022-04-20T00:00:31.819Z"
   },
   {
    "duration": 10,
    "start_time": "2022-04-20T00:02:56.707Z"
   },
   {
    "duration": 5,
    "start_time": "2022-04-20T00:09:42.708Z"
   },
   {
    "duration": 8,
    "start_time": "2022-04-20T00:09:53.451Z"
   },
   {
    "duration": 4,
    "start_time": "2022-04-20T00:10:22.547Z"
   },
   {
    "duration": 6,
    "start_time": "2022-04-20T00:10:23.463Z"
   },
   {
    "duration": 202,
    "start_time": "2022-04-20T00:10:53.833Z"
   },
   {
    "duration": 4,
    "start_time": "2022-04-20T00:18:15.294Z"
   },
   {
    "duration": 4,
    "start_time": "2022-04-20T00:22:46.945Z"
   },
   {
    "duration": 3,
    "start_time": "2022-04-20T00:22:47.793Z"
   },
   {
    "duration": 47,
    "start_time": "2022-04-20T00:22:48.351Z"
   },
   {
    "duration": 4,
    "start_time": "2022-04-20T00:22:48.950Z"
   },
   {
    "duration": 3,
    "start_time": "2022-04-20T00:22:49.336Z"
   },
   {
    "duration": 3,
    "start_time": "2022-04-20T00:22:49.652Z"
   },
   {
    "duration": 3,
    "start_time": "2022-04-20T00:22:50.074Z"
   },
   {
    "duration": 21,
    "start_time": "2022-04-20T00:22:50.461Z"
   },
   {
    "duration": 3,
    "start_time": "2022-04-20T00:22:51.023Z"
   },
   {
    "duration": 4,
    "start_time": "2022-04-20T00:22:51.235Z"
   },
   {
    "duration": 3,
    "start_time": "2022-04-20T00:22:51.623Z"
   },
   {
    "duration": 4,
    "start_time": "2022-04-20T00:22:52.397Z"
   },
   {
    "duration": 5,
    "start_time": "2022-04-20T00:22:55.727Z"
   },
   {
    "duration": 6783,
    "start_time": "2022-04-20T00:23:02.321Z"
   },
   {
    "duration": 5,
    "start_time": "2022-04-20T00:26:23.395Z"
   },
   {
    "duration": 4,
    "start_time": "2022-04-20T00:27:41.923Z"
   },
   {
    "duration": 4,
    "start_time": "2022-04-20T00:27:42.599Z"
   },
   {
    "duration": 32,
    "start_time": "2022-04-20T00:27:43.230Z"
   },
   {
    "duration": 3,
    "start_time": "2022-04-20T00:27:43.895Z"
   },
   {
    "duration": 4,
    "start_time": "2022-04-20T00:27:44.534Z"
   },
   {
    "duration": 3,
    "start_time": "2022-04-20T00:27:44.745Z"
   },
   {
    "duration": 4,
    "start_time": "2022-04-20T00:27:45.134Z"
   },
   {
    "duration": 17,
    "start_time": "2022-04-20T00:27:46.516Z"
   },
   {
    "duration": 4,
    "start_time": "2022-04-20T00:27:47.313Z"
   },
   {
    "duration": 4,
    "start_time": "2022-04-20T00:27:47.525Z"
   },
   {
    "duration": 4,
    "start_time": "2022-04-20T00:27:48.754Z"
   },
   {
    "duration": 4,
    "start_time": "2022-04-20T00:27:49.995Z"
   },
   {
    "duration": 16,
    "start_time": "2022-04-20T00:27:51.359Z"
   },
   {
    "duration": 6458,
    "start_time": "2022-04-20T00:28:04.495Z"
   },
   {
    "duration": 10925,
    "start_time": "2022-04-20T00:28:28.638Z"
   },
   {
    "duration": 17,
    "start_time": "2022-04-20T00:30:09.195Z"
   },
   {
    "duration": 3,
    "start_time": "2022-04-20T00:30:21.358Z"
   },
   {
    "duration": 2029,
    "start_time": "2022-04-20T00:30:24.502Z"
   },
   {
    "duration": 2322,
    "start_time": "2022-04-20T00:30:37.260Z"
   },
   {
    "duration": 1093,
    "start_time": "2022-04-20T00:30:39.585Z"
   },
   {
    "duration": 53,
    "start_time": "2022-04-20T00:30:40.682Z"
   },
   {
    "duration": 15,
    "start_time": "2022-04-20T00:30:40.737Z"
   },
   {
    "duration": 280,
    "start_time": "2022-04-20T00:30:40.754Z"
   },
   {
    "duration": 143303,
    "start_time": "2022-04-20T00:30:41.037Z"
   },
   {
    "duration": 11,
    "start_time": "2022-04-20T00:33:04.342Z"
   },
   {
    "duration": 11,
    "start_time": "2022-04-20T00:33:04.355Z"
   },
   {
    "duration": 3,
    "start_time": "2022-04-20T00:33:04.382Z"
   },
   {
    "duration": 39,
    "start_time": "2022-04-20T00:33:04.390Z"
   },
   {
    "duration": 3,
    "start_time": "2022-04-20T00:33:04.431Z"
   },
   {
    "duration": 6,
    "start_time": "2022-04-20T00:33:04.436Z"
   },
   {
    "duration": 8,
    "start_time": "2022-04-20T00:33:04.444Z"
   },
   {
    "duration": 6,
    "start_time": "2022-04-20T00:33:04.454Z"
   },
   {
    "duration": 33,
    "start_time": "2022-04-20T00:33:04.462Z"
   },
   {
    "duration": 5,
    "start_time": "2022-04-20T00:33:04.497Z"
   },
   {
    "duration": 6,
    "start_time": "2022-04-20T00:33:04.504Z"
   },
   {
    "duration": 7,
    "start_time": "2022-04-20T00:33:04.512Z"
   },
   {
    "duration": 5,
    "start_time": "2022-04-20T00:33:04.522Z"
   },
   {
    "duration": 6,
    "start_time": "2022-04-20T00:33:04.530Z"
   },
   {
    "duration": 11096,
    "start_time": "2022-04-20T00:33:04.538Z"
   },
   {
    "duration": 3,
    "start_time": "2022-04-20T00:33:15.637Z"
   },
   {
    "duration": 15,
    "start_time": "2022-04-20T00:33:15.642Z"
   },
   {
    "duration": 2035,
    "start_time": "2022-04-20T00:33:15.660Z"
   },
   {
    "duration": 5,
    "start_time": "2022-04-20T00:33:17.698Z"
   },
   {
    "duration": 596,
    "start_time": "2022-04-20T00:33:17.706Z"
   },
   {
    "duration": 5,
    "start_time": "2022-04-20T00:33:18.305Z"
   },
   {
    "duration": 8806,
    "start_time": "2022-04-20T00:33:18.318Z"
   },
   {
    "duration": 2682,
    "start_time": "2022-04-20T00:33:27.127Z"
   },
   {
    "duration": 624,
    "start_time": "2022-04-20T00:33:29.812Z"
   },
   {
    "duration": 13098,
    "start_time": "2022-04-20T00:33:30.439Z"
   },
   {
    "duration": 5,
    "start_time": "2022-04-20T00:33:43.540Z"
   },
   {
    "duration": 226,
    "start_time": "2022-04-20T00:33:43.548Z"
   },
   {
    "duration": 0,
    "start_time": "2022-04-20T00:33:43.776Z"
   },
   {
    "duration": 0,
    "start_time": "2022-04-20T00:33:43.786Z"
   },
   {
    "duration": 0,
    "start_time": "2022-04-20T00:33:43.788Z"
   },
   {
    "duration": 0,
    "start_time": "2022-04-20T00:33:43.791Z"
   },
   {
    "duration": 0,
    "start_time": "2022-04-20T00:33:43.793Z"
   },
   {
    "duration": 0,
    "start_time": "2022-04-20T00:33:43.795Z"
   },
   {
    "duration": 0,
    "start_time": "2022-04-20T00:33:43.797Z"
   },
   {
    "duration": 0,
    "start_time": "2022-04-20T00:33:43.799Z"
   },
   {
    "duration": 0,
    "start_time": "2022-04-20T00:33:43.800Z"
   },
   {
    "duration": 0,
    "start_time": "2022-04-20T00:33:43.802Z"
   },
   {
    "duration": 181,
    "start_time": "2022-04-20T00:35:58.711Z"
   },
   {
    "duration": 6693,
    "start_time": "2022-04-20T00:36:35.004Z"
   },
   {
    "duration": 41,
    "start_time": "2022-04-20T00:37:17.011Z"
   },
   {
    "duration": 25,
    "start_time": "2022-04-20T00:37:22.421Z"
   },
   {
    "duration": 6797,
    "start_time": "2022-04-20T00:39:14.024Z"
   },
   {
    "duration": 41,
    "start_time": "2022-04-20T00:39:21.600Z"
   },
   {
    "duration": 24,
    "start_time": "2022-04-20T00:39:28.214Z"
   },
   {
    "duration": 183,
    "start_time": "2022-04-20T00:44:52.167Z"
   },
   {
    "duration": 7081,
    "start_time": "2022-04-20T00:45:03.523Z"
   },
   {
    "duration": 6832,
    "start_time": "2022-04-20T00:45:13.836Z"
   },
   {
    "duration": 190,
    "start_time": "2022-04-20T00:45:21.865Z"
   },
   {
    "duration": 353,
    "start_time": "2022-04-20T00:45:39.697Z"
   },
   {
    "duration": 24,
    "start_time": "2022-04-20T00:45:41.137Z"
   },
   {
    "duration": 25,
    "start_time": "2022-04-20T00:45:48.434Z"
   },
   {
    "duration": 25,
    "start_time": "2022-04-20T00:51:12.595Z"
   },
   {
    "duration": 6,
    "start_time": "2022-04-20T00:51:17.469Z"
   },
   {
    "duration": 23,
    "start_time": "2022-04-20T00:51:19.837Z"
   },
   {
    "duration": 24,
    "start_time": "2022-04-20T00:51:26.047Z"
   },
   {
    "duration": 1948,
    "start_time": "2022-04-20T05:26:19.873Z"
   },
   {
    "duration": 926,
    "start_time": "2022-04-20T05:26:21.823Z"
   },
   {
    "duration": 34,
    "start_time": "2022-04-20T05:26:22.750Z"
   },
   {
    "duration": 12,
    "start_time": "2022-04-20T05:26:22.800Z"
   },
   {
    "duration": 189,
    "start_time": "2022-04-20T05:26:22.814Z"
   },
   {
    "duration": 92775,
    "start_time": "2022-04-20T05:26:23.006Z"
   },
   {
    "duration": 19,
    "start_time": "2022-04-20T05:27:55.783Z"
   },
   {
    "duration": 16,
    "start_time": "2022-04-20T05:27:55.804Z"
   },
   {
    "duration": 3,
    "start_time": "2022-04-20T05:27:55.821Z"
   },
   {
    "duration": 5,
    "start_time": "2022-04-20T05:27:55.826Z"
   },
   {
    "duration": 8,
    "start_time": "2022-04-20T05:27:55.833Z"
   },
   {
    "duration": 6,
    "start_time": "2022-04-20T05:27:55.842Z"
   },
   {
    "duration": 11,
    "start_time": "2022-04-20T05:27:55.850Z"
   },
   {
    "duration": 17,
    "start_time": "2022-04-20T05:27:55.864Z"
   },
   {
    "duration": 11,
    "start_time": "2022-04-20T05:27:55.882Z"
   },
   {
    "duration": 11,
    "start_time": "2022-04-20T05:27:55.901Z"
   },
   {
    "duration": 9,
    "start_time": "2022-04-20T05:27:55.914Z"
   },
   {
    "duration": 8,
    "start_time": "2022-04-20T05:27:55.924Z"
   },
   {
    "duration": 7,
    "start_time": "2022-04-20T05:27:55.935Z"
   },
   {
    "duration": 9,
    "start_time": "2022-04-20T05:27:55.944Z"
   },
   {
    "duration": 256,
    "start_time": "2022-04-20T05:27:55.955Z"
   },
   {
    "duration": 2,
    "start_time": "2022-04-20T05:27:56.213Z"
   },
   {
    "duration": 4,
    "start_time": "2022-04-20T05:27:56.217Z"
   },
   {
    "duration": 33,
    "start_time": "2022-04-20T05:27:56.223Z"
   },
   {
    "duration": 3,
    "start_time": "2022-04-20T05:27:56.258Z"
   },
   {
    "duration": 59,
    "start_time": "2022-04-20T05:27:56.263Z"
   },
   {
    "duration": 3,
    "start_time": "2022-04-20T05:27:56.324Z"
   },
   {
    "duration": 379,
    "start_time": "2022-04-20T05:27:56.329Z"
   },
   {
    "duration": 117,
    "start_time": "2022-04-20T05:27:56.711Z"
   },
   {
    "duration": 35,
    "start_time": "2022-04-20T05:27:56.830Z"
   },
   {
    "duration": 349,
    "start_time": "2022-04-20T05:27:56.867Z"
   },
   {
    "duration": 6,
    "start_time": "2022-04-20T05:27:57.296Z"
   },
   {
    "duration": 107,
    "start_time": "2022-04-20T05:27:57.304Z"
   },
   {
    "duration": 256,
    "start_time": "2022-04-20T05:27:57.413Z"
   },
   {
    "duration": 0,
    "start_time": "2022-04-20T05:27:57.671Z"
   },
   {
    "duration": 0,
    "start_time": "2022-04-20T05:27:57.673Z"
   },
   {
    "duration": 0,
    "start_time": "2022-04-20T05:27:57.674Z"
   },
   {
    "duration": 0,
    "start_time": "2022-04-20T05:27:57.675Z"
   },
   {
    "duration": 0,
    "start_time": "2022-04-20T05:27:57.676Z"
   },
   {
    "duration": 0,
    "start_time": "2022-04-20T05:27:57.677Z"
   },
   {
    "duration": 0,
    "start_time": "2022-04-20T05:27:57.678Z"
   },
   {
    "duration": 0,
    "start_time": "2022-04-20T05:27:57.680Z"
   },
   {
    "duration": 12,
    "start_time": "2022-04-20T05:34:25.312Z"
   },
   {
    "duration": 2,
    "start_time": "2022-04-20T05:34:26.576Z"
   },
   {
    "duration": 5,
    "start_time": "2022-04-20T05:34:27.026Z"
   },
   {
    "duration": 3,
    "start_time": "2022-04-20T05:34:27.734Z"
   },
   {
    "duration": 2,
    "start_time": "2022-04-20T05:34:27.962Z"
   },
   {
    "duration": 2,
    "start_time": "2022-04-20T05:34:28.121Z"
   },
   {
    "duration": 3,
    "start_time": "2022-04-20T05:34:28.293Z"
   },
   {
    "duration": 5,
    "start_time": "2022-04-20T05:34:28.684Z"
   },
   {
    "duration": 2,
    "start_time": "2022-04-20T05:34:29.107Z"
   },
   {
    "duration": 2,
    "start_time": "2022-04-20T05:34:29.383Z"
   },
   {
    "duration": 2,
    "start_time": "2022-04-20T05:34:29.558Z"
   },
   {
    "duration": 2,
    "start_time": "2022-04-20T05:34:30.161Z"
   },
   {
    "duration": 4,
    "start_time": "2022-04-20T05:34:30.898Z"
   },
   {
    "duration": 231,
    "start_time": "2022-04-20T05:34:31.603Z"
   },
   {
    "duration": 3,
    "start_time": "2022-04-20T05:34:33.430Z"
   },
   {
    "duration": 2,
    "start_time": "2022-04-20T05:34:33.813Z"
   },
   {
    "duration": 33,
    "start_time": "2022-04-20T05:34:34.839Z"
   },
   {
    "duration": 2,
    "start_time": "2022-04-20T05:34:37.224Z"
   },
   {
    "duration": 36,
    "start_time": "2022-04-20T05:34:37.651Z"
   },
   {
    "duration": 3,
    "start_time": "2022-04-20T05:34:38.811Z"
   },
   {
    "duration": 189,
    "start_time": "2022-04-20T05:34:39.305Z"
   },
   {
    "duration": 33,
    "start_time": "2022-04-20T05:34:41.806Z"
   },
   {
    "duration": 35,
    "start_time": "2022-04-20T05:34:43.423Z"
   },
   {
    "duration": 122,
    "start_time": "2022-04-20T05:34:43.775Z"
   },
   {
    "duration": 4,
    "start_time": "2022-04-20T05:34:45.606Z"
   },
   {
    "duration": 2,
    "start_time": "2022-04-20T05:34:46.064Z"
   },
   {
    "duration": 127,
    "start_time": "2022-04-20T05:34:46.626Z"
   },
   {
    "duration": 3,
    "start_time": "2022-04-20T05:52:09.527Z"
   },
   {
    "duration": 2,
    "start_time": "2022-04-20T05:52:10.336Z"
   },
   {
    "duration": 31,
    "start_time": "2022-04-20T05:52:10.864Z"
   },
   {
    "duration": 2,
    "start_time": "2022-04-20T05:52:11.428Z"
   },
   {
    "duration": 2,
    "start_time": "2022-04-20T05:52:11.637Z"
   },
   {
    "duration": 2,
    "start_time": "2022-04-20T05:52:11.849Z"
   },
   {
    "duration": 2,
    "start_time": "2022-04-20T05:52:12.022Z"
   },
   {
    "duration": 15,
    "start_time": "2022-04-20T05:52:12.448Z"
   },
   {
    "duration": 2,
    "start_time": "2022-04-20T05:52:12.869Z"
   },
   {
    "duration": 3,
    "start_time": "2022-04-20T05:52:13.185Z"
   },
   {
    "duration": 2,
    "start_time": "2022-04-20T05:52:13.715Z"
   },
   {
    "duration": 3,
    "start_time": "2022-04-20T05:52:16.320Z"
   },
   {
    "duration": 5,
    "start_time": "2022-04-20T05:52:16.849Z"
   },
   {
    "duration": 6894,
    "start_time": "2022-04-20T05:52:18.716Z"
   },
   {
    "duration": 2,
    "start_time": "2022-04-20T05:52:30.324Z"
   },
   {
    "duration": 2,
    "start_time": "2022-04-20T05:52:32.194Z"
   },
   {
    "duration": 909,
    "start_time": "2022-04-20T05:52:35.773Z"
   },
   {
    "duration": 2,
    "start_time": "2022-04-20T05:52:41.991Z"
   },
   {
    "duration": 325,
    "start_time": "2022-04-20T05:52:44.766Z"
   },
   {
    "duration": 2,
    "start_time": "2022-04-20T05:52:47.465Z"
   },
   {
    "duration": 674,
    "start_time": "2022-04-20T05:52:49.081Z"
   },
   {
    "duration": 935,
    "start_time": "2022-04-20T05:52:57.953Z"
   },
   {
    "duration": 349,
    "start_time": "2022-04-20T05:53:03.652Z"
   },
   {
    "duration": 883,
    "start_time": "2022-04-20T05:53:08.712Z"
   },
   {
    "duration": 116,
    "start_time": "2022-04-20T05:54:15.153Z"
   },
   {
    "duration": 3,
    "start_time": "2022-04-20T05:55:38.551Z"
   },
   {
    "duration": 3,
    "start_time": "2022-04-20T05:55:42.556Z"
   },
   {
    "duration": 138,
    "start_time": "2022-04-20T05:55:43.540Z"
   },
   {
    "duration": 5,
    "start_time": "2022-04-20T05:56:09.136Z"
   },
   {
    "duration": 2,
    "start_time": "2022-04-20T05:56:12.669Z"
   },
   {
    "duration": 165,
    "start_time": "2022-04-20T05:56:13.341Z"
   },
   {
    "duration": 4,
    "start_time": "2022-04-20T06:13:25.878Z"
   },
   {
    "duration": 171,
    "start_time": "2022-04-20T06:13:27.429Z"
   },
   {
    "duration": 4,
    "start_time": "2022-04-20T06:18:05.834Z"
   },
   {
    "duration": 15,
    "start_time": "2022-04-20T06:18:07.277Z"
   },
   {
    "duration": 4,
    "start_time": "2022-04-20T06:19:49.990Z"
   },
   {
    "duration": 160,
    "start_time": "2022-04-20T06:19:50.971Z"
   },
   {
    "duration": 4,
    "start_time": "2022-04-20T06:20:57.800Z"
   },
   {
    "duration": 184,
    "start_time": "2022-04-20T06:20:59.133Z"
   },
   {
    "duration": 4,
    "start_time": "2022-04-20T06:21:52.487Z"
   },
   {
    "duration": 5,
    "start_time": "2022-04-20T06:26:35.230Z"
   },
   {
    "duration": 10,
    "start_time": "2022-04-20T06:26:55.071Z"
   },
   {
    "duration": 1801,
    "start_time": "2022-04-20T06:28:57.089Z"
   },
   {
    "duration": 875,
    "start_time": "2022-04-20T06:28:58.893Z"
   },
   {
    "duration": 38,
    "start_time": "2022-04-20T06:28:59.769Z"
   },
   {
    "duration": 10,
    "start_time": "2022-04-20T06:28:59.809Z"
   },
   {
    "duration": 300,
    "start_time": "2022-04-20T06:28:59.821Z"
   },
   {
    "duration": 90763,
    "start_time": "2022-04-20T06:29:00.123Z"
   },
   {
    "duration": 10,
    "start_time": "2022-04-20T06:30:30.888Z"
   },
   {
    "duration": 16,
    "start_time": "2022-04-20T06:30:30.901Z"
   },
   {
    "duration": 21,
    "start_time": "2022-04-20T06:30:30.919Z"
   },
   {
    "duration": 58,
    "start_time": "2022-04-20T06:30:30.944Z"
   },
   {
    "duration": 3,
    "start_time": "2022-04-20T06:30:31.004Z"
   },
   {
    "duration": 28,
    "start_time": "2022-04-20T06:30:31.009Z"
   },
   {
    "duration": 33,
    "start_time": "2022-04-20T06:30:31.039Z"
   },
   {
    "duration": 23,
    "start_time": "2022-04-20T06:30:31.074Z"
   },
   {
    "duration": 32,
    "start_time": "2022-04-20T06:30:31.099Z"
   },
   {
    "duration": 2,
    "start_time": "2022-04-20T06:30:31.133Z"
   },
   {
    "duration": 27,
    "start_time": "2022-04-20T06:30:31.137Z"
   },
   {
    "duration": 17,
    "start_time": "2022-04-20T06:30:31.166Z"
   },
   {
    "duration": 32,
    "start_time": "2022-04-20T06:30:31.185Z"
   },
   {
    "duration": 17,
    "start_time": "2022-04-20T06:30:31.219Z"
   },
   {
    "duration": 6855,
    "start_time": "2022-04-20T06:30:31.237Z"
   },
   {
    "duration": 3,
    "start_time": "2022-04-20T06:30:38.094Z"
   },
   {
    "duration": 11,
    "start_time": "2022-04-20T06:30:38.098Z"
   },
   {
    "duration": 944,
    "start_time": "2022-04-20T06:30:38.110Z"
   },
   {
    "duration": 3,
    "start_time": "2022-04-20T06:30:39.056Z"
   },
   {
    "duration": 339,
    "start_time": "2022-04-20T06:30:39.061Z"
   },
   {
    "duration": 3,
    "start_time": "2022-04-20T06:30:39.402Z"
   },
   {
    "duration": 687,
    "start_time": "2022-04-20T06:30:39.408Z"
   },
   {
    "duration": 972,
    "start_time": "2022-04-20T06:30:40.097Z"
   },
   {
    "duration": 362,
    "start_time": "2022-04-20T06:30:41.071Z"
   },
   {
    "duration": 842,
    "start_time": "2022-04-20T06:30:41.435Z"
   },
   {
    "duration": 13,
    "start_time": "2022-04-20T06:30:42.280Z"
   },
   {
    "duration": 5,
    "start_time": "2022-04-20T06:30:42.295Z"
   },
   {
    "duration": 51,
    "start_time": "2022-04-20T06:45:10.799Z"
   },
   {
    "duration": 1633,
    "start_time": "2022-04-20T06:45:21.024Z"
   },
   {
    "duration": 827,
    "start_time": "2022-04-20T06:45:22.659Z"
   },
   {
    "duration": 30,
    "start_time": "2022-04-20T06:45:23.488Z"
   },
   {
    "duration": 11,
    "start_time": "2022-04-20T06:45:23.521Z"
   },
   {
    "duration": 193,
    "start_time": "2022-04-20T06:45:23.534Z"
   },
   {
    "duration": 89026,
    "start_time": "2022-04-20T06:45:23.729Z"
   },
   {
    "duration": 8,
    "start_time": "2022-04-20T06:46:52.756Z"
   },
   {
    "duration": 5,
    "start_time": "2022-04-20T06:46:52.766Z"
   },
   {
    "duration": 7,
    "start_time": "2022-04-20T06:46:52.773Z"
   },
   {
    "duration": 33,
    "start_time": "2022-04-20T06:46:52.794Z"
   },
   {
    "duration": 3,
    "start_time": "2022-04-20T06:46:52.829Z"
   },
   {
    "duration": 14,
    "start_time": "2022-04-20T06:46:52.833Z"
   },
   {
    "duration": 4,
    "start_time": "2022-04-20T06:46:52.848Z"
   },
   {
    "duration": 7,
    "start_time": "2022-04-20T06:46:52.853Z"
   },
   {
    "duration": 21,
    "start_time": "2022-04-20T06:46:52.861Z"
   },
   {
    "duration": 9,
    "start_time": "2022-04-20T06:46:52.884Z"
   },
   {
    "duration": 9,
    "start_time": "2022-04-20T06:46:52.895Z"
   },
   {
    "duration": 9,
    "start_time": "2022-04-20T06:46:52.905Z"
   },
   {
    "duration": 7,
    "start_time": "2022-04-20T06:46:52.915Z"
   },
   {
    "duration": 10,
    "start_time": "2022-04-20T06:46:52.924Z"
   },
   {
    "duration": 6994,
    "start_time": "2022-04-20T06:46:52.935Z"
   },
   {
    "duration": 3,
    "start_time": "2022-04-20T06:46:59.931Z"
   },
   {
    "duration": 11,
    "start_time": "2022-04-20T06:46:59.936Z"
   },
   {
    "duration": 957,
    "start_time": "2022-04-20T06:46:59.949Z"
   },
   {
    "duration": 4,
    "start_time": "2022-04-20T06:47:00.908Z"
   },
   {
    "duration": 478,
    "start_time": "2022-04-20T06:47:00.914Z"
   },
   {
    "duration": 3,
    "start_time": "2022-04-20T06:47:01.394Z"
   },
   {
    "duration": 688,
    "start_time": "2022-04-20T06:47:01.402Z"
   },
   {
    "duration": 1087,
    "start_time": "2022-04-20T06:47:02.093Z"
   },
   {
    "duration": 358,
    "start_time": "2022-04-20T06:47:03.182Z"
   },
   {
    "duration": 857,
    "start_time": "2022-04-20T06:47:03.543Z"
   },
   {
    "duration": 5,
    "start_time": "2022-04-20T06:47:04.402Z"
   },
   {
    "duration": 18,
    "start_time": "2022-04-20T06:47:04.409Z"
   },
   {
    "duration": 8,
    "start_time": "2022-04-20T06:47:04.429Z"
   },
   {
    "duration": 281,
    "start_time": "2022-04-20T06:47:04.439Z"
   },
   {
    "duration": 0,
    "start_time": "2022-04-20T06:47:04.722Z"
   },
   {
    "duration": 0,
    "start_time": "2022-04-20T06:47:04.723Z"
   },
   {
    "duration": 0,
    "start_time": "2022-04-20T06:47:04.724Z"
   },
   {
    "duration": 0,
    "start_time": "2022-04-20T06:47:04.725Z"
   },
   {
    "duration": 0,
    "start_time": "2022-04-20T06:47:04.726Z"
   },
   {
    "duration": 0,
    "start_time": "2022-04-20T06:47:04.727Z"
   },
   {
    "duration": 0,
    "start_time": "2022-04-20T06:47:04.728Z"
   },
   {
    "duration": 0,
    "start_time": "2022-04-20T06:47:04.729Z"
   },
   {
    "duration": 5,
    "start_time": "2022-04-20T06:47:38.416Z"
   },
   {
    "duration": 172,
    "start_time": "2022-04-20T06:47:38.978Z"
   },
   {
    "duration": 4,
    "start_time": "2022-04-20T07:02:42.476Z"
   },
   {
    "duration": 22,
    "start_time": "2022-04-20T07:02:55.526Z"
   },
   {
    "duration": 3,
    "start_time": "2022-04-20T07:04:47.041Z"
   },
   {
    "duration": 4,
    "start_time": "2022-04-20T07:05:00.143Z"
   },
   {
    "duration": 3,
    "start_time": "2022-04-20T07:05:06.664Z"
   },
   {
    "duration": 4,
    "start_time": "2022-04-20T07:05:14.517Z"
   },
   {
    "duration": 4,
    "start_time": "2022-04-20T07:05:20.785Z"
   },
   {
    "duration": 3,
    "start_time": "2022-04-20T07:05:25.340Z"
   },
   {
    "duration": 3,
    "start_time": "2022-04-20T07:05:54.667Z"
   },
   {
    "duration": 6,
    "start_time": "2022-04-20T07:06:24.398Z"
   },
   {
    "duration": 2064,
    "start_time": "2022-04-20T07:06:31.511Z"
   },
   {
    "duration": 3,
    "start_time": "2022-04-20T07:06:41.699Z"
   },
   {
    "duration": 3,
    "start_time": "2022-04-20T07:06:51.620Z"
   },
   {
    "duration": 5,
    "start_time": "2022-04-20T07:06:57.609Z"
   },
   {
    "duration": 4,
    "start_time": "2022-04-20T07:07:07.817Z"
   },
   {
    "duration": 4,
    "start_time": "2022-04-20T07:07:18.073Z"
   },
   {
    "duration": 4,
    "start_time": "2022-04-20T07:07:24.689Z"
   },
   {
    "duration": 4,
    "start_time": "2022-04-20T07:07:30.801Z"
   },
   {
    "duration": 4,
    "start_time": "2022-04-20T07:07:36.045Z"
   },
   {
    "duration": 4,
    "start_time": "2022-04-20T07:07:45.172Z"
   },
   {
    "duration": 3,
    "start_time": "2022-04-20T07:08:17.712Z"
   },
   {
    "duration": 3,
    "start_time": "2022-04-20T07:08:26.266Z"
   },
   {
    "duration": 4,
    "start_time": "2022-04-20T07:08:47.628Z"
   },
   {
    "duration": 4,
    "start_time": "2022-04-20T07:11:35.929Z"
   },
   {
    "duration": 17,
    "start_time": "2022-04-20T07:11:38.317Z"
   },
   {
    "duration": 6,
    "start_time": "2022-04-20T07:12:20.739Z"
   },
   {
    "duration": 206,
    "start_time": "2022-04-20T07:12:21.617Z"
   },
   {
    "duration": 6,
    "start_time": "2022-04-20T07:12:31.841Z"
   },
   {
    "duration": 161,
    "start_time": "2022-04-20T07:12:32.575Z"
   },
   {
    "duration": 4,
    "start_time": "2022-04-20T07:12:59.956Z"
   },
   {
    "duration": 141,
    "start_time": "2022-04-20T07:13:00.804Z"
   },
   {
    "duration": 5,
    "start_time": "2022-04-20T07:13:08.124Z"
   },
   {
    "duration": 141,
    "start_time": "2022-04-20T07:13:08.760Z"
   },
   {
    "duration": 16,
    "start_time": "2022-04-20T07:16:21.693Z"
   },
   {
    "duration": 10,
    "start_time": "2022-04-20T07:16:31.440Z"
   },
   {
    "duration": 6,
    "start_time": "2022-04-20T07:16:57.938Z"
   },
   {
    "duration": 7,
    "start_time": "2022-04-20T07:17:48.314Z"
   },
   {
    "duration": 14,
    "start_time": "2022-04-20T07:17:49.922Z"
   },
   {
    "duration": 5,
    "start_time": "2022-04-20T07:18:10.946Z"
   },
   {
    "duration": 19,
    "start_time": "2022-04-20T07:18:12.492Z"
   },
   {
    "duration": 5,
    "start_time": "2022-04-20T07:19:15.376Z"
   },
   {
    "duration": 16,
    "start_time": "2022-04-20T07:19:17.553Z"
   },
   {
    "duration": 7,
    "start_time": "2022-04-20T07:22:11.357Z"
   },
   {
    "duration": 3,
    "start_time": "2022-04-20T07:22:44.265Z"
   },
   {
    "duration": 5,
    "start_time": "2022-04-20T07:22:54.753Z"
   },
   {
    "duration": 24,
    "start_time": "2022-04-20T07:22:55.501Z"
   },
   {
    "duration": 6,
    "start_time": "2022-04-20T07:23:10.572Z"
   },
   {
    "duration": 14,
    "start_time": "2022-04-20T07:23:11.341Z"
   },
   {
    "duration": 4,
    "start_time": "2022-04-20T07:23:29.564Z"
   },
   {
    "duration": 25,
    "start_time": "2022-04-20T07:23:30.196Z"
   },
   {
    "duration": 6,
    "start_time": "2022-04-20T07:23:44.563Z"
   },
   {
    "duration": 24,
    "start_time": "2022-04-20T07:23:45.547Z"
   },
   {
    "duration": 4,
    "start_time": "2022-04-20T07:25:57.674Z"
   },
   {
    "duration": 7,
    "start_time": "2022-04-20T07:25:58.871Z"
   },
   {
    "duration": 9,
    "start_time": "2022-04-20T07:26:09.490Z"
   },
   {
    "duration": 5,
    "start_time": "2022-04-20T07:26:10.264Z"
   },
   {
    "duration": 21,
    "start_time": "2022-04-20T07:26:11.708Z"
   },
   {
    "duration": 19,
    "start_time": "2022-04-20T07:26:43.632Z"
   },
   {
    "duration": 18,
    "start_time": "2022-04-20T07:27:04.114Z"
   },
   {
    "duration": 21,
    "start_time": "2022-04-20T07:27:40.902Z"
   },
   {
    "duration": 6,
    "start_time": "2022-04-20T07:29:23.091Z"
   },
   {
    "duration": 6,
    "start_time": "2022-04-20T07:29:24.357Z"
   },
   {
    "duration": 5,
    "start_time": "2022-04-20T07:29:42.819Z"
   },
   {
    "duration": 5,
    "start_time": "2022-04-20T07:29:43.420Z"
   },
   {
    "duration": 24,
    "start_time": "2022-04-20T07:29:45.491Z"
   },
   {
    "duration": 14,
    "start_time": "2022-04-20T07:29:47.952Z"
   },
   {
    "duration": 22,
    "start_time": "2022-04-20T07:29:49.044Z"
   },
   {
    "duration": 5,
    "start_time": "2022-04-20T07:38:34.990Z"
   },
   {
    "duration": 184,
    "start_time": "2022-04-20T07:38:35.691Z"
   },
   {
    "duration": 4,
    "start_time": "2022-04-20T07:39:04.810Z"
   },
   {
    "duration": 24,
    "start_time": "2022-04-20T07:39:05.299Z"
   },
   {
    "duration": 4,
    "start_time": "2022-04-20T07:39:26.831Z"
   },
   {
    "duration": 26,
    "start_time": "2022-04-20T07:39:27.426Z"
   },
   {
    "duration": 5,
    "start_time": "2022-04-20T07:39:50.513Z"
   },
   {
    "duration": 159,
    "start_time": "2022-04-20T07:39:51.143Z"
   },
   {
    "duration": 6,
    "start_time": "2022-04-20T07:40:05.560Z"
   },
   {
    "duration": 158,
    "start_time": "2022-04-20T07:40:06.618Z"
   },
   {
    "duration": 5,
    "start_time": "2022-04-20T07:40:18.808Z"
   },
   {
    "duration": 142,
    "start_time": "2022-04-20T07:40:19.438Z"
   },
   {
    "duration": 5,
    "start_time": "2022-04-20T07:41:06.310Z"
   },
   {
    "duration": 243,
    "start_time": "2022-04-20T07:41:07.225Z"
   },
   {
    "duration": 4,
    "start_time": "2022-04-20T07:41:39.977Z"
   },
   {
    "duration": 193,
    "start_time": "2022-04-20T07:41:40.681Z"
   },
   {
    "duration": 6,
    "start_time": "2022-04-20T07:41:58.406Z"
   },
   {
    "duration": 168,
    "start_time": "2022-04-20T07:41:58.893Z"
   },
   {
    "duration": 4,
    "start_time": "2022-04-20T07:45:10.540Z"
   },
   {
    "duration": 175,
    "start_time": "2022-04-20T07:45:11.134Z"
   },
   {
    "duration": 4,
    "start_time": "2022-04-20T07:48:15.662Z"
   },
   {
    "duration": 204,
    "start_time": "2022-04-20T07:48:15.883Z"
   },
   {
    "duration": 4,
    "start_time": "2022-04-20T07:53:22.909Z"
   },
   {
    "duration": 143,
    "start_time": "2022-04-20T07:53:23.710Z"
   },
   {
    "duration": 4,
    "start_time": "2022-04-20T07:56:35.741Z"
   },
   {
    "duration": 4,
    "start_time": "2022-04-20T07:56:45.503Z"
   },
   {
    "duration": 11,
    "start_time": "2022-04-20T07:57:00.921Z"
   },
   {
    "duration": 12,
    "start_time": "2022-04-20T07:57:05.788Z"
   },
   {
    "duration": 10,
    "start_time": "2022-04-20T07:57:11.167Z"
   },
   {
    "duration": 9,
    "start_time": "2022-04-20T07:57:15.666Z"
   },
   {
    "duration": 10,
    "start_time": "2022-04-20T07:57:21.926Z"
   },
   {
    "duration": 10,
    "start_time": "2022-04-20T07:57:25.908Z"
   },
   {
    "duration": 4,
    "start_time": "2022-04-20T07:57:29.898Z"
   },
   {
    "duration": 11,
    "start_time": "2022-04-20T07:57:36.104Z"
   },
   {
    "duration": 3,
    "start_time": "2022-04-20T07:57:40.161Z"
   },
   {
    "duration": 4,
    "start_time": "2022-04-20T07:57:43.905Z"
   },
   {
    "duration": 7,
    "start_time": "2022-04-20T07:59:28.483Z"
   },
   {
    "duration": 20,
    "start_time": "2022-04-20T07:59:29.848Z"
   },
   {
    "duration": 5,
    "start_time": "2022-04-20T08:01:10.532Z"
   },
   {
    "duration": 20,
    "start_time": "2022-04-20T08:01:11.448Z"
   },
   {
    "duration": 5,
    "start_time": "2022-04-20T08:01:40.245Z"
   },
   {
    "duration": 14,
    "start_time": "2022-04-20T08:01:41.949Z"
   },
   {
    "duration": 5,
    "start_time": "2022-04-20T08:05:29.470Z"
   },
   {
    "duration": 172,
    "start_time": "2022-04-20T08:05:30.138Z"
   },
   {
    "duration": 4,
    "start_time": "2022-04-20T08:11:06.814Z"
   },
   {
    "duration": 22,
    "start_time": "2022-04-20T08:11:08.042Z"
   },
   {
    "duration": 5,
    "start_time": "2022-04-20T08:11:59.881Z"
   },
   {
    "duration": 182,
    "start_time": "2022-04-20T08:12:01.127Z"
   },
   {
    "duration": 6,
    "start_time": "2022-04-20T08:13:23.951Z"
   },
   {
    "duration": 181,
    "start_time": "2022-04-20T08:13:24.619Z"
   },
   {
    "duration": 5,
    "start_time": "2022-04-20T08:20:32.537Z"
   },
   {
    "duration": 56,
    "start_time": "2022-04-20T08:20:33.800Z"
   },
   {
    "duration": 5,
    "start_time": "2022-04-20T08:21:24.940Z"
   },
   {
    "duration": 163,
    "start_time": "2022-04-20T08:21:25.748Z"
   },
   {
    "duration": 5,
    "start_time": "2022-04-20T08:22:44.215Z"
   },
   {
    "duration": 1780,
    "start_time": "2022-04-20T08:24:53.668Z"
   },
   {
    "duration": 858,
    "start_time": "2022-04-20T08:24:55.450Z"
   },
   {
    "duration": 31,
    "start_time": "2022-04-20T08:24:56.310Z"
   },
   {
    "duration": 11,
    "start_time": "2022-04-20T08:24:56.344Z"
   },
   {
    "duration": 205,
    "start_time": "2022-04-20T08:24:56.357Z"
   },
   {
    "duration": 89904,
    "start_time": "2022-04-20T08:24:56.564Z"
   },
   {
    "duration": 9,
    "start_time": "2022-04-20T08:26:26.470Z"
   },
   {
    "duration": 14,
    "start_time": "2022-04-20T08:26:26.480Z"
   },
   {
    "duration": 5,
    "start_time": "2022-04-20T08:26:26.496Z"
   },
   {
    "duration": 34,
    "start_time": "2022-04-20T08:26:26.505Z"
   },
   {
    "duration": 3,
    "start_time": "2022-04-20T08:26:26.541Z"
   },
   {
    "duration": 6,
    "start_time": "2022-04-20T08:26:26.546Z"
   },
   {
    "duration": 5,
    "start_time": "2022-04-20T08:26:26.554Z"
   },
   {
    "duration": 5,
    "start_time": "2022-04-20T08:26:26.560Z"
   },
   {
    "duration": 24,
    "start_time": "2022-04-20T08:26:26.592Z"
   },
   {
    "duration": 2,
    "start_time": "2022-04-20T08:26:26.618Z"
   },
   {
    "duration": 9,
    "start_time": "2022-04-20T08:26:26.622Z"
   },
   {
    "duration": 7,
    "start_time": "2022-04-20T08:26:26.633Z"
   },
   {
    "duration": 8,
    "start_time": "2022-04-20T08:26:26.642Z"
   },
   {
    "duration": 9,
    "start_time": "2022-04-20T08:26:26.653Z"
   },
   {
    "duration": 11402,
    "start_time": "2022-04-20T08:26:26.664Z"
   },
   {
    "duration": 2,
    "start_time": "2022-04-20T08:26:38.069Z"
   },
   {
    "duration": 9,
    "start_time": "2022-04-20T08:26:38.073Z"
   },
   {
    "duration": 1322,
    "start_time": "2022-04-20T08:26:38.092Z"
   },
   {
    "duration": 4,
    "start_time": "2022-04-20T08:26:39.416Z"
   },
   {
    "duration": 360,
    "start_time": "2022-04-20T08:26:39.422Z"
   },
   {
    "duration": 9,
    "start_time": "2022-04-20T08:26:39.784Z"
   },
   {
    "duration": 695,
    "start_time": "2022-04-20T08:26:39.797Z"
   },
   {
    "duration": 1089,
    "start_time": "2022-04-20T08:26:40.495Z"
   },
   {
    "duration": 365,
    "start_time": "2022-04-20T08:26:41.586Z"
   },
   {
    "duration": 827,
    "start_time": "2022-04-20T08:26:41.954Z"
   },
   {
    "duration": 4,
    "start_time": "2022-04-20T08:26:42.783Z"
   },
   {
    "duration": 6,
    "start_time": "2022-04-20T08:26:42.792Z"
   },
   {
    "duration": 5,
    "start_time": "2022-04-20T08:26:42.800Z"
   },
   {
    "duration": 1777,
    "start_time": "2022-04-20T08:28:31.144Z"
   },
   {
    "duration": 842,
    "start_time": "2022-04-20T08:28:32.923Z"
   },
   {
    "duration": 36,
    "start_time": "2022-04-20T08:28:33.767Z"
   },
   {
    "duration": 10,
    "start_time": "2022-04-20T08:28:33.806Z"
   },
   {
    "duration": 192,
    "start_time": "2022-04-20T08:28:33.817Z"
   },
   {
    "duration": 90418,
    "start_time": "2022-04-20T08:28:34.011Z"
   },
   {
    "duration": 8,
    "start_time": "2022-04-20T08:30:04.431Z"
   },
   {
    "duration": 6,
    "start_time": "2022-04-20T08:30:04.441Z"
   },
   {
    "duration": 4,
    "start_time": "2022-04-20T08:30:04.450Z"
   },
   {
    "duration": 54,
    "start_time": "2022-04-20T08:30:04.457Z"
   },
   {
    "duration": 3,
    "start_time": "2022-04-20T08:30:04.513Z"
   },
   {
    "duration": 17,
    "start_time": "2022-04-20T08:30:04.518Z"
   },
   {
    "duration": 14,
    "start_time": "2022-04-20T08:30:04.537Z"
   },
   {
    "duration": 12,
    "start_time": "2022-04-20T08:30:04.553Z"
   },
   {
    "duration": 24,
    "start_time": "2022-04-20T08:30:04.567Z"
   },
   {
    "duration": 5,
    "start_time": "2022-04-20T08:30:04.593Z"
   },
   {
    "duration": 5,
    "start_time": "2022-04-20T08:30:04.600Z"
   },
   {
    "duration": 17,
    "start_time": "2022-04-20T08:30:04.607Z"
   },
   {
    "duration": 20,
    "start_time": "2022-04-20T08:30:04.626Z"
   },
   {
    "duration": 13,
    "start_time": "2022-04-20T08:30:04.648Z"
   },
   {
    "duration": 6952,
    "start_time": "2022-04-20T08:30:04.662Z"
   },
   {
    "duration": 3,
    "start_time": "2022-04-20T08:30:11.616Z"
   },
   {
    "duration": 4,
    "start_time": "2022-04-20T08:30:11.622Z"
   },
   {
    "duration": 952,
    "start_time": "2022-04-20T08:30:11.628Z"
   },
   {
    "duration": 12,
    "start_time": "2022-04-20T08:30:12.582Z"
   },
   {
    "duration": 341,
    "start_time": "2022-04-20T08:30:12.596Z"
   },
   {
    "duration": 3,
    "start_time": "2022-04-20T08:30:12.939Z"
   },
   {
    "duration": 654,
    "start_time": "2022-04-20T08:30:12.948Z"
   },
   {
    "duration": 967,
    "start_time": "2022-04-20T08:30:13.604Z"
   },
   {
    "duration": 351,
    "start_time": "2022-04-20T08:30:14.572Z"
   },
   {
    "duration": 871,
    "start_time": "2022-04-20T08:30:14.925Z"
   },
   {
    "duration": 3,
    "start_time": "2022-04-20T08:30:15.798Z"
   },
   {
    "duration": 8,
    "start_time": "2022-04-20T08:30:15.803Z"
   },
   {
    "duration": 8,
    "start_time": "2022-04-20T08:30:15.812Z"
   },
   {
    "duration": 7866,
    "start_time": "2022-04-20T08:30:15.822Z"
   },
   {
    "duration": 3,
    "start_time": "2022-04-20T08:30:23.692Z"
   },
   {
    "duration": 6,
    "start_time": "2022-04-20T08:30:23.697Z"
   },
   {
    "duration": 150,
    "start_time": "2022-04-20T08:30:23.705Z"
   },
   {
    "duration": 0,
    "start_time": "2022-04-20T08:30:23.858Z"
   },
   {
    "duration": 0,
    "start_time": "2022-04-20T08:30:23.859Z"
   },
   {
    "duration": 0,
    "start_time": "2022-04-20T08:30:23.861Z"
   },
   {
    "duration": 0,
    "start_time": "2022-04-20T08:30:23.863Z"
   },
   {
    "duration": 0,
    "start_time": "2022-04-20T08:30:23.864Z"
   },
   {
    "duration": 0,
    "start_time": "2022-04-20T08:30:23.866Z"
   },
   {
    "duration": 0,
    "start_time": "2022-04-20T08:30:23.867Z"
   },
   {
    "duration": 82,
    "start_time": "2022-04-20T11:33:50.703Z"
   },
   {
    "duration": 3713,
    "start_time": "2022-04-20T11:34:02.551Z"
   },
   {
    "duration": 1101,
    "start_time": "2022-04-20T11:34:06.268Z"
   },
   {
    "duration": 57,
    "start_time": "2022-04-20T11:34:07.372Z"
   },
   {
    "duration": 18,
    "start_time": "2022-04-20T11:34:07.431Z"
   },
   {
    "duration": 274,
    "start_time": "2022-04-20T11:34:07.453Z"
   },
   {
    "duration": 169923,
    "start_time": "2022-04-20T11:34:07.730Z"
   },
   {
    "duration": 11,
    "start_time": "2022-04-20T11:36:57.656Z"
   },
   {
    "duration": 20,
    "start_time": "2022-04-20T11:36:57.670Z"
   },
   {
    "duration": 9,
    "start_time": "2022-04-20T11:36:57.693Z"
   },
   {
    "duration": 64,
    "start_time": "2022-04-20T11:36:57.705Z"
   },
   {
    "duration": 3,
    "start_time": "2022-04-20T11:36:57.772Z"
   },
   {
    "duration": 11,
    "start_time": "2022-04-20T11:36:57.778Z"
   },
   {
    "duration": 6,
    "start_time": "2022-04-20T11:36:57.791Z"
   },
   {
    "duration": 5,
    "start_time": "2022-04-20T11:36:57.802Z"
   },
   {
    "duration": 25,
    "start_time": "2022-04-20T11:36:57.831Z"
   },
   {
    "duration": 4,
    "start_time": "2022-04-20T11:36:57.858Z"
   },
   {
    "duration": 5,
    "start_time": "2022-04-20T11:36:57.865Z"
   },
   {
    "duration": 6,
    "start_time": "2022-04-20T11:36:57.873Z"
   },
   {
    "duration": 9,
    "start_time": "2022-04-20T11:36:57.881Z"
   },
   {
    "duration": 17,
    "start_time": "2022-04-20T11:36:57.930Z"
   },
   {
    "duration": 11734,
    "start_time": "2022-04-20T11:36:57.950Z"
   },
   {
    "duration": 4,
    "start_time": "2022-04-20T11:37:09.686Z"
   },
   {
    "duration": 6,
    "start_time": "2022-04-20T11:37:09.692Z"
   },
   {
    "duration": 1751,
    "start_time": "2022-04-20T11:37:09.701Z"
   },
   {
    "duration": 5,
    "start_time": "2022-04-20T11:37:11.455Z"
   },
   {
    "duration": 610,
    "start_time": "2022-04-20T11:37:11.462Z"
   },
   {
    "duration": 4,
    "start_time": "2022-04-20T11:37:12.074Z"
   },
   {
    "duration": 1166,
    "start_time": "2022-04-20T11:37:12.080Z"
   },
   {
    "duration": 1889,
    "start_time": "2022-04-20T11:37:13.248Z"
   },
   {
    "duration": 764,
    "start_time": "2022-04-20T11:37:15.141Z"
   },
   {
    "duration": 1909,
    "start_time": "2022-04-20T11:37:15.907Z"
   },
   {
    "duration": 18,
    "start_time": "2022-04-20T11:37:17.818Z"
   },
   {
    "duration": 19,
    "start_time": "2022-04-20T11:37:17.839Z"
   },
   {
    "duration": 16,
    "start_time": "2022-04-20T11:37:17.861Z"
   },
   {
    "duration": 449,
    "start_time": "2022-04-20T11:37:17.880Z"
   },
   {
    "duration": 0,
    "start_time": "2022-04-20T11:37:18.334Z"
   },
   {
    "duration": 0,
    "start_time": "2022-04-20T11:37:18.337Z"
   },
   {
    "duration": 0,
    "start_time": "2022-04-20T11:37:18.340Z"
   },
   {
    "duration": 0,
    "start_time": "2022-04-20T11:37:18.342Z"
   },
   {
    "duration": 0,
    "start_time": "2022-04-20T11:37:18.345Z"
   },
   {
    "duration": 0,
    "start_time": "2022-04-20T11:37:18.347Z"
   },
   {
    "duration": 1,
    "start_time": "2022-04-20T11:37:18.349Z"
   },
   {
    "duration": 0,
    "start_time": "2022-04-20T11:37:18.352Z"
   },
   {
    "duration": 0,
    "start_time": "2022-04-20T11:37:18.354Z"
   },
   {
    "duration": 0,
    "start_time": "2022-04-20T11:37:18.357Z"
   },
   {
    "duration": 7,
    "start_time": "2022-04-20T11:57:02.340Z"
   },
   {
    "duration": 1112,
    "start_time": "2022-04-20T11:57:02.351Z"
   },
   {
    "duration": 42,
    "start_time": "2022-04-20T11:57:03.465Z"
   },
   {
    "duration": 11,
    "start_time": "2022-04-20T11:57:03.526Z"
   },
   {
    "duration": 186,
    "start_time": "2022-04-20T11:57:03.541Z"
   },
   {
    "duration": 155706,
    "start_time": "2022-04-20T11:57:03.730Z"
   },
   {
    "duration": 12,
    "start_time": "2022-04-20T11:59:39.438Z"
   },
   {
    "duration": 7,
    "start_time": "2022-04-20T11:59:39.452Z"
   },
   {
    "duration": 6,
    "start_time": "2022-04-20T11:59:39.462Z"
   },
   {
    "duration": 80,
    "start_time": "2022-04-20T11:59:39.470Z"
   },
   {
    "duration": 4,
    "start_time": "2022-04-20T11:59:39.552Z"
   },
   {
    "duration": 8,
    "start_time": "2022-04-20T11:59:39.558Z"
   },
   {
    "duration": 6,
    "start_time": "2022-04-20T11:59:39.569Z"
   },
   {
    "duration": 4,
    "start_time": "2022-04-20T11:59:39.580Z"
   },
   {
    "duration": 55,
    "start_time": "2022-04-20T11:59:39.587Z"
   },
   {
    "duration": 4,
    "start_time": "2022-04-20T11:59:39.644Z"
   },
   {
    "duration": 8,
    "start_time": "2022-04-20T11:59:39.650Z"
   },
   {
    "duration": 7,
    "start_time": "2022-04-20T11:59:39.660Z"
   },
   {
    "duration": 13,
    "start_time": "2022-04-20T11:59:39.670Z"
   },
   {
    "duration": 43,
    "start_time": "2022-04-20T11:59:39.686Z"
   },
   {
    "duration": 15217,
    "start_time": "2022-04-20T11:59:39.732Z"
   },
   {
    "duration": 4,
    "start_time": "2022-04-20T11:59:54.951Z"
   },
   {
    "duration": 13,
    "start_time": "2022-04-20T11:59:54.958Z"
   },
   {
    "duration": 2859,
    "start_time": "2022-04-20T12:02:35.867Z"
   },
   {
    "duration": 1423,
    "start_time": "2022-04-20T12:02:38.730Z"
   },
   {
    "duration": 42,
    "start_time": "2022-04-20T12:02:40.156Z"
   },
   {
    "duration": 31,
    "start_time": "2022-04-20T12:02:40.201Z"
   },
   {
    "duration": 290,
    "start_time": "2022-04-20T12:02:40.236Z"
   },
   {
    "duration": 157453,
    "start_time": "2022-04-20T12:02:40.530Z"
   },
   {
    "duration": 14,
    "start_time": "2022-04-20T12:05:17.986Z"
   },
   {
    "duration": 21,
    "start_time": "2022-04-20T12:05:18.004Z"
   },
   {
    "duration": 9,
    "start_time": "2022-04-20T12:05:18.028Z"
   },
   {
    "duration": 54,
    "start_time": "2022-04-20T12:05:18.041Z"
   },
   {
    "duration": 4,
    "start_time": "2022-04-20T12:05:18.098Z"
   },
   {
    "duration": 25,
    "start_time": "2022-04-20T12:05:18.105Z"
   },
   {
    "duration": 13,
    "start_time": "2022-04-20T12:05:18.134Z"
   },
   {
    "duration": 6,
    "start_time": "2022-04-20T12:05:18.151Z"
   },
   {
    "duration": 24,
    "start_time": "2022-04-20T12:05:18.160Z"
   },
   {
    "duration": 3,
    "start_time": "2022-04-20T12:05:18.187Z"
   },
   {
    "duration": 6,
    "start_time": "2022-04-20T12:05:18.192Z"
   },
   {
    "duration": 18,
    "start_time": "2022-04-20T12:05:18.226Z"
   },
   {
    "duration": 11,
    "start_time": "2022-04-20T12:05:18.246Z"
   },
   {
    "duration": 10,
    "start_time": "2022-04-20T12:05:18.261Z"
   },
   {
    "duration": 16535,
    "start_time": "2022-04-20T12:05:18.274Z"
   },
   {
    "duration": 4,
    "start_time": "2022-04-20T12:05:34.812Z"
   },
   {
    "duration": 20,
    "start_time": "2022-04-20T12:05:34.825Z"
   },
   {
    "duration": 9,
    "start_time": "2022-04-20T12:05:34.848Z"
   },
   {
    "duration": 10,
    "start_time": "2022-04-20T12:05:34.859Z"
   },
   {
    "duration": 12,
    "start_time": "2022-04-20T12:05:34.871Z"
   },
   {
    "duration": 10,
    "start_time": "2022-04-20T12:05:34.886Z"
   },
   {
    "duration": 6929,
    "start_time": "2022-04-20T12:05:34.899Z"
   },
   {
    "duration": 8,
    "start_time": "2022-04-20T12:05:41.831Z"
   },
   {
    "duration": 11,
    "start_time": "2022-04-20T12:05:41.842Z"
   },
   {
    "duration": 4418,
    "start_time": "2022-04-20T12:05:41.856Z"
   },
   {
    "duration": 6,
    "start_time": "2022-04-20T12:05:46.277Z"
   },
   {
    "duration": 9,
    "start_time": "2022-04-20T12:05:46.286Z"
   },
   {
    "duration": 10,
    "start_time": "2022-04-20T12:05:46.326Z"
   },
   {
    "duration": 2569,
    "start_time": "2022-04-20T12:18:16.191Z"
   },
   {
    "duration": 1445,
    "start_time": "2022-04-20T12:18:18.764Z"
   },
   {
    "duration": 44,
    "start_time": "2022-04-20T12:18:20.211Z"
   },
   {
    "duration": 14,
    "start_time": "2022-04-20T12:18:20.258Z"
   },
   {
    "duration": 286,
    "start_time": "2022-04-20T12:18:20.276Z"
   },
   {
    "duration": 159825,
    "start_time": "2022-04-20T12:18:20.565Z"
   },
   {
    "duration": 35,
    "start_time": "2022-04-20T12:21:00.393Z"
   },
   {
    "duration": 25,
    "start_time": "2022-04-20T12:21:00.432Z"
   },
   {
    "duration": 23,
    "start_time": "2022-04-20T12:21:00.460Z"
   },
   {
    "duration": 82,
    "start_time": "2022-04-20T12:21:00.485Z"
   },
   {
    "duration": 4,
    "start_time": "2022-04-20T12:21:00.570Z"
   },
   {
    "duration": 27,
    "start_time": "2022-04-20T12:21:00.577Z"
   },
   {
    "duration": 43,
    "start_time": "2022-04-20T12:21:00.606Z"
   },
   {
    "duration": 7,
    "start_time": "2022-04-20T12:21:00.654Z"
   },
   {
    "duration": 30,
    "start_time": "2022-04-20T12:21:00.663Z"
   },
   {
    "duration": 5,
    "start_time": "2022-04-20T12:21:00.696Z"
   },
   {
    "duration": 19,
    "start_time": "2022-04-20T12:21:00.703Z"
   },
   {
    "duration": 34,
    "start_time": "2022-04-20T12:21:00.728Z"
   },
   {
    "duration": 22,
    "start_time": "2022-04-20T12:21:00.765Z"
   },
   {
    "duration": 20,
    "start_time": "2022-04-20T12:21:00.790Z"
   },
   {
    "duration": 14856,
    "start_time": "2022-04-20T12:21:00.813Z"
   },
   {
    "duration": 4,
    "start_time": "2022-04-20T12:21:15.672Z"
   },
   {
    "duration": 7,
    "start_time": "2022-04-20T12:21:15.679Z"
   },
   {
    "duration": 8,
    "start_time": "2022-04-20T12:21:15.689Z"
   },
   {
    "duration": 27,
    "start_time": "2022-04-20T12:21:15.700Z"
   },
   {
    "duration": 23,
    "start_time": "2022-04-20T12:21:15.731Z"
   },
   {
    "duration": 11,
    "start_time": "2022-04-20T12:21:15.757Z"
   },
   {
    "duration": 4781,
    "start_time": "2022-04-20T12:21:15.770Z"
   },
   {
    "duration": 4,
    "start_time": "2022-04-20T12:21:20.554Z"
   },
   {
    "duration": 12,
    "start_time": "2022-04-20T12:21:20.560Z"
   },
   {
    "duration": 5287,
    "start_time": "2022-04-20T12:21:20.574Z"
   },
   {
    "duration": 8,
    "start_time": "2022-04-20T12:21:25.864Z"
   },
   {
    "duration": 10,
    "start_time": "2022-04-20T12:21:25.878Z"
   },
   {
    "duration": 37,
    "start_time": "2022-04-20T12:21:25.892Z"
   },
   {
    "duration": 2401,
    "start_time": "2022-04-20T12:24:58.050Z"
   },
   {
    "duration": 1115,
    "start_time": "2022-04-20T12:25:00.454Z"
   },
   {
    "duration": 57,
    "start_time": "2022-04-20T12:25:01.572Z"
   },
   {
    "duration": 18,
    "start_time": "2022-04-20T12:25:01.634Z"
   },
   {
    "duration": 294,
    "start_time": "2022-04-20T12:25:01.654Z"
   },
   {
    "duration": 155202,
    "start_time": "2022-04-20T12:25:01.950Z"
   },
   {
    "duration": 11,
    "start_time": "2022-04-20T12:27:37.154Z"
   },
   {
    "duration": 5,
    "start_time": "2022-04-20T12:27:37.167Z"
   },
   {
    "duration": 6,
    "start_time": "2022-04-20T12:27:37.175Z"
   },
   {
    "duration": 78,
    "start_time": "2022-04-20T12:27:37.185Z"
   },
   {
    "duration": 4,
    "start_time": "2022-04-20T12:27:37.265Z"
   },
   {
    "duration": 8,
    "start_time": "2022-04-20T12:27:37.271Z"
   },
   {
    "duration": 6,
    "start_time": "2022-04-20T12:27:37.281Z"
   },
   {
    "duration": 6,
    "start_time": "2022-04-20T12:27:37.289Z"
   },
   {
    "duration": 30,
    "start_time": "2022-04-20T12:27:37.328Z"
   },
   {
    "duration": 4,
    "start_time": "2022-04-20T12:27:37.360Z"
   },
   {
    "duration": 6,
    "start_time": "2022-04-20T12:27:37.366Z"
   },
   {
    "duration": 6,
    "start_time": "2022-04-20T12:27:37.374Z"
   },
   {
    "duration": 5,
    "start_time": "2022-04-20T12:27:37.383Z"
   },
   {
    "duration": 12,
    "start_time": "2022-04-20T12:27:37.430Z"
   },
   {
    "duration": 18106,
    "start_time": "2022-04-20T12:27:37.444Z"
   },
   {
    "duration": 4,
    "start_time": "2022-04-20T12:27:55.553Z"
   },
   {
    "duration": 9,
    "start_time": "2022-04-20T12:27:55.560Z"
   },
   {
    "duration": 12,
    "start_time": "2022-04-20T12:27:55.572Z"
   },
   {
    "duration": 16,
    "start_time": "2022-04-20T12:27:55.588Z"
   },
   {
    "duration": 27,
    "start_time": "2022-04-20T12:27:55.606Z"
   },
   {
    "duration": 22,
    "start_time": "2022-04-20T12:27:55.636Z"
   },
   {
    "duration": 4798,
    "start_time": "2022-04-20T12:27:55.664Z"
   },
   {
    "duration": 4,
    "start_time": "2022-04-20T12:28:00.465Z"
   },
   {
    "duration": 14,
    "start_time": "2022-04-20T12:28:00.471Z"
   },
   {
    "duration": 5422,
    "start_time": "2022-04-20T12:28:00.487Z"
   },
   {
    "duration": 19,
    "start_time": "2022-04-20T12:28:05.912Z"
   },
   {
    "duration": 14,
    "start_time": "2022-04-20T12:28:05.934Z"
   },
   {
    "duration": 8,
    "start_time": "2022-04-20T12:28:05.951Z"
   },
   {
    "duration": 21,
    "start_time": "2022-04-20T12:48:40.207Z"
   },
   {
    "duration": 110,
    "start_time": "2022-04-20T12:48:44.906Z"
   },
   {
    "duration": 3139,
    "start_time": "2022-04-20T12:48:53.922Z"
   },
   {
    "duration": 1549,
    "start_time": "2022-04-20T12:48:57.065Z"
   },
   {
    "duration": 56,
    "start_time": "2022-04-20T12:48:58.616Z"
   },
   {
    "duration": 19,
    "start_time": "2022-04-20T12:48:58.677Z"
   },
   {
    "duration": 287,
    "start_time": "2022-04-20T12:48:58.698Z"
   },
   {
    "duration": 157718,
    "start_time": "2022-04-20T12:48:58.987Z"
   },
   {
    "duration": 19,
    "start_time": "2022-04-20T12:51:36.708Z"
   },
   {
    "duration": 10,
    "start_time": "2022-04-20T12:51:36.730Z"
   },
   {
    "duration": 8,
    "start_time": "2022-04-20T12:51:36.743Z"
   },
   {
    "duration": 40,
    "start_time": "2022-04-20T12:51:36.755Z"
   },
   {
    "duration": 4,
    "start_time": "2022-04-20T12:51:36.797Z"
   },
   {
    "duration": 11,
    "start_time": "2022-04-20T12:51:36.826Z"
   },
   {
    "duration": 15,
    "start_time": "2022-04-20T12:51:36.840Z"
   },
   {
    "duration": 5,
    "start_time": "2022-04-20T12:51:36.858Z"
   },
   {
    "duration": 26,
    "start_time": "2022-04-20T12:51:36.866Z"
   },
   {
    "duration": 4,
    "start_time": "2022-04-20T12:51:36.894Z"
   },
   {
    "duration": 6,
    "start_time": "2022-04-20T12:51:36.925Z"
   },
   {
    "duration": 17,
    "start_time": "2022-04-20T12:51:36.934Z"
   },
   {
    "duration": 11,
    "start_time": "2022-04-20T12:51:36.953Z"
   },
   {
    "duration": 11,
    "start_time": "2022-04-20T12:51:36.967Z"
   },
   {
    "duration": 19623,
    "start_time": "2022-04-20T12:51:36.981Z"
   },
   {
    "duration": 4,
    "start_time": "2022-04-20T12:51:56.606Z"
   },
   {
    "duration": 26,
    "start_time": "2022-04-20T12:51:56.612Z"
   },
   {
    "duration": 14,
    "start_time": "2022-04-20T12:51:56.641Z"
   },
   {
    "duration": 29,
    "start_time": "2022-04-20T12:51:56.658Z"
   },
   {
    "duration": 23,
    "start_time": "2022-04-20T12:51:56.690Z"
   },
   {
    "duration": 39,
    "start_time": "2022-04-20T12:51:56.716Z"
   },
   {
    "duration": 4466,
    "start_time": "2022-04-20T12:51:56.762Z"
   },
   {
    "duration": 5,
    "start_time": "2022-04-20T12:52:01.230Z"
   },
   {
    "duration": 37,
    "start_time": "2022-04-20T12:52:01.238Z"
   },
   {
    "duration": 4509,
    "start_time": "2022-04-20T12:52:01.278Z"
   },
   {
    "duration": 6,
    "start_time": "2022-04-20T12:52:05.790Z"
   },
   {
    "duration": 28,
    "start_time": "2022-04-20T12:52:05.798Z"
   },
   {
    "duration": 19,
    "start_time": "2022-04-20T12:52:05.829Z"
   },
   {
    "duration": 2599,
    "start_time": "2022-04-20T13:33:42.357Z"
   },
   {
    "duration": 1144,
    "start_time": "2022-04-20T13:33:44.959Z"
   },
   {
    "duration": 63,
    "start_time": "2022-04-20T13:33:46.916Z"
   },
   {
    "duration": 17,
    "start_time": "2022-04-20T13:33:47.620Z"
   },
   {
    "duration": 275,
    "start_time": "2022-04-20T13:33:49.029Z"
   },
   {
    "duration": 161777,
    "start_time": "2022-04-20T13:33:51.674Z"
   },
   {
    "duration": 11,
    "start_time": "2022-04-20T14:03:37.582Z"
   },
   {
    "duration": 4,
    "start_time": "2022-04-20T14:03:39.202Z"
   },
   {
    "duration": 3,
    "start_time": "2022-04-20T14:03:39.684Z"
   },
   {
    "duration": 43,
    "start_time": "2022-04-20T14:03:40.143Z"
   },
   {
    "duration": 3,
    "start_time": "2022-04-20T14:03:40.744Z"
   },
   {
    "duration": 3,
    "start_time": "2022-04-20T14:03:41.194Z"
   },
   {
    "duration": 3,
    "start_time": "2022-04-20T14:03:42.294Z"
   },
   {
    "duration": 3,
    "start_time": "2022-04-20T14:03:42.643Z"
   },
   {
    "duration": 21,
    "start_time": "2022-04-20T14:03:42.982Z"
   },
   {
    "duration": 3,
    "start_time": "2022-04-20T14:03:43.524Z"
   },
   {
    "duration": 4,
    "start_time": "2022-04-20T14:03:44.133Z"
   },
   {
    "duration": 3,
    "start_time": "2022-04-20T14:03:44.985Z"
   },
   {
    "duration": 3,
    "start_time": "2022-04-20T14:03:46.059Z"
   },
   {
    "duration": 8,
    "start_time": "2022-04-20T14:03:46.964Z"
   },
   {
    "duration": 14138,
    "start_time": "2022-04-20T14:03:55.044Z"
   },
   {
    "duration": 3,
    "start_time": "2022-04-20T14:04:23.914Z"
   },
   {
    "duration": 4,
    "start_time": "2022-04-20T14:04:25.915Z"
   },
   {
    "duration": 4,
    "start_time": "2022-04-20T14:04:26.856Z"
   },
   {
    "duration": 5,
    "start_time": "2022-04-20T14:04:27.606Z"
   },
   {
    "duration": 5,
    "start_time": "2022-04-20T14:04:28.382Z"
   },
   {
    "duration": 5,
    "start_time": "2022-04-20T14:04:29.094Z"
   },
   {
    "duration": 4416,
    "start_time": "2022-04-20T14:04:30.942Z"
   },
   {
    "duration": 5,
    "start_time": "2022-04-20T14:04:38.650Z"
   },
   {
    "duration": 5,
    "start_time": "2022-04-20T14:04:39.025Z"
   },
   {
    "duration": 4441,
    "start_time": "2022-04-20T14:04:39.527Z"
   },
   {
    "duration": 6,
    "start_time": "2022-04-20T14:04:53.482Z"
   },
   {
    "duration": 6,
    "start_time": "2022-04-20T14:04:55.546Z"
   },
   {
    "duration": 6,
    "start_time": "2022-04-20T14:04:59.666Z"
   },
   {
    "duration": 2835,
    "start_time": "2022-04-20T15:05:42.368Z"
   },
   {
    "duration": 1092,
    "start_time": "2022-04-20T15:05:46.502Z"
   },
   {
    "duration": 51,
    "start_time": "2022-04-20T15:05:47.597Z"
   },
   {
    "duration": 15,
    "start_time": "2022-04-20T15:05:47.984Z"
   },
   {
    "duration": 265,
    "start_time": "2022-04-20T15:05:48.916Z"
   },
   {
    "duration": 151644,
    "start_time": "2022-04-20T15:05:51.301Z"
   },
   {
    "duration": 12,
    "start_time": "2022-04-20T15:08:22.949Z"
   },
   {
    "duration": 7,
    "start_time": "2022-04-20T15:08:22.963Z"
   },
   {
    "duration": 7,
    "start_time": "2022-04-20T15:08:22.973Z"
   },
   {
    "duration": 79,
    "start_time": "2022-04-20T15:08:22.982Z"
   },
   {
    "duration": 4,
    "start_time": "2022-04-20T15:08:23.063Z"
   },
   {
    "duration": 8,
    "start_time": "2022-04-20T15:08:23.069Z"
   },
   {
    "duration": 6,
    "start_time": "2022-04-20T15:08:23.079Z"
   },
   {
    "duration": 6,
    "start_time": "2022-04-20T15:08:23.087Z"
   },
   {
    "duration": 52,
    "start_time": "2022-04-20T15:08:23.096Z"
   },
   {
    "duration": 4,
    "start_time": "2022-04-20T15:08:23.150Z"
   },
   {
    "duration": 5,
    "start_time": "2022-04-20T15:08:23.156Z"
   },
   {
    "duration": 5,
    "start_time": "2022-04-20T15:08:23.164Z"
   },
   {
    "duration": 6,
    "start_time": "2022-04-20T15:08:23.171Z"
   },
   {
    "duration": 8,
    "start_time": "2022-04-20T15:08:23.179Z"
   },
   {
    "duration": 11476,
    "start_time": "2022-04-20T15:08:23.189Z"
   },
   {
    "duration": 3,
    "start_time": "2022-04-20T15:17:48.223Z"
   },
   {
    "duration": 5,
    "start_time": "2022-04-20T15:17:48.634Z"
   },
   {
    "duration": 4,
    "start_time": "2022-04-20T15:17:48.794Z"
   },
   {
    "duration": 3,
    "start_time": "2022-04-20T15:17:49.343Z"
   },
   {
    "duration": 4,
    "start_time": "2022-04-20T15:17:49.795Z"
   },
   {
    "duration": 4,
    "start_time": "2022-04-20T15:17:50.243Z"
   },
   {
    "duration": 1313,
    "start_time": "2022-04-20T15:17:51.182Z"
   },
   {
    "duration": 6,
    "start_time": "2022-04-20T15:17:55.082Z"
   },
   {
    "duration": 3,
    "start_time": "2022-04-20T15:17:55.239Z"
   },
   {
    "duration": 1398,
    "start_time": "2022-04-20T15:17:55.403Z"
   },
   {
    "duration": 8,
    "start_time": "2022-04-20T15:18:00.142Z"
   },
   {
    "duration": 11,
    "start_time": "2022-04-20T15:18:02.862Z"
   },
   {
    "duration": 1676,
    "start_time": "2022-04-20T22:46:53.612Z"
   },
   {
    "duration": 829,
    "start_time": "2022-04-20T22:46:56.142Z"
   },
   {
    "duration": 33,
    "start_time": "2022-04-20T22:46:57.623Z"
   },
   {
    "duration": 10,
    "start_time": "2022-04-20T22:46:58.466Z"
   },
   {
    "duration": 173,
    "start_time": "2022-04-20T22:46:59.732Z"
   },
   {
    "duration": 77287,
    "start_time": "2022-04-20T22:47:02.370Z"
   },
   {
    "duration": 7,
    "start_time": "2022-04-20T22:48:19.659Z"
   },
   {
    "duration": 3,
    "start_time": "2022-04-20T22:50:20.416Z"
   },
   {
    "duration": 2,
    "start_time": "2022-04-20T22:50:21.538Z"
   },
   {
    "duration": 61,
    "start_time": "2022-04-20T22:50:22.587Z"
   },
   {
    "duration": 3,
    "start_time": "2022-04-20T22:50:23.984Z"
   },
   {
    "duration": 3,
    "start_time": "2022-04-20T22:50:24.853Z"
   },
   {
    "duration": 3,
    "start_time": "2022-04-20T22:50:25.097Z"
   },
   {
    "duration": 3,
    "start_time": "2022-04-20T22:50:25.881Z"
   },
   {
    "duration": 29,
    "start_time": "2022-04-20T22:50:28.250Z"
   },
   {
    "duration": 2,
    "start_time": "2022-04-20T22:50:36.336Z"
   },
   {
    "duration": 2,
    "start_time": "2022-04-20T22:50:36.482Z"
   },
   {
    "duration": 3,
    "start_time": "2022-04-20T22:50:37.188Z"
   },
   {
    "duration": 2,
    "start_time": "2022-04-20T22:50:37.850Z"
   },
   {
    "duration": 4,
    "start_time": "2022-04-20T22:50:38.945Z"
   },
   {
    "duration": 6445,
    "start_time": "2022-04-20T22:50:40.249Z"
   },
   {
    "duration": 2,
    "start_time": "2022-04-20T22:50:49.330Z"
   },
   {
    "duration": 3,
    "start_time": "2022-04-20T22:50:51.085Z"
   },
   {
    "duration": 833,
    "start_time": "2022-04-20T22:50:51.475Z"
   },
   {
    "duration": 2,
    "start_time": "2022-04-20T22:50:53.898Z"
   },
   {
    "duration": 2,
    "start_time": "2022-04-20T22:50:54.887Z"
   },
   {
    "duration": 2,
    "start_time": "2022-04-20T22:50:55.695Z"
   },
   {
    "duration": 535,
    "start_time": "2022-04-20T22:50:56.611Z"
   },
   {
    "duration": 3,
    "start_time": "2022-04-20T22:50:59.884Z"
   },
   {
    "duration": 832,
    "start_time": "2022-04-20T22:51:22.810Z"
   },
   {
    "duration": 3,
    "start_time": "2022-04-20T22:51:27.972Z"
   },
   {
    "duration": 674,
    "start_time": "2022-04-20T22:51:29.977Z"
   },
   {
    "duration": 1213,
    "start_time": "2022-04-20T22:52:02.536Z"
   },
   {
    "duration": 4,
    "start_time": "2022-04-20T22:52:18.620Z"
   },
   {
    "duration": 4,
    "start_time": "2022-04-20T22:52:19.746Z"
   },
   {
    "duration": 4,
    "start_time": "2022-04-20T22:52:20.907Z"
   },
   {
    "duration": 171,
    "start_time": "2022-04-20T22:52:25.407Z"
   },
   {
    "duration": 3,
    "start_time": "2022-04-20T23:26:03.738Z"
   },
   {
    "duration": 2,
    "start_time": "2022-04-20T23:26:04.406Z"
   },
   {
    "duration": 64,
    "start_time": "2022-04-20T23:26:04.867Z"
   },
   {
    "duration": 2,
    "start_time": "2022-04-20T23:26:05.430Z"
   },
   {
    "duration": 2,
    "start_time": "2022-04-20T23:26:05.633Z"
   },
   {
    "duration": 2,
    "start_time": "2022-04-20T23:26:05.774Z"
   },
   {
    "duration": 3,
    "start_time": "2022-04-20T23:26:06.097Z"
   },
   {
    "duration": 29,
    "start_time": "2022-04-20T23:26:06.693Z"
   },
   {
    "duration": 2,
    "start_time": "2022-04-20T23:26:07.257Z"
   },
   {
    "duration": 2,
    "start_time": "2022-04-20T23:26:07.467Z"
   },
   {
    "duration": 2,
    "start_time": "2022-04-20T23:26:08.170Z"
   },
   {
    "duration": 2,
    "start_time": "2022-04-20T23:26:08.628Z"
   },
   {
    "duration": 12,
    "start_time": "2022-04-20T23:26:09.019Z"
   },
   {
    "duration": 6256,
    "start_time": "2022-04-20T23:26:09.476Z"
   },
   {
    "duration": 3,
    "start_time": "2022-04-20T23:26:15.734Z"
   },
   {
    "duration": 2,
    "start_time": "2022-04-20T23:26:17.784Z"
   },
   {
    "duration": 882,
    "start_time": "2022-04-20T23:26:19.035Z"
   },
   {
    "duration": 2,
    "start_time": "2022-04-20T23:26:27.666Z"
   },
   {
    "duration": 3,
    "start_time": "2022-04-20T23:26:28.284Z"
   },
   {
    "duration": 2,
    "start_time": "2022-04-20T23:26:28.777Z"
   },
   {
    "duration": 640,
    "start_time": "2022-04-20T23:26:30.008Z"
   },
   {
    "duration": 985,
    "start_time": "2022-04-20T23:26:44.639Z"
   },
   {
    "duration": 1370,
    "start_time": "2022-04-20T23:29:27.537Z"
   },
   {
    "duration": 1570,
    "start_time": "2022-04-20T23:30:42.055Z"
   },
   {
    "duration": 2228,
    "start_time": "2022-04-20T23:31:05.079Z"
   },
   {
    "duration": 1398,
    "start_time": "2022-04-20T23:31:24.485Z"
   },
   {
    "duration": 850,
    "start_time": "2022-04-20T23:47:12.469Z"
   },
   {
    "duration": 808,
    "start_time": "2022-04-20T23:47:33.455Z"
   },
   {
    "duration": 1006,
    "start_time": "2022-04-20T23:50:38.109Z"
   },
   {
    "duration": 1591,
    "start_time": "2022-04-20T23:59:19.915Z"
   },
   {
    "duration": 892,
    "start_time": "2022-04-20T23:59:21.508Z"
   },
   {
    "duration": 32,
    "start_time": "2022-04-20T23:59:23.253Z"
   },
   {
    "duration": 10,
    "start_time": "2022-04-20T23:59:24.005Z"
   },
   {
    "duration": 152,
    "start_time": "2022-04-20T23:59:24.802Z"
   },
   {
    "duration": 76225,
    "start_time": "2022-04-20T23:59:27.831Z"
   },
   {
    "duration": 7,
    "start_time": "2022-04-21T00:00:44.058Z"
   },
   {
    "duration": 2,
    "start_time": "2022-04-21T00:04:10.185Z"
   },
   {
    "duration": 3,
    "start_time": "2022-04-21T00:04:10.955Z"
   },
   {
    "duration": 64,
    "start_time": "2022-04-21T00:04:11.376Z"
   },
   {
    "duration": 2,
    "start_time": "2022-04-21T00:04:11.940Z"
   },
   {
    "duration": 2,
    "start_time": "2022-04-21T00:04:12.117Z"
   },
   {
    "duration": 3,
    "start_time": "2022-04-21T00:04:12.333Z"
   },
   {
    "duration": 2,
    "start_time": "2022-04-21T00:04:12.695Z"
   },
   {
    "duration": 30,
    "start_time": "2022-04-21T00:04:12.961Z"
   },
   {
    "duration": 2,
    "start_time": "2022-04-21T00:04:13.523Z"
   },
   {
    "duration": 2,
    "start_time": "2022-04-21T00:04:14.016Z"
   },
   {
    "duration": 3,
    "start_time": "2022-04-21T00:04:14.366Z"
   },
   {
    "duration": 2,
    "start_time": "2022-04-21T00:04:15.069Z"
   },
   {
    "duration": 4,
    "start_time": "2022-04-21T00:04:15.491Z"
   },
   {
    "duration": 6387,
    "start_time": "2022-04-21T00:04:15.938Z"
   },
   {
    "duration": 2,
    "start_time": "2022-04-21T00:04:25.622Z"
   },
   {
    "duration": 3,
    "start_time": "2022-04-21T00:04:31.495Z"
   },
   {
    "duration": 824,
    "start_time": "2022-04-21T00:04:33.146Z"
   },
   {
    "duration": 2,
    "start_time": "2022-04-21T00:04:35.154Z"
   },
   {
    "duration": 289,
    "start_time": "2022-04-21T00:04:36.599Z"
   },
   {
    "duration": 2,
    "start_time": "2022-04-21T00:04:38.462Z"
   },
   {
    "duration": 504,
    "start_time": "2022-04-21T00:04:40.182Z"
   },
   {
    "duration": 991,
    "start_time": "2022-04-21T00:04:45.072Z"
   },
   {
    "duration": 545,
    "start_time": "2022-04-21T00:05:08.921Z"
   },
   {
    "duration": 1388,
    "start_time": "2022-04-21T00:05:24.812Z"
   },
   {
    "duration": 111,
    "start_time": "2022-04-21T00:08:22.040Z"
   },
   {
    "duration": 866,
    "start_time": "2022-04-21T00:08:43.122Z"
   },
   {
    "duration": 2,
    "start_time": "2022-04-21T00:14:57.547Z"
   },
   {
    "duration": 3,
    "start_time": "2022-04-21T00:14:58.461Z"
   },
   {
    "duration": 54,
    "start_time": "2022-04-21T00:14:58.917Z"
   },
   {
    "duration": 2,
    "start_time": "2022-04-21T00:14:59.447Z"
   },
   {
    "duration": 3,
    "start_time": "2022-04-21T00:14:59.619Z"
   },
   {
    "duration": 2,
    "start_time": "2022-04-21T00:14:59.791Z"
   },
   {
    "duration": 3,
    "start_time": "2022-04-21T00:14:59.972Z"
   },
   {
    "duration": 22,
    "start_time": "2022-04-21T00:15:00.146Z"
   },
   {
    "duration": 3,
    "start_time": "2022-04-21T00:15:00.286Z"
   },
   {
    "duration": 2,
    "start_time": "2022-04-21T00:15:00.467Z"
   },
   {
    "duration": 3,
    "start_time": "2022-04-21T00:15:01.235Z"
   },
   {
    "duration": 2,
    "start_time": "2022-04-21T00:15:01.550Z"
   },
   {
    "duration": 12,
    "start_time": "2022-04-21T00:15:01.872Z"
   },
   {
    "duration": 5970,
    "start_time": "2022-04-21T00:15:02.293Z"
   },
   {
    "duration": 3,
    "start_time": "2022-04-21T00:15:09.453Z"
   },
   {
    "duration": 2,
    "start_time": "2022-04-21T00:15:10.386Z"
   },
   {
    "duration": 831,
    "start_time": "2022-04-21T00:15:10.944Z"
   },
   {
    "duration": 3,
    "start_time": "2022-04-21T00:15:12.879Z"
   },
   {
    "duration": 307,
    "start_time": "2022-04-21T00:15:13.336Z"
   },
   {
    "duration": 3,
    "start_time": "2022-04-21T00:15:14.823Z"
   },
   {
    "duration": 597,
    "start_time": "2022-04-21T00:15:15.324Z"
   },
   {
    "duration": 1030,
    "start_time": "2022-04-21T00:15:19.071Z"
   },
   {
    "duration": 519,
    "start_time": "2022-04-21T00:15:29.745Z"
   },
   {
    "duration": 875,
    "start_time": "2022-04-21T00:15:33.476Z"
   },
   {
    "duration": 5,
    "start_time": "2022-04-21T00:18:10.821Z"
   },
   {
    "duration": 128,
    "start_time": "2022-04-21T00:18:15.885Z"
   },
   {
    "duration": 29,
    "start_time": "2022-04-21T00:19:00.569Z"
   },
   {
    "duration": 4,
    "start_time": "2022-04-21T00:22:16.207Z"
   },
   {
    "duration": 3316,
    "start_time": "2022-04-21T00:22:17.746Z"
   },
   {
    "duration": 9,
    "start_time": "2022-04-21T00:22:21.064Z"
   },
   {
    "duration": 16,
    "start_time": "2022-04-21T00:22:44.322Z"
   },
   {
    "duration": 17,
    "start_time": "2022-04-21T00:22:50.156Z"
   },
   {
    "duration": 1675,
    "start_time": "2022-04-21T06:19:31.014Z"
   },
   {
    "duration": 764,
    "start_time": "2022-04-21T06:19:32.691Z"
   },
   {
    "duration": 35,
    "start_time": "2022-04-21T06:19:33.456Z"
   },
   {
    "duration": 10,
    "start_time": "2022-04-21T06:19:33.493Z"
   },
   {
    "duration": 190,
    "start_time": "2022-04-21T06:19:33.505Z"
   },
   {
    "duration": 29120,
    "start_time": "2022-04-21T06:19:33.697Z"
   },
   {
    "duration": 0,
    "start_time": "2022-04-21T06:20:02.820Z"
   },
   {
    "duration": 0,
    "start_time": "2022-04-21T06:20:02.821Z"
   },
   {
    "duration": 0,
    "start_time": "2022-04-21T06:20:02.822Z"
   },
   {
    "duration": 0,
    "start_time": "2022-04-21T06:20:02.823Z"
   },
   {
    "duration": 0,
    "start_time": "2022-04-21T06:20:02.824Z"
   },
   {
    "duration": 0,
    "start_time": "2022-04-21T06:20:02.825Z"
   },
   {
    "duration": 0,
    "start_time": "2022-04-21T06:20:02.826Z"
   },
   {
    "duration": 0,
    "start_time": "2022-04-21T06:20:02.827Z"
   },
   {
    "duration": 0,
    "start_time": "2022-04-21T06:20:02.828Z"
   },
   {
    "duration": 0,
    "start_time": "2022-04-21T06:20:02.829Z"
   },
   {
    "duration": 0,
    "start_time": "2022-04-21T06:20:02.830Z"
   },
   {
    "duration": 0,
    "start_time": "2022-04-21T06:20:02.831Z"
   },
   {
    "duration": 0,
    "start_time": "2022-04-21T06:20:02.832Z"
   },
   {
    "duration": 0,
    "start_time": "2022-04-21T06:20:02.833Z"
   },
   {
    "duration": 0,
    "start_time": "2022-04-21T06:20:02.834Z"
   },
   {
    "duration": 0,
    "start_time": "2022-04-21T06:20:02.835Z"
   },
   {
    "duration": 0,
    "start_time": "2022-04-21T06:20:02.836Z"
   },
   {
    "duration": 0,
    "start_time": "2022-04-21T06:20:02.837Z"
   },
   {
    "duration": 0,
    "start_time": "2022-04-21T06:20:02.838Z"
   },
   {
    "duration": 0,
    "start_time": "2022-04-21T06:20:02.839Z"
   },
   {
    "duration": 0,
    "start_time": "2022-04-21T06:20:02.840Z"
   },
   {
    "duration": 0,
    "start_time": "2022-04-21T06:20:02.841Z"
   },
   {
    "duration": 0,
    "start_time": "2022-04-21T06:20:02.843Z"
   },
   {
    "duration": 0,
    "start_time": "2022-04-21T06:20:02.844Z"
   },
   {
    "duration": 0,
    "start_time": "2022-04-21T06:20:02.844Z"
   },
   {
    "duration": 1375,
    "start_time": "2022-04-21T06:28:37.291Z"
   },
   {
    "duration": 762,
    "start_time": "2022-04-21T06:28:38.668Z"
   },
   {
    "duration": 35,
    "start_time": "2022-04-21T06:28:39.432Z"
   },
   {
    "duration": 9,
    "start_time": "2022-04-21T06:28:39.470Z"
   },
   {
    "duration": 176,
    "start_time": "2022-04-21T06:28:39.481Z"
   },
   {
    "duration": 75768,
    "start_time": "2022-04-21T06:28:39.659Z"
   },
   {
    "duration": 8,
    "start_time": "2022-04-21T06:29:55.429Z"
   },
   {
    "duration": 4,
    "start_time": "2022-04-21T06:29:55.447Z"
   },
   {
    "duration": 4,
    "start_time": "2022-04-21T06:29:55.452Z"
   },
   {
    "duration": 51,
    "start_time": "2022-04-21T06:29:55.460Z"
   },
   {
    "duration": 2,
    "start_time": "2022-04-21T06:29:55.513Z"
   },
   {
    "duration": 4,
    "start_time": "2022-04-21T06:29:55.517Z"
   },
   {
    "duration": 34,
    "start_time": "2022-04-21T06:29:55.522Z"
   },
   {
    "duration": 4,
    "start_time": "2022-04-21T06:29:55.558Z"
   },
   {
    "duration": 23,
    "start_time": "2022-04-21T06:29:55.564Z"
   },
   {
    "duration": 3,
    "start_time": "2022-04-21T06:29:55.589Z"
   },
   {
    "duration": 5,
    "start_time": "2022-04-21T06:29:55.593Z"
   },
   {
    "duration": 5,
    "start_time": "2022-04-21T06:29:55.599Z"
   },
   {
    "duration": 4,
    "start_time": "2022-04-21T06:29:55.605Z"
   },
   {
    "duration": 4,
    "start_time": "2022-04-21T06:29:55.611Z"
   },
   {
    "duration": 5863,
    "start_time": "2022-04-21T06:29:55.617Z"
   },
   {
    "duration": 3,
    "start_time": "2022-04-21T06:30:01.482Z"
   },
   {
    "duration": 14,
    "start_time": "2022-04-21T06:30:01.486Z"
   },
   {
    "duration": 810,
    "start_time": "2022-04-21T06:30:01.502Z"
   },
   {
    "duration": 3,
    "start_time": "2022-04-21T06:30:02.314Z"
   },
   {
    "duration": 297,
    "start_time": "2022-04-21T06:30:02.319Z"
   },
   {
    "duration": 3,
    "start_time": "2022-04-21T06:30:02.618Z"
   },
   {
    "duration": 564,
    "start_time": "2022-04-21T06:30:02.624Z"
   },
   {
    "duration": 957,
    "start_time": "2022-04-21T06:30:03.191Z"
   },
   {
    "duration": 0,
    "start_time": "2022-04-21T06:30:04.150Z"
   },
   {
    "duration": 0,
    "start_time": "2022-04-21T06:30:04.151Z"
   },
   {
    "duration": 987,
    "start_time": "2022-04-21T06:30:32.728Z"
   },
   {
    "duration": 447,
    "start_time": "2022-04-21T06:30:41.086Z"
   },
   {
    "duration": 972,
    "start_time": "2022-04-21T06:31:00.257Z"
   },
   {
    "duration": 1288,
    "start_time": "2022-04-21T06:31:26.812Z"
   },
   {
    "duration": 1591,
    "start_time": "2022-04-21T06:31:45.604Z"
   },
   {
    "duration": 1246,
    "start_time": "2022-04-21T06:32:05.889Z"
   },
   {
    "duration": 837,
    "start_time": "2022-04-21T08:22:52.805Z"
   },
   {
    "duration": 1400,
    "start_time": "2022-04-21T08:23:56.955Z"
   },
   {
    "duration": 796,
    "start_time": "2022-04-21T08:25:02.388Z"
   },
   {
    "duration": 793,
    "start_time": "2022-04-21T08:25:33.463Z"
   },
   {
    "duration": 895,
    "start_time": "2022-04-21T08:26:39.607Z"
   },
   {
    "duration": 258,
    "start_time": "2022-04-21T08:29:04.141Z"
   },
   {
    "duration": 286,
    "start_time": "2022-04-21T08:29:17.476Z"
   },
   {
    "duration": 1593,
    "start_time": "2022-04-21T08:30:12.915Z"
   },
   {
    "duration": 868,
    "start_time": "2022-04-21T08:31:04.742Z"
   },
   {
    "duration": 19,
    "start_time": "2022-04-21T08:32:34.621Z"
   },
   {
    "duration": 15,
    "start_time": "2022-04-21T08:33:01.090Z"
   },
   {
    "duration": 1436,
    "start_time": "2022-04-21T08:34:06.946Z"
   },
   {
    "duration": 759,
    "start_time": "2022-04-21T08:34:08.927Z"
   },
   {
    "duration": 32,
    "start_time": "2022-04-21T08:34:10.354Z"
   },
   {
    "duration": 10,
    "start_time": "2022-04-21T08:34:11.162Z"
   },
   {
    "duration": 158,
    "start_time": "2022-04-21T08:34:12.427Z"
   },
   {
    "duration": 77514,
    "start_time": "2022-04-21T08:34:17.782Z"
   },
   {
    "duration": 7,
    "start_time": "2022-04-21T08:35:55.800Z"
   },
   {
    "duration": 3,
    "start_time": "2022-04-21T08:35:59.531Z"
   },
   {
    "duration": 3,
    "start_time": "2022-04-21T08:36:00.317Z"
   },
   {
    "duration": 51,
    "start_time": "2022-04-21T08:36:00.767Z"
   },
   {
    "duration": 3,
    "start_time": "2022-04-21T08:36:01.434Z"
   },
   {
    "duration": 3,
    "start_time": "2022-04-21T08:36:47.585Z"
   },
   {
    "duration": 28,
    "start_time": "2022-04-21T08:38:35.667Z"
   },
   {
    "duration": 3,
    "start_time": "2022-04-21T08:38:38.168Z"
   },
   {
    "duration": 4,
    "start_time": "2022-04-21T08:38:45.070Z"
   },
   {
    "duration": 6253,
    "start_time": "2022-04-21T08:38:46.686Z"
   },
   {
    "duration": 3,
    "start_time": "2022-04-21T08:38:54.952Z"
   },
   {
    "duration": 847,
    "start_time": "2022-04-21T08:39:00.961Z"
   },
   {
    "duration": 3,
    "start_time": "2022-04-21T08:39:03.956Z"
   },
   {
    "duration": 293,
    "start_time": "2022-04-21T08:39:05.761Z"
   },
   {
    "duration": 3,
    "start_time": "2022-04-21T08:39:07.538Z"
   },
   {
    "duration": 542,
    "start_time": "2022-04-21T08:39:09.576Z"
   },
   {
    "duration": 788,
    "start_time": "2022-04-21T08:39:17.365Z"
   },
   {
    "duration": 284,
    "start_time": "2022-04-21T08:39:22.563Z"
   },
   {
    "duration": 651,
    "start_time": "2022-04-21T08:39:28.128Z"
   },
   {
    "duration": 13,
    "start_time": "2022-04-21T08:39:33.838Z"
   },
   {
    "duration": 1016,
    "start_time": "2022-04-21T08:46:37.553Z"
   },
   {
    "duration": 94,
    "start_time": "2022-04-21T08:50:03.537Z"
   },
   {
    "duration": 869,
    "start_time": "2022-04-21T08:50:24.314Z"
   },
   {
    "duration": 918,
    "start_time": "2022-04-21T08:50:38.623Z"
   },
   {
    "duration": 264,
    "start_time": "2022-04-21T08:51:58.177Z"
   },
   {
    "duration": 664,
    "start_time": "2022-04-21T08:52:42.883Z"
   },
   {
    "duration": 91,
    "start_time": "2022-04-21T08:54:20.211Z"
   },
   {
    "duration": 13,
    "start_time": "2022-04-21T08:54:23.929Z"
   },
   {
    "duration": 13,
    "start_time": "2022-04-21T08:55:44.618Z"
   },
   {
    "duration": 15,
    "start_time": "2022-04-21T08:56:05.593Z"
   },
   {
    "duration": 700,
    "start_time": "2022-04-21T08:56:47.604Z"
   },
   {
    "duration": 278,
    "start_time": "2022-04-21T08:57:08.413Z"
   },
   {
    "duration": 1180,
    "start_time": "2022-04-21T08:57:25.010Z"
   },
   {
    "duration": 540,
    "start_time": "2022-04-21T08:57:49.251Z"
   },
   {
    "duration": 280,
    "start_time": "2022-04-21T08:58:11.884Z"
   },
   {
    "duration": 800,
    "start_time": "2022-04-21T08:58:24.211Z"
   },
   {
    "duration": 1467,
    "start_time": "2022-04-21T09:10:57.014Z"
   },
   {
    "duration": 764,
    "start_time": "2022-04-21T09:10:58.483Z"
   },
   {
    "duration": 32,
    "start_time": "2022-04-21T09:10:59.249Z"
   },
   {
    "duration": 9,
    "start_time": "2022-04-21T09:10:59.283Z"
   },
   {
    "duration": 177,
    "start_time": "2022-04-21T09:10:59.294Z"
   },
   {
    "duration": 76856,
    "start_time": "2022-04-21T09:10:59.473Z"
   },
   {
    "duration": 8,
    "start_time": "2022-04-21T09:12:16.330Z"
   },
   {
    "duration": 3,
    "start_time": "2022-04-21T09:12:16.347Z"
   },
   {
    "duration": 52,
    "start_time": "2022-04-21T09:12:16.352Z"
   },
   {
    "duration": 4,
    "start_time": "2022-04-21T09:12:16.406Z"
   },
   {
    "duration": 40,
    "start_time": "2022-04-21T09:12:16.411Z"
   },
   {
    "duration": 4,
    "start_time": "2022-04-21T09:12:16.453Z"
   },
   {
    "duration": 5,
    "start_time": "2022-04-21T09:12:16.458Z"
   },
   {
    "duration": 6442,
    "start_time": "2022-04-21T09:12:16.465Z"
   },
   {
    "duration": 1053,
    "start_time": "2022-04-21T09:12:22.909Z"
   },
   {
    "duration": 297,
    "start_time": "2022-04-21T09:12:23.963Z"
   },
   {
    "duration": 7110,
    "start_time": "2022-04-21T09:12:24.262Z"
   },
   {
    "duration": 1076,
    "start_time": "2022-04-21T09:12:31.374Z"
   },
   {
    "duration": 275,
    "start_time": "2022-04-21T09:12:32.452Z"
   },
   {
    "duration": 14257,
    "start_time": "2022-04-21T09:12:32.729Z"
   },
   {
    "duration": 21,
    "start_time": "2022-04-21T09:12:46.988Z"
   },
   {
    "duration": 16,
    "start_time": "2022-04-21T09:31:02.584Z"
   },
   {
    "duration": 1467,
    "start_time": "2022-04-21T09:55:14.750Z"
   },
   {
    "duration": 791,
    "start_time": "2022-04-21T09:55:16.219Z"
   },
   {
    "duration": 37,
    "start_time": "2022-04-21T09:55:17.012Z"
   },
   {
    "duration": 9,
    "start_time": "2022-04-21T09:55:17.052Z"
   },
   {
    "duration": 186,
    "start_time": "2022-04-21T09:55:17.063Z"
   },
   {
    "duration": 77076,
    "start_time": "2022-04-21T09:55:17.250Z"
   },
   {
    "duration": 7,
    "start_time": "2022-04-21T09:56:34.327Z"
   },
   {
    "duration": 3,
    "start_time": "2022-04-21T09:56:34.347Z"
   },
   {
    "duration": 51,
    "start_time": "2022-04-21T09:56:34.351Z"
   },
   {
    "duration": 3,
    "start_time": "2022-04-21T09:56:34.405Z"
   },
   {
    "duration": 38,
    "start_time": "2022-04-21T09:56:34.409Z"
   },
   {
    "duration": 3,
    "start_time": "2022-04-21T09:56:34.449Z"
   },
   {
    "duration": 5,
    "start_time": "2022-04-21T09:56:34.454Z"
   },
   {
    "duration": 6405,
    "start_time": "2022-04-21T09:56:34.460Z"
   },
   {
    "duration": 1077,
    "start_time": "2022-04-21T09:56:40.867Z"
   },
   {
    "duration": 327,
    "start_time": "2022-04-21T09:56:41.947Z"
   },
   {
    "duration": 7704,
    "start_time": "2022-04-21T09:56:42.276Z"
   },
   {
    "duration": 1077,
    "start_time": "2022-04-21T09:56:49.982Z"
   },
   {
    "duration": 300,
    "start_time": "2022-04-21T09:56:51.061Z"
   },
   {
    "duration": 13904,
    "start_time": "2022-04-21T09:56:51.363Z"
   },
   {
    "duration": 15,
    "start_time": "2022-04-21T09:57:05.269Z"
   },
   {
    "duration": 1658,
    "start_time": "2022-11-07T23:00:43.061Z"
   },
   {
    "duration": 3476,
    "start_time": "2022-11-07T23:00:44.721Z"
   },
   {
    "duration": 23,
    "start_time": "2022-11-07T23:00:48.198Z"
   },
   {
    "duration": 14,
    "start_time": "2022-11-07T23:00:48.222Z"
   },
   {
    "duration": 302,
    "start_time": "2022-11-07T23:00:48.285Z"
   },
   {
    "duration": 75562,
    "start_time": "2022-11-07T23:00:48.588Z"
   },
   {
    "duration": 6,
    "start_time": "2022-11-07T23:02:04.152Z"
   },
   {
    "duration": 13,
    "start_time": "2022-11-07T23:02:04.159Z"
   },
   {
    "duration": 61,
    "start_time": "2022-11-07T23:02:04.173Z"
   },
   {
    "duration": 3,
    "start_time": "2022-11-07T23:02:04.236Z"
   },
   {
    "duration": 22,
    "start_time": "2022-11-07T23:02:04.240Z"
   },
   {
    "duration": 3,
    "start_time": "2022-11-07T23:02:04.263Z"
   },
   {
    "duration": 17,
    "start_time": "2022-11-07T23:02:04.268Z"
   },
   {
    "duration": 5906,
    "start_time": "2022-11-07T23:02:04.287Z"
   },
   {
    "duration": 1044,
    "start_time": "2022-11-07T23:02:10.194Z"
   },
   {
    "duration": 286,
    "start_time": "2022-11-07T23:02:11.239Z"
   },
   {
    "duration": 8689,
    "start_time": "2022-11-07T23:02:11.527Z"
   },
   {
    "duration": 3,
    "start_time": "2022-11-07T23:02:20.217Z"
   },
   {
    "duration": 1046,
    "start_time": "2022-11-07T23:02:20.221Z"
   },
   {
    "duration": 2,
    "start_time": "2022-11-07T23:02:21.269Z"
   },
   {
    "duration": 256,
    "start_time": "2022-11-07T23:02:21.273Z"
   },
   {
    "duration": 3,
    "start_time": "2022-11-07T23:02:21.530Z"
   },
   {
    "duration": 13765,
    "start_time": "2022-11-07T23:02:21.534Z"
   },
   {
    "duration": 14,
    "start_time": "2022-11-07T23:02:35.300Z"
   },
   {
    "duration": 2196,
    "start_time": "2022-11-14T13:22:57.434Z"
   },
   {
    "duration": 3795,
    "start_time": "2022-11-14T13:22:59.634Z"
   },
   {
    "duration": 45,
    "start_time": "2022-11-14T13:23:03.430Z"
   },
   {
    "duration": 27,
    "start_time": "2022-11-14T13:23:03.478Z"
   },
   {
    "duration": 170,
    "start_time": "2022-11-14T13:23:03.508Z"
   },
   {
    "duration": 105297,
    "start_time": "2022-11-14T13:23:03.680Z"
   },
   {
    "duration": 9,
    "start_time": "2022-11-14T13:24:48.979Z"
   },
   {
    "duration": 8,
    "start_time": "2022-11-14T13:24:48.990Z"
   },
   {
    "duration": 92,
    "start_time": "2022-11-14T13:24:49.000Z"
   },
   {
    "duration": 5,
    "start_time": "2022-11-14T13:24:49.095Z"
   },
   {
    "duration": 38,
    "start_time": "2022-11-14T13:24:49.102Z"
   },
   {
    "duration": 9,
    "start_time": "2022-11-14T13:24:49.151Z"
   },
   {
    "duration": 18,
    "start_time": "2022-11-14T13:24:49.172Z"
   },
   {
    "duration": 8239,
    "start_time": "2022-11-14T13:24:49.192Z"
   },
   {
    "duration": 1505,
    "start_time": "2022-11-14T13:24:57.432Z"
   },
   {
    "duration": 424,
    "start_time": "2022-11-14T13:24:58.939Z"
   },
   {
    "duration": 7610,
    "start_time": "2022-11-14T13:24:59.366Z"
   },
   {
    "duration": 1353,
    "start_time": "2022-11-14T13:25:06.977Z"
   },
   {
    "duration": 313,
    "start_time": "2022-11-14T13:25:08.332Z"
   },
   {
    "duration": 13136,
    "start_time": "2022-11-14T13:25:08.651Z"
   },
   {
    "duration": 17,
    "start_time": "2022-11-14T13:25:21.789Z"
   }
  ],
  "kernelspec": {
   "display_name": "Python 3 (ipykernel)",
   "language": "python",
   "name": "python3"
  },
  "language_info": {
   "codemirror_mode": {
    "name": "ipython",
    "version": 3
   },
   "file_extension": ".py",
   "mimetype": "text/x-python",
   "name": "python",
   "nbconvert_exporter": "python",
   "pygments_lexer": "ipython3",
   "version": "3.9.5"
  },
  "toc": {
   "base_numbering": 1,
   "nav_menu": {},
   "number_sections": true,
   "sideBar": true,
   "skip_h1_title": true,
   "title_cell": "Содержание",
   "title_sidebar": "Contents",
   "toc_cell": true,
   "toc_position": {
    "height": "calc(100% - 180px)",
    "left": "10px",
    "top": "150px",
    "width": "247px"
   },
   "toc_section_display": true,
   "toc_window_display": true
  }
 },
 "nbformat": 4,
 "nbformat_minor": 2
}
